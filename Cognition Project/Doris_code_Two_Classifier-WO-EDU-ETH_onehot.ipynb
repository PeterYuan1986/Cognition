{
 "cells": [
  {
   "cell_type": "code",
   "execution_count": 1,
   "metadata": {},
   "outputs": [],
   "source": [
    "# only in a Jupyter notebook\n",
    "%matplotlib inline \n",
    "import matplotlib.pyplot as plt\n",
    "import pandas as pd\n",
    "import numpy as np\n",
    "\n",
    "from sklearn.metrics import roc_auc_score\n",
    "from sklearn.metrics import roc_curve\n",
    "from sklearn.metrics import auc\n",
    "from sklearn.metrics import classification_report, roc_curve, precision_recall_curve, auc, make_scorer, recall_score, accuracy_score, precision_score, confusion_matrix\n",
    "from sklearn.model_selection import train_test_split, GridSearchCV, StratifiedKFold\n",
    "from sklearn import preprocessing\n",
    "from sklearn.ensemble import RandomForestClassifier\n",
    "from sklearn.neighbors import KNeighborsClassifier\n",
    "from sklearn.svm import SVC\n",
    "from sklearn.model_selection import cross_val_score\n",
    "\n",
    "result_table = pd.DataFrame(columns=['classifiers', 'fpr','tpr','auc'])\n",
    "pr_table = pd.DataFrame(columns=['classifiers', 'Recall','Precision'])"
   ]
  },
  {
   "cell_type": "code",
   "execution_count": 2,
   "metadata": {},
   "outputs": [
    {
     "name": "stdout",
     "output_type": "stream",
     "text": [
      "<class 'pandas.core.frame.DataFrame'>\n",
      "RangeIndex: 3196 entries, 0 to 3195\n",
      "Data columns (total 32 columns):\n",
      " #   Column           Non-Null Count  Dtype  \n",
      "---  ------           --------------  -----  \n",
      " 0   FI_ID            3196 non-null   int64  \n",
      " 1   GENDER           3196 non-null   int64  \n",
      " 2   AGE              3196 non-null   int64  \n",
      " 3   EDUCATION        3196 non-null   int64  \n",
      " 4   ETHGRP           3184 non-null   float64\n",
      " 5   MARITLST         3196 non-null   int64  \n",
      " 6   SPARTNER         3196 non-null   int64  \n",
      " 7   OTHER_IMP        3196 non-null   int64  \n",
      " 8   OTHER_HH         3196 non-null   int64  \n",
      " 9   RLTHAPPY         3196 non-null   int64  \n",
      " 10  SPTIME           3196 non-null   int64  \n",
      " 11  SPOPEN2          3196 non-null   int64  \n",
      " 12  SPRELY2          3196 non-null   int64  \n",
      " 13  SPDEMAND2        3196 non-null   int64  \n",
      " 14  SPCRITZE2        3196 non-null   int64  \n",
      " 15  FAMOPEN2         3196 non-null   int64  \n",
      " 16  FAMRELY2         3196 non-null   int64  \n",
      " 17  FAMDEMAN2        3196 non-null   int64  \n",
      " 18  FAMCRITZ2        3196 non-null   int64  \n",
      " 19  FROPEN2          3196 non-null   int64  \n",
      " 20  FRRELY2          3196 non-null   int64  \n",
      " 21  FRDEMN2          3196 non-null   int64  \n",
      " 22  FRCRITZ2         3196 non-null   int64  \n",
      " 23  FRAMT            3196 non-null   int64  \n",
      " 24  PAR_NERVE        3196 non-null   int64  \n",
      " 25  FAM_NERVE        3196 non-null   int64  \n",
      " 26  FR_NERVE         3196 non-null   int64  \n",
      " 27  PAR_THREAT       3196 non-null   int64  \n",
      " 28  FAMFRTHREAT      3196 non-null   int64  \n",
      " 29  MOCA_SCORE_CCFM  3196 non-null   int64  \n",
      " 30  MOCA_SCORE       3196 non-null   float64\n",
      " 31  IMPAIRED         3196 non-null   int64  \n",
      "dtypes: float64(2), int64(30)\n",
      "memory usage: 799.1 KB\n"
     ]
    }
   ],
   "source": [
    "data = pd.read_csv(\"value_data.csv\")\n",
    "data.info()"
   ]
  },
  {
   "cell_type": "code",
   "execution_count": 3,
   "metadata": {},
   "outputs": [
    {
     "name": "stdout",
     "output_type": "stream",
     "text": [
      "<class 'pandas.core.frame.DataFrame'>\n",
      "Int64Index: 3111 entries, 0 to 3195\n",
      "Data columns (total 32 columns):\n",
      " #   Column           Non-Null Count  Dtype  \n",
      "---  ------           --------------  -----  \n",
      " 0   FI_ID            3111 non-null   int64  \n",
      " 1   GENDER           3111 non-null   int64  \n",
      " 2   AGE              3111 non-null   int64  \n",
      " 3   EDUCATION        3111 non-null   int64  \n",
      " 4   ETHGRP           3111 non-null   float64\n",
      " 5   MARITLST         3111 non-null   int64  \n",
      " 6   SPARTNER         3111 non-null   int64  \n",
      " 7   OTHER_IMP        3111 non-null   int64  \n",
      " 8   OTHER_HH         3111 non-null   int64  \n",
      " 9   RLTHAPPY         3111 non-null   int64  \n",
      " 10  SPTIME           3111 non-null   int64  \n",
      " 11  SPOPEN2          3111 non-null   int64  \n",
      " 12  SPRELY2          3111 non-null   int64  \n",
      " 13  SPDEMAND2        3111 non-null   int64  \n",
      " 14  SPCRITZE2        3111 non-null   int64  \n",
      " 15  FAMOPEN2         3111 non-null   int64  \n",
      " 16  FAMRELY2         3111 non-null   int64  \n",
      " 17  FAMDEMAN2        3111 non-null   int64  \n",
      " 18  FAMCRITZ2        3111 non-null   int64  \n",
      " 19  FROPEN2          3111 non-null   int64  \n",
      " 20  FRRELY2          3111 non-null   int64  \n",
      " 21  FRDEMN2          3111 non-null   int64  \n",
      " 22  FRCRITZ2         3111 non-null   int64  \n",
      " 23  FRAMT            3111 non-null   int64  \n",
      " 24  PAR_NERVE        3111 non-null   int64  \n",
      " 25  FAM_NERVE        3111 non-null   int64  \n",
      " 26  FR_NERVE         3111 non-null   int64  \n",
      " 27  PAR_THREAT       3111 non-null   int64  \n",
      " 28  FAMFRTHREAT      3111 non-null   int64  \n",
      " 29  MOCA_SCORE_CCFM  3111 non-null   int64  \n",
      " 30  MOCA_SCORE       3111 non-null   float64\n",
      " 31  IMPAIRED         3111 non-null   int64  \n",
      "dtypes: float64(2), int64(30)\n",
      "memory usage: 802.1 KB\n"
     ]
    }
   ],
   "source": [
    "data = data.dropna()\n",
    "data = data[data[\"ETHGRP\"] != 4]\n",
    "data.info()"
   ]
  },
  {
   "cell_type": "code",
   "execution_count": 4,
   "metadata": {},
   "outputs": [
    {
     "name": "stdout",
     "output_type": "stream",
     "text": [
      "<class 'pandas.core.frame.DataFrame'>\n",
      "Int64Index: 3111 entries, 0 to 3195\n",
      "Data columns (total 27 columns):\n",
      " #   Column       Non-Null Count  Dtype\n",
      "---  ------       --------------  -----\n",
      " 0   GENDER       3111 non-null   int64\n",
      " 1   AGE          3111 non-null   int64\n",
      " 2   MARITLST     3111 non-null   int64\n",
      " 3   SPARTNER     3111 non-null   int64\n",
      " 4   OTHER_IMP    3111 non-null   int64\n",
      " 5   OTHER_HH     3111 non-null   int64\n",
      " 6   RLTHAPPY     3111 non-null   int64\n",
      " 7   SPTIME       3111 non-null   int64\n",
      " 8   SPOPEN2      3111 non-null   int64\n",
      " 9   SPRELY2      3111 non-null   int64\n",
      " 10  SPDEMAND2    3111 non-null   int64\n",
      " 11  SPCRITZE2    3111 non-null   int64\n",
      " 12  FAMOPEN2     3111 non-null   int64\n",
      " 13  FAMRELY2     3111 non-null   int64\n",
      " 14  FAMDEMAN2    3111 non-null   int64\n",
      " 15  FAMCRITZ2    3111 non-null   int64\n",
      " 16  FROPEN2      3111 non-null   int64\n",
      " 17  FRRELY2      3111 non-null   int64\n",
      " 18  FRDEMN2      3111 non-null   int64\n",
      " 19  FRCRITZ2     3111 non-null   int64\n",
      " 20  FRAMT        3111 non-null   int64\n",
      " 21  PAR_NERVE    3111 non-null   int64\n",
      " 22  FAM_NERVE    3111 non-null   int64\n",
      " 23  FR_NERVE     3111 non-null   int64\n",
      " 24  PAR_THREAT   3111 non-null   int64\n",
      " 25  FAMFRTHREAT  3111 non-null   int64\n",
      " 26  IMPAIRED     3111 non-null   int64\n",
      "dtypes: int64(27)\n",
      "memory usage: 680.5 KB\n"
     ]
    }
   ],
   "source": [
    "data = data.drop([\"FI_ID\",\"MOCA_SCORE\",\"MOCA_SCORE_CCFM\", \"EDUCATION\", \"ETHGRP\"],axis=1)\n",
    "data.info()"
   ]
  },
  {
   "cell_type": "code",
   "execution_count": 5,
   "metadata": {
    "scrolled": false
   },
   "outputs": [
    {
     "data": {
      "text/html": [
       "<div>\n",
       "<style scoped>\n",
       "    .dataframe tbody tr th:only-of-type {\n",
       "        vertical-align: middle;\n",
       "    }\n",
       "\n",
       "    .dataframe tbody tr th {\n",
       "        vertical-align: top;\n",
       "    }\n",
       "\n",
       "    .dataframe thead th {\n",
       "        text-align: right;\n",
       "    }\n",
       "</style>\n",
       "<table border=\"1\" class=\"dataframe\">\n",
       "  <thead>\n",
       "    <tr style=\"text-align: right;\">\n",
       "      <th></th>\n",
       "      <th>GENDER</th>\n",
       "      <th>AGE</th>\n",
       "      <th>MARITLST</th>\n",
       "      <th>SPARTNER</th>\n",
       "      <th>OTHER_IMP</th>\n",
       "      <th>OTHER_HH</th>\n",
       "      <th>RLTHAPPY</th>\n",
       "      <th>SPTIME</th>\n",
       "      <th>SPOPEN2</th>\n",
       "      <th>SPRELY2</th>\n",
       "      <th>...</th>\n",
       "      <th>FRRELY2</th>\n",
       "      <th>FRDEMN2</th>\n",
       "      <th>FRCRITZ2</th>\n",
       "      <th>FRAMT</th>\n",
       "      <th>PAR_NERVE</th>\n",
       "      <th>FAM_NERVE</th>\n",
       "      <th>FR_NERVE</th>\n",
       "      <th>PAR_THREAT</th>\n",
       "      <th>FAMFRTHREAT</th>\n",
       "      <th>IMPAIRED</th>\n",
       "    </tr>\n",
       "  </thead>\n",
       "  <tbody>\n",
       "    <tr>\n",
       "      <th>count</th>\n",
       "      <td>3111.000000</td>\n",
       "      <td>3111.000000</td>\n",
       "      <td>3111.000000</td>\n",
       "      <td>3111.000000</td>\n",
       "      <td>3111.000000</td>\n",
       "      <td>3111.000000</td>\n",
       "      <td>3111.000000</td>\n",
       "      <td>3111.000000</td>\n",
       "      <td>3111.000000</td>\n",
       "      <td>3111.000000</td>\n",
       "      <td>...</td>\n",
       "      <td>3111.000000</td>\n",
       "      <td>3111.000000</td>\n",
       "      <td>3111.000000</td>\n",
       "      <td>3111.000000</td>\n",
       "      <td>3111.000000</td>\n",
       "      <td>3111.000000</td>\n",
       "      <td>3111.000000</td>\n",
       "      <td>3111.000000</td>\n",
       "      <td>3111.000000</td>\n",
       "      <td>3111.000000</td>\n",
       "    </tr>\n",
       "    <tr>\n",
       "      <th>mean</th>\n",
       "      <td>1.527162</td>\n",
       "      <td>73.171006</td>\n",
       "      <td>2.204436</td>\n",
       "      <td>-2.022179</td>\n",
       "      <td>0.480874</td>\n",
       "      <td>0.144327</td>\n",
       "      <td>3.721311</td>\n",
       "      <td>0.364834</td>\n",
       "      <td>1.083574</td>\n",
       "      <td>1.189650</td>\n",
       "      <td>...</td>\n",
       "      <td>2.000643</td>\n",
       "      <td>0.460945</td>\n",
       "      <td>0.369013</td>\n",
       "      <td>3.202507</td>\n",
       "      <td>-0.385085</td>\n",
       "      <td>0.409836</td>\n",
       "      <td>0.218901</td>\n",
       "      <td>-1.134041</td>\n",
       "      <td>-0.539376</td>\n",
       "      <td>0.486339</td>\n",
       "    </tr>\n",
       "    <tr>\n",
       "      <th>std</th>\n",
       "      <td>0.499342</td>\n",
       "      <td>7.348579</td>\n",
       "      <td>1.772964</td>\n",
       "      <td>1.456273</td>\n",
       "      <td>0.512422</td>\n",
       "      <td>0.354211</td>\n",
       "      <td>4.330234</td>\n",
       "      <td>2.177118</td>\n",
       "      <td>2.593727</td>\n",
       "      <td>2.643448</td>\n",
       "      <td>...</td>\n",
       "      <td>1.190260</td>\n",
       "      <td>0.787565</td>\n",
       "      <td>0.951623</td>\n",
       "      <td>1.512055</td>\n",
       "      <td>2.273903</td>\n",
       "      <td>2.253290</td>\n",
       "      <td>2.149847</td>\n",
       "      <td>1.606368</td>\n",
       "      <td>1.790016</td>\n",
       "      <td>0.499894</td>\n",
       "    </tr>\n",
       "    <tr>\n",
       "      <th>min</th>\n",
       "      <td>1.000000</td>\n",
       "      <td>62.000000</td>\n",
       "      <td>1.000000</td>\n",
       "      <td>-3.000000</td>\n",
       "      <td>-2.000000</td>\n",
       "      <td>-2.000000</td>\n",
       "      <td>-3.000000</td>\n",
       "      <td>-3.000000</td>\n",
       "      <td>-3.000000</td>\n",
       "      <td>-3.000000</td>\n",
       "      <td>...</td>\n",
       "      <td>-3.000000</td>\n",
       "      <td>-3.000000</td>\n",
       "      <td>-3.000000</td>\n",
       "      <td>-3.000000</td>\n",
       "      <td>-4.000000</td>\n",
       "      <td>-5.000000</td>\n",
       "      <td>-5.000000</td>\n",
       "      <td>-4.000000</td>\n",
       "      <td>-5.000000</td>\n",
       "      <td>0.000000</td>\n",
       "    </tr>\n",
       "    <tr>\n",
       "      <th>25%</th>\n",
       "      <td>1.000000</td>\n",
       "      <td>67.000000</td>\n",
       "      <td>1.000000</td>\n",
       "      <td>-3.000000</td>\n",
       "      <td>0.000000</td>\n",
       "      <td>0.000000</td>\n",
       "      <td>-3.000000</td>\n",
       "      <td>-3.000000</td>\n",
       "      <td>-3.000000</td>\n",
       "      <td>-3.000000</td>\n",
       "      <td>...</td>\n",
       "      <td>2.000000</td>\n",
       "      <td>0.000000</td>\n",
       "      <td>0.000000</td>\n",
       "      <td>2.000000</td>\n",
       "      <td>-3.000000</td>\n",
       "      <td>0.000000</td>\n",
       "      <td>0.000000</td>\n",
       "      <td>-3.000000</td>\n",
       "      <td>0.000000</td>\n",
       "      <td>0.000000</td>\n",
       "    </tr>\n",
       "    <tr>\n",
       "      <th>50%</th>\n",
       "      <td>2.000000</td>\n",
       "      <td>72.000000</td>\n",
       "      <td>1.000000</td>\n",
       "      <td>-3.000000</td>\n",
       "      <td>0.000000</td>\n",
       "      <td>0.000000</td>\n",
       "      <td>6.000000</td>\n",
       "      <td>1.000000</td>\n",
       "      <td>3.000000</td>\n",
       "      <td>3.000000</td>\n",
       "      <td>...</td>\n",
       "      <td>2.000000</td>\n",
       "      <td>0.000000</td>\n",
       "      <td>0.000000</td>\n",
       "      <td>3.000000</td>\n",
       "      <td>1.000000</td>\n",
       "      <td>1.000000</td>\n",
       "      <td>1.000000</td>\n",
       "      <td>0.000000</td>\n",
       "      <td>0.000000</td>\n",
       "      <td>0.000000</td>\n",
       "    </tr>\n",
       "    <tr>\n",
       "      <th>75%</th>\n",
       "      <td>2.000000</td>\n",
       "      <td>79.000000</td>\n",
       "      <td>4.000000</td>\n",
       "      <td>0.000000</td>\n",
       "      <td>1.000000</td>\n",
       "      <td>0.000000</td>\n",
       "      <td>7.000000</td>\n",
       "      <td>2.000000</td>\n",
       "      <td>3.000000</td>\n",
       "      <td>3.000000</td>\n",
       "      <td>...</td>\n",
       "      <td>3.000000</td>\n",
       "      <td>1.000000</td>\n",
       "      <td>1.000000</td>\n",
       "      <td>4.000000</td>\n",
       "      <td>2.000000</td>\n",
       "      <td>2.000000</td>\n",
       "      <td>1.000000</td>\n",
       "      <td>0.000000</td>\n",
       "      <td>0.000000</td>\n",
       "      <td>1.000000</td>\n",
       "    </tr>\n",
       "    <tr>\n",
       "      <th>max</th>\n",
       "      <td>2.000000</td>\n",
       "      <td>91.000000</td>\n",
       "      <td>6.000000</td>\n",
       "      <td>1.000000</td>\n",
       "      <td>1.000000</td>\n",
       "      <td>1.000000</td>\n",
       "      <td>7.000000</td>\n",
       "      <td>3.000000</td>\n",
       "      <td>3.000000</td>\n",
       "      <td>3.000000</td>\n",
       "      <td>...</td>\n",
       "      <td>3.000000</td>\n",
       "      <td>3.000000</td>\n",
       "      <td>3.000000</td>\n",
       "      <td>5.000000</td>\n",
       "      <td>3.000000</td>\n",
       "      <td>3.000000</td>\n",
       "      <td>3.000000</td>\n",
       "      <td>3.000000</td>\n",
       "      <td>3.000000</td>\n",
       "      <td>1.000000</td>\n",
       "    </tr>\n",
       "  </tbody>\n",
       "</table>\n",
       "<p>8 rows × 27 columns</p>\n",
       "</div>"
      ],
      "text/plain": [
       "            GENDER          AGE     MARITLST     SPARTNER    OTHER_IMP  \\\n",
       "count  3111.000000  3111.000000  3111.000000  3111.000000  3111.000000   \n",
       "mean      1.527162    73.171006     2.204436    -2.022179     0.480874   \n",
       "std       0.499342     7.348579     1.772964     1.456273     0.512422   \n",
       "min       1.000000    62.000000     1.000000    -3.000000    -2.000000   \n",
       "25%       1.000000    67.000000     1.000000    -3.000000     0.000000   \n",
       "50%       2.000000    72.000000     1.000000    -3.000000     0.000000   \n",
       "75%       2.000000    79.000000     4.000000     0.000000     1.000000   \n",
       "max       2.000000    91.000000     6.000000     1.000000     1.000000   \n",
       "\n",
       "          OTHER_HH     RLTHAPPY       SPTIME      SPOPEN2      SPRELY2  ...  \\\n",
       "count  3111.000000  3111.000000  3111.000000  3111.000000  3111.000000  ...   \n",
       "mean      0.144327     3.721311     0.364834     1.083574     1.189650  ...   \n",
       "std       0.354211     4.330234     2.177118     2.593727     2.643448  ...   \n",
       "min      -2.000000    -3.000000    -3.000000    -3.000000    -3.000000  ...   \n",
       "25%       0.000000    -3.000000    -3.000000    -3.000000    -3.000000  ...   \n",
       "50%       0.000000     6.000000     1.000000     3.000000     3.000000  ...   \n",
       "75%       0.000000     7.000000     2.000000     3.000000     3.000000  ...   \n",
       "max       1.000000     7.000000     3.000000     3.000000     3.000000  ...   \n",
       "\n",
       "           FRRELY2      FRDEMN2     FRCRITZ2        FRAMT    PAR_NERVE  \\\n",
       "count  3111.000000  3111.000000  3111.000000  3111.000000  3111.000000   \n",
       "mean      2.000643     0.460945     0.369013     3.202507    -0.385085   \n",
       "std       1.190260     0.787565     0.951623     1.512055     2.273903   \n",
       "min      -3.000000    -3.000000    -3.000000    -3.000000    -4.000000   \n",
       "25%       2.000000     0.000000     0.000000     2.000000    -3.000000   \n",
       "50%       2.000000     0.000000     0.000000     3.000000     1.000000   \n",
       "75%       3.000000     1.000000     1.000000     4.000000     2.000000   \n",
       "max       3.000000     3.000000     3.000000     5.000000     3.000000   \n",
       "\n",
       "         FAM_NERVE     FR_NERVE   PAR_THREAT  FAMFRTHREAT     IMPAIRED  \n",
       "count  3111.000000  3111.000000  3111.000000  3111.000000  3111.000000  \n",
       "mean      0.409836     0.218901    -1.134041    -0.539376     0.486339  \n",
       "std       2.253290     2.149847     1.606368     1.790016     0.499894  \n",
       "min      -5.000000    -5.000000    -4.000000    -5.000000     0.000000  \n",
       "25%       0.000000     0.000000    -3.000000     0.000000     0.000000  \n",
       "50%       1.000000     1.000000     0.000000     0.000000     0.000000  \n",
       "75%       2.000000     1.000000     0.000000     0.000000     1.000000  \n",
       "max       3.000000     3.000000     3.000000     3.000000     1.000000  \n",
       "\n",
       "[8 rows x 27 columns]"
      ]
     },
     "execution_count": 5,
     "metadata": {},
     "output_type": "execute_result"
    }
   ],
   "source": [
    "data.describe()"
   ]
  },
  {
   "cell_type": "code",
   "execution_count": 6,
   "metadata": {},
   "outputs": [],
   "source": [
    "ss=data.drop([\"IMPAIRED\"],axis=1)"
   ]
  },
  {
   "cell_type": "code",
   "execution_count": 7,
   "metadata": {},
   "outputs": [
    {
     "data": {
      "text/html": [
       "<div>\n",
       "<style scoped>\n",
       "    .dataframe tbody tr th:only-of-type {\n",
       "        vertical-align: middle;\n",
       "    }\n",
       "\n",
       "    .dataframe tbody tr th {\n",
       "        vertical-align: top;\n",
       "    }\n",
       "\n",
       "    .dataframe thead th {\n",
       "        text-align: right;\n",
       "    }\n",
       "</style>\n",
       "<table border=\"1\" class=\"dataframe\">\n",
       "  <thead>\n",
       "    <tr style=\"text-align: right;\">\n",
       "      <th></th>\n",
       "      <th>GENDER</th>\n",
       "      <th>AGE</th>\n",
       "      <th>MARITLST</th>\n",
       "      <th>SPARTNER</th>\n",
       "      <th>OTHER_IMP</th>\n",
       "      <th>OTHER_HH</th>\n",
       "      <th>RLTHAPPY</th>\n",
       "      <th>SPTIME</th>\n",
       "      <th>SPOPEN2</th>\n",
       "      <th>SPRELY2</th>\n",
       "      <th>...</th>\n",
       "      <th>FROPEN2</th>\n",
       "      <th>FRRELY2</th>\n",
       "      <th>FRDEMN2</th>\n",
       "      <th>FRCRITZ2</th>\n",
       "      <th>FRAMT</th>\n",
       "      <th>PAR_NERVE</th>\n",
       "      <th>FAM_NERVE</th>\n",
       "      <th>FR_NERVE</th>\n",
       "      <th>PAR_THREAT</th>\n",
       "      <th>FAMFRTHREAT</th>\n",
       "    </tr>\n",
       "  </thead>\n",
       "  <tbody>\n",
       "    <tr>\n",
       "      <th>0</th>\n",
       "      <td>2</td>\n",
       "      <td>67</td>\n",
       "      <td>2</td>\n",
       "      <td>-3</td>\n",
       "      <td>0</td>\n",
       "      <td>0</td>\n",
       "      <td>6</td>\n",
       "      <td>1</td>\n",
       "      <td>3</td>\n",
       "      <td>3</td>\n",
       "      <td>...</td>\n",
       "      <td>1</td>\n",
       "      <td>0</td>\n",
       "      <td>1</td>\n",
       "      <td>-2</td>\n",
       "      <td>5</td>\n",
       "      <td>2</td>\n",
       "      <td>2</td>\n",
       "      <td>1</td>\n",
       "      <td>0</td>\n",
       "      <td>0</td>\n",
       "    </tr>\n",
       "    <tr>\n",
       "      <th>1</th>\n",
       "      <td>2</td>\n",
       "      <td>84</td>\n",
       "      <td>5</td>\n",
       "      <td>0</td>\n",
       "      <td>1</td>\n",
       "      <td>0</td>\n",
       "      <td>-3</td>\n",
       "      <td>-3</td>\n",
       "      <td>-3</td>\n",
       "      <td>-3</td>\n",
       "      <td>...</td>\n",
       "      <td>0</td>\n",
       "      <td>2</td>\n",
       "      <td>0</td>\n",
       "      <td>1</td>\n",
       "      <td>3</td>\n",
       "      <td>-3</td>\n",
       "      <td>0</td>\n",
       "      <td>0</td>\n",
       "      <td>-3</td>\n",
       "      <td>0</td>\n",
       "    </tr>\n",
       "    <tr>\n",
       "      <th>2</th>\n",
       "      <td>2</td>\n",
       "      <td>65</td>\n",
       "      <td>1</td>\n",
       "      <td>-3</td>\n",
       "      <td>1</td>\n",
       "      <td>1</td>\n",
       "      <td>7</td>\n",
       "      <td>1</td>\n",
       "      <td>3</td>\n",
       "      <td>3</td>\n",
       "      <td>...</td>\n",
       "      <td>2</td>\n",
       "      <td>3</td>\n",
       "      <td>1</td>\n",
       "      <td>1</td>\n",
       "      <td>2</td>\n",
       "      <td>1</td>\n",
       "      <td>2</td>\n",
       "      <td>1</td>\n",
       "      <td>0</td>\n",
       "      <td>0</td>\n",
       "    </tr>\n",
       "    <tr>\n",
       "      <th>3</th>\n",
       "      <td>1</td>\n",
       "      <td>65</td>\n",
       "      <td>1</td>\n",
       "      <td>-3</td>\n",
       "      <td>0</td>\n",
       "      <td>0</td>\n",
       "      <td>7</td>\n",
       "      <td>1</td>\n",
       "      <td>3</td>\n",
       "      <td>3</td>\n",
       "      <td>...</td>\n",
       "      <td>1</td>\n",
       "      <td>3</td>\n",
       "      <td>0</td>\n",
       "      <td>0</td>\n",
       "      <td>5</td>\n",
       "      <td>1</td>\n",
       "      <td>1</td>\n",
       "      <td>1</td>\n",
       "      <td>0</td>\n",
       "      <td>0</td>\n",
       "    </tr>\n",
       "    <tr>\n",
       "      <th>4</th>\n",
       "      <td>2</td>\n",
       "      <td>70</td>\n",
       "      <td>1</td>\n",
       "      <td>-3</td>\n",
       "      <td>1</td>\n",
       "      <td>0</td>\n",
       "      <td>7</td>\n",
       "      <td>1</td>\n",
       "      <td>3</td>\n",
       "      <td>3</td>\n",
       "      <td>...</td>\n",
       "      <td>3</td>\n",
       "      <td>3</td>\n",
       "      <td>1</td>\n",
       "      <td>0</td>\n",
       "      <td>3</td>\n",
       "      <td>0</td>\n",
       "      <td>0</td>\n",
       "      <td>0</td>\n",
       "      <td>0</td>\n",
       "      <td>0</td>\n",
       "    </tr>\n",
       "  </tbody>\n",
       "</table>\n",
       "<p>5 rows × 26 columns</p>\n",
       "</div>"
      ],
      "text/plain": [
       "   GENDER  AGE  MARITLST  SPARTNER  OTHER_IMP  OTHER_HH  RLTHAPPY  SPTIME  \\\n",
       "0       2   67         2        -3          0         0         6       1   \n",
       "1       2   84         5         0          1         0        -3      -3   \n",
       "2       2   65         1        -3          1         1         7       1   \n",
       "3       1   65         1        -3          0         0         7       1   \n",
       "4       2   70         1        -3          1         0         7       1   \n",
       "\n",
       "   SPOPEN2  SPRELY2  ...  FROPEN2  FRRELY2  FRDEMN2  FRCRITZ2  FRAMT  \\\n",
       "0        3        3  ...        1        0        1        -2      5   \n",
       "1       -3       -3  ...        0        2        0         1      3   \n",
       "2        3        3  ...        2        3        1         1      2   \n",
       "3        3        3  ...        1        3        0         0      5   \n",
       "4        3        3  ...        3        3        1         0      3   \n",
       "\n",
       "   PAR_NERVE  FAM_NERVE  FR_NERVE  PAR_THREAT  FAMFRTHREAT  \n",
       "0          2          2         1           0            0  \n",
       "1         -3          0         0          -3            0  \n",
       "2          1          2         1           0            0  \n",
       "3          1          1         1           0            0  \n",
       "4          0          0         0           0            0  \n",
       "\n",
       "[5 rows x 26 columns]"
      ]
     },
     "execution_count": 7,
     "metadata": {},
     "output_type": "execute_result"
    }
   ],
   "source": [
    "ss.head()"
   ]
  },
  {
   "cell_type": "code",
   "execution_count": 8,
   "metadata": {
    "scrolled": true
   },
   "outputs": [],
   "source": [
    " data_onehot = pd.get_dummies(ss[\"GENDER\"],prefix=\"GENDER\")"
   ]
  },
  {
   "cell_type": "code",
   "execution_count": 9,
   "metadata": {},
   "outputs": [
    {
     "data": {
      "text/html": [
       "<div>\n",
       "<style scoped>\n",
       "    .dataframe tbody tr th:only-of-type {\n",
       "        vertical-align: middle;\n",
       "    }\n",
       "\n",
       "    .dataframe tbody tr th {\n",
       "        vertical-align: top;\n",
       "    }\n",
       "\n",
       "    .dataframe thead th {\n",
       "        text-align: right;\n",
       "    }\n",
       "</style>\n",
       "<table border=\"1\" class=\"dataframe\">\n",
       "  <thead>\n",
       "    <tr style=\"text-align: right;\">\n",
       "      <th></th>\n",
       "      <th>GENDER_1</th>\n",
       "      <th>GENDER_2</th>\n",
       "    </tr>\n",
       "  </thead>\n",
       "  <tbody>\n",
       "    <tr>\n",
       "      <th>0</th>\n",
       "      <td>0</td>\n",
       "      <td>1</td>\n",
       "    </tr>\n",
       "    <tr>\n",
       "      <th>1</th>\n",
       "      <td>0</td>\n",
       "      <td>1</td>\n",
       "    </tr>\n",
       "    <tr>\n",
       "      <th>2</th>\n",
       "      <td>0</td>\n",
       "      <td>1</td>\n",
       "    </tr>\n",
       "    <tr>\n",
       "      <th>3</th>\n",
       "      <td>1</td>\n",
       "      <td>0</td>\n",
       "    </tr>\n",
       "    <tr>\n",
       "      <th>4</th>\n",
       "      <td>0</td>\n",
       "      <td>1</td>\n",
       "    </tr>\n",
       "  </tbody>\n",
       "</table>\n",
       "</div>"
      ],
      "text/plain": [
       "   GENDER_1  GENDER_2\n",
       "0         0         1\n",
       "1         0         1\n",
       "2         0         1\n",
       "3         1         0\n",
       "4         0         1"
      ]
     },
     "execution_count": 9,
     "metadata": {},
     "output_type": "execute_result"
    }
   ],
   "source": [
    "data_onehot.head()"
   ]
  },
  {
   "cell_type": "code",
   "execution_count": 10,
   "metadata": {},
   "outputs": [],
   "source": [
    "for x in ss.columns[2:]:\n",
    "    data_onehot=pd.concat([data_onehot,pd.get_dummies(ss[x],prefix=x)],axis=1)"
   ]
  },
  {
   "cell_type": "code",
   "execution_count": 11,
   "metadata": {
    "scrolled": true
   },
   "outputs": [
    {
     "data": {
      "text/html": [
       "<div>\n",
       "<style scoped>\n",
       "    .dataframe tbody tr th:only-of-type {\n",
       "        vertical-align: middle;\n",
       "    }\n",
       "\n",
       "    .dataframe tbody tr th {\n",
       "        vertical-align: top;\n",
       "    }\n",
       "\n",
       "    .dataframe thead th {\n",
       "        text-align: right;\n",
       "    }\n",
       "</style>\n",
       "<table border=\"1\" class=\"dataframe\">\n",
       "  <thead>\n",
       "    <tr style=\"text-align: right;\">\n",
       "      <th></th>\n",
       "      <th>GENDER_1</th>\n",
       "      <th>GENDER_2</th>\n",
       "      <th>MARITLST_1</th>\n",
       "      <th>MARITLST_2</th>\n",
       "      <th>MARITLST_3</th>\n",
       "      <th>MARITLST_4</th>\n",
       "      <th>MARITLST_5</th>\n",
       "      <th>MARITLST_6</th>\n",
       "      <th>SPARTNER_-3</th>\n",
       "      <th>SPARTNER_0</th>\n",
       "      <th>...</th>\n",
       "      <th>PAR_THREAT_0</th>\n",
       "      <th>PAR_THREAT_1</th>\n",
       "      <th>PAR_THREAT_2</th>\n",
       "      <th>PAR_THREAT_3</th>\n",
       "      <th>FAMFRTHREAT_-5</th>\n",
       "      <th>FAMFRTHREAT_-4</th>\n",
       "      <th>FAMFRTHREAT_0</th>\n",
       "      <th>FAMFRTHREAT_1</th>\n",
       "      <th>FAMFRTHREAT_2</th>\n",
       "      <th>FAMFRTHREAT_3</th>\n",
       "    </tr>\n",
       "  </thead>\n",
       "  <tbody>\n",
       "    <tr>\n",
       "      <th>0</th>\n",
       "      <td>0</td>\n",
       "      <td>1</td>\n",
       "      <td>0</td>\n",
       "      <td>1</td>\n",
       "      <td>0</td>\n",
       "      <td>0</td>\n",
       "      <td>0</td>\n",
       "      <td>0</td>\n",
       "      <td>1</td>\n",
       "      <td>0</td>\n",
       "      <td>...</td>\n",
       "      <td>1</td>\n",
       "      <td>0</td>\n",
       "      <td>0</td>\n",
       "      <td>0</td>\n",
       "      <td>0</td>\n",
       "      <td>0</td>\n",
       "      <td>1</td>\n",
       "      <td>0</td>\n",
       "      <td>0</td>\n",
       "      <td>0</td>\n",
       "    </tr>\n",
       "    <tr>\n",
       "      <th>1</th>\n",
       "      <td>0</td>\n",
       "      <td>1</td>\n",
       "      <td>0</td>\n",
       "      <td>0</td>\n",
       "      <td>0</td>\n",
       "      <td>0</td>\n",
       "      <td>1</td>\n",
       "      <td>0</td>\n",
       "      <td>0</td>\n",
       "      <td>1</td>\n",
       "      <td>...</td>\n",
       "      <td>0</td>\n",
       "      <td>0</td>\n",
       "      <td>0</td>\n",
       "      <td>0</td>\n",
       "      <td>0</td>\n",
       "      <td>0</td>\n",
       "      <td>1</td>\n",
       "      <td>0</td>\n",
       "      <td>0</td>\n",
       "      <td>0</td>\n",
       "    </tr>\n",
       "    <tr>\n",
       "      <th>2</th>\n",
       "      <td>0</td>\n",
       "      <td>1</td>\n",
       "      <td>1</td>\n",
       "      <td>0</td>\n",
       "      <td>0</td>\n",
       "      <td>0</td>\n",
       "      <td>0</td>\n",
       "      <td>0</td>\n",
       "      <td>1</td>\n",
       "      <td>0</td>\n",
       "      <td>...</td>\n",
       "      <td>1</td>\n",
       "      <td>0</td>\n",
       "      <td>0</td>\n",
       "      <td>0</td>\n",
       "      <td>0</td>\n",
       "      <td>0</td>\n",
       "      <td>1</td>\n",
       "      <td>0</td>\n",
       "      <td>0</td>\n",
       "      <td>0</td>\n",
       "    </tr>\n",
       "    <tr>\n",
       "      <th>3</th>\n",
       "      <td>1</td>\n",
       "      <td>0</td>\n",
       "      <td>1</td>\n",
       "      <td>0</td>\n",
       "      <td>0</td>\n",
       "      <td>0</td>\n",
       "      <td>0</td>\n",
       "      <td>0</td>\n",
       "      <td>1</td>\n",
       "      <td>0</td>\n",
       "      <td>...</td>\n",
       "      <td>1</td>\n",
       "      <td>0</td>\n",
       "      <td>0</td>\n",
       "      <td>0</td>\n",
       "      <td>0</td>\n",
       "      <td>0</td>\n",
       "      <td>1</td>\n",
       "      <td>0</td>\n",
       "      <td>0</td>\n",
       "      <td>0</td>\n",
       "    </tr>\n",
       "    <tr>\n",
       "      <th>4</th>\n",
       "      <td>0</td>\n",
       "      <td>1</td>\n",
       "      <td>1</td>\n",
       "      <td>0</td>\n",
       "      <td>0</td>\n",
       "      <td>0</td>\n",
       "      <td>0</td>\n",
       "      <td>0</td>\n",
       "      <td>1</td>\n",
       "      <td>0</td>\n",
       "      <td>...</td>\n",
       "      <td>1</td>\n",
       "      <td>0</td>\n",
       "      <td>0</td>\n",
       "      <td>0</td>\n",
       "      <td>0</td>\n",
       "      <td>0</td>\n",
       "      <td>1</td>\n",
       "      <td>0</td>\n",
       "      <td>0</td>\n",
       "      <td>0</td>\n",
       "    </tr>\n",
       "  </tbody>\n",
       "</table>\n",
       "<p>5 rows × 150 columns</p>\n",
       "</div>"
      ],
      "text/plain": [
       "   GENDER_1  GENDER_2  MARITLST_1  MARITLST_2  MARITLST_3  MARITLST_4  \\\n",
       "0         0         1           0           1           0           0   \n",
       "1         0         1           0           0           0           0   \n",
       "2         0         1           1           0           0           0   \n",
       "3         1         0           1           0           0           0   \n",
       "4         0         1           1           0           0           0   \n",
       "\n",
       "   MARITLST_5  MARITLST_6  SPARTNER_-3  SPARTNER_0  ...  PAR_THREAT_0  \\\n",
       "0           0           0            1           0  ...             1   \n",
       "1           1           0            0           1  ...             0   \n",
       "2           0           0            1           0  ...             1   \n",
       "3           0           0            1           0  ...             1   \n",
       "4           0           0            1           0  ...             1   \n",
       "\n",
       "   PAR_THREAT_1  PAR_THREAT_2  PAR_THREAT_3  FAMFRTHREAT_-5  FAMFRTHREAT_-4  \\\n",
       "0             0             0             0               0               0   \n",
       "1             0             0             0               0               0   \n",
       "2             0             0             0               0               0   \n",
       "3             0             0             0               0               0   \n",
       "4             0             0             0               0               0   \n",
       "\n",
       "   FAMFRTHREAT_0  FAMFRTHREAT_1  FAMFRTHREAT_2  FAMFRTHREAT_3  \n",
       "0              1              0              0              0  \n",
       "1              1              0              0              0  \n",
       "2              1              0              0              0  \n",
       "3              1              0              0              0  \n",
       "4              1              0              0              0  \n",
       "\n",
       "[5 rows x 150 columns]"
      ]
     },
     "execution_count": 11,
     "metadata": {},
     "output_type": "execute_result"
    }
   ],
   "source": [
    "data_onehot.head()"
   ]
  },
  {
   "cell_type": "code",
   "execution_count": 12,
   "metadata": {},
   "outputs": [],
   "source": [
    "data_onehot['AGE']=data['AGE']"
   ]
  },
  {
   "cell_type": "code",
   "execution_count": 13,
   "metadata": {},
   "outputs": [
    {
     "data": {
      "text/html": [
       "<div>\n",
       "<style scoped>\n",
       "    .dataframe tbody tr th:only-of-type {\n",
       "        vertical-align: middle;\n",
       "    }\n",
       "\n",
       "    .dataframe tbody tr th {\n",
       "        vertical-align: top;\n",
       "    }\n",
       "\n",
       "    .dataframe thead th {\n",
       "        text-align: right;\n",
       "    }\n",
       "</style>\n",
       "<table border=\"1\" class=\"dataframe\">\n",
       "  <thead>\n",
       "    <tr style=\"text-align: right;\">\n",
       "      <th></th>\n",
       "      <th>GENDER_1</th>\n",
       "      <th>GENDER_2</th>\n",
       "      <th>MARITLST_1</th>\n",
       "      <th>MARITLST_2</th>\n",
       "      <th>MARITLST_3</th>\n",
       "      <th>MARITLST_4</th>\n",
       "      <th>MARITLST_5</th>\n",
       "      <th>MARITLST_6</th>\n",
       "      <th>SPARTNER_-3</th>\n",
       "      <th>SPARTNER_0</th>\n",
       "      <th>...</th>\n",
       "      <th>PAR_THREAT_1</th>\n",
       "      <th>PAR_THREAT_2</th>\n",
       "      <th>PAR_THREAT_3</th>\n",
       "      <th>FAMFRTHREAT_-5</th>\n",
       "      <th>FAMFRTHREAT_-4</th>\n",
       "      <th>FAMFRTHREAT_0</th>\n",
       "      <th>FAMFRTHREAT_1</th>\n",
       "      <th>FAMFRTHREAT_2</th>\n",
       "      <th>FAMFRTHREAT_3</th>\n",
       "      <th>AGE</th>\n",
       "    </tr>\n",
       "  </thead>\n",
       "  <tbody>\n",
       "    <tr>\n",
       "      <th>0</th>\n",
       "      <td>0</td>\n",
       "      <td>1</td>\n",
       "      <td>0</td>\n",
       "      <td>1</td>\n",
       "      <td>0</td>\n",
       "      <td>0</td>\n",
       "      <td>0</td>\n",
       "      <td>0</td>\n",
       "      <td>1</td>\n",
       "      <td>0</td>\n",
       "      <td>...</td>\n",
       "      <td>0</td>\n",
       "      <td>0</td>\n",
       "      <td>0</td>\n",
       "      <td>0</td>\n",
       "      <td>0</td>\n",
       "      <td>1</td>\n",
       "      <td>0</td>\n",
       "      <td>0</td>\n",
       "      <td>0</td>\n",
       "      <td>67</td>\n",
       "    </tr>\n",
       "    <tr>\n",
       "      <th>1</th>\n",
       "      <td>0</td>\n",
       "      <td>1</td>\n",
       "      <td>0</td>\n",
       "      <td>0</td>\n",
       "      <td>0</td>\n",
       "      <td>0</td>\n",
       "      <td>1</td>\n",
       "      <td>0</td>\n",
       "      <td>0</td>\n",
       "      <td>1</td>\n",
       "      <td>...</td>\n",
       "      <td>0</td>\n",
       "      <td>0</td>\n",
       "      <td>0</td>\n",
       "      <td>0</td>\n",
       "      <td>0</td>\n",
       "      <td>1</td>\n",
       "      <td>0</td>\n",
       "      <td>0</td>\n",
       "      <td>0</td>\n",
       "      <td>84</td>\n",
       "    </tr>\n",
       "    <tr>\n",
       "      <th>2</th>\n",
       "      <td>0</td>\n",
       "      <td>1</td>\n",
       "      <td>1</td>\n",
       "      <td>0</td>\n",
       "      <td>0</td>\n",
       "      <td>0</td>\n",
       "      <td>0</td>\n",
       "      <td>0</td>\n",
       "      <td>1</td>\n",
       "      <td>0</td>\n",
       "      <td>...</td>\n",
       "      <td>0</td>\n",
       "      <td>0</td>\n",
       "      <td>0</td>\n",
       "      <td>0</td>\n",
       "      <td>0</td>\n",
       "      <td>1</td>\n",
       "      <td>0</td>\n",
       "      <td>0</td>\n",
       "      <td>0</td>\n",
       "      <td>65</td>\n",
       "    </tr>\n",
       "    <tr>\n",
       "      <th>3</th>\n",
       "      <td>1</td>\n",
       "      <td>0</td>\n",
       "      <td>1</td>\n",
       "      <td>0</td>\n",
       "      <td>0</td>\n",
       "      <td>0</td>\n",
       "      <td>0</td>\n",
       "      <td>0</td>\n",
       "      <td>1</td>\n",
       "      <td>0</td>\n",
       "      <td>...</td>\n",
       "      <td>0</td>\n",
       "      <td>0</td>\n",
       "      <td>0</td>\n",
       "      <td>0</td>\n",
       "      <td>0</td>\n",
       "      <td>1</td>\n",
       "      <td>0</td>\n",
       "      <td>0</td>\n",
       "      <td>0</td>\n",
       "      <td>65</td>\n",
       "    </tr>\n",
       "    <tr>\n",
       "      <th>4</th>\n",
       "      <td>0</td>\n",
       "      <td>1</td>\n",
       "      <td>1</td>\n",
       "      <td>0</td>\n",
       "      <td>0</td>\n",
       "      <td>0</td>\n",
       "      <td>0</td>\n",
       "      <td>0</td>\n",
       "      <td>1</td>\n",
       "      <td>0</td>\n",
       "      <td>...</td>\n",
       "      <td>0</td>\n",
       "      <td>0</td>\n",
       "      <td>0</td>\n",
       "      <td>0</td>\n",
       "      <td>0</td>\n",
       "      <td>1</td>\n",
       "      <td>0</td>\n",
       "      <td>0</td>\n",
       "      <td>0</td>\n",
       "      <td>70</td>\n",
       "    </tr>\n",
       "  </tbody>\n",
       "</table>\n",
       "<p>5 rows × 151 columns</p>\n",
       "</div>"
      ],
      "text/plain": [
       "   GENDER_1  GENDER_2  MARITLST_1  MARITLST_2  MARITLST_3  MARITLST_4  \\\n",
       "0         0         1           0           1           0           0   \n",
       "1         0         1           0           0           0           0   \n",
       "2         0         1           1           0           0           0   \n",
       "3         1         0           1           0           0           0   \n",
       "4         0         1           1           0           0           0   \n",
       "\n",
       "   MARITLST_5  MARITLST_6  SPARTNER_-3  SPARTNER_0  ...  PAR_THREAT_1  \\\n",
       "0           0           0            1           0  ...             0   \n",
       "1           1           0            0           1  ...             0   \n",
       "2           0           0            1           0  ...             0   \n",
       "3           0           0            1           0  ...             0   \n",
       "4           0           0            1           0  ...             0   \n",
       "\n",
       "   PAR_THREAT_2  PAR_THREAT_3  FAMFRTHREAT_-5  FAMFRTHREAT_-4  FAMFRTHREAT_0  \\\n",
       "0             0             0               0               0              1   \n",
       "1             0             0               0               0              1   \n",
       "2             0             0               0               0              1   \n",
       "3             0             0               0               0              1   \n",
       "4             0             0               0               0              1   \n",
       "\n",
       "   FAMFRTHREAT_1  FAMFRTHREAT_2  FAMFRTHREAT_3  AGE  \n",
       "0              0              0              0   67  \n",
       "1              0              0              0   84  \n",
       "2              0              0              0   65  \n",
       "3              0              0              0   65  \n",
       "4              0              0              0   70  \n",
       "\n",
       "[5 rows x 151 columns]"
      ]
     },
     "execution_count": 13,
     "metadata": {},
     "output_type": "execute_result"
    }
   ],
   "source": [
    "data_onehot.head()"
   ]
  },
  {
   "cell_type": "code",
   "execution_count": 14,
   "metadata": {},
   "outputs": [
    {
     "data": {
      "text/plain": [
       "0    1598\n",
       "1    1513\n",
       "Name: IMPAIRED, dtype: int64"
      ]
     },
     "execution_count": 14,
     "metadata": {},
     "output_type": "execute_result"
    }
   ],
   "source": [
    "data['IMPAIRED'].value_counts()"
   ]
  },
  {
   "cell_type": "code",
   "execution_count": 15,
   "metadata": {},
   "outputs": [
    {
     "data": {
      "text/plain": [
       "IMPAIRED       1.000000\n",
       "AGE            0.186726\n",
       "MARITLST       0.132307\n",
       "SPARTNER       0.131429\n",
       "OTHER_HH       0.130082\n",
       "GENDER         0.003097\n",
       "FAMOPEN2      -0.007227\n",
       "FAMCRITZ2     -0.036089\n",
       "FAMRELY2      -0.051008\n",
       "OTHER_IMP     -0.068491\n",
       "FAMDEMAN2     -0.075616\n",
       "FRDEMN2       -0.086091\n",
       "FRCRITZ2      -0.107010\n",
       "FROPEN2       -0.107264\n",
       "FAMFRTHREAT   -0.111008\n",
       "SPDEMAND2     -0.113681\n",
       "PAR_THREAT    -0.122608\n",
       "FAM_NERVE     -0.123057\n",
       "RLTHAPPY      -0.123490\n",
       "FR_NERVE      -0.124524\n",
       "SPOPEN2       -0.124851\n",
       "SPCRITZE2     -0.125209\n",
       "SPTIME        -0.127927\n",
       "SPRELY2       -0.129436\n",
       "PAR_NERVE     -0.139842\n",
       "FRAMT         -0.153310\n",
       "FRRELY2       -0.166971\n",
       "Name: IMPAIRED, dtype: float64"
      ]
     },
     "execution_count": 15,
     "metadata": {},
     "output_type": "execute_result"
    }
   ],
   "source": [
    "corr_matrix = data.corr()\n",
    "corr_matrix[\"IMPAIRED\"].sort_values(ascending=False)"
   ]
  },
  {
   "cell_type": "code",
   "execution_count": 16,
   "metadata": {},
   "outputs": [
    {
     "data": {
      "text/plain": [
       "<AxesSubplot:>"
      ]
     },
     "execution_count": 16,
     "metadata": {},
     "output_type": "execute_result"
    },
    {
     "data": {
      "image/png": "[encoded data removed]",
      "text/plain": [
       "<Figure size 792x648 with 2 Axes>"
      ]
     },
     "metadata": {
      "needs_background": "light"
     },
     "output_type": "display_data"
    }
   ],
   "source": [
    "import seaborn as sns\n",
    "corr = data.corr()\n",
    "\n",
    "# Generate a mask for the upper triangle\n",
    "mask = np.zeros_like(corr, dtype=np.bool)\n",
    "mask[np.triu_indices_from(mask)] = True\n",
    "\n",
    "# Set up the matplotlib figure\n",
    "f, ax = plt.subplots(figsize=(11, 9))\n",
    "\n",
    "# Generate a custom diverging colormap\n",
    "cmap = sns.diverging_palette(220, 10, as_cmap=True)\n",
    "\n",
    "# Draw the heatmap with the mask and correct aspect ratio\n",
    "sns.heatmap(corr, mask=mask, cmap=cmap, vmax=.3, center=0,\n",
    "            square=True, linewidths=.5, cbar_kws={\"shrink\": .5})"
   ]
  },
  {
   "cell_type": "code",
   "execution_count": 17,
   "metadata": {},
   "outputs": [],
   "source": [
    "x = data_onehot\n",
    "y = data[\"IMPAIRED\"]\n",
    "\n",
    "x_train, x_test, y_train, y_test = train_test_split(x,y, test_size=0.25, random_state=42, stratify=y)"
   ]
  },
  {
   "cell_type": "code",
   "execution_count": 18,
   "metadata": {},
   "outputs": [],
   "source": [
    "# import statsmodels.api as sm\n",
    "# #x = sm.add_constant(x)\n",
    "# logit_mod=sm.Logit(y,x)\n",
    "# result=logit_mod.fit()\n",
    "# print(result.summary())"
   ]
  },
  {
   "cell_type": "code",
   "execution_count": 19,
   "metadata": {},
   "outputs": [
    {
     "data": {
      "text/plain": [
       "array([[-0.95186436,  0.95186436,  0.71348134, ..., -0.16247102,\n",
       "        -0.046344  ,  0.52266095],\n",
       "       [ 1.05056986, -1.05056986,  0.71348134, ...,  6.15494381,\n",
       "        -0.046344  ,  0.25041982],\n",
       "       [ 1.05056986, -1.05056986,  0.71348134, ..., -0.16247102,\n",
       "        -0.046344  ,  0.65878151],\n",
       "       ...,\n",
       "       [ 1.05056986, -1.05056986,  0.71348134, ..., -0.16247102,\n",
       "        -0.046344  ,  1.61162544],\n",
       "       [-0.95186436,  0.95186436,  0.71348134, ..., -0.16247102,\n",
       "        -0.046344  , -0.56630354],\n",
       "       [-0.95186436,  0.95186436, -1.40157834, ..., -0.16247102,\n",
       "        -0.046344  ,  1.33938431]])"
      ]
     },
     "execution_count": 19,
     "metadata": {},
     "output_type": "execute_result"
    }
   ],
   "source": [
    "from sklearn.preprocessing import StandardScaler\n",
    "scaler = StandardScaler()\n",
    "scaler.fit_transform(x_train)\n",
    "scaler.transform(x_test)"
   ]
  },
  {
   "cell_type": "markdown",
   "metadata": {},
   "source": [
    "### KNN Model"
   ]
  },
  {
   "cell_type": "code",
   "execution_count": 20,
   "metadata": {},
   "outputs": [
    {
     "name": "stdout",
     "output_type": "stream",
     "text": [
      "[0.66919971 0.61298642 0.61519824 0.60553333 0.61597515]\n",
      "cv_scores mean:0.6237785698486719\n",
      "ROC AUC: 0.62 (+/- 0.02)\n"
     ]
    }
   ],
   "source": [
    "# CV for KNN, to understnad whether model is overfitted\n",
    "knn_cv = KNeighborsClassifier(n_neighbors=5)\n",
    "#train model with cv of 5 \n",
    "cv_scores = cross_val_score(knn_cv, x_train, y_train, cv=5, scoring = \"roc_auc\")\n",
    "#print each cv score (accuracy) and average them\n",
    "print(cv_scores)\n",
    "print(\"cv_scores mean:{}\".format(np.mean(cv_scores)))\n",
    "print(\"ROC AUC: %0.2f (+/- %0.2f)\"\n",
    "          % (cv_scores.mean(), cv_scores.std()))"
   ]
  },
  {
   "cell_type": "code",
   "execution_count": 21,
   "metadata": {},
   "outputs": [
    {
     "name": "stdout",
     "output_type": "stream",
     "text": [
      "[[254 146]\n",
      " [178 200]]\n",
      "              precision    recall  f1-score   support\n",
      "\n",
      "           0       0.59      0.64      0.61       400\n",
      "           1       0.58      0.53      0.55       378\n",
      "\n",
      "    accuracy                           0.58       778\n",
      "   macro avg       0.58      0.58      0.58       778\n",
      "weighted avg       0.58      0.58      0.58       778\n",
      "\n",
      "0.5820502645502645\n"
     ]
    }
   ],
   "source": [
    "# predictions with CV fitted model\n",
    "knn_cv.fit(x_train, y_train)\n",
    "y_pred = knn_cv.predict(x_test)\n",
    "print(confusion_matrix(y_test, y_pred))\n",
    "print(classification_report(y_test, y_pred))\n",
    "from sklearn.metrics import roc_auc_score\n",
    "print(roc_auc_score(y_test, y_pred))\n",
    "fpr, tpr, _ = roc_curve(y_test,  y_pred)\n",
    "auc = roc_auc_score(y_test,  y_pred)\n",
    "    \n",
    "result_table = result_table.append({'classifiers':knn_cv.__class__.__name__,\n",
    "                                    'fpr':fpr, \n",
    "                                    'tpr':tpr, \n",
    "                                    'auc':auc}, ignore_index=True)\n",
    "\n",
    "from sklearn.metrics import precision_recall_curve\n",
    "precision, recall, thresholds = precision_recall_curve(y_test, y_pred)\n",
    "pr_table = pr_table.append({'classifiers':knn_cv.__class__.__name__,\n",
    "                                    'Recall':recall, \n",
    "                                    'Precision':precision}, ignore_index=True)\n",
    "#pr_table.set_index('classifiers', inplace=True)"
   ]
  },
  {
   "cell_type": "code",
   "execution_count": 22,
   "metadata": {},
   "outputs": [
    {
     "data": {
      "text/plain": [
       "GridSearchCV(cv=5, estimator=KNeighborsClassifier(),\n",
       "             param_grid={'n_neighbors': array([ 1,  2,  3,  4,  5,  6,  7,  8,  9, 10, 11, 12, 13, 14, 15, 16, 17,\n",
       "       18, 19, 20, 21, 22, 23, 24])})"
      ]
     },
     "execution_count": 22,
     "metadata": {},
     "output_type": "execute_result"
    }
   ],
   "source": [
    "\n",
    "#create new a knn model\n",
    "knn = KNeighborsClassifier() \n",
    "#create a dictionary of all values we want to test for n_neighbors\n",
    "param_grid = {'n_neighbors': np.arange(1, 25)}\n",
    "#use gridsearch to test all values for n_neighbors\n",
    "grid_search = GridSearchCV(knn, param_grid, cv=5)\n",
    "#fit model to data\n",
    "grid_search.fit(x_train, y_train)"
   ]
  },
  {
   "cell_type": "code",
   "execution_count": 23,
   "metadata": {},
   "outputs": [
    {
     "data": {
      "text/plain": [
       "{'n_neighbors': 23}"
      ]
     },
     "execution_count": 23,
     "metadata": {},
     "output_type": "execute_result"
    }
   ],
   "source": [
    "grid_search.best_params_"
   ]
  },
  {
   "cell_type": "code",
   "execution_count": 24,
   "metadata": {},
   "outputs": [
    {
     "name": "stdout",
     "output_type": "stream",
     "text": [
      "[[295 105]\n",
      " [191 187]]\n",
      "              precision    recall  f1-score   support\n",
      "\n",
      "           0       0.61      0.74      0.67       400\n",
      "           1       0.64      0.49      0.56       378\n",
      "\n",
      "    accuracy                           0.62       778\n",
      "   macro avg       0.62      0.62      0.61       778\n",
      "weighted avg       0.62      0.62      0.61       778\n",
      "\n"
     ]
    },
    {
     "data": {
      "text/plain": [
       "0.6161044973544975"
      ]
     },
     "execution_count": 24,
     "metadata": {},
     "output_type": "execute_result"
    }
   ],
   "source": [
    "#prediction with best param\n",
    "final_model = grid_search.best_estimator_\n",
    "y_pred = final_model.predict(x_test)\n",
    "print(confusion_matrix(y_test, y_pred))\n",
    "print(classification_report(y_test, y_pred))\n",
    "from sklearn.metrics import roc_auc_score\n",
    "roc_auc_score(y_test, y_pred)"
   ]
  },
  {
   "cell_type": "markdown",
   "metadata": {},
   "source": [
    "### SVM Model"
   ]
  },
  {
   "cell_type": "code",
   "execution_count": 25,
   "metadata": {},
   "outputs": [
    {
     "name": "stdout",
     "output_type": "stream",
     "text": [
      "[0.70952643 0.72129222 0.72044787 0.72206145 0.68198994]\n",
      "cv_scores mean:0.7110635817374155\n",
      "ROC AUC: 0.71 (+/- 0.02)\n"
     ]
    }
   ],
   "source": [
    "svc_cv = SVC(kernel='rbf', gamma= 'auto')\n",
    "cv_scores = cross_val_score(svc_cv, x_train, y_train, cv=5, scoring = \"roc_auc\")\n",
    "print(cv_scores)\n",
    "print(\"cv_scores mean:{}\".format(np.mean(cv_scores)))\n",
    "print(\"ROC AUC: %0.2f (+/- %0.2f)\"\n",
    "          % (cv_scores.mean(), cv_scores.std()))"
   ]
  },
  {
   "cell_type": "code",
   "execution_count": 26,
   "metadata": {},
   "outputs": [
    {
     "name": "stdout",
     "output_type": "stream",
     "text": [
      "[[283 117]\n",
      " [153 225]]\n",
      "              precision    recall  f1-score   support\n",
      "\n",
      "           0       0.65      0.71      0.68       400\n",
      "           1       0.66      0.60      0.62       378\n",
      "\n",
      "    accuracy                           0.65       778\n",
      "   macro avg       0.65      0.65      0.65       778\n",
      "weighted avg       0.65      0.65      0.65       778\n",
      "\n",
      "0.6513690476190477\n"
     ]
    }
   ],
   "source": [
    "# predictions with CV fitted model of SVM\n",
    "svc_cv.fit(x_train, y_train)\n",
    "y_pred = svc_cv.predict(x_test)\n",
    "print(confusion_matrix(y_test, y_pred))\n",
    "print(classification_report(y_test, y_pred))\n",
    "from sklearn.metrics import roc_auc_score\n",
    "print(roc_auc_score(y_test, y_pred))\n",
    "fpr, tpr, _ = roc_curve(y_test,  y_pred)\n",
    "auc = roc_auc_score(y_test,  y_pred)\n",
    "    \n",
    "result_table = result_table.append({'classifiers':svc_cv.__class__.__name__,\n",
    "                                    'fpr':fpr, \n",
    "                                    'tpr':tpr, \n",
    "                                    'auc':auc}, ignore_index=True)\n",
    "\n",
    "from sklearn.metrics import precision_recall_curve\n",
    "precision, recall, thresholds = precision_recall_curve(y_test, y_pred)\n",
    "pr_table = pr_table.append({'classifiers':svc_cv.__class__.__name__,\n",
    "                                    'Recall':recall, \n",
    "                                    'Precision':precision}, ignore_index=True)\n",
    "#result_table.set_index('classifiers', inplace=True)"
   ]
  },
  {
   "cell_type": "code",
   "execution_count": 27,
   "metadata": {},
   "outputs": [
    {
     "data": {
      "text/plain": [
       "GridSearchCV(cv=5, estimator=SVC(),\n",
       "             param_grid={'C': [0.1, 1, 10, 100, 1000],\n",
       "                         'gamma': [1, 0.1, 0.01, 0.001, 0.0001],\n",
       "                         'kernel': ['rbf']})"
      ]
     },
     "execution_count": 27,
     "metadata": {},
     "output_type": "execute_result"
    }
   ],
   "source": [
    "from sklearn.model_selection import GridSearchCV \n",
    "svc = SVC() \n",
    "# defining parameter range \n",
    "param_grid = {'C': [0.1, 1, 10, 100, 1000],  \n",
    "              'gamma': [1, 0.1, 0.01, 0.001, 0.0001], \n",
    "              'kernel': ['rbf']}  \n",
    "  \n",
    "grid_search = GridSearchCV(svc, param_grid, cv=5) \n",
    "grid_search.fit(x_train, y_train)"
   ]
  },
  {
   "cell_type": "code",
   "execution_count": 28,
   "metadata": {},
   "outputs": [
    {
     "data": {
      "text/plain": [
       "{'C': 100, 'gamma': 0.0001, 'kernel': 'rbf'}"
      ]
     },
     "execution_count": 28,
     "metadata": {},
     "output_type": "execute_result"
    }
   ],
   "source": [
    "grid_search.best_params_"
   ]
  },
  {
   "cell_type": "code",
   "execution_count": 29,
   "metadata": {
    "scrolled": true
   },
   "outputs": [
    {
     "name": "stdout",
     "output_type": "stream",
     "text": [
      "[[285 115]\n",
      " [153 225]]\n",
      "              precision    recall  f1-score   support\n",
      "\n",
      "           0       0.65      0.71      0.68       400\n",
      "           1       0.66      0.60      0.63       378\n",
      "\n",
      "    accuracy                           0.66       778\n",
      "   macro avg       0.66      0.65      0.65       778\n",
      "weighted avg       0.66      0.66      0.65       778\n",
      "\n"
     ]
    },
    {
     "data": {
      "text/plain": [
       "0.6538690476190476"
      ]
     },
     "execution_count": 29,
     "metadata": {},
     "output_type": "execute_result"
    }
   ],
   "source": [
    "#prediction with best param\n",
    "final_model = grid_search.best_estimator_\n",
    "y_pred = final_model.predict(x_test)\n",
    "print(confusion_matrix(y_test, y_pred))\n",
    "print(classification_report(y_test, y_pred))\n",
    "from sklearn.metrics import roc_auc_score\n",
    "roc_auc_score(y_test, y_pred)"
   ]
  },
  {
   "cell_type": "markdown",
   "metadata": {},
   "source": [
    "### Random Forest Model"
   ]
  },
  {
   "cell_type": "code",
   "execution_count": 30,
   "metadata": {},
   "outputs": [
    {
     "name": "stdout",
     "output_type": "stream",
     "text": [
      "[0.71136197 0.70512115 0.7117199  0.70589645 0.66188045]\n",
      "cv_scores mean:0.6991959814818227\n",
      "ROC AUC: 0.70 (+/- 0.02)\n"
     ]
    }
   ],
   "source": [
    "rf_cv = RandomForestClassifier(max_depth=20, max_features=20, n_estimators=1000)\n",
    "cv_scores = cross_val_score(rf_cv, x_train, y_train, cv=5,scoring = \"roc_auc\")\n",
    "print(cv_scores)\n",
    "print(\"cv_scores mean:{}\".format(np.mean(cv_scores)))\n",
    "print(\"ROC AUC: %0.2f (+/- %0.2f)\"\n",
    "          % (cv_scores.mean(), cv_scores.std()))"
   ]
  },
  {
   "cell_type": "code",
   "execution_count": 31,
   "metadata": {},
   "outputs": [
    {
     "name": "stdout",
     "output_type": "stream",
     "text": [
      "[[277 123]\n",
      " [151 227]]\n",
      "              precision    recall  f1-score   support\n",
      "\n",
      "           0       0.65      0.69      0.67       400\n",
      "           1       0.65      0.60      0.62       378\n",
      "\n",
      "    accuracy                           0.65       778\n",
      "   macro avg       0.65      0.65      0.65       778\n",
      "weighted avg       0.65      0.65      0.65       778\n",
      "\n",
      "0.6465145502645503\n"
     ]
    }
   ],
   "source": [
    "# predictions with CV fitted model of RF\n",
    "\n",
    "rf_cv.fit(x_train, y_train)\n",
    "y_pred = rf_cv.predict(x_test)\n",
    "print(confusion_matrix(y_test, y_pred))\n",
    "print(classification_report(y_test, y_pred))\n",
    "from sklearn.metrics import roc_auc_score\n",
    "print(roc_auc_score(y_test, y_pred))\n",
    "fpr, tpr, _ = roc_curve(y_test,  y_pred)\n",
    "auc = roc_auc_score(y_test,  y_pred)\n",
    "    \n",
    "result_table = result_table.append({'classifiers':rf_cv.__class__.__name__,\n",
    "                                    'fpr':fpr, \n",
    "                                   'tpr':tpr, \n",
    "                                    'auc':auc}, ignore_index=True)\n",
    "\n",
    "from sklearn.metrics import precision_recall_curve\n",
    "precision, recall, thresholds = precision_recall_curve(y_test, y_pred)\n",
    "pr_table = pr_table.append({'classifiers':rf_cv.__class__.__name__,\n",
    "                                    'Recall':recall, \n",
    "                                    'Precision':precision}, ignore_index=True)\n",
    "\n"
   ]
  },
  {
   "cell_type": "code",
   "execution_count": 32,
   "metadata": {},
   "outputs": [
    {
     "data": {
      "text/plain": [
       "GridSearchCV(cv=5, estimator=RandomForestClassifier(),\n",
       "             param_grid={'bootstrap': [True], 'max_depth': [10, 20, 30, 40, 50],\n",
       "                         'max_features': [2, 4, 6, 8, 10, 15],\n",
       "                         'n_estimators': [50, 100, 150, 200, 300]})"
      ]
     },
     "execution_count": 32,
     "metadata": {},
     "output_type": "execute_result"
    }
   ],
   "source": [
    "# Create the parameter grid based on the results of random search \n",
    "param_grid = {\n",
    "    'bootstrap': [True],\n",
    "    'max_depth': [10, 20, 30, 40, 50],\n",
    "    'max_features': [2, 4, 6, 8, 10, 15],\n",
    "    'n_estimators': [50, 100, 150, 200, 300]\n",
    "}\n",
    "# Create a based model\n",
    "rf = RandomForestClassifier()\n",
    "# Instantiate the grid search model\n",
    "grid_search = GridSearchCV(rf,param_grid, cv = 5)\n",
    "# Fit the grid search to the data\n",
    "grid_search.fit(x_train, y_train)"
   ]
  },
  {
   "cell_type": "code",
   "execution_count": 33,
   "metadata": {},
   "outputs": [
    {
     "data": {
      "text/plain": [
       "{'bootstrap': True, 'max_depth': 10, 'max_features': 15, 'n_estimators': 300}"
      ]
     },
     "execution_count": 33,
     "metadata": {},
     "output_type": "execute_result"
    }
   ],
   "source": [
    "grid_search.best_params_"
   ]
  },
  {
   "cell_type": "code",
   "execution_count": 34,
   "metadata": {},
   "outputs": [
    {
     "name": "stdout",
     "output_type": "stream",
     "text": [
      "[[284 116]\n",
      " [157 221]]\n",
      "              precision    recall  f1-score   support\n",
      "\n",
      "           0       0.64      0.71      0.68       400\n",
      "           1       0.66      0.58      0.62       378\n",
      "\n",
      "    accuracy                           0.65       778\n",
      "   macro avg       0.65      0.65      0.65       778\n",
      "weighted avg       0.65      0.65      0.65       778\n",
      "\n"
     ]
    },
    {
     "data": {
      "text/plain": [
       "0.6473280423280422"
      ]
     },
     "execution_count": 34,
     "metadata": {},
     "output_type": "execute_result"
    }
   ],
   "source": [
    "#prediction with best param\n",
    "final_model = grid_search.best_estimator_\n",
    "y_pred = final_model.predict(x_test)\n",
    "print(confusion_matrix(y_test, y_pred))\n",
    "print(classification_report(y_test, y_pred))\n",
    "from sklearn.metrics import roc_auc_score\n",
    "roc_auc_score(y_test, y_pred)"
   ]
  },
  {
   "cell_type": "code",
   "execution_count": 35,
   "metadata": {},
   "outputs": [],
   "source": [
    "clf = RandomForestClassifier(n_jobs=-1)\n",
    "\n",
    "param_grid = {\n",
    "    'min_samples_split': [3, 5, 10], \n",
    "    'n_estimators' : [100, 300],\n",
    "    'max_depth': [3, 5, 15, 25],\n",
    "    'max_features': [3, 5, 10, 20]\n",
    "}\n",
    "\n",
    "scorers = {\n",
    "    'precision_score': make_scorer(precision_score),\n",
    "    'recall_score': make_scorer(recall_score),\n",
    "    'accuracy_score': make_scorer(accuracy_score)\n",
    "}"
   ]
  },
  {
   "cell_type": "code",
   "execution_count": 36,
   "metadata": {},
   "outputs": [],
   "source": [
    "def grid_search_wrapper(refit_score='precision_score'):\n",
    "    \"\"\"\n",
    "    fits a GridSearchCV classifier using refit_score for optimization\n",
    "    prints classifier performance metrics\n",
    "    \"\"\"\n",
    "    skf = StratifiedKFold(n_splits=10)\n",
    "    grid_search = GridSearchCV(clf, param_grid, scoring=scorers, refit=refit_score,\n",
    "                           cv=skf, return_train_score=True, n_jobs=-1)\n",
    "    grid_search.fit(x_train.values, y_train.values)\n",
    "\n",
    "    # make the predictions\n",
    "    y_pred = grid_search.predict(x_test.values)\n",
    "\n",
    "    print('Best params for {}'.format(refit_score))\n",
    "    print(grid_search.best_params_)\n",
    "\n",
    "    # confusion matrix on the test data.\n",
    "    print('\\nConfusion matrix of Random Forest optimized for {} on the test data:'.format(refit_score))\n",
    "    print(pd.DataFrame(confusion_matrix(y_test, y_pred),\n",
    "                 columns=['pred_neg', 'pred_pos'], index=['neg', 'pos']))\n",
    "    return grid_search"
   ]
  },
  {
   "cell_type": "code",
   "execution_count": 37,
   "metadata": {},
   "outputs": [
    {
     "name": "stdout",
     "output_type": "stream",
     "text": [
      "Best params for recall_score\n",
      "{'max_depth': 25, 'max_features': 20, 'min_samples_split': 3, 'n_estimators': 100}\n",
      "\n",
      "Confusion matrix of Random Forest optimized for recall_score on the test data:\n",
      "     pred_neg  pred_pos\n",
      "neg       274       126\n",
      "pos       151       227\n"
     ]
    }
   ],
   "source": [
    "grid_search_clf = grid_search_wrapper(refit_score='recall_score')\n"
   ]
  },
  {
   "cell_type": "code",
   "execution_count": 38,
   "metadata": {},
   "outputs": [
    {
     "data": {
      "text/html": [
       "<div>\n",
       "<style scoped>\n",
       "    .dataframe tbody tr th:only-of-type {\n",
       "        vertical-align: middle;\n",
       "    }\n",
       "\n",
       "    .dataframe tbody tr th {\n",
       "        vertical-align: top;\n",
       "    }\n",
       "\n",
       "    .dataframe thead th {\n",
       "        text-align: right;\n",
       "    }\n",
       "</style>\n",
       "<table border=\"1\" class=\"dataframe\">\n",
       "  <thead>\n",
       "    <tr style=\"text-align: right;\">\n",
       "      <th></th>\n",
       "      <th>mean_test_precision_score</th>\n",
       "      <th>mean_test_recall_score</th>\n",
       "      <th>mean_test_accuracy_score</th>\n",
       "      <th>param_max_depth</th>\n",
       "      <th>param_max_features</th>\n",
       "      <th>param_min_samples_split</th>\n",
       "      <th>param_n_estimators</th>\n",
       "    </tr>\n",
       "  </thead>\n",
       "  <tbody>\n",
       "    <tr>\n",
       "      <th>75</th>\n",
       "      <td>0.688</td>\n",
       "      <td>0.572</td>\n",
       "      <td>0.665</td>\n",
       "      <td>25</td>\n",
       "      <td>3</td>\n",
       "      <td>5</td>\n",
       "      <td>300</td>\n",
       "    </tr>\n",
       "    <tr>\n",
       "      <th>77</th>\n",
       "      <td>0.687</td>\n",
       "      <td>0.577</td>\n",
       "      <td>0.666</td>\n",
       "      <td>25</td>\n",
       "      <td>3</td>\n",
       "      <td>10</td>\n",
       "      <td>300</td>\n",
       "    </tr>\n",
       "    <tr>\n",
       "      <th>55</th>\n",
       "      <td>0.685</td>\n",
       "      <td>0.567</td>\n",
       "      <td>0.662</td>\n",
       "      <td>15</td>\n",
       "      <td>5</td>\n",
       "      <td>3</td>\n",
       "      <td>300</td>\n",
       "    </tr>\n",
       "    <tr>\n",
       "      <th>49</th>\n",
       "      <td>0.685</td>\n",
       "      <td>0.553</td>\n",
       "      <td>0.658</td>\n",
       "      <td>15</td>\n",
       "      <td>3</td>\n",
       "      <td>3</td>\n",
       "      <td>300</td>\n",
       "    </tr>\n",
       "    <tr>\n",
       "      <th>38</th>\n",
       "      <td>0.684</td>\n",
       "      <td>0.544</td>\n",
       "      <td>0.656</td>\n",
       "      <td>5</td>\n",
       "      <td>10</td>\n",
       "      <td>5</td>\n",
       "      <td>100</td>\n",
       "    </tr>\n",
       "  </tbody>\n",
       "</table>\n",
       "</div>"
      ],
      "text/plain": [
       "    mean_test_precision_score  mean_test_recall_score  \\\n",
       "75                      0.688                   0.572   \n",
       "77                      0.687                   0.577   \n",
       "55                      0.685                   0.567   \n",
       "49                      0.685                   0.553   \n",
       "38                      0.684                   0.544   \n",
       "\n",
       "    mean_test_accuracy_score param_max_depth param_max_features  \\\n",
       "75                     0.665              25                  3   \n",
       "77                     0.666              25                  3   \n",
       "55                     0.662              15                  5   \n",
       "49                     0.658              15                  3   \n",
       "38                     0.656               5                 10   \n",
       "\n",
       "   param_min_samples_split param_n_estimators  \n",
       "75                       5                300  \n",
       "77                      10                300  \n",
       "55                       3                300  \n",
       "49                       3                300  \n",
       "38                       5                100  "
      ]
     },
     "execution_count": 38,
     "metadata": {},
     "output_type": "execute_result"
    }
   ],
   "source": [
    "results = pd.DataFrame(grid_search_clf.cv_results_)\n",
    "results = results.sort_values(by='mean_test_precision_score', ascending=False)\n",
    "results[['mean_test_precision_score', 'mean_test_recall_score', 'mean_test_accuracy_score', 'param_max_depth', 'param_max_features', 'param_min_samples_split', 'param_n_estimators']].round(3).head()"
   ]
  },
  {
   "cell_type": "code",
   "execution_count": 39,
   "metadata": {
    "scrolled": true
   },
   "outputs": [
    {
     "name": "stdout",
     "output_type": "stream",
     "text": [
      "[[274 126]\n",
      " [151 227]]\n",
      "              precision    recall  f1-score   support\n",
      "\n",
      "           0       0.64      0.69      0.66       400\n",
      "           1       0.64      0.60      0.62       378\n",
      "\n",
      "    accuracy                           0.64       778\n",
      "   macro avg       0.64      0.64      0.64       778\n",
      "weighted avg       0.64      0.64      0.64       778\n",
      "\n"
     ]
    },
    {
     "data": {
      "text/plain": [
       "0.6427645502645503"
      ]
     },
     "execution_count": 39,
     "metadata": {},
     "output_type": "execute_result"
    }
   ],
   "source": [
    "#prediction with best param\n",
    "final_model = grid_search_clf.best_estimator_\n",
    "y_pred = final_model.predict(x_test)\n",
    "print(confusion_matrix(y_test, y_pred))\n",
    "print(classification_report(y_test, y_pred))\n",
    "from sklearn.metrics import roc_auc_score\n",
    "roc_auc_score(y_test, y_pred)"
   ]
  },
  {
   "cell_type": "markdown",
   "metadata": {},
   "source": [
    "###  Build XG-Boost model"
   ]
  },
  {
   "cell_type": "code",
   "execution_count": 40,
   "metadata": {},
   "outputs": [
    {
     "name": "stdout",
     "output_type": "stream",
     "text": [
      "Requirement already satisfied: xgboost in c:\\users\\yhy01\\anaconda3\\lib\\site-packages (1.3.3)\n",
      "Requirement already satisfied: scipy in c:\\users\\yhy01\\anaconda3\\lib\\site-packages (from xgboost) (1.5.2)\n",
      "Requirement already satisfied: numpy in c:\\users\\yhy01\\anaconda3\\lib\\site-packages (from xgboost) (1.19.2)\n"
     ]
    }
   ],
   "source": [
    "!pip install xgboost"
   ]
  },
  {
   "cell_type": "code",
   "execution_count": 41,
   "metadata": {},
   "outputs": [
    {
     "name": "stderr",
     "output_type": "stream",
     "text": [
      "C:\\Users\\yhy01\\Anaconda3\\lib\\site-packages\\xgboost\\sklearn.py:888: UserWarning: The use of label encoder in XGBClassifier is deprecated and will be removed in a future release. To remove this warning, do the following: 1) Pass option use_label_encoder=False when constructing XGBClassifier object; and 2) Encode your labels (y) as integers starting with 0, i.e. 0, 1, 2, ..., [num_class - 1].\n",
      "  warnings.warn(label_encoder_deprecation_msg, UserWarning)\n"
     ]
    },
    {
     "name": "stdout",
     "output_type": "stream",
     "text": [
      "[17:41:20] WARNING: C:/Users/Administrator/workspace/xgboost-win64_release_1.3.0/src/learner.cc:1061: Starting in XGBoost 1.3.0, the default evaluation metric used with the objective 'binary:logistic' was changed from 'error' to 'logloss'. Explicitly set eval_metric if you'd like to restore the old behavior.\n"
     ]
    }
   ],
   "source": [
    "from xgboost import XGBClassifier\n",
    "xgb = XGBClassifier()\n",
    "xgb.fit(x_train,y_train)\n",
    "y_pred = xgb.predict(x_test)"
   ]
  },
  {
   "cell_type": "code",
   "execution_count": 42,
   "metadata": {},
   "outputs": [
    {
     "name": "stdout",
     "output_type": "stream",
     "text": [
      "[[256 144]\n",
      " [148 230]]\n",
      "              precision    recall  f1-score   support\n",
      "\n",
      "           0       0.63      0.64      0.64       400\n",
      "           1       0.61      0.61      0.61       378\n",
      "\n",
      "    accuracy                           0.62       778\n",
      "   macro avg       0.62      0.62      0.62       778\n",
      "weighted avg       0.62      0.62      0.62       778\n",
      "\n",
      "0.6242328042328043\n"
     ]
    }
   ],
   "source": [
    "print(confusion_matrix(y_test, y_pred))\n",
    "print(classification_report(y_test, y_pred))\n",
    "from sklearn.metrics import roc_auc_score\n",
    "print(roc_auc_score(y_test, y_pred))\n",
    "fpr, tpr, _ = roc_curve(y_test,  y_pred)\n",
    "auc = roc_auc_score(y_test,  y_pred)\n",
    "    \n",
    "result_table = result_table.append({'classifiers':'XG-Boost',\n",
    "                                    'fpr':fpr, \n",
    "                                   'tpr':tpr, \n",
    "                                    'auc':auc}, ignore_index=True)\n",
    "\n",
    "from sklearn.metrics import precision_recall_curve\n",
    "precision, recall, thresholds = precision_recall_curve(y_test, y_pred)\n",
    "pr_table = pr_table.append({'classifiers':'XG-Boost',\n",
    "                                    'Recall':recall, \n",
    "                                    'Precision':precision}, ignore_index=True)"
   ]
  },
  {
   "cell_type": "code",
   "execution_count": 43,
   "metadata": {},
   "outputs": [
    {
     "name": "stderr",
     "output_type": "stream",
     "text": [
      "C:\\Users\\yhy01\\Anaconda3\\lib\\site-packages\\xgboost\\sklearn.py:888: UserWarning: The use of label encoder in XGBClassifier is deprecated and will be removed in a future release. To remove this warning, do the following: 1) Pass option use_label_encoder=False when constructing XGBClassifier object; and 2) Encode your labels (y) as integers starting with 0, i.e. 0, 1, 2, ..., [num_class - 1].\n",
      "  warnings.warn(label_encoder_deprecation_msg, UserWarning)\n"
     ]
    },
    {
     "name": "stdout",
     "output_type": "stream",
     "text": [
      "[17:41:22] WARNING: C:/Users/Administrator/workspace/xgboost-win64_release_1.3.0/src/learner.cc:1061: Starting in XGBoost 1.3.0, the default evaluation metric used with the objective 'binary:logistic' was changed from 'error' to 'logloss'. Explicitly set eval_metric if you'd like to restore the old behavior.\n"
     ]
    },
    {
     "name": "stderr",
     "output_type": "stream",
     "text": [
      "C:\\Users\\yhy01\\Anaconda3\\lib\\site-packages\\xgboost\\sklearn.py:888: UserWarning: The use of label encoder in XGBClassifier is deprecated and will be removed in a future release. To remove this warning, do the following: 1) Pass option use_label_encoder=False when constructing XGBClassifier object; and 2) Encode your labels (y) as integers starting with 0, i.e. 0, 1, 2, ..., [num_class - 1].\n",
      "  warnings.warn(label_encoder_deprecation_msg, UserWarning)\n"
     ]
    },
    {
     "name": "stdout",
     "output_type": "stream",
     "text": [
      "[17:41:24] WARNING: C:/Users/Administrator/workspace/xgboost-win64_release_1.3.0/src/learner.cc:1061: Starting in XGBoost 1.3.0, the default evaluation metric used with the objective 'binary:logistic' was changed from 'error' to 'logloss'. Explicitly set eval_metric if you'd like to restore the old behavior.\n"
     ]
    },
    {
     "name": "stderr",
     "output_type": "stream",
     "text": [
      "C:\\Users\\yhy01\\Anaconda3\\lib\\site-packages\\xgboost\\sklearn.py:888: UserWarning: The use of label encoder in XGBClassifier is deprecated and will be removed in a future release. To remove this warning, do the following: 1) Pass option use_label_encoder=False when constructing XGBClassifier object; and 2) Encode your labels (y) as integers starting with 0, i.e. 0, 1, 2, ..., [num_class - 1].\n",
      "  warnings.warn(label_encoder_deprecation_msg, UserWarning)\n"
     ]
    },
    {
     "name": "stdout",
     "output_type": "stream",
     "text": [
      "[17:41:25] WARNING: C:/Users/Administrator/workspace/xgboost-win64_release_1.3.0/src/learner.cc:1061: Starting in XGBoost 1.3.0, the default evaluation metric used with the objective 'binary:logistic' was changed from 'error' to 'logloss'. Explicitly set eval_metric if you'd like to restore the old behavior.\n"
     ]
    },
    {
     "name": "stderr",
     "output_type": "stream",
     "text": [
      "C:\\Users\\yhy01\\Anaconda3\\lib\\site-packages\\xgboost\\sklearn.py:888: UserWarning: The use of label encoder in XGBClassifier is deprecated and will be removed in a future release. To remove this warning, do the following: 1) Pass option use_label_encoder=False when constructing XGBClassifier object; and 2) Encode your labels (y) as integers starting with 0, i.e. 0, 1, 2, ..., [num_class - 1].\n",
      "  warnings.warn(label_encoder_deprecation_msg, UserWarning)\n"
     ]
    },
    {
     "name": "stdout",
     "output_type": "stream",
     "text": [
      "[17:41:27] WARNING: C:/Users/Administrator/workspace/xgboost-win64_release_1.3.0/src/learner.cc:1061: Starting in XGBoost 1.3.0, the default evaluation metric used with the objective 'binary:logistic' was changed from 'error' to 'logloss'. Explicitly set eval_metric if you'd like to restore the old behavior.\n"
     ]
    },
    {
     "name": "stderr",
     "output_type": "stream",
     "text": [
      "C:\\Users\\yhy01\\Anaconda3\\lib\\site-packages\\xgboost\\sklearn.py:888: UserWarning: The use of label encoder in XGBClassifier is deprecated and will be removed in a future release. To remove this warning, do the following: 1) Pass option use_label_encoder=False when constructing XGBClassifier object; and 2) Encode your labels (y) as integers starting with 0, i.e. 0, 1, 2, ..., [num_class - 1].\n",
      "  warnings.warn(label_encoder_deprecation_msg, UserWarning)\n"
     ]
    },
    {
     "name": "stdout",
     "output_type": "stream",
     "text": [
      "[17:41:28] WARNING: C:/Users/Administrator/workspace/xgboost-win64_release_1.3.0/src/learner.cc:1061: Starting in XGBoost 1.3.0, the default evaluation metric used with the objective 'binary:logistic' was changed from 'error' to 'logloss'. Explicitly set eval_metric if you'd like to restore the old behavior.\n"
     ]
    },
    {
     "name": "stderr",
     "output_type": "stream",
     "text": [
      "C:\\Users\\yhy01\\Anaconda3\\lib\\site-packages\\xgboost\\sklearn.py:888: UserWarning: The use of label encoder in XGBClassifier is deprecated and will be removed in a future release. To remove this warning, do the following: 1) Pass option use_label_encoder=False when constructing XGBClassifier object; and 2) Encode your labels (y) as integers starting with 0, i.e. 0, 1, 2, ..., [num_class - 1].\n",
      "  warnings.warn(label_encoder_deprecation_msg, UserWarning)\n"
     ]
    },
    {
     "name": "stdout",
     "output_type": "stream",
     "text": [
      "[17:41:30] WARNING: C:/Users/Administrator/workspace/xgboost-win64_release_1.3.0/src/learner.cc:1061: Starting in XGBoost 1.3.0, the default evaluation metric used with the objective 'binary:logistic' was changed from 'error' to 'logloss'. Explicitly set eval_metric if you'd like to restore the old behavior.\n"
     ]
    },
    {
     "name": "stderr",
     "output_type": "stream",
     "text": [
      "C:\\Users\\yhy01\\Anaconda3\\lib\\site-packages\\xgboost\\sklearn.py:888: UserWarning: The use of label encoder in XGBClassifier is deprecated and will be removed in a future release. To remove this warning, do the following: 1) Pass option use_label_encoder=False when constructing XGBClassifier object; and 2) Encode your labels (y) as integers starting with 0, i.e. 0, 1, 2, ..., [num_class - 1].\n",
      "  warnings.warn(label_encoder_deprecation_msg, UserWarning)\n"
     ]
    },
    {
     "name": "stdout",
     "output_type": "stream",
     "text": [
      "[17:41:31] WARNING: C:/Users/Administrator/workspace/xgboost-win64_release_1.3.0/src/learner.cc:1061: Starting in XGBoost 1.3.0, the default evaluation metric used with the objective 'binary:logistic' was changed from 'error' to 'logloss'. Explicitly set eval_metric if you'd like to restore the old behavior.\n"
     ]
    },
    {
     "name": "stderr",
     "output_type": "stream",
     "text": [
      "C:\\Users\\yhy01\\Anaconda3\\lib\\site-packages\\xgboost\\sklearn.py:888: UserWarning: The use of label encoder in XGBClassifier is deprecated and will be removed in a future release. To remove this warning, do the following: 1) Pass option use_label_encoder=False when constructing XGBClassifier object; and 2) Encode your labels (y) as integers starting with 0, i.e. 0, 1, 2, ..., [num_class - 1].\n",
      "  warnings.warn(label_encoder_deprecation_msg, UserWarning)\n"
     ]
    },
    {
     "name": "stdout",
     "output_type": "stream",
     "text": [
      "[17:41:33] WARNING: C:/Users/Administrator/workspace/xgboost-win64_release_1.3.0/src/learner.cc:1061: Starting in XGBoost 1.3.0, the default evaluation metric used with the objective 'binary:logistic' was changed from 'error' to 'logloss'. Explicitly set eval_metric if you'd like to restore the old behavior.\n"
     ]
    },
    {
     "name": "stderr",
     "output_type": "stream",
     "text": [
      "C:\\Users\\yhy01\\Anaconda3\\lib\\site-packages\\xgboost\\sklearn.py:888: UserWarning: The use of label encoder in XGBClassifier is deprecated and will be removed in a future release. To remove this warning, do the following: 1) Pass option use_label_encoder=False when constructing XGBClassifier object; and 2) Encode your labels (y) as integers starting with 0, i.e. 0, 1, 2, ..., [num_class - 1].\n",
      "  warnings.warn(label_encoder_deprecation_msg, UserWarning)\n"
     ]
    },
    {
     "name": "stdout",
     "output_type": "stream",
     "text": [
      "[17:41:35] WARNING: C:/Users/Administrator/workspace/xgboost-win64_release_1.3.0/src/learner.cc:1061: Starting in XGBoost 1.3.0, the default evaluation metric used with the objective 'binary:logistic' was changed from 'error' to 'logloss'. Explicitly set eval_metric if you'd like to restore the old behavior.\n"
     ]
    },
    {
     "name": "stderr",
     "output_type": "stream",
     "text": [
      "C:\\Users\\yhy01\\Anaconda3\\lib\\site-packages\\xgboost\\sklearn.py:888: UserWarning: The use of label encoder in XGBClassifier is deprecated and will be removed in a future release. To remove this warning, do the following: 1) Pass option use_label_encoder=False when constructing XGBClassifier object; and 2) Encode your labels (y) as integers starting with 0, i.e. 0, 1, 2, ..., [num_class - 1].\n",
      "  warnings.warn(label_encoder_deprecation_msg, UserWarning)\n"
     ]
    },
    {
     "name": "stdout",
     "output_type": "stream",
     "text": [
      "[17:41:36] WARNING: C:/Users/Administrator/workspace/xgboost-win64_release_1.3.0/src/learner.cc:1061: Starting in XGBoost 1.3.0, the default evaluation metric used with the objective 'binary:logistic' was changed from 'error' to 'logloss'. Explicitly set eval_metric if you'd like to restore the old behavior.\n",
      "0.6536407321815046\n"
     ]
    }
   ],
   "source": [
    "from sklearn import model_selection\n",
    "from sklearn.ensemble import VotingClassifier\n",
    "kfold = model_selection.KFold(n_splits=10)\n",
    "# create the sub models\n",
    "estimators = []\n",
    "model1 = KNeighborsClassifier()\n",
    "estimators.append(('KNN', model1))\n",
    "model2 = SVC(kernel='rbf', gamma= 'auto')\n",
    "estimators.append(('SVC', model2))\n",
    "model3 = RandomForestClassifier()\n",
    "estimators.append(('RF', model3))\n",
    "model4 = XGBClassifier()\n",
    "estimators.append(('XGB', model4))\n",
    "# create the ensemble model\n",
    "ensemble = VotingClassifier(estimators)\n",
    "results = model_selection.cross_val_score(ensemble, x_train, y_train, cv=kfold)\n",
    "print(results.mean())"
   ]
  },
  {
   "cell_type": "code",
   "execution_count": 44,
   "metadata": {},
   "outputs": [
    {
     "data": {
      "image/png": "[encoded data removed]",
      "text/plain": [
       "<Figure size 576x432 with 1 Axes>"
      ]
     },
     "metadata": {
      "needs_background": "light"
     },
     "output_type": "display_data"
    }
   ],
   "source": [
    "fig = plt.figure(figsize=(8,6))\n",
    "\n",
    "for i in result_table.index:\n",
    "    plt.plot(result_table.loc[i]['fpr'], \n",
    "             result_table.loc[i]['tpr'], \n",
    "             label=\"{}, AUC={:.3f}\".format(i, result_table.loc[i]['auc']))\n",
    "    \n",
    "plt.plot([0,1], [0,1], color='red', linestyle='--')\n",
    "\n",
    "plt.xticks(np.arange(0.0, 1.1, step=0.1))\n",
    "plt.xlabel(\"Flase Positive Rate\", fontsize=15)\n",
    "\n",
    "plt.yticks(np.arange(0.0, 1.1, step=0.1))\n",
    "plt.ylabel(\"True Positive Rate\", fontsize=15)\n",
    "\n",
    "plt.title('ROC Curve Analysis', fontweight='bold', fontsize=15)\n",
    "plt.legend(prop={'size':13}, loc='lower right')\n",
    "\n",
    "plt.show()"
   ]
  },
  {
   "cell_type": "code",
   "execution_count": 45,
   "metadata": {},
   "outputs": [
    {
     "data": {
      "image/png": "[encoded data removed]",
      "text/plain": [
       "<Figure size 576x432 with 1 Axes>"
      ]
     },
     "metadata": {
      "needs_background": "light"
     },
     "output_type": "display_data"
    }
   ],
   "source": [
    "fig = plt.figure(figsize=(8,6))\n",
    "\n",
    "for i in pr_table.index:\n",
    "    plt.plot(pr_table.loc[i]['Recall'], \n",
    "             pr_table.loc[i]['Precision'],label=\"{}\".format(i))\n",
    "    \n",
    "# for i in result_table.index:\n",
    "#     plt.plot(result_table.loc[i]['fpr'], \n",
    "#              result_table.loc[i]['tpr'], \n",
    "#              label=\"{}, AUC={:.3f}\".format(i, result_table.loc[i]['auc']))\n",
    "    \n",
    "    \n",
    "    #plt.plot([0,1], [0,1], color='red', linestyle='--')\n",
    "\n",
    "plt.xticks(np.arange(0.0, 1.1, step=0.1))\n",
    "plt.xlabel(\"Recall\", fontsize=15)\n",
    "\n",
    "plt.yticks(np.arange(0.0, 1.1, step=0.1))\n",
    "plt.ylabel(\"Precision\", fontsize=15)\n",
    "\n",
    "plt.title('Precision-Recall Curve', fontweight='bold', fontsize=15)\n",
    "plt.legend(prop={'size':13}, loc='lower right')\n",
    "\n",
    "plt.show()"
   ]
  },
  {
   "cell_type": "code",
   "execution_count": 55,
   "metadata": {},
   "outputs": [
    {
     "name": "stdout",
     "output_type": "stream",
     "text": [
      "Random Forest feature importance\n",
      "Feature: GENDER_1, Score: 0.01326\n",
      "Feature: GENDER_2, Score: 0.01333\n",
      "Feature: MARITLST_1, Score: 0.00535\n",
      "Feature: MARITLST_2, Score: 0.00261\n",
      "Feature: MARITLST_3, Score: 0.00140\n",
      "Feature: MARITLST_4, Score: 0.00515\n",
      "Feature: MARITLST_5, Score: 0.00793\n",
      "Feature: MARITLST_6, Score: 0.00254\n",
      "Feature: SPARTNER_-3, Score: 0.00418\n",
      "Feature: SPARTNER_0, Score: 0.00225\n",
      "Feature: SPARTNER_1, Score: 0.00205\n",
      "Feature: OTHER_IMP_-2, Score: 0.00037\n",
      "Feature: OTHER_IMP_-1, Score: 0.00016\n",
      "Feature: OTHER_IMP_0, Score: 0.01502\n",
      "Feature: OTHER_IMP_1, Score: 0.01454\n",
      "Feature: OTHER_HH_-2, Score: 0.00004\n",
      "Feature: OTHER_HH_0, Score: 0.01095\n",
      "Feature: OTHER_HH_1, Score: 0.01102\n",
      "Feature: RLTHAPPY_-3, Score: 0.00217\n",
      "Feature: RLTHAPPY_-2, Score: 0.00015\n",
      "Feature: RLTHAPPY_-1, Score: 0.00000\n",
      "Feature: RLTHAPPY_1, Score: 0.00202\n",
      "Feature: RLTHAPPY_2, Score: 0.00047\n",
      "Feature: RLTHAPPY_3, Score: 0.00056\n",
      "Feature: RLTHAPPY_4, Score: 0.00270\n",
      "Feature: RLTHAPPY_5, Score: 0.00544\n",
      "Feature: RLTHAPPY_6, Score: 0.00832\n",
      "Feature: RLTHAPPY_7, Score: 0.00915\n",
      "Feature: SPTIME_-3, Score: 0.00222\n",
      "Feature: SPTIME_-2, Score: 0.00055\n",
      "Feature: SPTIME_-1, Score: 0.00001\n",
      "Feature: SPTIME_1, Score: 0.01127\n",
      "Feature: SPTIME_2, Score: 0.01282\n",
      "Feature: SPTIME_3, Score: 0.00660\n",
      "Feature: SPOPEN2_-3, Score: 0.00228\n",
      "Feature: SPOPEN2_-2, Score: 0.00031\n",
      "Feature: SPOPEN2_0, Score: 0.00077\n",
      "Feature: SPOPEN2_1, Score: 0.00204\n",
      "Feature: SPOPEN2_2, Score: 0.00791\n",
      "Feature: SPOPEN2_3, Score: 0.00824\n",
      "Feature: SPRELY2_-3, Score: 0.00233\n",
      "Feature: SPRELY2_-2, Score: 0.00015\n",
      "Feature: SPRELY2_-1, Score: 0.00000\n",
      "Feature: SPRELY2_0, Score: 0.00060\n",
      "Feature: SPRELY2_1, Score: 0.00114\n",
      "Feature: SPRELY2_2, Score: 0.00540\n",
      "Feature: SPRELY2_3, Score: 0.00657\n",
      "Feature: SPDEMAND2_-3, Score: 0.00234\n",
      "Feature: SPDEMAND2_-2, Score: 0.00019\n",
      "Feature: SPDEMAND2_0, Score: 0.00931\n",
      "Feature: SPDEMAND2_1, Score: 0.01111\n",
      "Feature: SPDEMAND2_2, Score: 0.00933\n",
      "Feature: SPDEMAND2_3, Score: 0.00611\n",
      "Feature: SPCRITZE2_-3, Score: 0.00260\n",
      "Feature: SPCRITZE2_-2, Score: 0.00022\n",
      "Feature: SPCRITZE2_0, Score: 0.00967\n",
      "Feature: SPCRITZE2_1, Score: 0.01319\n",
      "Feature: SPCRITZE2_2, Score: 0.00989\n",
      "Feature: SPCRITZE2_3, Score: 0.00546\n",
      "Feature: FAMOPEN2_-2, Score: 0.00073\n",
      "Feature: FAMOPEN2_-1, Score: 0.00015\n",
      "Feature: FAMOPEN2_0, Score: 0.00488\n",
      "Feature: FAMOPEN2_1, Score: 0.00949\n",
      "Feature: FAMOPEN2_2, Score: 0.01428\n",
      "Feature: FAMOPEN2_3, Score: 0.01532\n",
      "Feature: FAMOPEN2_4, Score: 0.00088\n",
      "Feature: FAMRELY2_-3, Score: 0.00087\n",
      "Feature: FAMRELY2_-2, Score: 0.00062\n",
      "Feature: FAMRELY2_0, Score: 0.00321\n",
      "Feature: FAMRELY2_1, Score: 0.00549\n",
      "Feature: FAMRELY2_2, Score: 0.01126\n",
      "Feature: FAMRELY2_3, Score: 0.01285\n",
      "Feature: FAMDEMAN2_-3, Score: 0.00090\n",
      "Feature: FAMDEMAN2_-2, Score: 0.00011\n",
      "Feature: FAMDEMAN2_0, Score: 0.01557\n",
      "Feature: FAMDEMAN2_1, Score: 0.01432\n",
      "Feature: FAMDEMAN2_2, Score: 0.00986\n",
      "Feature: FAMDEMAN2_3, Score: 0.00517\n",
      "Feature: FAMCRITZ2_-3, Score: 0.00095\n",
      "Feature: FAMCRITZ2_-2, Score: 0.00213\n",
      "Feature: FAMCRITZ2_-1, Score: 0.00000\n",
      "Feature: FAMCRITZ2_0, Score: 0.01406\n",
      "Feature: FAMCRITZ2_1, Score: 0.01594\n",
      "Feature: FAMCRITZ2_2, Score: 0.01070\n",
      "Feature: FAMCRITZ2_3, Score: 0.00394\n",
      "Feature: FROPEN2_-2, Score: 0.00025\n",
      "Feature: FROPEN2_-1, Score: 0.00006\n",
      "Feature: FROPEN2_0, Score: 0.00974\n",
      "Feature: FROPEN2_1, Score: 0.01095\n",
      "Feature: FROPEN2_2, Score: 0.01562\n",
      "Feature: FROPEN2_3, Score: 0.01468\n",
      "Feature: FROPEN2_4, Score: 0.00098\n",
      "Feature: FRRELY2_-3, Score: 0.00100\n",
      "Feature: FRRELY2_-2, Score: 0.00073\n",
      "Feature: FRRELY2_0, Score: 0.01021\n",
      "Feature: FRRELY2_1, Score: 0.01013\n",
      "Feature: FRRELY2_2, Score: 0.01374\n",
      "Feature: FRRELY2_3, Score: 0.01683\n",
      "Feature: FRDEMN2_-3, Score: 0.00095\n",
      "Feature: FRDEMN2_-2, Score: 0.00013\n",
      "Feature: FRDEMN2_-1, Score: 0.00004\n",
      "Feature: FRDEMN2_0, Score: 0.01240\n",
      "Feature: FRDEMN2_1, Score: 0.01630\n",
      "Feature: FRDEMN2_2, Score: 0.00556\n",
      "Feature: FRDEMN2_3, Score: 0.00232\n",
      "Feature: FRCRITZ2_-3, Score: 0.00095\n",
      "Feature: FRCRITZ2_-2, Score: 0.00506\n",
      "Feature: FRCRITZ2_0, Score: 0.01214\n",
      "Feature: FRCRITZ2_1, Score: 0.02112\n",
      "Feature: FRCRITZ2_2, Score: 0.00599\n",
      "Feature: FRCRITZ2_3, Score: 0.00150\n",
      "Feature: FRAMT_-3, Score: 0.00099\n",
      "Feature: FRAMT_-2, Score: 0.00061\n",
      "Feature: FRAMT_-1, Score: 0.00004\n",
      "Feature: FRAMT_0, Score: 0.00452\n",
      "Feature: FRAMT_1, Score: 0.00557\n",
      "Feature: FRAMT_2, Score: 0.01198\n",
      "Feature: FRAMT_3, Score: 0.01571\n",
      "Feature: FRAMT_4, Score: 0.01454\n",
      "Feature: FRAMT_5, Score: 0.01340\n",
      "Feature: PAR_NERVE_-4, Score: 0.00141\n",
      "Feature: PAR_NERVE_-3, Score: 0.00545\n",
      "Feature: PAR_NERVE_0, Score: 0.00524\n",
      "Feature: PAR_NERVE_1, Score: 0.01138\n",
      "Feature: PAR_NERVE_2, Score: 0.00961\n",
      "Feature: PAR_NERVE_3, Score: 0.00327\n",
      "Feature: FAM_NERVE_-5, Score: 0.00452\n",
      "Feature: FAM_NERVE_-4, Score: 0.00136\n",
      "Feature: FAM_NERVE_0, Score: 0.00912\n",
      "Feature: FAM_NERVE_1, Score: 0.02094\n",
      "Feature: FAM_NERVE_2, Score: 0.01198\n",
      "Feature: FAM_NERVE_3, Score: 0.00292\n",
      "Feature: FR_NERVE_-5, Score: 0.00454\n",
      "Feature: FR_NERVE_-4, Score: 0.00113\n",
      "Feature: FR_NERVE_0, Score: 0.00933\n",
      "Feature: FR_NERVE_1, Score: 0.03078\n",
      "Feature: FR_NERVE_2, Score: 0.00990\n",
      "Feature: FR_NERVE_3, Score: 0.00071\n",
      "Feature: PAR_THREAT_-4, Score: 0.00097\n",
      "Feature: PAR_THREAT_-3, Score: 0.00487\n",
      "Feature: PAR_THREAT_0, Score: 0.00682\n",
      "Feature: PAR_THREAT_1, Score: 0.00416\n",
      "Feature: PAR_THREAT_2, Score: 0.00168\n",
      "Feature: PAR_THREAT_3, Score: 0.00051\n",
      "Feature: FAMFRTHREAT_-5, Score: 0.00451\n",
      "Feature: FAMFRTHREAT_-4, Score: 0.00111\n",
      "Feature: FAMFRTHREAT_0, Score: 0.00900\n",
      "Feature: FAMFRTHREAT_1, Score: 0.00651\n",
      "Feature: FAMFRTHREAT_2, Score: 0.00243\n",
      "Feature: FAMFRTHREAT_3, Score: 0.00031\n",
      "Feature: AGE, Score: 0.08935\n"
     ]
    },
    {
     "data": {
      "text/plain": [
       "<AxesSubplot:>"
      ]
     },
     "execution_count": 55,
     "metadata": {},
     "output_type": "execute_result"
    },
    {
     "data": {
      "image/png": "[encoded data removed]",
      "text/plain": [
       "<Figure size 2880x720 with 1 Axes>"
      ]
     },
     "metadata": {
      "needs_background": "light"
     },
     "output_type": "display_data"
    }
   ],
   "source": [
    "print(\"Random Forest feature importance\")\n",
    "\n",
    "model = rf_cv\n",
    "for feature, importance in zip(data_onehot.columns, model.feature_importances_):\n",
    "\tprint('Feature: %0s, Score: %.5f' % (feature,importance))\n",
    "feats = {} # a dict to hold feature_name: feature_importance\n",
    "for feature, importance in zip(data_onehot.columns, model.feature_importances_):\n",
    "    feats[feature] = importance #add the name/value pair \n",
    "\n",
    "import matplotlib.pyplot as plt\n",
    "plt.rcParams['figure.figsize'] = [40, 10]\n",
    "importances = pd.DataFrame.from_dict(feats, orient='index').rename(columns={0: 'Gini-importance'})\n",
    "importances.sort_values(by='Gini-importance').plot(kind='bar', fontsize = 8, rot='vertical')"
   ]
  },
  {
   "cell_type": "code",
   "execution_count": 47,
   "metadata": {},
   "outputs": [],
   "source": [
    "import tensorflow as tf\n",
    "from tensorflow import keras"
   ]
  },
  {
   "cell_type": "code",
   "execution_count": 48,
   "metadata": {},
   "outputs": [],
   "source": [
    "from  tensorflow.keras.layers import Input, Dense, Reshape, Flatten, Dropout, multiply\n",
    "from  tensorflow.keras.layers import BatchNormalization, Activation, Embedding, ZeroPadding2D\n",
    "from  tensorflow.keras.layers import LeakyReLU\n",
    "from  tensorflow.keras.layers import UpSampling2D, Conv2D\n",
    "from  tensorflow.keras.models import Sequential, Model\n",
    "from  tensorflow.keras.optimizers import Adam\n",
    "\n",
    "model = Sequential()\n",
    "\n",
    "model.add(Dense(100, input_shape=x_train.shape[1:]))\n",
    "model.add(LeakyReLU(alpha=0.2))\n",
    "model.add(Dense(60))\n",
    "model.add(LeakyReLU(alpha=0.2))\n",
    "model.add(Dropout(0.4))\n",
    "model.add(Dense(30))\n",
    "model.add(LeakyReLU(alpha=0.2))\n",
    "model.add(Dropout(0.4))\n",
    "model.add(Dense(1, activation='sigmoid'))"
   ]
  },
  {
   "cell_type": "code",
   "execution_count": 49,
   "metadata": {},
   "outputs": [],
   "source": [
    "adam_lr = 0.0002\n",
    "adam_beta_1 = 0.5\n",
    "model.compile(loss=\"binary_crossentropy\",\n",
    "              optimizer='adam',\n",
    "              metrics=[\"accuracy\"])"
   ]
  },
  {
   "cell_type": "code",
   "execution_count": 50,
   "metadata": {},
   "outputs": [
    {
     "name": "stdout",
     "output_type": "stream",
     "text": [
      "Epoch 1/100\n",
      "73/73 [==============================] - 2s 13ms/step - loss: 1.1488 - accuracy: 0.4954 - val_loss: 0.6852 - val_accuracy: 0.5103\n",
      "Epoch 2/100\n",
      "73/73 [==============================] - 0s 2ms/step - loss: 0.7083 - accuracy: 0.5299 - val_loss: 0.6643 - val_accuracy: 0.6195\n",
      "Epoch 3/100\n",
      "73/73 [==============================] - 0s 1ms/step - loss: 0.6716 - accuracy: 0.5851 - val_loss: 0.6579 - val_accuracy: 0.6157\n",
      "Epoch 4/100\n",
      "73/73 [==============================] - 0s 1ms/step - loss: 0.6745 - accuracy: 0.6046 - val_loss: 0.6539 - val_accuracy: 0.6183\n",
      "Epoch 5/100\n",
      "73/73 [==============================] - 0s 1ms/step - loss: 0.6586 - accuracy: 0.6228 - val_loss: 0.6375 - val_accuracy: 0.6350\n",
      "Epoch 6/100\n",
      "73/73 [==============================] - 0s 2ms/step - loss: 0.6413 - accuracy: 0.6364 - val_loss: 0.6385 - val_accuracy: 0.6337\n",
      "Epoch 7/100\n",
      "73/73 [==============================] - 0s 1ms/step - loss: 0.6399 - accuracy: 0.6298 - val_loss: 0.6345 - val_accuracy: 0.6414\n",
      "Epoch 8/100\n",
      "73/73 [==============================] - 0s 1ms/step - loss: 0.6192 - accuracy: 0.6591 - val_loss: 0.6470 - val_accuracy: 0.6298\n",
      "Epoch 9/100\n",
      "73/73 [==============================] - 0s 1ms/step - loss: 0.6530 - accuracy: 0.6204 - val_loss: 0.6350 - val_accuracy: 0.6465\n",
      "Epoch 10/100\n",
      "73/73 [==============================] - 0s 1ms/step - loss: 0.6349 - accuracy: 0.6553 - val_loss: 0.6334 - val_accuracy: 0.6542\n",
      "Epoch 11/100\n",
      "73/73 [==============================] - 0s 2ms/step - loss: 0.6321 - accuracy: 0.6558 - val_loss: 0.6299 - val_accuracy: 0.6478\n",
      "Epoch 12/100\n",
      "73/73 [==============================] - 0s 2ms/step - loss: 0.6243 - accuracy: 0.6613 - val_loss: 0.6281 - val_accuracy: 0.6504\n",
      "Epoch 13/100\n",
      "73/73 [==============================] - 0s 2ms/step - loss: 0.6227 - accuracy: 0.6729 - val_loss: 0.6280 - val_accuracy: 0.6491\n",
      "Epoch 14/100\n",
      "73/73 [==============================] - 0s 2ms/step - loss: 0.6196 - accuracy: 0.6770 - val_loss: 0.6299 - val_accuracy: 0.6530\n",
      "Epoch 15/100\n",
      "73/73 [==============================] - 0s 2ms/step - loss: 0.6107 - accuracy: 0.6688 - val_loss: 0.6300 - val_accuracy: 0.6465\n",
      "Epoch 16/100\n",
      "73/73 [==============================] - 0s 1ms/step - loss: 0.6183 - accuracy: 0.6568 - val_loss: 0.6272 - val_accuracy: 0.6504\n",
      "Epoch 17/100\n",
      "73/73 [==============================] - 0s 1ms/step - loss: 0.6206 - accuracy: 0.6747 - val_loss: 0.6364 - val_accuracy: 0.6478\n",
      "Epoch 18/100\n",
      "73/73 [==============================] - 0s 2ms/step - loss: 0.6143 - accuracy: 0.6715 - val_loss: 0.6282 - val_accuracy: 0.6530\n",
      "Epoch 19/100\n",
      "73/73 [==============================] - 0s 2ms/step - loss: 0.6051 - accuracy: 0.6780 - val_loss: 0.6263 - val_accuracy: 0.6491\n",
      "Epoch 20/100\n",
      "73/73 [==============================] - 0s 2ms/step - loss: 0.5966 - accuracy: 0.6730 - val_loss: 0.6305 - val_accuracy: 0.6478\n",
      "Epoch 21/100\n",
      "73/73 [==============================] - 0s 2ms/step - loss: 0.6131 - accuracy: 0.6632 - val_loss: 0.6300 - val_accuracy: 0.6491\n",
      "Epoch 22/100\n",
      "73/73 [==============================] - 0s 2ms/step - loss: 0.6101 - accuracy: 0.6692 - val_loss: 0.6309 - val_accuracy: 0.6568\n",
      "Epoch 23/100\n",
      "73/73 [==============================] - 0s 2ms/step - loss: 0.6095 - accuracy: 0.6840 - val_loss: 0.6403 - val_accuracy: 0.6491\n",
      "Epoch 24/100\n",
      "73/73 [==============================] - 0s 1ms/step - loss: 0.6235 - accuracy: 0.6544 - val_loss: 0.6298 - val_accuracy: 0.6491\n",
      "Epoch 25/100\n",
      "73/73 [==============================] - 0s 2ms/step - loss: 0.6196 - accuracy: 0.6613 - val_loss: 0.6352 - val_accuracy: 0.6440\n",
      "Epoch 26/100\n",
      "73/73 [==============================] - 0s 2ms/step - loss: 0.6017 - accuracy: 0.6805 - val_loss: 0.6430 - val_accuracy: 0.6388\n",
      "Epoch 27/100\n",
      "73/73 [==============================] - 0s 1ms/step - loss: 0.6236 - accuracy: 0.6615 - val_loss: 0.6439 - val_accuracy: 0.6504\n",
      "Epoch 28/100\n",
      "73/73 [==============================] - 0s 1ms/step - loss: 0.6106 - accuracy: 0.6803 - val_loss: 0.6270 - val_accuracy: 0.6504\n",
      "Epoch 29/100\n",
      "73/73 [==============================] - 0s 2ms/step - loss: 0.6156 - accuracy: 0.6579 - val_loss: 0.6366 - val_accuracy: 0.6581\n"
     ]
    }
   ],
   "source": [
    "history = model.fit(x_train, y_train, epochs=100, validation_data=(x_test, y_test), callbacks=[keras.callbacks.EarlyStopping(patience=10)])\n",
    "#history = model.fit(x_train, y_train, epochs=100, validation_data=(x_valid, y_valid))"
   ]
  }
 ],
 "metadata": {
  "kernelspec": {
   "display_name": "Python 3",
   "language": "python",
   "name": "python3"
  },
  "language_info": {
   "codemirror_mode": {
    "name": "ipython",
    "version": 3
   },
   "file_extension": ".py",
   "mimetype": "text/x-python",
   "name": "python",
   "nbconvert_exporter": "python",
   "pygments_lexer": "ipython3",
   "version": "3.8.5"
  },
  "toc": {
   "base_numbering": 1,
   "nav_menu": {},
   "number_sections": true,
   "sideBar": true,
   "skip_h1_title": false,
   "title_cell": "Table of Contents",
   "title_sidebar": "Contents",
   "toc_cell": false,
   "toc_position": {},
   "toc_section_display": true,
   "toc_window_display": false
  }
 },
 "nbformat": 4,
 "nbformat_minor": 4
}
