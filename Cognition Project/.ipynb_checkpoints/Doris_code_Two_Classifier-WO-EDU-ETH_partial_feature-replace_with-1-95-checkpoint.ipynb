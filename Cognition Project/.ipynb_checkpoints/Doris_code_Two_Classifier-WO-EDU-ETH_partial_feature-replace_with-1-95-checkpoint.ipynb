{
 "cells": [
  {
   "cell_type": "code",
   "execution_count": 1,
   "metadata": {},
   "outputs": [],
   "source": [
    "# only in a Jupyter notebook\n",
    "%matplotlib inline \n",
    "import matplotlib.pyplot as plt\n",
    "import pandas as pd\n",
    "import numpy as np\n",
    "\n",
    "from sklearn.metrics import roc_auc_score\n",
    "from sklearn.metrics import roc_curve\n",
    "from sklearn.metrics import auc\n",
    "from sklearn.metrics import classification_report, roc_curve, precision_recall_curve, auc, make_scorer, recall_score, accuracy_score, precision_score, confusion_matrix\n",
    "from sklearn.model_selection import train_test_split, GridSearchCV, StratifiedKFold\n",
    "from sklearn import preprocessing\n",
    "from sklearn.ensemble import RandomForestClassifier\n",
    "from sklearn.neighbors import KNeighborsClassifier\n",
    "from sklearn.svm import SVC\n",
    "from sklearn.model_selection import cross_val_score\n",
    "\n",
    "result_table = pd.DataFrame(columns=['classifiers', 'fpr','tpr','auc'])\n",
    "pr_table = pd.DataFrame(columns=['classifiers', 'Recall','Precision'])"
   ]
  },
  {
   "cell_type": "code",
   "execution_count": 2,
   "metadata": {
    "scrolled": false
   },
   "outputs": [],
   "source": [
    "data = pd.read_csv(\"value_data.csv\")"
   ]
  },
  {
   "cell_type": "code",
   "execution_count": 3,
   "metadata": {},
   "outputs": [],
   "source": [
    "data=data.drop(['SPARTNER'],axis=1)"
   ]
  },
  {
   "cell_type": "code",
   "execution_count": 4,
   "metadata": {},
   "outputs": [],
   "source": [
    "data[data<0]=np.nan\n",
    "data[data.isnull()]=np.nan"
   ]
  },
  {
   "cell_type": "code",
   "execution_count": 5,
   "metadata": {},
   "outputs": [
    {
     "data": {
      "text/plain": [
       "1493"
      ]
     },
     "execution_count": 5,
     "metadata": {},
     "output_type": "execute_result"
    }
   ],
   "source": [
    "len([True for idx,row in data.iterrows() if any(row.isnull())])"
   ]
  },
  {
   "cell_type": "code",
   "execution_count": 6,
   "metadata": {},
   "outputs": [
    {
     "name": "stdout",
     "output_type": "stream",
     "text": [
      "<class 'pandas.core.frame.DataFrame'>\n",
      "RangeIndex: 3196 entries, 0 to 3195\n",
      "Data columns (total 31 columns):\n",
      " #   Column           Non-Null Count  Dtype  \n",
      "---  ------           --------------  -----  \n",
      " 0   FI_ID            3196 non-null   int64  \n",
      " 1   GENDER           3196 non-null   int64  \n",
      " 2   AGE              3196 non-null   int64  \n",
      " 3   EDUCATION        3196 non-null   int64  \n",
      " 4   ETHGRP           3184 non-null   float64\n",
      " 5   MARITLST         3196 non-null   int64  \n",
      " 6   OTHER_IMP        3188 non-null   float64\n",
      " 7   OTHER_HH         3195 non-null   float64\n",
      " 8   RLTHAPPY         2298 non-null   float64\n",
      " 9   SPTIME           2299 non-null   float64\n",
      " 10  SPOPEN2          2301 non-null   float64\n",
      " 11  SPRELY2          2302 non-null   float64\n",
      " 12  SPDEMAND2        2302 non-null   float64\n",
      " 13  SPCRITZE2        2299 non-null   float64\n",
      " 14  FAMOPEN2         3186 non-null   float64\n",
      " 15  FAMRELY2         3146 non-null   float64\n",
      " 16  FAMDEMAN2        3157 non-null   float64\n",
      " 17  FAMCRITZ2        3092 non-null   float64\n",
      " 18  FROPEN2          3190 non-null   float64\n",
      " 19  FRRELY2          3123 non-null   float64\n",
      " 20  FRDEMN2          3140 non-null   float64\n",
      " 21  FRCRITZ2         3001 non-null   float64\n",
      " 22  FRAMT            3137 non-null   float64\n",
      " 23  PAR_NERVE        1893 non-null   float64\n",
      " 24  FAM_NERVE        2747 non-null   float64\n",
      " 25  FR_NERVE         2757 non-null   float64\n",
      " 26  PAR_THREAT       1899 non-null   float64\n",
      " 27  FAMFRTHREAT      2761 non-null   float64\n",
      " 28  MOCA_SCORE_CCFM  3196 non-null   int64  \n",
      " 29  MOCA_SCORE       3196 non-null   float64\n",
      " 30  IMPAIRED         3196 non-null   int64  \n",
      "dtypes: float64(24), int64(7)\n",
      "memory usage: 774.2 KB\n"
     ]
    }
   ],
   "source": [
    "data.info()"
   ]
  },
  {
   "cell_type": "code",
   "execution_count": 7,
   "metadata": {},
   "outputs": [
    {
     "data": {
      "text/plain": [
       "0    1642\n",
       "1    1554\n",
       "Name: IMPAIRED, dtype: int64"
      ]
     },
     "execution_count": 7,
     "metadata": {},
     "output_type": "execute_result"
    }
   ],
   "source": [
    "data['IMPAIRED'].value_counts()"
   ]
  },
  {
   "cell_type": "code",
   "execution_count": 8,
   "metadata": {},
   "outputs": [
    {
     "data": {
      "text/plain": [
       "IMPAIRED           1.000000\n",
       "ETHGRP             0.343999\n",
       "AGE                0.186436\n",
       "MARITLST           0.137548\n",
       "OTHER_HH           0.126402\n",
       "FAMFRTHREAT        0.046525\n",
       "PAR_THREAT         0.037172\n",
       "GENDER             0.003957\n",
       "SPDEMAND2         -0.001964\n",
       "FR_NERVE          -0.006335\n",
       "FAMOPEN2          -0.006869\n",
       "FAM_NERVE         -0.011659\n",
       "FAMCRITZ2         -0.013113\n",
       "RLTHAPPY          -0.017942\n",
       "SPOPEN2           -0.025411\n",
       "SPCRITZE2         -0.031973\n",
       "PAR_NERVE         -0.037242\n",
       "FI_ID             -0.039102\n",
       "SPRELY2           -0.042437\n",
       "SPTIME            -0.043365\n",
       "FRCRITZ2          -0.053980\n",
       "FAMRELY2          -0.064081\n",
       "OTHER_IMP         -0.067275\n",
       "FRDEMN2           -0.075085\n",
       "FAMDEMAN2         -0.089709\n",
       "FROPEN2           -0.100773\n",
       "FRAMT             -0.154794\n",
       "FRRELY2           -0.183246\n",
       "EDUCATION         -0.500798\n",
       "MOCA_SCORE_CCFM   -0.664449\n",
       "MOCA_SCORE        -0.664449\n",
       "Name: IMPAIRED, dtype: float64"
      ]
     },
     "execution_count": 8,
     "metadata": {},
     "output_type": "execute_result"
    }
   ],
   "source": [
    "corr_matrix = data.corr()\n",
    "corr_matrix[\"IMPAIRED\"].sort_values(ascending=False)"
   ]
  },
  {
   "cell_type": "code",
   "execution_count": 9,
   "metadata": {
    "scrolled": false
   },
   "outputs": [
    {
     "data": {
      "text/plain": [
       "<AxesSubplot:>"
      ]
     },
     "execution_count": 9,
     "metadata": {},
     "output_type": "execute_result"
    },
    {
     "data": {
      "image/png": "[encoded data removed]",
      "text/plain": [
       "<Figure size 792x648 with 2 Axes>"
      ]
     },
     "metadata": {
      "needs_background": "light"
     },
     "output_type": "display_data"
    }
   ],
   "source": [
    "import seaborn as sns\n",
    "corr = data.corr()\n",
    "\n",
    "# Generate a mask for the upper triangle\n",
    "mask = np.zeros_like(corr, dtype=np.bool)\n",
    "mask[np.triu_indices_from(mask)] = True\n",
    "\n",
    "# Set up the matplotlib figure\n",
    "f, ax = plt.subplots(figsize=(11, 9))\n",
    "\n",
    "# Generate a custom diverging colormap\n",
    "cmap = sns.diverging_palette(220, 10, as_cmap=True)\n",
    "\n",
    "# Draw the heatmap with the mask and correct aspect ratio\n",
    "sns.heatmap(corr, mask=mask, cmap=cmap, vmax=.3, center=0,\n",
    "            square=True, linewidths=.5, cbar_kws={\"shrink\": .5})"
   ]
  },
  {
   "cell_type": "code",
   "execution_count": 10,
   "metadata": {},
   "outputs": [
    {
     "name": "stdout",
     "output_type": "stream",
     "text": [
      "<class 'pandas.core.frame.DataFrame'>\n",
      "RangeIndex: 3196 entries, 0 to 3195\n",
      "Data columns (total 26 columns):\n",
      " #   Column       Non-Null Count  Dtype  \n",
      "---  ------       --------------  -----  \n",
      " 0   GENDER       3196 non-null   int64  \n",
      " 1   AGE          3196 non-null   int64  \n",
      " 2   MARITLST     3196 non-null   int64  \n",
      " 3   OTHER_IMP    3188 non-null   float64\n",
      " 4   OTHER_HH     3195 non-null   float64\n",
      " 5   RLTHAPPY     2298 non-null   float64\n",
      " 6   SPTIME       2299 non-null   float64\n",
      " 7   SPOPEN2      2301 non-null   float64\n",
      " 8   SPRELY2      2302 non-null   float64\n",
      " 9   SPDEMAND2    2302 non-null   float64\n",
      " 10  SPCRITZE2    2299 non-null   float64\n",
      " 11  FAMOPEN2     3186 non-null   float64\n",
      " 12  FAMRELY2     3146 non-null   float64\n",
      " 13  FAMDEMAN2    3157 non-null   float64\n",
      " 14  FAMCRITZ2    3092 non-null   float64\n",
      " 15  FROPEN2      3190 non-null   float64\n",
      " 16  FRRELY2      3123 non-null   float64\n",
      " 17  FRDEMN2      3140 non-null   float64\n",
      " 18  FRCRITZ2     3001 non-null   float64\n",
      " 19  FRAMT        3137 non-null   float64\n",
      " 20  PAR_NERVE    1893 non-null   float64\n",
      " 21  FAM_NERVE    2747 non-null   float64\n",
      " 22  FR_NERVE     2757 non-null   float64\n",
      " 23  PAR_THREAT   1899 non-null   float64\n",
      " 24  FAMFRTHREAT  2761 non-null   float64\n",
      " 25  IMPAIRED     3196 non-null   int64  \n",
      "dtypes: float64(22), int64(4)\n",
      "memory usage: 649.3 KB\n"
     ]
    }
   ],
   "source": [
    "data = data.drop([\"FI_ID\",\"MOCA_SCORE\",\"MOCA_SCORE_CCFM\", \"EDUCATION\", \"ETHGRP\"],axis=1)\n",
    "data.info()"
   ]
  },
  {
   "cell_type": "markdown",
   "metadata": {},
   "source": [
    "## ORIGINAL DATASET WITH ALL FEATURES"
   ]
  },
  {
   "cell_type": "code",
   "execution_count": 11,
   "metadata": {},
   "outputs": [],
   "source": [
    "x = data.drop(\"IMPAIRED\", axis=1, inplace=False) #.copy()\n",
    "y = data[\"IMPAIRED\"]\n",
    "x_train, x_test, y_train, y_test = train_test_split(x,y, test_size=0.2, random_state=42, stratify=y)"
   ]
  },
  {
   "cell_type": "code",
   "execution_count": 50,
   "metadata": {},
   "outputs": [],
   "source": [
    "def algorithm_pipeline(x_train, x_test, y_train, y_test, \n",
    "                       model, param_grid, cv=5):\n",
    "    scorers = {\n",
    "    'recall_score': make_scorer(recall_score,pos_label=1,greater_is_better=True),\n",
    "    'accuracy_score': make_scorer(accuracy_score)\n",
    "    }\n",
    "    \n",
    "    gs = GridSearchCV(\n",
    "        estimator=model,\n",
    "        param_grid=param_grid, \n",
    "        cv=cv, \n",
    "        n_jobs=-1, \n",
    "        scoring=scorers,\n",
    "        verbose=2,\n",
    "        refit='recall_score'\n",
    "    )\n",
    "    fitted_model = gs.fit(x_train, y_train)\n",
    "    print(gs.best_params_)\n",
    "    \n",
    "    final_model = gs.best_estimator_\n",
    "    y_pred = final_model.predict(x_test)\n",
    "    print(confusion_matrix(y_test, y_pred))\n",
    "    print(classification_report(y_test, y_pred))\n",
    "    print(roc_auc_score(y_test, y_pred))\n",
    "    return final_model"
   ]
  },
  {
   "cell_type": "markdown",
   "metadata": {},
   "source": [
    "### Build XG-Boost Model\n",
    "Exchange all the negative values with np.nan and using XG-BOOST to run it. Sk-learn can't handle nan value."
   ]
  },
  {
   "cell_type": "code",
   "execution_count": 13,
   "metadata": {},
   "outputs": [
    {
     "name": "stderr",
     "output_type": "stream",
     "text": [
      "C:\\Users\\yhy01\\Anaconda3\\lib\\site-packages\\xgboost\\sklearn.py:888: UserWarning: The use of label encoder in XGBClassifier is deprecated and will be removed in a future release. To remove this warning, do the following: 1) Pass option use_label_encoder=False when constructing XGBClassifier object; and 2) Encode your labels (y) as integers starting with 0, i.e. 0, 1, 2, ..., [num_class - 1].\n",
      "  warnings.warn(label_encoder_deprecation_msg, UserWarning)\n"
     ]
    },
    {
     "name": "stdout",
     "output_type": "stream",
     "text": [
      "[14:12:51] WARNING: C:/Users/Administrator/workspace/xgboost-win64_release_1.3.0/src/learner.cc:1061: Starting in XGBoost 1.3.0, the default evaluation metric used with the objective 'binary:logistic' was changed from 'error' to 'logloss'. Explicitly set eval_metric if you'd like to restore the old behavior.\n"
     ]
    }
   ],
   "source": [
    "from xgboost import XGBClassifier\n",
    "xgb = XGBClassifier()\n",
    "xgb.fit(x_train,y_train)\n",
    "y_pred = xgb.predict(x_test)"
   ]
  },
  {
   "cell_type": "code",
   "execution_count": 14,
   "metadata": {
    "scrolled": false
   },
   "outputs": [
    {
     "name": "stdout",
     "output_type": "stream",
     "text": [
      "[[228 101]\n",
      " [138 173]]\n",
      "              precision    recall  f1-score   support\n",
      "\n",
      "           0       0.62      0.69      0.66       329\n",
      "           1       0.63      0.56      0.59       311\n",
      "\n",
      "    accuracy                           0.63       640\n",
      "   macro avg       0.63      0.62      0.62       640\n",
      "weighted avg       0.63      0.63      0.62       640\n",
      "\n",
      "0.624639607502028\n"
     ]
    }
   ],
   "source": [
    "print(confusion_matrix(y_test, y_pred))\n",
    "print(classification_report(y_test, y_pred))\n",
    "from sklearn.metrics import roc_auc_score\n",
    "print(roc_auc_score(y_test, y_pred))\n",
    "fpr, tpr, _ = roc_curve(y_test,  y_pred)\n",
    "auc = roc_auc_score(y_test,  y_pred)\n",
    "    \n",
    "result_table = result_table.append({'classifiers':'XG-Boost',\n",
    "                                    'fpr':fpr, \n",
    "                                   'tpr':tpr, \n",
    "                                    'auc':auc}, ignore_index=True)\n",
    "\n",
    "from sklearn.metrics import precision_recall_curve\n",
    "precision, recall, thresholds = precision_recall_curve(y_test, y_pred)\n",
    "pr_table = pr_table.append({'classifiers':'XG-Boost',\n",
    "                                    'Recall':recall, \n",
    "                                    'Precision':precision}, ignore_index=True)"
   ]
  },
  {
   "cell_type": "code",
   "execution_count": 16,
   "metadata": {},
   "outputs": [],
   "source": [
    "param_grid = {\n",
    "    'n_estimators': [400, 700, 1000],\n",
    "    'colsample_bytree': [0.7, 0.8],\n",
    "    'max_depth': [15,20,25],\n",
    "    'reg_alpha': [1.1, 1.2, 1.3],\n",
    "    'reg_lambda': [1.1, 1.2, 1.3],\n",
    "    'subsample': [0.7, 0.8, 0.9]\n",
    "}\n",
    "\n",
    "xgb = XGBClassifier()"
   ]
  },
  {
   "cell_type": "code",
   "execution_count": 19,
   "metadata": {
    "scrolled": false
   },
   "outputs": [
    {
     "name": "stdout",
     "output_type": "stream",
     "text": [
      "Fitting 5 folds for each of 486 candidates, totalling 2430 fits\n"
     ]
    },
    {
     "name": "stderr",
     "output_type": "stream",
     "text": [
      "[Parallel(n_jobs=-1)]: Using backend LokyBackend with 8 concurrent workers.\n",
      "[Parallel(n_jobs=-1)]: Done  25 tasks      | elapsed:   16.3s\n",
      "[Parallel(n_jobs=-1)]: Done 146 tasks      | elapsed:  1.2min\n",
      "[Parallel(n_jobs=-1)]: Done 349 tasks      | elapsed:  3.6min\n",
      "[Parallel(n_jobs=-1)]: Done 632 tasks      | elapsed:  6.4min\n",
      "[Parallel(n_jobs=-1)]: Done 997 tasks      | elapsed: 10.4min\n",
      "[Parallel(n_jobs=-1)]: Done 1442 tasks      | elapsed: 15.7min\n",
      "[Parallel(n_jobs=-1)]: Done 1969 tasks      | elapsed: 22.3min\n",
      "[Parallel(n_jobs=-1)]: Done 2430 out of 2430 | elapsed: 33.6min finished\n",
      "C:\\Users\\yhy01\\Anaconda3\\lib\\site-packages\\xgboost\\sklearn.py:888: UserWarning: The use of label encoder in XGBClassifier is deprecated and will be removed in a future release. To remove this warning, do the following: 1) Pass option use_label_encoder=False when constructing XGBClassifier object; and 2) Encode your labels (y) as integers starting with 0, i.e. 0, 1, 2, ..., [num_class - 1].\n",
      "  warnings.warn(label_encoder_deprecation_msg, UserWarning)\n"
     ]
    },
    {
     "name": "stdout",
     "output_type": "stream",
     "text": [
      "[14:56:56] WARNING: C:/Users/Administrator/workspace/xgboost-win64_release_1.3.0/src/learner.cc:1061: Starting in XGBoost 1.3.0, the default evaluation metric used with the objective 'binary:logistic' was changed from 'error' to 'logloss'. Explicitly set eval_metric if you'd like to restore the old behavior.\n",
      "{'colsample_bytree': 0.8, 'max_depth': 15, 'n_estimators': 1000, 'reg_alpha': 1.3, 'reg_lambda': 1.1, 'subsample': 0.8}\n",
      "[[202 127]\n",
      " [117 194]]\n",
      "              precision    recall  f1-score   support\n",
      "\n",
      "           0       0.63      0.61      0.62       329\n",
      "           1       0.60      0.62      0.61       311\n",
      "\n",
      "    accuracy                           0.62       640\n",
      "   macro avg       0.62      0.62      0.62       640\n",
      "weighted avg       0.62      0.62      0.62       640\n",
      "\n",
      "0.6188879875682913\n"
     ]
    },
    {
     "data": {
      "text/plain": [
       "XGBClassifier(base_score=0.5, booster='gbtree', colsample_bylevel=1,\n",
       "              colsample_bynode=1, colsample_bytree=0.8, gamma=0, gpu_id=-1,\n",
       "              importance_type='gain', interaction_constraints='',\n",
       "              learning_rate=0.300000012, max_delta_step=0, max_depth=15,\n",
       "              min_child_weight=1, missing=nan, monotone_constraints='()',\n",
       "              n_estimators=1000, n_jobs=8, num_parallel_tree=1, random_state=0,\n",
       "              reg_alpha=1.3, reg_lambda=1.1, scale_pos_weight=1, subsample=0.8,\n",
       "              tree_method='exact', validate_parameters=1, verbosity=None)"
      ]
     },
     "execution_count": 19,
     "metadata": {},
     "output_type": "execute_result"
    }
   ],
   "source": [
    "algorithm_pipeline(x_train, x_test, y_train, y_test,xgb, param_grid, cv=5)"
   ]
  },
  {
   "cell_type": "markdown",
   "metadata": {},
   "source": [
    "## Exchange all the negative values with -1, build different model to test"
   ]
  },
  {
   "cell_type": "code",
   "execution_count": 21,
   "metadata": {},
   "outputs": [],
   "source": [
    "data1=data.fillna(-1)"
   ]
  },
  {
   "cell_type": "code",
   "execution_count": 22,
   "metadata": {},
   "outputs": [],
   "source": [
    "x = data1.drop(\"IMPAIRED\", axis=1, inplace=False) #.copy()\n",
    "y = data1[\"IMPAIRED\"]\n",
    "x_train, x_test, y_train, y_test = train_test_split(x,y, test_size=0.2, random_state=42, stratify=y)"
   ]
  },
  {
   "cell_type": "markdown",
   "metadata": {},
   "source": [
    "### KNN"
   ]
  },
  {
   "cell_type": "code",
   "execution_count": 23,
   "metadata": {},
   "outputs": [
    {
     "name": "stdout",
     "output_type": "stream",
     "text": [
      "[[236  93]\n",
      " [161 150]]\n",
      "              precision    recall  f1-score   support\n",
      "\n",
      "           0       0.59      0.72      0.65       329\n",
      "           1       0.62      0.48      0.54       311\n",
      "\n",
      "    accuracy                           0.60       640\n",
      "   macro avg       0.61      0.60      0.60       640\n",
      "weighted avg       0.61      0.60      0.60       640\n",
      "\n",
      "0.5998201702518594\n"
     ]
    }
   ],
   "source": [
    "# predictions with CV fitted model\n",
    "knn_cv = KNeighborsClassifier(n_neighbors=5)\n",
    "knn_cv.fit(x_train, y_train)\n",
    "y_pred = knn_cv.predict(x_test)\n",
    "print(confusion_matrix(y_test, y_pred))\n",
    "print(classification_report(y_test, y_pred))\n",
    "from sklearn.metrics import roc_auc_score\n",
    "print(roc_auc_score(y_test, y_pred))\n",
    "fpr, tpr, _ = roc_curve(y_test,  y_pred)\n",
    "auc = roc_auc_score(y_test,  y_pred)\n",
    "    \n",
    "result_table = result_table.append({'classifiers':knn_cv.__class__.__name__,\n",
    "                                    'fpr':fpr, \n",
    "                                    'tpr':tpr, \n",
    "                                    'auc':auc}, ignore_index=True)\n",
    "\n",
    "from sklearn.metrics import precision_recall_curve\n",
    "precision, recall, thresholds = precision_recall_curve(y_test, y_pred)\n",
    "pr_table = pr_table.append({'classifiers':knn_cv.__class__.__name__,\n",
    "                                    'Recall':recall, \n",
    "                                    'Precision':precision}, ignore_index=True)\n",
    "#pr_table.set_index('classifiers', inplace=True)"
   ]
  },
  {
   "cell_type": "code",
   "execution_count": 24,
   "metadata": {},
   "outputs": [],
   "source": [
    "#create new a knn model\n",
    "knn = KNeighborsClassifier() \n",
    "#create a dictionary of all values we want to test for n_neighbors\n",
    "param_grid = {'n_neighbors': np.arange(1, 25)}"
   ]
  },
  {
   "cell_type": "code",
   "execution_count": 25,
   "metadata": {},
   "outputs": [
    {
     "name": "stdout",
     "output_type": "stream",
     "text": [
      "Fitting 5 folds for each of 24 candidates, totalling 120 fits\n"
     ]
    },
    {
     "name": "stderr",
     "output_type": "stream",
     "text": [
      "[Parallel(n_jobs=-1)]: Using backend LokyBackend with 8 concurrent workers.\n",
      "[Parallel(n_jobs=-1)]: Done  25 tasks      | elapsed:    2.7s\n"
     ]
    },
    {
     "name": "stdout",
     "output_type": "stream",
     "text": [
      "{'n_neighbors': 1}\n",
      "[[208 121]\n",
      " [154 157]]\n",
      "              precision    recall  f1-score   support\n",
      "\n",
      "           0       0.57      0.63      0.60       329\n",
      "           1       0.56      0.50      0.53       311\n",
      "\n",
      "    accuracy                           0.57       640\n",
      "   macro avg       0.57      0.57      0.57       640\n",
      "weighted avg       0.57      0.57      0.57       640\n",
      "\n",
      "0.5685209980551023\n"
     ]
    },
    {
     "name": "stderr",
     "output_type": "stream",
     "text": [
      "[Parallel(n_jobs=-1)]: Done 120 out of 120 | elapsed:    3.5s finished\n"
     ]
    },
    {
     "data": {
      "text/plain": [
       "KNeighborsClassifier(n_neighbors=1)"
      ]
     },
     "execution_count": 25,
     "metadata": {},
     "output_type": "execute_result"
    }
   ],
   "source": [
    "algorithm_pipeline(x_train, x_test, y_train, y_test,knn, param_grid, cv=5)"
   ]
  },
  {
   "cell_type": "markdown",
   "metadata": {},
   "source": [
    "### SVM MODEL"
   ]
  },
  {
   "cell_type": "code",
   "execution_count": 26,
   "metadata": {},
   "outputs": [
    {
     "name": "stdout",
     "output_type": "stream",
     "text": [
      "[[230  99]\n",
      " [146 165]]\n",
      "              precision    recall  f1-score   support\n",
      "\n",
      "           0       0.61      0.70      0.65       329\n",
      "           1       0.62      0.53      0.57       311\n",
      "\n",
      "    accuracy                           0.62       640\n",
      "   macro avg       0.62      0.61      0.61       640\n",
      "weighted avg       0.62      0.62      0.61       640\n",
      "\n",
      "0.6148173848454344\n"
     ]
    }
   ],
   "source": [
    "svc_cv = SVC(kernel='rbf', gamma= 'auto')\n",
    "# predictions with CV fitted model of SVM\n",
    "svc_cv.fit(x_train, y_train)\n",
    "y_pred = svc_cv.predict(x_test)\n",
    "print(confusion_matrix(y_test, y_pred))\n",
    "print(classification_report(y_test, y_pred))\n",
    "from sklearn.metrics import roc_auc_score\n",
    "print(roc_auc_score(y_test, y_pred))\n",
    "fpr, tpr, _ = roc_curve(y_test,  y_pred)\n",
    "auc = roc_auc_score(y_test,  y_pred)\n",
    "    \n",
    "result_table = result_table.append({'classifiers':svc_cv.__class__.__name__,\n",
    "                                    'fpr':fpr, \n",
    "                                    'tpr':tpr, \n",
    "                                    'auc':auc}, ignore_index=True)\n",
    "\n",
    "from sklearn.metrics import precision_recall_curve\n",
    "precision, recall, thresholds = precision_recall_curve(y_test, y_pred)\n",
    "pr_table = pr_table.append({'classifiers':svc_cv.__class__.__name__,\n",
    "                                    'Recall':recall, \n",
    "                                    'Precision':precision}, ignore_index=True)\n",
    "#result_table.set_index('classifiers', inplace=True)"
   ]
  },
  {
   "cell_type": "code",
   "execution_count": 51,
   "metadata": {},
   "outputs": [],
   "source": [
    "from sklearn.model_selection import GridSearchCV \n",
    "svc = SVC() \n",
    "# defining parameter range \n",
    "param_grid = {'C': [0.1,0.2,0.3,0.4,0.5,1,2],  \n",
    "              'gamma': [0.1,0.2,0.3,0.35,0.4,0.5], \n",
    "              'kernel': ['rbf']}     "
   ]
  },
  {
   "cell_type": "code",
   "execution_count": 52,
   "metadata": {},
   "outputs": [
    {
     "name": "stdout",
     "output_type": "stream",
     "text": [
      "Fitting 5 folds for each of 42 candidates, totalling 210 fits\n"
     ]
    },
    {
     "name": "stderr",
     "output_type": "stream",
     "text": [
      "[Parallel(n_jobs=-1)]: Using backend LokyBackend with 8 concurrent workers.\n",
      "[Parallel(n_jobs=-1)]: Done  25 tasks      | elapsed:    1.1s\n",
      "[Parallel(n_jobs=-1)]: Done 146 tasks      | elapsed:    5.3s\n",
      "[Parallel(n_jobs=-1)]: Done 210 out of 210 | elapsed:    7.9s finished\n"
     ]
    },
    {
     "name": "stdout",
     "output_type": "stream",
     "text": [
      "{'C': 0.5, 'gamma': 0.2, 'kernel': 'rbf'}\n",
      "[[144 185]\n",
      " [ 82 229]]\n",
      "              precision    recall  f1-score   support\n",
      "\n",
      "           0       0.64      0.44      0.52       329\n",
      "           1       0.55      0.74      0.63       311\n",
      "\n",
      "    accuracy                           0.58       640\n",
      "   macro avg       0.60      0.59      0.58       640\n",
      "weighted avg       0.60      0.58      0.57       640\n",
      "\n",
      "0.5870121873747789\n"
     ]
    },
    {
     "data": {
      "text/plain": [
       "SVC(C=0.5, gamma=0.2)"
      ]
     },
     "execution_count": 52,
     "metadata": {},
     "output_type": "execute_result"
    }
   ],
   "source": [
    "algorithm_pipeline(x_train, x_test, y_train, y_test,svc, param_grid, cv=5)"
   ]
  },
  {
   "cell_type": "markdown",
   "metadata": {},
   "source": [
    "### RANDOM FOREST TREE MODEL"
   ]
  },
  {
   "cell_type": "code",
   "execution_count": 31,
   "metadata": {},
   "outputs": [
    {
     "name": "stdout",
     "output_type": "stream",
     "text": [
      "[[228 101]\n",
      " [127 184]]\n",
      "              precision    recall  f1-score   support\n",
      "\n",
      "           0       0.64      0.69      0.67       329\n",
      "           1       0.65      0.59      0.62       311\n",
      "\n",
      "    accuracy                           0.64       640\n",
      "   macro avg       0.64      0.64      0.64       640\n",
      "weighted avg       0.64      0.64      0.64       640\n",
      "\n",
      "0.642324494961835\n"
     ]
    }
   ],
   "source": [
    "rf_cv = RandomForestClassifier(max_depth=20, max_features=10, n_estimators=1000)\n",
    "# predictions with CV fitted model of RF\n",
    "rf_cv.fit(x_train, y_train)\n",
    "y_pred = rf_cv.predict(x_test)\n",
    "print(confusion_matrix(y_test, y_pred))\n",
    "print(classification_report(y_test, y_pred))\n",
    "from sklearn.metrics import roc_auc_score\n",
    "print(roc_auc_score(y_test, y_pred))\n",
    "fpr, tpr, _ = roc_curve(y_test,  y_pred)\n",
    "auc = roc_auc_score(y_test,  y_pred)\n",
    "    \n",
    "result_table = result_table.append({'classifiers':rf_cv.__class__.__name__,\n",
    "                                    'fpr':fpr, \n",
    "                                   'tpr':tpr, \n",
    "                                    'auc':auc}, ignore_index=True)\n",
    "\n",
    "from sklearn.metrics import precision_recall_curve\n",
    "precision, recall, thresholds = precision_recall_curve(y_test, y_pred)\n",
    "pr_table = pr_table.append({'classifiers':rf_cv.__class__.__name__,\n",
    "                                    'Recall':recall, \n",
    "                                    'Precision':precision}, ignore_index=True)\n"
   ]
  },
  {
   "cell_type": "code",
   "execution_count": 48,
   "metadata": {},
   "outputs": [],
   "source": [
    "# Create the parameter grid based on the results of random search \n",
    "param_grid = {\n",
    "    'bootstrap': [True],\n",
    "    'max_depth': [10, 20, 30, 40, 50],\n",
    "    'max_features': [2, 4, 6, 8, 10, 15],\n",
    "    'n_estimators': [50, 100, 150, 200, 300]\n",
    "}\n",
    "# Create a based model\n",
    "rf = RandomForestClassifier()"
   ]
  },
  {
   "cell_type": "code",
   "execution_count": 49,
   "metadata": {},
   "outputs": [
    {
     "name": "stdout",
     "output_type": "stream",
     "text": [
      "Fitting 5 folds for each of 150 candidates, totalling 750 fits\n"
     ]
    },
    {
     "name": "stderr",
     "output_type": "stream",
     "text": [
      "[Parallel(n_jobs=-1)]: Using backend LokyBackend with 8 concurrent workers.\n",
      "[Parallel(n_jobs=-1)]: Done  34 tasks      | elapsed:    2.4s\n",
      "[Parallel(n_jobs=-1)]: Done 178 tasks      | elapsed:   15.5s\n",
      "[Parallel(n_jobs=-1)]: Done 381 tasks      | elapsed:   36.8s\n",
      "[Parallel(n_jobs=-1)]: Done 664 tasks      | elapsed:  1.1min\n",
      "[Parallel(n_jobs=-1)]: Done 750 out of 750 | elapsed:  1.3min finished\n"
     ]
    },
    {
     "name": "stdout",
     "output_type": "stream",
     "text": [
      "{'bootstrap': True, 'max_depth': 10, 'max_features': 2, 'n_estimators': 300}\n",
      "[[240  89]\n",
      " [151 160]]\n",
      "              precision    recall  f1-score   support\n",
      "\n",
      "           0       0.61      0.73      0.67       329\n",
      "           1       0.64      0.51      0.57       311\n",
      "\n",
      "    accuracy                           0.62       640\n",
      "   macro avg       0.63      0.62      0.62       640\n",
      "weighted avg       0.63      0.62      0.62       640\n",
      "\n",
      "0.6219763680254888\n"
     ]
    },
    {
     "data": {
      "text/plain": [
       "RandomForestClassifier(max_depth=10, max_features=2, n_estimators=300)"
      ]
     },
     "execution_count": 49,
     "metadata": {},
     "output_type": "execute_result"
    }
   ],
   "source": [
    "algorithm_pipeline(x_train, x_test, y_train, y_test,rf, param_grid, cv=5)"
   ]
  },
  {
   "cell_type": "markdown",
   "metadata": {},
   "source": [
    "### Build XG-Boost Model"
   ]
  },
  {
   "cell_type": "code",
   "execution_count": null,
   "metadata": {},
   "outputs": [],
   "source": [
    "from xgboost import XGBClassifier\n",
    "xgb = XGBClassifier()\n",
    "xgb.fit(x_train,y_train)\n",
    "y_pred = xgb.predict(x_test)"
   ]
  },
  {
   "cell_type": "code",
   "execution_count": null,
   "metadata": {},
   "outputs": [],
   "source": [
    "print(confusion_matrix(y_test, y_pred))\n",
    "print(classification_report(y_test, y_pred))\n",
    "from sklearn.metrics import roc_auc_score\n",
    "print(roc_auc_score(y_test, y_pred))\n",
    "fpr, tpr, _ = roc_curve(y_test,  y_pred)\n",
    "auc = roc_auc_score(y_test,  y_pred)\n",
    "    \n",
    "result_table = result_table.append({'classifiers':'XG-Boost',\n",
    "                                    'fpr':fpr, \n",
    "                                   'tpr':tpr, \n",
    "                                    'auc':auc}, ignore_index=True)\n",
    "\n",
    "from sklearn.metrics import precision_recall_curve\n",
    "precision, recall, thresholds = precision_recall_curve(y_test, y_pred)\n",
    "pr_table = pr_table.append({'classifiers':'XG-Boost',\n",
    "                                    'Recall':recall, \n",
    "                                    'Precision':precision}, ignore_index=True)"
   ]
  },
  {
   "cell_type": "code",
   "execution_count": null,
   "metadata": {},
   "outputs": [],
   "source": [
    "param_grid = {\n",
    "    'n_estimators': [400, 700, 1000],\n",
    "    'colsample_bytree': [0.7, 0.8],\n",
    "    'max_depth': [15,20,25],\n",
    "    'reg_alpha': [1.1, 1.2, 1.3],\n",
    "    'reg_lambda': [1.1, 1.2, 1.3],\n",
    "    'subsample': [0.7, 0.8, 0.9]\n",
    "}\n",
    "\n",
    "xgb = XGBClassifier()"
   ]
  },
  {
   "cell_type": "code",
   "execution_count": null,
   "metadata": {},
   "outputs": [],
   "source": [
    "algorithm_pipeline(x_train, x_test, y_train, y_test,xgb, param_grid, cv=5)"
   ]
  },
  {
   "cell_type": "markdown",
   "metadata": {},
   "source": [
    "### Build Gradient Boosting Model"
   ]
  },
  {
   "cell_type": "code",
   "execution_count": null,
   "metadata": {},
   "outputs": [],
   "source": [
    "from sklearn.ensemble import GradientBoostingClassifier\n",
    "clf = GradientBoostingClassifier(n_estimators=100, learning_rate=1.0,max_depth=1, random_state=0).fit(x_train, y_train)\n",
    "y_pred = clf.predict(x_test)"
   ]
  },
  {
   "cell_type": "code",
   "execution_count": null,
   "metadata": {},
   "outputs": [],
   "source": [
    "print(confusion_matrix(y_test, y_pred))\n",
    "print(classification_report(y_test, y_pred))\n",
    "from sklearn.metrics import roc_auc_score\n",
    "print(roc_auc_score(y_test, y_pred))\n",
    "fpr, tpr, _ = roc_curve(y_test,  y_pred)\n",
    "auc = roc_auc_score(y_test,  y_pred)\n",
    "    \n",
    "result_table = result_table.append({'classifiers':'Gradient-Boost',\n",
    "                                    'fpr':fpr, \n",
    "                                   'tpr':tpr, \n",
    "                                    'auc':auc}, ignore_index=True)\n",
    "\n",
    "from sklearn.metrics import precision_recall_curve\n",
    "precision, recall, thresholds = precision_recall_curve(y_test, y_pred)\n",
    "pr_table = pr_table.append({'classifiers':'Gradient-Boost',\n",
    "                                    'Recall':recall, \n",
    "                                    'Precision':precision}, ignore_index=True)"
   ]
  },
  {
   "cell_type": "code",
   "execution_count": null,
   "metadata": {},
   "outputs": [],
   "source": [
    "param_grid = {\n",
    "    'n_estimators': [100,200, 300, 400],\n",
    "    'learning_rate': [0.0001],\n",
    "    'max_depth': [3,5,10,15],\n",
    "    'random_state': [0, 1]\n",
    "}\n",
    "clf = GradientBoostingClassifier()"
   ]
  },
  {
   "cell_type": "code",
   "execution_count": null,
   "metadata": {},
   "outputs": [],
   "source": [
    "algorithm_pipeline(x_train, x_test, y_train, y_test,clf, param_grid, cv=5)"
   ]
  }
 ],
 "metadata": {
  "kernelspec": {
   "display_name": "Python 3",
   "language": "python",
   "name": "python3"
  },
  "language_info": {
   "codemirror_mode": {
    "name": "ipython",
    "version": 3
   },
   "file_extension": ".py",
   "mimetype": "text/x-python",
   "name": "python",
   "nbconvert_exporter": "python",
   "pygments_lexer": "ipython3",
   "version": "3.8.5"
  },
  "toc": {
   "base_numbering": 1,
   "nav_menu": {},
   "number_sections": true,
   "sideBar": true,
   "skip_h1_title": false,
   "title_cell": "Table of Contents",
   "title_sidebar": "Contents",
   "toc_cell": false,
   "toc_position": {},
   "toc_section_display": true,
   "toc_window_display": false
  }
 },
 "nbformat": 4,
 "nbformat_minor": 4
}
