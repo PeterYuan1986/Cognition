{
 "cells": [
  {
   "cell_type": "code",
   "execution_count": 1,
   "metadata": {},
   "outputs": [],
   "source": [
    "# only in a Jupyter notebook\n",
    "%matplotlib inline \n",
    "import matplotlib.pyplot as plt\n",
    "import pandas as pd\n",
    "import numpy as np\n",
    "\n",
    "from sklearn.metrics import roc_auc_score\n",
    "from sklearn.metrics import roc_curve\n",
    "from sklearn.metrics import auc\n",
    "from sklearn.metrics import classification_report, roc_curve, precision_recall_curve, auc, make_scorer, recall_score, accuracy_score, precision_score, confusion_matrix\n",
    "from sklearn.model_selection import train_test_split, GridSearchCV, StratifiedKFold\n",
    "from sklearn import preprocessing\n",
    "from sklearn.ensemble import RandomForestClassifier\n",
    "from sklearn.neighbors import KNeighborsClassifier\n",
    "from sklearn.svm import SVC\n",
    "from sklearn.model_selection import cross_val_score\n",
    "\n",
    "result_table = pd.DataFrame(columns=['classifiers', 'fpr','tpr','auc'])\n",
    "pr_table = pd.DataFrame(columns=['classifiers', 'Recall','Precision'])"
   ]
  },
  {
   "cell_type": "code",
   "execution_count": 2,
   "metadata": {},
   "outputs": [
    {
     "name": "stdout",
     "output_type": "stream",
     "text": [
      "<class 'pandas.core.frame.DataFrame'>\n",
      "RangeIndex: 3196 entries, 0 to 3195\n",
      "Data columns (total 32 columns):\n",
      " #   Column           Non-Null Count  Dtype  \n",
      "---  ------           --------------  -----  \n",
      " 0   FI_ID            3196 non-null   int64  \n",
      " 1   GENDER           3196 non-null   int64  \n",
      " 2   AGE              3196 non-null   int64  \n",
      " 3   EDUCATION        3196 non-null   int64  \n",
      " 4   ETHGRP           3184 non-null   float64\n",
      " 5   MARITLST         3196 non-null   int64  \n",
      " 6   SPARTNER         3196 non-null   int64  \n",
      " 7   OTHER_IMP        3196 non-null   int64  \n",
      " 8   OTHER_HH         3196 non-null   int64  \n",
      " 9   RLTHAPPY         3196 non-null   int64  \n",
      " 10  SPTIME           3196 non-null   int64  \n",
      " 11  SPOPEN2          3196 non-null   int64  \n",
      " 12  SPRELY2          3196 non-null   int64  \n",
      " 13  SPDEMAND2        3196 non-null   int64  \n",
      " 14  SPCRITZE2        3196 non-null   int64  \n",
      " 15  FAMOPEN2         3196 non-null   int64  \n",
      " 16  FAMRELY2         3196 non-null   int64  \n",
      " 17  FAMDEMAN2        3196 non-null   int64  \n",
      " 18  FAMCRITZ2        3196 non-null   int64  \n",
      " 19  FROPEN2          3196 non-null   int64  \n",
      " 20  FRRELY2          3196 non-null   int64  \n",
      " 21  FRDEMN2          3196 non-null   int64  \n",
      " 22  FRCRITZ2         3196 non-null   int64  \n",
      " 23  FRAMT            3196 non-null   int64  \n",
      " 24  PAR_NERVE        3196 non-null   int64  \n",
      " 25  FAM_NERVE        3196 non-null   int64  \n",
      " 26  FR_NERVE         3196 non-null   int64  \n",
      " 27  PAR_THREAT       3196 non-null   int64  \n",
      " 28  FAMFRTHREAT      3196 non-null   int64  \n",
      " 29  MOCA_SCORE_CCFM  3196 non-null   int64  \n",
      " 30  MOCA_SCORE       3196 non-null   float64\n",
      " 31  IMPAIRED         3196 non-null   int64  \n",
      "dtypes: float64(2), int64(30)\n",
      "memory usage: 799.1 KB\n"
     ]
    }
   ],
   "source": [
    "data = pd.read_csv(\"value_data.csv\")\n",
    "data.info()"
   ]
  },
  {
   "cell_type": "code",
   "execution_count": 3,
   "metadata": {},
   "outputs": [
    {
     "name": "stdout",
     "output_type": "stream",
     "text": [
      "<class 'pandas.core.frame.DataFrame'>\n",
      "Int64Index: 3111 entries, 0 to 3195\n",
      "Data columns (total 32 columns):\n",
      " #   Column           Non-Null Count  Dtype  \n",
      "---  ------           --------------  -----  \n",
      " 0   FI_ID            3111 non-null   int64  \n",
      " 1   GENDER           3111 non-null   int64  \n",
      " 2   AGE              3111 non-null   int64  \n",
      " 3   EDUCATION        3111 non-null   int64  \n",
      " 4   ETHGRP           3111 non-null   float64\n",
      " 5   MARITLST         3111 non-null   int64  \n",
      " 6   SPARTNER         3111 non-null   int64  \n",
      " 7   OTHER_IMP        3111 non-null   int64  \n",
      " 8   OTHER_HH         3111 non-null   int64  \n",
      " 9   RLTHAPPY         3111 non-null   int64  \n",
      " 10  SPTIME           3111 non-null   int64  \n",
      " 11  SPOPEN2          3111 non-null   int64  \n",
      " 12  SPRELY2          3111 non-null   int64  \n",
      " 13  SPDEMAND2        3111 non-null   int64  \n",
      " 14  SPCRITZE2        3111 non-null   int64  \n",
      " 15  FAMOPEN2         3111 non-null   int64  \n",
      " 16  FAMRELY2         3111 non-null   int64  \n",
      " 17  FAMDEMAN2        3111 non-null   int64  \n",
      " 18  FAMCRITZ2        3111 non-null   int64  \n",
      " 19  FROPEN2          3111 non-null   int64  \n",
      " 20  FRRELY2          3111 non-null   int64  \n",
      " 21  FRDEMN2          3111 non-null   int64  \n",
      " 22  FRCRITZ2         3111 non-null   int64  \n",
      " 23  FRAMT            3111 non-null   int64  \n",
      " 24  PAR_NERVE        3111 non-null   int64  \n",
      " 25  FAM_NERVE        3111 non-null   int64  \n",
      " 26  FR_NERVE         3111 non-null   int64  \n",
      " 27  PAR_THREAT       3111 non-null   int64  \n",
      " 28  FAMFRTHREAT      3111 non-null   int64  \n",
      " 29  MOCA_SCORE_CCFM  3111 non-null   int64  \n",
      " 30  MOCA_SCORE       3111 non-null   float64\n",
      " 31  IMPAIRED         3111 non-null   int64  \n",
      "dtypes: float64(2), int64(30)\n",
      "memory usage: 802.1 KB\n"
     ]
    }
   ],
   "source": [
    "data = data.dropna()\n",
    "data = data[data[\"ETHGRP\"] != 4]\n",
    "data.info()"
   ]
  },
  {
   "cell_type": "code",
   "execution_count": 4,
   "metadata": {},
   "outputs": [
    {
     "name": "stdout",
     "output_type": "stream",
     "text": [
      "<class 'pandas.core.frame.DataFrame'>\n",
      "Int64Index: 3111 entries, 0 to 3195\n",
      "Data columns (total 27 columns):\n",
      " #   Column       Non-Null Count  Dtype\n",
      "---  ------       --------------  -----\n",
      " 0   GENDER       3111 non-null   int64\n",
      " 1   AGE          3111 non-null   int64\n",
      " 2   MARITLST     3111 non-null   int64\n",
      " 3   SPARTNER     3111 non-null   int64\n",
      " 4   OTHER_IMP    3111 non-null   int64\n",
      " 5   OTHER_HH     3111 non-null   int64\n",
      " 6   RLTHAPPY     3111 non-null   int64\n",
      " 7   SPTIME       3111 non-null   int64\n",
      " 8   SPOPEN2      3111 non-null   int64\n",
      " 9   SPRELY2      3111 non-null   int64\n",
      " 10  SPDEMAND2    3111 non-null   int64\n",
      " 11  SPCRITZE2    3111 non-null   int64\n",
      " 12  FAMOPEN2     3111 non-null   int64\n",
      " 13  FAMRELY2     3111 non-null   int64\n",
      " 14  FAMDEMAN2    3111 non-null   int64\n",
      " 15  FAMCRITZ2    3111 non-null   int64\n",
      " 16  FROPEN2      3111 non-null   int64\n",
      " 17  FRRELY2      3111 non-null   int64\n",
      " 18  FRDEMN2      3111 non-null   int64\n",
      " 19  FRCRITZ2     3111 non-null   int64\n",
      " 20  FRAMT        3111 non-null   int64\n",
      " 21  PAR_NERVE    3111 non-null   int64\n",
      " 22  FAM_NERVE    3111 non-null   int64\n",
      " 23  FR_NERVE     3111 non-null   int64\n",
      " 24  PAR_THREAT   3111 non-null   int64\n",
      " 25  FAMFRTHREAT  3111 non-null   int64\n",
      " 26  IMPAIRED     3111 non-null   int64\n",
      "dtypes: int64(27)\n",
      "memory usage: 680.5 KB\n"
     ]
    }
   ],
   "source": [
    "data = data.drop([\"FI_ID\",\"MOCA_SCORE\",\"MOCA_SCORE_CCFM\", \"EDUCATION\", \"ETHGRP\"],axis=1)\n",
    "data.info()"
   ]
  },
  {
   "cell_type": "code",
   "execution_count": 5,
   "metadata": {},
   "outputs": [
    {
     "data": {
      "text/html": [
       "<div>\n",
       "<style scoped>\n",
       "    .dataframe tbody tr th:only-of-type {\n",
       "        vertical-align: middle;\n",
       "    }\n",
       "\n",
       "    .dataframe tbody tr th {\n",
       "        vertical-align: top;\n",
       "    }\n",
       "\n",
       "    .dataframe thead th {\n",
       "        text-align: right;\n",
       "    }\n",
       "</style>\n",
       "<table border=\"1\" class=\"dataframe\">\n",
       "  <thead>\n",
       "    <tr style=\"text-align: right;\">\n",
       "      <th></th>\n",
       "      <th>GENDER</th>\n",
       "      <th>AGE</th>\n",
       "      <th>MARITLST</th>\n",
       "      <th>SPARTNER</th>\n",
       "      <th>OTHER_IMP</th>\n",
       "      <th>OTHER_HH</th>\n",
       "      <th>RLTHAPPY</th>\n",
       "      <th>SPTIME</th>\n",
       "      <th>SPOPEN2</th>\n",
       "      <th>SPRELY2</th>\n",
       "      <th>...</th>\n",
       "      <th>FRRELY2</th>\n",
       "      <th>FRDEMN2</th>\n",
       "      <th>FRCRITZ2</th>\n",
       "      <th>FRAMT</th>\n",
       "      <th>PAR_NERVE</th>\n",
       "      <th>FAM_NERVE</th>\n",
       "      <th>FR_NERVE</th>\n",
       "      <th>PAR_THREAT</th>\n",
       "      <th>FAMFRTHREAT</th>\n",
       "      <th>IMPAIRED</th>\n",
       "    </tr>\n",
       "  </thead>\n",
       "  <tbody>\n",
       "    <tr>\n",
       "      <th>count</th>\n",
       "      <td>3111.000000</td>\n",
       "      <td>3111.000000</td>\n",
       "      <td>3111.000000</td>\n",
       "      <td>3111.000000</td>\n",
       "      <td>3111.000000</td>\n",
       "      <td>3111.000000</td>\n",
       "      <td>3111.000000</td>\n",
       "      <td>3111.000000</td>\n",
       "      <td>3111.000000</td>\n",
       "      <td>3111.000000</td>\n",
       "      <td>...</td>\n",
       "      <td>3111.000000</td>\n",
       "      <td>3111.000000</td>\n",
       "      <td>3111.000000</td>\n",
       "      <td>3111.000000</td>\n",
       "      <td>3111.000000</td>\n",
       "      <td>3111.000000</td>\n",
       "      <td>3111.000000</td>\n",
       "      <td>3111.000000</td>\n",
       "      <td>3111.000000</td>\n",
       "      <td>3111.000000</td>\n",
       "    </tr>\n",
       "    <tr>\n",
       "      <th>mean</th>\n",
       "      <td>1.527162</td>\n",
       "      <td>73.171006</td>\n",
       "      <td>2.204436</td>\n",
       "      <td>-2.022179</td>\n",
       "      <td>0.480874</td>\n",
       "      <td>0.144327</td>\n",
       "      <td>3.721311</td>\n",
       "      <td>0.364834</td>\n",
       "      <td>1.083574</td>\n",
       "      <td>1.189650</td>\n",
       "      <td>...</td>\n",
       "      <td>2.000643</td>\n",
       "      <td>0.460945</td>\n",
       "      <td>0.369013</td>\n",
       "      <td>3.202507</td>\n",
       "      <td>-0.385085</td>\n",
       "      <td>0.409836</td>\n",
       "      <td>0.218901</td>\n",
       "      <td>-1.134041</td>\n",
       "      <td>-0.539376</td>\n",
       "      <td>0.486339</td>\n",
       "    </tr>\n",
       "    <tr>\n",
       "      <th>std</th>\n",
       "      <td>0.499342</td>\n",
       "      <td>7.348579</td>\n",
       "      <td>1.772964</td>\n",
       "      <td>1.456273</td>\n",
       "      <td>0.512422</td>\n",
       "      <td>0.354211</td>\n",
       "      <td>4.330234</td>\n",
       "      <td>2.177118</td>\n",
       "      <td>2.593727</td>\n",
       "      <td>2.643448</td>\n",
       "      <td>...</td>\n",
       "      <td>1.190260</td>\n",
       "      <td>0.787565</td>\n",
       "      <td>0.951623</td>\n",
       "      <td>1.512055</td>\n",
       "      <td>2.273903</td>\n",
       "      <td>2.253290</td>\n",
       "      <td>2.149847</td>\n",
       "      <td>1.606368</td>\n",
       "      <td>1.790016</td>\n",
       "      <td>0.499894</td>\n",
       "    </tr>\n",
       "    <tr>\n",
       "      <th>min</th>\n",
       "      <td>1.000000</td>\n",
       "      <td>62.000000</td>\n",
       "      <td>1.000000</td>\n",
       "      <td>-3.000000</td>\n",
       "      <td>-2.000000</td>\n",
       "      <td>-2.000000</td>\n",
       "      <td>-3.000000</td>\n",
       "      <td>-3.000000</td>\n",
       "      <td>-3.000000</td>\n",
       "      <td>-3.000000</td>\n",
       "      <td>...</td>\n",
       "      <td>-3.000000</td>\n",
       "      <td>-3.000000</td>\n",
       "      <td>-3.000000</td>\n",
       "      <td>-3.000000</td>\n",
       "      <td>-4.000000</td>\n",
       "      <td>-5.000000</td>\n",
       "      <td>-5.000000</td>\n",
       "      <td>-4.000000</td>\n",
       "      <td>-5.000000</td>\n",
       "      <td>0.000000</td>\n",
       "    </tr>\n",
       "    <tr>\n",
       "      <th>25%</th>\n",
       "      <td>1.000000</td>\n",
       "      <td>67.000000</td>\n",
       "      <td>1.000000</td>\n",
       "      <td>-3.000000</td>\n",
       "      <td>0.000000</td>\n",
       "      <td>0.000000</td>\n",
       "      <td>-3.000000</td>\n",
       "      <td>-3.000000</td>\n",
       "      <td>-3.000000</td>\n",
       "      <td>-3.000000</td>\n",
       "      <td>...</td>\n",
       "      <td>2.000000</td>\n",
       "      <td>0.000000</td>\n",
       "      <td>0.000000</td>\n",
       "      <td>2.000000</td>\n",
       "      <td>-3.000000</td>\n",
       "      <td>0.000000</td>\n",
       "      <td>0.000000</td>\n",
       "      <td>-3.000000</td>\n",
       "      <td>0.000000</td>\n",
       "      <td>0.000000</td>\n",
       "    </tr>\n",
       "    <tr>\n",
       "      <th>50%</th>\n",
       "      <td>2.000000</td>\n",
       "      <td>72.000000</td>\n",
       "      <td>1.000000</td>\n",
       "      <td>-3.000000</td>\n",
       "      <td>0.000000</td>\n",
       "      <td>0.000000</td>\n",
       "      <td>6.000000</td>\n",
       "      <td>1.000000</td>\n",
       "      <td>3.000000</td>\n",
       "      <td>3.000000</td>\n",
       "      <td>...</td>\n",
       "      <td>2.000000</td>\n",
       "      <td>0.000000</td>\n",
       "      <td>0.000000</td>\n",
       "      <td>3.000000</td>\n",
       "      <td>1.000000</td>\n",
       "      <td>1.000000</td>\n",
       "      <td>1.000000</td>\n",
       "      <td>0.000000</td>\n",
       "      <td>0.000000</td>\n",
       "      <td>0.000000</td>\n",
       "    </tr>\n",
       "    <tr>\n",
       "      <th>75%</th>\n",
       "      <td>2.000000</td>\n",
       "      <td>79.000000</td>\n",
       "      <td>4.000000</td>\n",
       "      <td>0.000000</td>\n",
       "      <td>1.000000</td>\n",
       "      <td>0.000000</td>\n",
       "      <td>7.000000</td>\n",
       "      <td>2.000000</td>\n",
       "      <td>3.000000</td>\n",
       "      <td>3.000000</td>\n",
       "      <td>...</td>\n",
       "      <td>3.000000</td>\n",
       "      <td>1.000000</td>\n",
       "      <td>1.000000</td>\n",
       "      <td>4.000000</td>\n",
       "      <td>2.000000</td>\n",
       "      <td>2.000000</td>\n",
       "      <td>1.000000</td>\n",
       "      <td>0.000000</td>\n",
       "      <td>0.000000</td>\n",
       "      <td>1.000000</td>\n",
       "    </tr>\n",
       "    <tr>\n",
       "      <th>max</th>\n",
       "      <td>2.000000</td>\n",
       "      <td>91.000000</td>\n",
       "      <td>6.000000</td>\n",
       "      <td>1.000000</td>\n",
       "      <td>1.000000</td>\n",
       "      <td>1.000000</td>\n",
       "      <td>7.000000</td>\n",
       "      <td>3.000000</td>\n",
       "      <td>3.000000</td>\n",
       "      <td>3.000000</td>\n",
       "      <td>...</td>\n",
       "      <td>3.000000</td>\n",
       "      <td>3.000000</td>\n",
       "      <td>3.000000</td>\n",
       "      <td>5.000000</td>\n",
       "      <td>3.000000</td>\n",
       "      <td>3.000000</td>\n",
       "      <td>3.000000</td>\n",
       "      <td>3.000000</td>\n",
       "      <td>3.000000</td>\n",
       "      <td>1.000000</td>\n",
       "    </tr>\n",
       "  </tbody>\n",
       "</table>\n",
       "<p>8 rows × 27 columns</p>\n",
       "</div>"
      ],
      "text/plain": [
       "            GENDER          AGE     MARITLST     SPARTNER    OTHER_IMP  \\\n",
       "count  3111.000000  3111.000000  3111.000000  3111.000000  3111.000000   \n",
       "mean      1.527162    73.171006     2.204436    -2.022179     0.480874   \n",
       "std       0.499342     7.348579     1.772964     1.456273     0.512422   \n",
       "min       1.000000    62.000000     1.000000    -3.000000    -2.000000   \n",
       "25%       1.000000    67.000000     1.000000    -3.000000     0.000000   \n",
       "50%       2.000000    72.000000     1.000000    -3.000000     0.000000   \n",
       "75%       2.000000    79.000000     4.000000     0.000000     1.000000   \n",
       "max       2.000000    91.000000     6.000000     1.000000     1.000000   \n",
       "\n",
       "          OTHER_HH     RLTHAPPY       SPTIME      SPOPEN2      SPRELY2  ...  \\\n",
       "count  3111.000000  3111.000000  3111.000000  3111.000000  3111.000000  ...   \n",
       "mean      0.144327     3.721311     0.364834     1.083574     1.189650  ...   \n",
       "std       0.354211     4.330234     2.177118     2.593727     2.643448  ...   \n",
       "min      -2.000000    -3.000000    -3.000000    -3.000000    -3.000000  ...   \n",
       "25%       0.000000    -3.000000    -3.000000    -3.000000    -3.000000  ...   \n",
       "50%       0.000000     6.000000     1.000000     3.000000     3.000000  ...   \n",
       "75%       0.000000     7.000000     2.000000     3.000000     3.000000  ...   \n",
       "max       1.000000     7.000000     3.000000     3.000000     3.000000  ...   \n",
       "\n",
       "           FRRELY2      FRDEMN2     FRCRITZ2        FRAMT    PAR_NERVE  \\\n",
       "count  3111.000000  3111.000000  3111.000000  3111.000000  3111.000000   \n",
       "mean      2.000643     0.460945     0.369013     3.202507    -0.385085   \n",
       "std       1.190260     0.787565     0.951623     1.512055     2.273903   \n",
       "min      -3.000000    -3.000000    -3.000000    -3.000000    -4.000000   \n",
       "25%       2.000000     0.000000     0.000000     2.000000    -3.000000   \n",
       "50%       2.000000     0.000000     0.000000     3.000000     1.000000   \n",
       "75%       3.000000     1.000000     1.000000     4.000000     2.000000   \n",
       "max       3.000000     3.000000     3.000000     5.000000     3.000000   \n",
       "\n",
       "         FAM_NERVE     FR_NERVE   PAR_THREAT  FAMFRTHREAT     IMPAIRED  \n",
       "count  3111.000000  3111.000000  3111.000000  3111.000000  3111.000000  \n",
       "mean      0.409836     0.218901    -1.134041    -0.539376     0.486339  \n",
       "std       2.253290     2.149847     1.606368     1.790016     0.499894  \n",
       "min      -5.000000    -5.000000    -4.000000    -5.000000     0.000000  \n",
       "25%       0.000000     0.000000    -3.000000     0.000000     0.000000  \n",
       "50%       1.000000     1.000000     0.000000     0.000000     0.000000  \n",
       "75%       2.000000     1.000000     0.000000     0.000000     1.000000  \n",
       "max       3.000000     3.000000     3.000000     3.000000     1.000000  \n",
       "\n",
       "[8 rows x 27 columns]"
      ]
     },
     "execution_count": 5,
     "metadata": {},
     "output_type": "execute_result"
    }
   ],
   "source": [
    "data.describe()"
   ]
  },
  {
   "cell_type": "code",
   "execution_count": 6,
   "metadata": {},
   "outputs": [
    {
     "data": {
      "text/plain": [
       "0    1598\n",
       "1    1513\n",
       "Name: IMPAIRED, dtype: int64"
      ]
     },
     "execution_count": 6,
     "metadata": {},
     "output_type": "execute_result"
    }
   ],
   "source": [
    "data['IMPAIRED'].value_counts()"
   ]
  },
  {
   "cell_type": "code",
   "execution_count": 7,
   "metadata": {},
   "outputs": [
    {
     "data": {
      "text/plain": [
       "IMPAIRED       1.000000\n",
       "AGE            0.186726\n",
       "MARITLST       0.132307\n",
       "SPARTNER       0.131429\n",
       "OTHER_HH       0.130082\n",
       "GENDER         0.003097\n",
       "FAMOPEN2      -0.007227\n",
       "FAMCRITZ2     -0.036089\n",
       "FAMRELY2      -0.051008\n",
       "OTHER_IMP     -0.068491\n",
       "FAMDEMAN2     -0.075616\n",
       "FRDEMN2       -0.086091\n",
       "FRCRITZ2      -0.107010\n",
       "FROPEN2       -0.107264\n",
       "FAMFRTHREAT   -0.111008\n",
       "SPDEMAND2     -0.113681\n",
       "PAR_THREAT    -0.122608\n",
       "FAM_NERVE     -0.123057\n",
       "RLTHAPPY      -0.123490\n",
       "FR_NERVE      -0.124524\n",
       "SPOPEN2       -0.124851\n",
       "SPCRITZE2     -0.125209\n",
       "SPTIME        -0.127927\n",
       "SPRELY2       -0.129436\n",
       "PAR_NERVE     -0.139842\n",
       "FRAMT         -0.153310\n",
       "FRRELY2       -0.166971\n",
       "Name: IMPAIRED, dtype: float64"
      ]
     },
     "execution_count": 7,
     "metadata": {},
     "output_type": "execute_result"
    }
   ],
   "source": [
    "corr_matrix = data.corr()\n",
    "corr_matrix[\"IMPAIRED\"].sort_values(ascending=False)"
   ]
  },
  {
   "cell_type": "code",
   "execution_count": 8,
   "metadata": {
    "scrolled": true
   },
   "outputs": [
    {
     "data": {
      "text/plain": [
       "<AxesSubplot:>"
      ]
     },
     "execution_count": 8,
     "metadata": {},
     "output_type": "execute_result"
    },
    {
     "data": {
      "image/png": "[encoded data removed]",
      "text/plain": [
       "<Figure size 792x648 with 2 Axes>"
      ]
     },
     "metadata": {
      "needs_background": "light"
     },
     "output_type": "display_data"
    }
   ],
   "source": [
    "import seaborn as sns\n",
    "corr = data.corr()\n",
    "\n",
    "# Generate a mask for the upper triangle\n",
    "mask = np.zeros_like(corr, dtype=np.bool)\n",
    "mask[np.triu_indices_from(mask)] = True\n",
    "\n",
    "# Set up the matplotlib figure\n",
    "f, ax = plt.subplots(figsize=(11, 9))\n",
    "\n",
    "# Generate a custom diverging colormap\n",
    "cmap = sns.diverging_palette(220, 10, as_cmap=True)\n",
    "\n",
    "# Draw the heatmap with the mask and correct aspect ratio\n",
    "sns.heatmap(corr, mask=mask, cmap=cmap, vmax=.3, center=0,\n",
    "            square=True, linewidths=.5, cbar_kws={\"shrink\": .5})"
   ]
  },
  {
   "cell_type": "markdown",
   "metadata": {},
   "source": [
    "## ORIGINAL DATASET WITH ALL FEATURES"
   ]
  },
  {
   "cell_type": "code",
   "execution_count": 9,
   "metadata": {},
   "outputs": [],
   "source": [
    "\n",
    "x = data.drop(\"IMPAIRED\", axis=1, inplace=False) #.copy()\n",
    "y = data[\"IMPAIRED\"]\n",
    "\n",
    "x_train, x_test, y_train, y_test = train_test_split(x,y, test_size=0.25, random_state=42, stratify=y)"
   ]
  },
  {
   "cell_type": "code",
   "execution_count": 10,
   "metadata": {},
   "outputs": [
    {
     "name": "stdout",
     "output_type": "stream",
     "text": [
      "Optimization terminated successfully.\n",
      "         Current function value: 0.639196\n",
      "         Iterations 5\n",
      "                           Logit Regression Results                           \n",
      "==============================================================================\n",
      "Dep. Variable:               IMPAIRED   No. Observations:                 3111\n",
      "Model:                          Logit   Df Residuals:                     3085\n",
      "Method:                           MLE   Df Model:                           25\n",
      "Date:                Tue, 13 Apr 2021   Pseudo R-squ.:                 0.07734\n",
      "Time:                        15:31:02   Log-Likelihood:                -1988.5\n",
      "converged:                       True   LL-Null:                       -2155.2\n",
      "Covariance Type:            nonrobust   LLR p-value:                 1.143e-55\n",
      "===============================================================================\n",
      "                  coef    std err          z      P>|z|      [0.025      0.975]\n",
      "-------------------------------------------------------------------------------\n",
      "GENDER         -0.0113      0.083     -0.137      0.891      -0.173       0.151\n",
      "AGE             0.0341      0.004      7.772      0.000       0.025       0.043\n",
      "MARITLST       -0.2374      0.081     -2.944      0.003      -0.396      -0.079\n",
      "SPARTNER        0.3713      0.084      4.424      0.000       0.207       0.536\n",
      "OTHER_IMP      -0.1970      0.075     -2.626      0.009      -0.344      -0.050\n",
      "OTHER_HH        0.7488      0.111      6.717      0.000       0.530       0.967\n",
      "RLTHAPPY        0.0073      0.036      0.207      0.836      -0.062       0.077\n",
      "SPTIME         -0.0468      0.056     -0.831      0.406      -0.157       0.064\n",
      "SPOPEN2         0.0601      0.077      0.778      0.437      -0.091       0.212\n",
      "SPRELY2        -0.0919      0.087     -1.054      0.292      -0.263       0.079\n",
      "SPDEMAND2       0.0485      0.053      0.920      0.357      -0.055       0.152\n",
      "SPCRITZE2      -0.0638      0.056     -1.135      0.256      -0.174       0.046\n",
      "FAMOPEN2        0.0309      0.047      0.654      0.513      -0.062       0.123\n",
      "FAMRELY2       -0.0287      0.044     -0.656      0.512      -0.115       0.057\n",
      "FAMDEMAN2      -0.0948      0.049     -1.943      0.052      -0.190       0.001\n",
      "FAMCRITZ2       0.0336      0.047      0.712      0.476      -0.059       0.126\n",
      "FROPEN2        -0.1494      0.044     -3.370      0.001      -0.236      -0.063\n",
      "FRRELY2        -0.1336      0.044     -3.041      0.002      -0.220      -0.048\n",
      "FRDEMN2         0.0716      0.063      1.139      0.255      -0.052       0.195\n",
      "FRCRITZ2       -0.1145      0.050     -2.269      0.023      -0.213      -0.016\n",
      "FRAMT          -0.1160      0.032     -3.655      0.000      -0.178      -0.054\n",
      "PAR_NERVE      -0.0908      0.053     -1.699      0.089      -0.196       0.014\n",
      "FAM_NERVE      -0.0358      0.052     -0.696      0.487      -0.137       0.065\n",
      "FR_NERVE       -0.0558      0.056     -0.996      0.319      -0.166       0.054\n",
      "PAR_THREAT      0.2254      0.075      3.005      0.003       0.078       0.372\n",
      "FAMFRTHREAT    -0.0295      0.063     -0.469      0.639      -0.153       0.094\n",
      "===============================================================================\n"
     ]
    }
   ],
   "source": [
    "import statsmodels.api as sm\n",
    "#x = sm.add_constant(x)\n",
    "logit_mod=sm.Logit(y,x)\n",
    "result=logit_mod.fit()\n",
    "print(result.summary())"
   ]
  },
  {
   "cell_type": "code",
   "execution_count": 11,
   "metadata": {},
   "outputs": [
    {
     "data": {
      "text/plain": [
       "array([[ 0.95186436,  0.52266095, -0.68053313, ...,  0.35114412,\n",
       "         0.70169721,  0.28532136],\n",
       "       [-1.05056986,  0.25041982, -0.68053313, ...,  0.82522932,\n",
       "         1.95136101,  1.42416605],\n",
       "       [-1.05056986,  0.65878151, -0.68053313, ...,  0.82522932,\n",
       "         0.70169721,  0.28532136],\n",
       "       ...,\n",
       "       [-1.05056986,  1.61162544, -0.68053313, ...,  0.35114412,\n",
       "         0.70169721,  0.28532136],\n",
       "       [ 0.95186436, -0.56630354, -0.68053313, ...,  0.35114412,\n",
       "         0.70169721,  0.28532136],\n",
       "       [ 0.95186436,  1.33938431,  1.56751472, ...,  0.35114412,\n",
       "        -1.1727985 ,  0.28532136]])"
      ]
     },
     "execution_count": 11,
     "metadata": {},
     "output_type": "execute_result"
    }
   ],
   "source": [
    "from sklearn.preprocessing import StandardScaler\n",
    "scaler = StandardScaler()\n",
    "scaler.fit_transform(x_train)\n",
    "scaler.transform(x_test)"
   ]
  },
  {
   "cell_type": "code",
   "execution_count": 48,
   "metadata": {},
   "outputs": [],
   "source": [
    "def algorithm_pipeline(x_train, x_test, y_train, y_test, \n",
    "                       model, param_grid, cv=5):\n",
    "    scorers = {\n",
    "    'recall_score': make_scorer(recall_score,pos_label=1,greater_is_better=True),\n",
    "    'accuracy_score': make_scorer(accuracy_score)\n",
    "    }\n",
    "    \n",
    "    gs = GridSearchCV(\n",
    "        estimator=model,\n",
    "        param_grid=param_grid, \n",
    "        cv=cv, \n",
    "        n_jobs=-1, \n",
    "        scoring=make_scorer(recall_score,pos_label=1,greater_is_better=True),\n",
    "        verbose=2,\n",
    "        refit='recall_score'\n",
    "    )\n",
    "    fitted_model = gs.fit(x_train, y_train)\n",
    "    print(gs.best_params_)\n",
    "    \n",
    "    final_model = gs.best_estimator_\n",
    "    y_pred = final_model.predict(x_test)\n",
    "    print(confusion_matrix(y_test, y_pred))\n",
    "    print(classification_report(y_test, y_pred))\n",
    "    print(roc_auc_score(y_test, y_pred))\n",
    "    return final_model"
   ]
  },
  {
   "cell_type": "markdown",
   "metadata": {},
   "source": [
    "## Choose the feature which has P-value<0.05\n",
    "    -Coefficients having p-values less than alpha are statistically significant.  For example, if you chose alpha to be 0.05, coefficients having a p-value of 0.05 or less would be statistically significant (i.e., you can reject the null hypothesis and say that the coefficient is significantly different from 0)"
   ]
  },
  {
   "cell_type": "code",
   "execution_count": 13,
   "metadata": {},
   "outputs": [],
   "source": [
    "data_95_important_feature= data[[\"AGE\",\n",
    "\"MARITLST\",\n",
    "\"SPARTNER\",\n",
    "\"OTHER_IMP\",\n",
    "\"OTHER_HH\",\n",
    "\"FAMDEMAN2\",\n",
    "\"FROPEN2\",\n",
    "\"FRRELY2\",\n",
    "\"FRCRITZ2\",\n",
    "\"FRAMT\",\n",
    "\"PAR_THREAT\"]]\n"
   ]
  },
  {
   "cell_type": "code",
   "execution_count": 14,
   "metadata": {
    "scrolled": true
   },
   "outputs": [
    {
     "data": {
      "text/html": [
       "<div>\n",
       "<style scoped>\n",
       "    .dataframe tbody tr th:only-of-type {\n",
       "        vertical-align: middle;\n",
       "    }\n",
       "\n",
       "    .dataframe tbody tr th {\n",
       "        vertical-align: top;\n",
       "    }\n",
       "\n",
       "    .dataframe thead th {\n",
       "        text-align: right;\n",
       "    }\n",
       "</style>\n",
       "<table border=\"1\" class=\"dataframe\">\n",
       "  <thead>\n",
       "    <tr style=\"text-align: right;\">\n",
       "      <th></th>\n",
       "      <th>AGE</th>\n",
       "      <th>MARITLST</th>\n",
       "      <th>SPARTNER</th>\n",
       "      <th>OTHER_IMP</th>\n",
       "      <th>OTHER_HH</th>\n",
       "      <th>FAMDEMAN2</th>\n",
       "      <th>FROPEN2</th>\n",
       "      <th>FRRELY2</th>\n",
       "      <th>FRCRITZ2</th>\n",
       "      <th>FRAMT</th>\n",
       "      <th>PAR_THREAT</th>\n",
       "    </tr>\n",
       "  </thead>\n",
       "  <tbody>\n",
       "    <tr>\n",
       "      <th>0</th>\n",
       "      <td>67</td>\n",
       "      <td>2</td>\n",
       "      <td>-3</td>\n",
       "      <td>0</td>\n",
       "      <td>0</td>\n",
       "      <td>2</td>\n",
       "      <td>1</td>\n",
       "      <td>0</td>\n",
       "      <td>-2</td>\n",
       "      <td>5</td>\n",
       "      <td>0</td>\n",
       "    </tr>\n",
       "    <tr>\n",
       "      <th>1</th>\n",
       "      <td>84</td>\n",
       "      <td>5</td>\n",
       "      <td>0</td>\n",
       "      <td>1</td>\n",
       "      <td>0</td>\n",
       "      <td>1</td>\n",
       "      <td>0</td>\n",
       "      <td>2</td>\n",
       "      <td>1</td>\n",
       "      <td>3</td>\n",
       "      <td>-3</td>\n",
       "    </tr>\n",
       "    <tr>\n",
       "      <th>2</th>\n",
       "      <td>65</td>\n",
       "      <td>1</td>\n",
       "      <td>-3</td>\n",
       "      <td>1</td>\n",
       "      <td>1</td>\n",
       "      <td>2</td>\n",
       "      <td>2</td>\n",
       "      <td>3</td>\n",
       "      <td>1</td>\n",
       "      <td>2</td>\n",
       "      <td>0</td>\n",
       "    </tr>\n",
       "    <tr>\n",
       "      <th>3</th>\n",
       "      <td>65</td>\n",
       "      <td>1</td>\n",
       "      <td>-3</td>\n",
       "      <td>0</td>\n",
       "      <td>0</td>\n",
       "      <td>0</td>\n",
       "      <td>1</td>\n",
       "      <td>3</td>\n",
       "      <td>0</td>\n",
       "      <td>5</td>\n",
       "      <td>0</td>\n",
       "    </tr>\n",
       "    <tr>\n",
       "      <th>4</th>\n",
       "      <td>70</td>\n",
       "      <td>1</td>\n",
       "      <td>-3</td>\n",
       "      <td>1</td>\n",
       "      <td>0</td>\n",
       "      <td>0</td>\n",
       "      <td>3</td>\n",
       "      <td>3</td>\n",
       "      <td>0</td>\n",
       "      <td>3</td>\n",
       "      <td>0</td>\n",
       "    </tr>\n",
       "  </tbody>\n",
       "</table>\n",
       "</div>"
      ],
      "text/plain": [
       "   AGE  MARITLST  SPARTNER  OTHER_IMP  OTHER_HH  FAMDEMAN2  FROPEN2  FRRELY2  \\\n",
       "0   67         2        -3          0         0          2        1        0   \n",
       "1   84         5         0          1         0          1        0        2   \n",
       "2   65         1        -3          1         1          2        2        3   \n",
       "3   65         1        -3          0         0          0        1        3   \n",
       "4   70         1        -3          1         0          0        3        3   \n",
       "\n",
       "   FRCRITZ2  FRAMT  PAR_THREAT  \n",
       "0        -2      5           0  \n",
       "1         1      3          -3  \n",
       "2         1      2           0  \n",
       "3         0      5           0  \n",
       "4         0      3           0  "
      ]
     },
     "execution_count": 14,
     "metadata": {},
     "output_type": "execute_result"
    }
   ],
   "source": [
    "data_95_important_feature.head()"
   ]
  },
  {
   "cell_type": "code",
   "execution_count": 15,
   "metadata": {},
   "outputs": [],
   "source": [
    "x = data_95_important_feature\n",
    "y = data[\"IMPAIRED\"]\n",
    "x_train, x_test, y_train, y_test = train_test_split(x,y, test_size=0.25, random_state=42, stratify=y)"
   ]
  },
  {
   "cell_type": "markdown",
   "metadata": {},
   "source": [
    "### KNN MODEL"
   ]
  },
  {
   "cell_type": "code",
   "execution_count": 16,
   "metadata": {},
   "outputs": [
    {
     "name": "stdout",
     "output_type": "stream",
     "text": [
      "[0.60354258 0.59401615 0.60263399 0.59321144 0.59154332]\n",
      "cv_scores mean:0.5969894982765931\n",
      "ROC AUC: 0.60 (+/- 0.01)\n"
     ]
    }
   ],
   "source": [
    "# CV for KNN, to understnad whether model is overfitted\n",
    "knn_cv = KNeighborsClassifier(n_neighbors=5)\n",
    "#train model with cv of 5 \n",
    "cv_scores = cross_val_score(knn_cv, x_train, y_train, cv=5, scoring = \"roc_auc\")\n",
    "#print each cv score (accuracy) and average them\n",
    "print(cv_scores)\n",
    "print(\"cv_scores mean:{}\".format(np.mean(cv_scores)))\n",
    "print(\"ROC AUC: %0.2f (+/- %0.2f)\"\n",
    "          % (cv_scores.mean(), cv_scores.std()))"
   ]
  },
  {
   "cell_type": "code",
   "execution_count": 17,
   "metadata": {},
   "outputs": [
    {
     "name": "stdout",
     "output_type": "stream",
     "text": [
      "[[271 129]\n",
      " [184 194]]\n",
      "              precision    recall  f1-score   support\n",
      "\n",
      "           0       0.60      0.68      0.63       400\n",
      "           1       0.60      0.51      0.55       378\n",
      "\n",
      "    accuracy                           0.60       778\n",
      "   macro avg       0.60      0.60      0.59       778\n",
      "weighted avg       0.60      0.60      0.59       778\n",
      "\n",
      "0.5953637566137566\n"
     ]
    }
   ],
   "source": [
    "# predictions with CV fitted model\n",
    "knn_cv.fit(x_train, y_train)\n",
    "y_pred = knn_cv.predict(x_test)\n",
    "print(confusion_matrix(y_test, y_pred))\n",
    "print(classification_report(y_test, y_pred))\n",
    "from sklearn.metrics import roc_auc_score\n",
    "print(roc_auc_score(y_test, y_pred))\n",
    "fpr, tpr, _ = roc_curve(y_test,  y_pred)\n",
    "auc = roc_auc_score(y_test,  y_pred)\n",
    "    \n",
    "result_table = result_table.append({'classifiers':knn_cv.__class__.__name__,\n",
    "                                    'fpr':fpr, \n",
    "                                    'tpr':tpr, \n",
    "                                    'auc':auc}, ignore_index=True)\n",
    "\n",
    "from sklearn.metrics import precision_recall_curve\n",
    "precision, recall, thresholds = precision_recall_curve(y_test, y_pred)\n",
    "pr_table = pr_table.append({'classifiers':knn_cv.__class__.__name__,\n",
    "                                    'Recall':recall, \n",
    "                                    'Precision':precision}, ignore_index=True)\n",
    "#pr_table.set_index('classifiers', inplace=True)"
   ]
  },
  {
   "cell_type": "code",
   "execution_count": 18,
   "metadata": {},
   "outputs": [],
   "source": [
    "#create new a knn model\n",
    "knn = KNeighborsClassifier() \n",
    "#create a dictionary of all values we want to test for n_neighbors\n",
    "param_grid = {'n_neighbors': np.arange(1, 25)}"
   ]
  },
  {
   "cell_type": "code",
   "execution_count": 19,
   "metadata": {},
   "outputs": [
    {
     "name": "stdout",
     "output_type": "stream",
     "text": [
      "Fitting 5 folds for each of 24 candidates, totalling 120 fits\n"
     ]
    },
    {
     "name": "stderr",
     "output_type": "stream",
     "text": [
      "[Parallel(n_jobs=-1)]: Using backend LokyBackend with 8 concurrent workers.\n",
      "[Parallel(n_jobs=-1)]: Done  25 tasks      | elapsed:    2.8s\n"
     ]
    },
    {
     "name": "stdout",
     "output_type": "stream",
     "text": [
      "{'n_neighbors': 7}\n",
      "[[264 136]\n",
      " [191 187]]\n",
      "              precision    recall  f1-score   support\n",
      "\n",
      "           0       0.58      0.66      0.62       400\n",
      "           1       0.58      0.49      0.53       378\n",
      "\n",
      "    accuracy                           0.58       778\n",
      "   macro avg       0.58      0.58      0.58       778\n",
      "weighted avg       0.58      0.58      0.58       778\n",
      "\n",
      "0.5773544973544973\n"
     ]
    },
    {
     "name": "stderr",
     "output_type": "stream",
     "text": [
      "[Parallel(n_jobs=-1)]: Done 120 out of 120 | elapsed:    3.4s finished\n"
     ]
    },
    {
     "data": {
      "text/plain": [
       "KNeighborsClassifier(n_neighbors=7)"
      ]
     },
     "execution_count": 19,
     "metadata": {},
     "output_type": "execute_result"
    }
   ],
   "source": [
    "algorithm_pipeline(x_train, x_test, y_train, y_test,knn, param_grid, cv=5)"
   ]
  },
  {
   "cell_type": "markdown",
   "metadata": {},
   "source": [
    "### SVM MODEL"
   ]
  },
  {
   "cell_type": "code",
   "execution_count": 20,
   "metadata": {},
   "outputs": [
    {
     "name": "stdout",
     "output_type": "stream",
     "text": [
      "[0.65723201 0.66748348 0.63277349 0.6460933  0.66234125]\n",
      "cv_scores mean:0.6531847086797044\n",
      "ROC AUC: 0.65 (+/- 0.01)\n"
     ]
    }
   ],
   "source": [
    "svc_cv = SVC(kernel='rbf', gamma= 'auto')\n",
    "cv_scores = cross_val_score(svc_cv, x_train, y_train, cv=5, scoring = \"roc_auc\")\n",
    "print(cv_scores)\n",
    "print(\"cv_scores mean:{}\".format(np.mean(cv_scores)))\n",
    "print(\"ROC AUC: %0.2f (+/- %0.2f)\"\n",
    "          % (cv_scores.mean(), cv_scores.std()))"
   ]
  },
  {
   "cell_type": "code",
   "execution_count": 21,
   "metadata": {},
   "outputs": [
    {
     "name": "stdout",
     "output_type": "stream",
     "text": [
      "[[265 135]\n",
      " [168 210]]\n",
      "              precision    recall  f1-score   support\n",
      "\n",
      "           0       0.61      0.66      0.64       400\n",
      "           1       0.61      0.56      0.58       378\n",
      "\n",
      "    accuracy                           0.61       778\n",
      "   macro avg       0.61      0.61      0.61       778\n",
      "weighted avg       0.61      0.61      0.61       778\n",
      "\n",
      "0.6090277777777777\n"
     ]
    }
   ],
   "source": [
    "# predictions with CV fitted model of SVM\n",
    "svc_cv.fit(x_train, y_train)\n",
    "y_pred = svc_cv.predict(x_test)\n",
    "print(confusion_matrix(y_test, y_pred))\n",
    "print(classification_report(y_test, y_pred))\n",
    "from sklearn.metrics import roc_auc_score\n",
    "print(roc_auc_score(y_test, y_pred))\n",
    "fpr, tpr, _ = roc_curve(y_test,  y_pred)\n",
    "auc = roc_auc_score(y_test,  y_pred)\n",
    "    \n",
    "result_table = result_table.append({'classifiers':svc_cv.__class__.__name__,\n",
    "                                    'fpr':fpr, \n",
    "                                    'tpr':tpr, \n",
    "                                    'auc':auc}, ignore_index=True)\n",
    "\n",
    "from sklearn.metrics import precision_recall_curve\n",
    "precision, recall, thresholds = precision_recall_curve(y_test, y_pred)\n",
    "pr_table = pr_table.append({'classifiers':svc_cv.__class__.__name__,\n",
    "                                    'Recall':recall, \n",
    "                                    'Precision':precision}, ignore_index=True)\n",
    "#result_table.set_index('classifiers', inplace=True)"
   ]
  },
  {
   "cell_type": "code",
   "execution_count": 22,
   "metadata": {},
   "outputs": [],
   "source": [
    "from sklearn.model_selection import GridSearchCV \n",
    "svc = SVC() \n",
    "# defining parameter range \n",
    "param_grid = {'C': [0.1,0.12,0.2,0.3,0.4,0.5,1,2],  \n",
    "              'gamma': [0.1,0.2,0.27,0.3,0.35,0.4,0.5], \n",
    "              'kernel': ['rbf']}  "
   ]
  },
  {
   "cell_type": "code",
   "execution_count": 23,
   "metadata": {},
   "outputs": [
    {
     "name": "stdout",
     "output_type": "stream",
     "text": [
      "Fitting 5 folds for each of 56 candidates, totalling 280 fits\n"
     ]
    },
    {
     "name": "stderr",
     "output_type": "stream",
     "text": [
      "[Parallel(n_jobs=-1)]: Using backend LokyBackend with 8 concurrent workers.\n",
      "[Parallel(n_jobs=-1)]: Done  34 tasks      | elapsed:    1.1s\n",
      "[Parallel(n_jobs=-1)]: Done 280 out of 280 | elapsed:    7.6s finished\n"
     ]
    },
    {
     "name": "stdout",
     "output_type": "stream",
     "text": [
      "{'C': 0.3, 'gamma': 0.5, 'kernel': 'rbf'}\n",
      "[[156 244]\n",
      " [ 79 299]]\n",
      "              precision    recall  f1-score   support\n",
      "\n",
      "           0       0.66      0.39      0.49       400\n",
      "           1       0.55      0.79      0.65       378\n",
      "\n",
      "    accuracy                           0.58       778\n",
      "   macro avg       0.61      0.59      0.57       778\n",
      "weighted avg       0.61      0.58      0.57       778\n",
      "\n",
      "0.5905026455026455\n"
     ]
    },
    {
     "data": {
      "text/plain": [
       "SVC(C=0.3, gamma=0.5)"
      ]
     },
     "execution_count": 23,
     "metadata": {},
     "output_type": "execute_result"
    }
   ],
   "source": [
    "algorithm_pipeline(x_train, x_test, y_train, y_test,svc, param_grid, cv=5)"
   ]
  },
  {
   "cell_type": "markdown",
   "metadata": {},
   "source": [
    "### RANDOM FOREST TREE MODEL"
   ]
  },
  {
   "cell_type": "code",
   "execution_count": 24,
   "metadata": {},
   "outputs": [
    {
     "name": "stdout",
     "output_type": "stream",
     "text": [
      "[0.65661711 0.63376468 0.62754222 0.63344884 0.61307209]\n",
      "cv_scores mean:0.6328889877057491\n",
      "ROC AUC: 0.63 (+/- 0.01)\n"
     ]
    }
   ],
   "source": [
    "rf_cv = RandomForestClassifier(max_depth=20, max_features=10, n_estimators=1000)\n",
    "cv_scores = cross_val_score(rf_cv, x_train, y_train, cv=5,scoring = \"roc_auc\")\n",
    "print(cv_scores)\n",
    "print(\"cv_scores mean:{}\".format(np.mean(cv_scores)))\n",
    "print(\"ROC AUC: %0.2f (+/- %0.2f)\"\n",
    "          % (cv_scores.mean(), cv_scores.std()))"
   ]
  },
  {
   "cell_type": "code",
   "execution_count": 25,
   "metadata": {},
   "outputs": [
    {
     "name": "stdout",
     "output_type": "stream",
     "text": [
      "[[246 154]\n",
      " [151 227]]\n",
      "              precision    recall  f1-score   support\n",
      "\n",
      "           0       0.62      0.61      0.62       400\n",
      "           1       0.60      0.60      0.60       378\n",
      "\n",
      "    accuracy                           0.61       778\n",
      "   macro avg       0.61      0.61      0.61       778\n",
      "weighted avg       0.61      0.61      0.61       778\n",
      "\n",
      "0.6077645502645502\n"
     ]
    }
   ],
   "source": [
    "# predictions with CV fitted model of RF\n",
    "\n",
    "rf_cv.fit(x_train, y_train)\n",
    "y_pred = rf_cv.predict(x_test)\n",
    "print(confusion_matrix(y_test, y_pred))\n",
    "print(classification_report(y_test, y_pred))\n",
    "from sklearn.metrics import roc_auc_score\n",
    "print(roc_auc_score(y_test, y_pred))\n",
    "fpr, tpr, _ = roc_curve(y_test,  y_pred)\n",
    "auc = roc_auc_score(y_test,  y_pred)\n",
    "    \n",
    "result_table = result_table.append({'classifiers':rf_cv.__class__.__name__,\n",
    "                                    'fpr':fpr, \n",
    "                                   'tpr':tpr, \n",
    "                                    'auc':auc}, ignore_index=True)\n",
    "\n",
    "from sklearn.metrics import precision_recall_curve\n",
    "precision, recall, thresholds = precision_recall_curve(y_test, y_pred)\n",
    "pr_table = pr_table.append({'classifiers':rf_cv.__class__.__name__,\n",
    "                                    'Recall':recall, \n",
    "                                    'Precision':precision}, ignore_index=True)\n"
   ]
  },
  {
   "cell_type": "code",
   "execution_count": 26,
   "metadata": {},
   "outputs": [],
   "source": [
    "# Create the parameter grid based on the results of random search \n",
    "param_grid = {\n",
    "    'bootstrap': [True],\n",
    "    'max_depth': [10, 20, 30, 40, 50],\n",
    "    'max_features': [2, 4, 6, 8, 10, 15],\n",
    "    'n_estimators': [50, 100, 150, 200, 300]\n",
    "}\n",
    "# Create a based model\n",
    "rf = RandomForestClassifier()"
   ]
  },
  {
   "cell_type": "code",
   "execution_count": 27,
   "metadata": {},
   "outputs": [
    {
     "name": "stdout",
     "output_type": "stream",
     "text": [
      "Fitting 5 folds for each of 150 candidates, totalling 750 fits\n"
     ]
    },
    {
     "name": "stderr",
     "output_type": "stream",
     "text": [
      "[Parallel(n_jobs=-1)]: Using backend LokyBackend with 8 concurrent workers.\n",
      "[Parallel(n_jobs=-1)]: Done  34 tasks      | elapsed:    2.2s\n",
      "[Parallel(n_jobs=-1)]: Done 186 tasks      | elapsed:   12.3s\n",
      "[Parallel(n_jobs=-1)]: Done 389 tasks      | elapsed:   28.4s\n",
      "[Parallel(n_jobs=-1)]: Done 672 tasks      | elapsed:   50.1s\n",
      "[Parallel(n_jobs=-1)]: Done 750 out of 750 | elapsed:   56.1s finished\n"
     ]
    },
    {
     "name": "stdout",
     "output_type": "stream",
     "text": [
      "{'bootstrap': True, 'max_depth': 50, 'max_features': 6, 'n_estimators': 150}\n",
      "[[244 156]\n",
      " [152 226]]\n",
      "              precision    recall  f1-score   support\n",
      "\n",
      "           0       0.62      0.61      0.61       400\n",
      "           1       0.59      0.60      0.59       378\n",
      "\n",
      "    accuracy                           0.60       778\n",
      "   macro avg       0.60      0.60      0.60       778\n",
      "weighted avg       0.60      0.60      0.60       778\n",
      "\n",
      "0.603941798941799\n"
     ]
    },
    {
     "data": {
      "text/plain": [
       "RandomForestClassifier(max_depth=50, max_features=6, n_estimators=150)"
      ]
     },
     "execution_count": 27,
     "metadata": {},
     "output_type": "execute_result"
    }
   ],
   "source": [
    "algorithm_pipeline(x_train, x_test, y_train, y_test,rf, param_grid, cv=5)"
   ]
  },
  {
   "cell_type": "markdown",
   "metadata": {},
   "source": [
    "### Build XG-Boost Model"
   ]
  },
  {
   "cell_type": "code",
   "execution_count": 28,
   "metadata": {},
   "outputs": [
    {
     "name": "stderr",
     "output_type": "stream",
     "text": [
      "C:\\Users\\yhy01\\Anaconda3\\lib\\site-packages\\xgboost\\sklearn.py:888: UserWarning: The use of label encoder in XGBClassifier is deprecated and will be removed in a future release. To remove this warning, do the following: 1) Pass option use_label_encoder=False when constructing XGBClassifier object; and 2) Encode your labels (y) as integers starting with 0, i.e. 0, 1, 2, ..., [num_class - 1].\n",
      "  warnings.warn(label_encoder_deprecation_msg, UserWarning)\n"
     ]
    },
    {
     "name": "stdout",
     "output_type": "stream",
     "text": [
      "[15:32:35] WARNING: C:/Users/Administrator/workspace/xgboost-win64_release_1.3.0/src/learner.cc:1061: Starting in XGBoost 1.3.0, the default evaluation metric used with the objective 'binary:logistic' was changed from 'error' to 'logloss'. Explicitly set eval_metric if you'd like to restore the old behavior.\n"
     ]
    }
   ],
   "source": [
    "from xgboost import XGBClassifier\n",
    "xgb = XGBClassifier()\n",
    "xgb.fit(x_train,y_train)\n",
    "y_pred = xgb.predict(x_test)"
   ]
  },
  {
   "cell_type": "code",
   "execution_count": 29,
   "metadata": {
    "scrolled": true
   },
   "outputs": [
    {
     "name": "stdout",
     "output_type": "stream",
     "text": [
      "[[256 144]\n",
      " [164 214]]\n",
      "              precision    recall  f1-score   support\n",
      "\n",
      "           0       0.61      0.64      0.62       400\n",
      "           1       0.60      0.57      0.58       378\n",
      "\n",
      "    accuracy                           0.60       778\n",
      "   macro avg       0.60      0.60      0.60       778\n",
      "weighted avg       0.60      0.60      0.60       778\n",
      "\n",
      "0.6030687830687831\n"
     ]
    }
   ],
   "source": [
    "print(confusion_matrix(y_test, y_pred))\n",
    "print(classification_report(y_test, y_pred))\n",
    "from sklearn.metrics import roc_auc_score\n",
    "print(roc_auc_score(y_test, y_pred))\n",
    "fpr, tpr, _ = roc_curve(y_test,  y_pred)\n",
    "auc = roc_auc_score(y_test,  y_pred)\n",
    "    \n",
    "result_table = result_table.append({'classifiers':'XG-Boost',\n",
    "                                    'fpr':fpr, \n",
    "                                   'tpr':tpr, \n",
    "                                    'auc':auc}, ignore_index=True)\n",
    "\n",
    "from sklearn.metrics import precision_recall_curve\n",
    "precision, recall, thresholds = precision_recall_curve(y_test, y_pred)\n",
    "pr_table = pr_table.append({'classifiers':'XG-Boost',\n",
    "                                    'Recall':recall, \n",
    "                                    'Precision':precision}, ignore_index=True)"
   ]
  },
  {
   "cell_type": "code",
   "execution_count": 30,
   "metadata": {},
   "outputs": [],
   "source": [
    "param_grid = {\n",
    "    'n_estimators': [400, 700, 1000],\n",
    "    'colsample_bytree': [0.7, 0.8],\n",
    "    'max_depth': [15,20,25],\n",
    "    'reg_alpha': [1.1, 1.2, 1.3],\n",
    "    'reg_lambda': [1.1, 1.2, 1.3],\n",
    "    'subsample': [0.7, 0.8, 0.9]\n",
    "}\n",
    "\n",
    "xgb = XGBClassifier()"
   ]
  },
  {
   "cell_type": "code",
   "execution_count": 31,
   "metadata": {},
   "outputs": [
    {
     "name": "stdout",
     "output_type": "stream",
     "text": [
      "Fitting 5 folds for each of 486 candidates, totalling 2430 fits\n"
     ]
    },
    {
     "name": "stderr",
     "output_type": "stream",
     "text": [
      "[Parallel(n_jobs=-1)]: Using backend LokyBackend with 8 concurrent workers.\n",
      "[Parallel(n_jobs=-1)]: Done  25 tasks      | elapsed:    8.4s\n",
      "[Parallel(n_jobs=-1)]: Done 146 tasks      | elapsed:   41.3s\n",
      "[Parallel(n_jobs=-1)]: Done 349 tasks      | elapsed:  2.3min\n",
      "[Parallel(n_jobs=-1)]: Done 632 tasks      | elapsed:  4.2min\n",
      "[Parallel(n_jobs=-1)]: Done 997 tasks      | elapsed:  7.0min\n",
      "[Parallel(n_jobs=-1)]: Done 1442 tasks      | elapsed: 10.4min\n",
      "[Parallel(n_jobs=-1)]: Done 1969 tasks      | elapsed: 17.0min\n",
      "[Parallel(n_jobs=-1)]: Done 2430 out of 2430 | elapsed: 24.4min finished\n",
      "C:\\Users\\yhy01\\Anaconda3\\lib\\site-packages\\xgboost\\sklearn.py:888: UserWarning: The use of label encoder in XGBClassifier is deprecated and will be removed in a future release. To remove this warning, do the following: 1) Pass option use_label_encoder=False when constructing XGBClassifier object; and 2) Encode your labels (y) as integers starting with 0, i.e. 0, 1, 2, ..., [num_class - 1].\n",
      "  warnings.warn(label_encoder_deprecation_msg, UserWarning)\n"
     ]
    },
    {
     "name": "stdout",
     "output_type": "stream",
     "text": [
      "[15:56:58] WARNING: C:/Users/Administrator/workspace/xgboost-win64_release_1.3.0/src/learner.cc:1061: Starting in XGBoost 1.3.0, the default evaluation metric used with the objective 'binary:logistic' was changed from 'error' to 'logloss'. Explicitly set eval_metric if you'd like to restore the old behavior.\n",
      "{'colsample_bytree': 0.7, 'max_depth': 15, 'n_estimators': 400, 'reg_alpha': 1.2, 'reg_lambda': 1.2, 'subsample': 0.7}\n",
      "[[247 153]\n",
      " [154 224]]\n",
      "              precision    recall  f1-score   support\n",
      "\n",
      "           0       0.62      0.62      0.62       400\n",
      "           1       0.59      0.59      0.59       378\n",
      "\n",
      "    accuracy                           0.61       778\n",
      "   macro avg       0.61      0.61      0.61       778\n",
      "weighted avg       0.61      0.61      0.61       778\n",
      "\n",
      "0.6050462962962962\n"
     ]
    },
    {
     "data": {
      "text/plain": [
       "XGBClassifier(base_score=0.5, booster='gbtree', colsample_bylevel=1,\n",
       "              colsample_bynode=1, colsample_bytree=0.7, gamma=0, gpu_id=-1,\n",
       "              importance_type='gain', interaction_constraints='',\n",
       "              learning_rate=0.300000012, max_delta_step=0, max_depth=15,\n",
       "              min_child_weight=1, missing=nan, monotone_constraints='()',\n",
       "              n_estimators=400, n_jobs=8, num_parallel_tree=1, random_state=0,\n",
       "              reg_alpha=1.2, reg_lambda=1.2, scale_pos_weight=1, subsample=0.7,\n",
       "              tree_method='exact', validate_parameters=1, verbosity=None)"
      ]
     },
     "execution_count": 31,
     "metadata": {},
     "output_type": "execute_result"
    }
   ],
   "source": [
    "algorithm_pipeline(x_train, x_test, y_train, y_test,xgb, param_grid, cv=5)"
   ]
  },
  {
   "cell_type": "markdown",
   "metadata": {},
   "source": [
    "### Build Gradient Boosting Model"
   ]
  },
  {
   "cell_type": "code",
   "execution_count": 32,
   "metadata": {},
   "outputs": [],
   "source": [
    "from sklearn.ensemble import GradientBoostingClassifier\n",
    "clf = GradientBoostingClassifier(n_estimators=100, learning_rate=1.0,max_depth=1, random_state=0).fit(x_train, y_train)\n",
    "y_pred = clf.predict(x_test)"
   ]
  },
  {
   "cell_type": "code",
   "execution_count": 33,
   "metadata": {},
   "outputs": [
    {
     "name": "stdout",
     "output_type": "stream",
     "text": [
      "[[272 128]\n",
      " [147 231]]\n",
      "              precision    recall  f1-score   support\n",
      "\n",
      "           0       0.65      0.68      0.66       400\n",
      "           1       0.64      0.61      0.63       378\n",
      "\n",
      "    accuracy                           0.65       778\n",
      "   macro avg       0.65      0.65      0.65       778\n",
      "weighted avg       0.65      0.65      0.65       778\n",
      "\n",
      "0.6455555555555554\n"
     ]
    }
   ],
   "source": [
    "print(confusion_matrix(y_test, y_pred))\n",
    "print(classification_report(y_test, y_pred))\n",
    "from sklearn.metrics import roc_auc_score\n",
    "print(roc_auc_score(y_test, y_pred))\n",
    "fpr, tpr, _ = roc_curve(y_test,  y_pred)\n",
    "auc = roc_auc_score(y_test,  y_pred)\n",
    "    \n",
    "result_table = result_table.append({'classifiers':'Gradient-Boost',\n",
    "                                    'fpr':fpr, \n",
    "                                   'tpr':tpr, \n",
    "                                    'auc':auc}, ignore_index=True)\n",
    "\n",
    "from sklearn.metrics import precision_recall_curve\n",
    "precision, recall, thresholds = precision_recall_curve(y_test, y_pred)\n",
    "pr_table = pr_table.append({'classifiers':'Gradient-Boost',\n",
    "                                    'Recall':recall, \n",
    "                                    'Precision':precision}, ignore_index=True)"
   ]
  },
  {
   "cell_type": "code",
   "execution_count": 52,
   "metadata": {},
   "outputs": [],
   "source": [
    "param_grid = {\n",
    "    'n_estimators': [1100,1200,1300,1400,1000],\n",
    "    'learning_rate': [0.0001,0.00001,0.00001],\n",
    "    'max_depth': [3,5],\n",
    "    'random_state': [0, 1]\n",
    "}\n",
    "\n",
    "clf = GradientBoostingClassifier()"
   ]
  },
  {
   "cell_type": "code",
   "execution_count": 53,
   "metadata": {
    "scrolled": true
   },
   "outputs": [
    {
     "name": "stdout",
     "output_type": "stream",
     "text": [
      "Fitting 5 folds for each of 60 candidates, totalling 300 fits\n"
     ]
    },
    {
     "name": "stderr",
     "output_type": "stream",
     "text": [
      "[Parallel(n_jobs=-1)]: Using backend LokyBackend with 8 concurrent workers.\n",
      "[Parallel(n_jobs=-1)]: Done  25 tasks      | elapsed:    9.4s\n",
      "[Parallel(n_jobs=-1)]: Done 146 tasks      | elapsed:   59.8s\n",
      "[Parallel(n_jobs=-1)]: Done 300 out of 300 | elapsed:  2.2min finished\n"
     ]
    },
    {
     "name": "stdout",
     "output_type": "stream",
     "text": [
      "{'learning_rate': 0.0001, 'max_depth': 3, 'n_estimators': 1400, 'random_state': 0}\n",
      "[[327  73]\n",
      " [241 137]]\n",
      "              precision    recall  f1-score   support\n",
      "\n",
      "           0       0.58      0.82      0.68       400\n",
      "           1       0.65      0.36      0.47       378\n",
      "\n",
      "    accuracy                           0.60       778\n",
      "   macro avg       0.61      0.59      0.57       778\n",
      "weighted avg       0.61      0.60      0.57       778\n",
      "\n",
      "0.5899669312169312\n"
     ]
    },
    {
     "data": {
      "text/plain": [
       "GradientBoostingClassifier(learning_rate=0.0001, n_estimators=1400,\n",
       "                           random_state=0)"
      ]
     },
     "execution_count": 53,
     "metadata": {},
     "output_type": "execute_result"
    }
   ],
   "source": [
    "algorithm_pipeline(x_train, x_test, y_train, y_test,clf, param_grid, cv=5)"
   ]
  },
  {
   "cell_type": "code",
   "execution_count": 36,
   "metadata": {},
   "outputs": [
    {
     "data": {
      "text/html": [
       "<div>\n",
       "<style scoped>\n",
       "    .dataframe tbody tr th:only-of-type {\n",
       "        vertical-align: middle;\n",
       "    }\n",
       "\n",
       "    .dataframe tbody tr th {\n",
       "        vertical-align: top;\n",
       "    }\n",
       "\n",
       "    .dataframe thead th {\n",
       "        text-align: right;\n",
       "    }\n",
       "</style>\n",
       "<table border=\"1\" class=\"dataframe\">\n",
       "  <thead>\n",
       "    <tr style=\"text-align: right;\">\n",
       "      <th></th>\n",
       "      <th>classifiers</th>\n",
       "      <th>fpr</th>\n",
       "      <th>tpr</th>\n",
       "      <th>auc</th>\n",
       "    </tr>\n",
       "  </thead>\n",
       "  <tbody>\n",
       "    <tr>\n",
       "      <th>0</th>\n",
       "      <td>KNeighborsClassifier</td>\n",
       "      <td>[0.0, 0.3225, 1.0]</td>\n",
       "      <td>[0.0, 0.5132275132275133, 1.0]</td>\n",
       "      <td>0.595364</td>\n",
       "    </tr>\n",
       "    <tr>\n",
       "      <th>1</th>\n",
       "      <td>SVC</td>\n",
       "      <td>[0.0, 0.3375, 1.0]</td>\n",
       "      <td>[0.0, 0.5555555555555556, 1.0]</td>\n",
       "      <td>0.609028</td>\n",
       "    </tr>\n",
       "    <tr>\n",
       "      <th>2</th>\n",
       "      <td>RandomForestClassifier</td>\n",
       "      <td>[0.0, 0.385, 1.0]</td>\n",
       "      <td>[0.0, 0.6005291005291006, 1.0]</td>\n",
       "      <td>0.607765</td>\n",
       "    </tr>\n",
       "    <tr>\n",
       "      <th>3</th>\n",
       "      <td>XG-Boost</td>\n",
       "      <td>[0.0, 0.36, 1.0]</td>\n",
       "      <td>[0.0, 0.5661375661375662, 1.0]</td>\n",
       "      <td>0.603069</td>\n",
       "    </tr>\n",
       "    <tr>\n",
       "      <th>4</th>\n",
       "      <td>Gradient-Boost</td>\n",
       "      <td>[0.0, 0.32, 1.0]</td>\n",
       "      <td>[0.0, 0.6111111111111112, 1.0]</td>\n",
       "      <td>0.645556</td>\n",
       "    </tr>\n",
       "  </tbody>\n",
       "</table>\n",
       "</div>"
      ],
      "text/plain": [
       "              classifiers                 fpr                             tpr  \\\n",
       "0    KNeighborsClassifier  [0.0, 0.3225, 1.0]  [0.0, 0.5132275132275133, 1.0]   \n",
       "1                     SVC  [0.0, 0.3375, 1.0]  [0.0, 0.5555555555555556, 1.0]   \n",
       "2  RandomForestClassifier   [0.0, 0.385, 1.0]  [0.0, 0.6005291005291006, 1.0]   \n",
       "3                XG-Boost    [0.0, 0.36, 1.0]  [0.0, 0.5661375661375662, 1.0]   \n",
       "4          Gradient-Boost    [0.0, 0.32, 1.0]  [0.0, 0.6111111111111112, 1.0]   \n",
       "\n",
       "        auc  \n",
       "0  0.595364  \n",
       "1  0.609028  \n",
       "2  0.607765  \n",
       "3  0.603069  \n",
       "4  0.645556  "
      ]
     },
     "execution_count": 36,
     "metadata": {},
     "output_type": "execute_result"
    }
   ],
   "source": [
    "result_table"
   ]
  },
  {
   "cell_type": "code",
   "execution_count": null,
   "metadata": {},
   "outputs": [],
   "source": []
  }
 ],
 "metadata": {
  "kernelspec": {
   "display_name": "Python 3",
   "language": "python",
   "name": "python3"
  },
  "language_info": {
   "codemirror_mode": {
    "name": "ipython",
    "version": 3
   },
   "file_extension": ".py",
   "mimetype": "text/x-python",
   "name": "python",
   "nbconvert_exporter": "python",
   "pygments_lexer": "ipython3",
   "version": "3.8.5"
  },
  "toc": {
   "base_numbering": 1,
   "nav_menu": {},
   "number_sections": true,
   "sideBar": true,
   "skip_h1_title": false,
   "title_cell": "Table of Contents",
   "title_sidebar": "Contents",
   "toc_cell": false,
   "toc_position": {},
   "toc_section_display": true,
   "toc_window_display": false
  }
 },
 "nbformat": 4,
 "nbformat_minor": 4
}
