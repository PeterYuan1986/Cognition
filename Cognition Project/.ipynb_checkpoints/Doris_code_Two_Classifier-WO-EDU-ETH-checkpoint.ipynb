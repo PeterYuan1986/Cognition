{
 "cells": [
  {
   "cell_type": "code",
   "execution_count": 1,
   "metadata": {},
   "outputs": [],
   "source": [
    "# only in a Jupyter notebook\n",
    "%matplotlib inline \n",
    "import matplotlib.pyplot as plt\n",
    "import pandas as pd\n",
    "import numpy as np\n",
    "\n",
    "from sklearn.metrics import roc_auc_score\n",
    "from sklearn.metrics import roc_curve\n",
    "from sklearn.metrics import auc\n",
    "from sklearn.metrics import classification_report, roc_curve, precision_recall_curve, auc, make_scorer, recall_score, accuracy_score, precision_score, confusion_matrix\n",
    "from sklearn.model_selection import train_test_split, GridSearchCV, StratifiedKFold\n",
    "from sklearn import preprocessing\n",
    "from sklearn.ensemble import RandomForestClassifier\n",
    "from sklearn.neighbors import KNeighborsClassifier\n",
    "from sklearn.svm import SVC\n",
    "from sklearn.model_selection import cross_val_score\n",
    "\n",
    "result_table = pd.DataFrame(columns=['classifiers', 'fpr','tpr','auc'])\n",
    "pr_table = pd.DataFrame(columns=['classifiers', 'Recall','Precision'])"
   ]
  },
  {
   "cell_type": "code",
   "execution_count": 2,
   "metadata": {},
   "outputs": [
    {
     "name": "stdout",
     "output_type": "stream",
     "text": [
      "<class 'pandas.core.frame.DataFrame'>\n",
      "RangeIndex: 3196 entries, 0 to 3195\n",
      "Data columns (total 32 columns):\n",
      "FI_ID              3196 non-null int64\n",
      "GENDER             3196 non-null int64\n",
      "AGE                3196 non-null int64\n",
      "EDUCATION          3196 non-null int64\n",
      "ETHGRP             3184 non-null float64\n",
      "MARITLST           3196 non-null int64\n",
      "SPARTNER           3196 non-null int64\n",
      "OTHER_IMP          3196 non-null int64\n",
      "OTHER_HH           3196 non-null int64\n",
      "RLTHAPPY           3196 non-null int64\n",
      "SPTIME             3196 non-null int64\n",
      "SPOPEN2            3196 non-null int64\n",
      "SPRELY2            3196 non-null int64\n",
      "SPDEMAND2          3196 non-null int64\n",
      "SPCRITZE2          3196 non-null int64\n",
      "FAMOPEN2           3196 non-null int64\n",
      "FAMRELY2           3196 non-null int64\n",
      "FAMDEMAN2          3196 non-null int64\n",
      "FAMCRITZ2          3196 non-null int64\n",
      "FROPEN2            3196 non-null int64\n",
      "FRRELY2            3196 non-null int64\n",
      "FRDEMN2            3196 non-null int64\n",
      "FRCRITZ2           3196 non-null int64\n",
      "FRAMT              3196 non-null int64\n",
      "PAR_NERVE          3196 non-null int64\n",
      "FAM_NERVE          3196 non-null int64\n",
      "FR_NERVE           3196 non-null int64\n",
      "PAR_THREAT         3196 non-null int64\n",
      "FAMFRTHREAT        3196 non-null int64\n",
      "MOCA_SCORE_CCFM    3196 non-null int64\n",
      "MOCA_SCORE         3196 non-null float64\n",
      "IMPAIRED           3196 non-null int64\n",
      "dtypes: float64(2), int64(30)\n",
      "memory usage: 799.1 KB\n"
     ]
    }
   ],
   "source": [
    "data = pd.read_csv(\"value_data.csv\")\n",
    "data.info()"
   ]
  },
  {
   "cell_type": "code",
   "execution_count": 3,
   "metadata": {},
   "outputs": [
    {
     "name": "stdout",
     "output_type": "stream",
     "text": [
      "<class 'pandas.core.frame.DataFrame'>\n",
      "Int64Index: 3111 entries, 0 to 3195\n",
      "Data columns (total 32 columns):\n",
      "FI_ID              3111 non-null int64\n",
      "GENDER             3111 non-null int64\n",
      "AGE                3111 non-null int64\n",
      "EDUCATION          3111 non-null int64\n",
      "ETHGRP             3111 non-null float64\n",
      "MARITLST           3111 non-null int64\n",
      "SPARTNER           3111 non-null int64\n",
      "OTHER_IMP          3111 non-null int64\n",
      "OTHER_HH           3111 non-null int64\n",
      "RLTHAPPY           3111 non-null int64\n",
      "SPTIME             3111 non-null int64\n",
      "SPOPEN2            3111 non-null int64\n",
      "SPRELY2            3111 non-null int64\n",
      "SPDEMAND2          3111 non-null int64\n",
      "SPCRITZE2          3111 non-null int64\n",
      "FAMOPEN2           3111 non-null int64\n",
      "FAMRELY2           3111 non-null int64\n",
      "FAMDEMAN2          3111 non-null int64\n",
      "FAMCRITZ2          3111 non-null int64\n",
      "FROPEN2            3111 non-null int64\n",
      "FRRELY2            3111 non-null int64\n",
      "FRDEMN2            3111 non-null int64\n",
      "FRCRITZ2           3111 non-null int64\n",
      "FRAMT              3111 non-null int64\n",
      "PAR_NERVE          3111 non-null int64\n",
      "FAM_NERVE          3111 non-null int64\n",
      "FR_NERVE           3111 non-null int64\n",
      "PAR_THREAT         3111 non-null int64\n",
      "FAMFRTHREAT        3111 non-null int64\n",
      "MOCA_SCORE_CCFM    3111 non-null int64\n",
      "MOCA_SCORE         3111 non-null float64\n",
      "IMPAIRED           3111 non-null int64\n",
      "dtypes: float64(2), int64(30)\n",
      "memory usage: 802.1 KB\n"
     ]
    }
   ],
   "source": [
    "data = data.dropna()\n",
    "data = data[data[\"ETHGRP\"] != 4]\n",
    "data.info()"
   ]
  },
  {
   "cell_type": "code",
   "execution_count": 4,
   "metadata": {},
   "outputs": [
    {
     "name": "stdout",
     "output_type": "stream",
     "text": [
      "<class 'pandas.core.frame.DataFrame'>\n",
      "Int64Index: 3111 entries, 0 to 3195\n",
      "Data columns (total 27 columns):\n",
      "GENDER         3111 non-null int64\n",
      "AGE            3111 non-null int64\n",
      "MARITLST       3111 non-null int64\n",
      "SPARTNER       3111 non-null int64\n",
      "OTHER_IMP      3111 non-null int64\n",
      "OTHER_HH       3111 non-null int64\n",
      "RLTHAPPY       3111 non-null int64\n",
      "SPTIME         3111 non-null int64\n",
      "SPOPEN2        3111 non-null int64\n",
      "SPRELY2        3111 non-null int64\n",
      "SPDEMAND2      3111 non-null int64\n",
      "SPCRITZE2      3111 non-null int64\n",
      "FAMOPEN2       3111 non-null int64\n",
      "FAMRELY2       3111 non-null int64\n",
      "FAMDEMAN2      3111 non-null int64\n",
      "FAMCRITZ2      3111 non-null int64\n",
      "FROPEN2        3111 non-null int64\n",
      "FRRELY2        3111 non-null int64\n",
      "FRDEMN2        3111 non-null int64\n",
      "FRCRITZ2       3111 non-null int64\n",
      "FRAMT          3111 non-null int64\n",
      "PAR_NERVE      3111 non-null int64\n",
      "FAM_NERVE      3111 non-null int64\n",
      "FR_NERVE       3111 non-null int64\n",
      "PAR_THREAT     3111 non-null int64\n",
      "FAMFRTHREAT    3111 non-null int64\n",
      "IMPAIRED       3111 non-null int64\n",
      "dtypes: int64(27)\n",
      "memory usage: 680.5 KB\n"
     ]
    }
   ],
   "source": [
    "data = data.drop([\"FI_ID\",\"MOCA_SCORE\",\"MOCA_SCORE_CCFM\", \"EDUCATION\", \"ETHGRP\"],axis=1)\n",
    "data.info()"
   ]
  },
  {
   "cell_type": "code",
   "execution_count": 5,
   "metadata": {},
   "outputs": [
    {
     "data": {
      "text/html": [
       "<div>\n",
       "<style scoped>\n",
       "    .dataframe tbody tr th:only-of-type {\n",
       "        vertical-align: middle;\n",
       "    }\n",
       "\n",
       "    .dataframe tbody tr th {\n",
       "        vertical-align: top;\n",
       "    }\n",
       "\n",
       "    .dataframe thead th {\n",
       "        text-align: right;\n",
       "    }\n",
       "</style>\n",
       "<table border=\"1\" class=\"dataframe\">\n",
       "  <thead>\n",
       "    <tr style=\"text-align: right;\">\n",
       "      <th></th>\n",
       "      <th>GENDER</th>\n",
       "      <th>AGE</th>\n",
       "      <th>MARITLST</th>\n",
       "      <th>SPARTNER</th>\n",
       "      <th>OTHER_IMP</th>\n",
       "      <th>OTHER_HH</th>\n",
       "      <th>RLTHAPPY</th>\n",
       "      <th>SPTIME</th>\n",
       "      <th>SPOPEN2</th>\n",
       "      <th>SPRELY2</th>\n",
       "      <th>...</th>\n",
       "      <th>FRRELY2</th>\n",
       "      <th>FRDEMN2</th>\n",
       "      <th>FRCRITZ2</th>\n",
       "      <th>FRAMT</th>\n",
       "      <th>PAR_NERVE</th>\n",
       "      <th>FAM_NERVE</th>\n",
       "      <th>FR_NERVE</th>\n",
       "      <th>PAR_THREAT</th>\n",
       "      <th>FAMFRTHREAT</th>\n",
       "      <th>IMPAIRED</th>\n",
       "    </tr>\n",
       "  </thead>\n",
       "  <tbody>\n",
       "    <tr>\n",
       "      <th>count</th>\n",
       "      <td>3111.000000</td>\n",
       "      <td>3111.000000</td>\n",
       "      <td>3111.000000</td>\n",
       "      <td>3111.000000</td>\n",
       "      <td>3111.000000</td>\n",
       "      <td>3111.000000</td>\n",
       "      <td>3111.000000</td>\n",
       "      <td>3111.000000</td>\n",
       "      <td>3111.000000</td>\n",
       "      <td>3111.000000</td>\n",
       "      <td>...</td>\n",
       "      <td>3111.000000</td>\n",
       "      <td>3111.000000</td>\n",
       "      <td>3111.000000</td>\n",
       "      <td>3111.000000</td>\n",
       "      <td>3111.000000</td>\n",
       "      <td>3111.000000</td>\n",
       "      <td>3111.000000</td>\n",
       "      <td>3111.000000</td>\n",
       "      <td>3111.000000</td>\n",
       "      <td>3111.000000</td>\n",
       "    </tr>\n",
       "    <tr>\n",
       "      <th>mean</th>\n",
       "      <td>1.527162</td>\n",
       "      <td>73.171006</td>\n",
       "      <td>2.204436</td>\n",
       "      <td>-2.022179</td>\n",
       "      <td>0.480874</td>\n",
       "      <td>0.144327</td>\n",
       "      <td>3.721311</td>\n",
       "      <td>0.364834</td>\n",
       "      <td>1.083574</td>\n",
       "      <td>1.189650</td>\n",
       "      <td>...</td>\n",
       "      <td>2.000643</td>\n",
       "      <td>0.460945</td>\n",
       "      <td>0.369013</td>\n",
       "      <td>3.202507</td>\n",
       "      <td>-0.385085</td>\n",
       "      <td>0.409836</td>\n",
       "      <td>0.218901</td>\n",
       "      <td>-1.134041</td>\n",
       "      <td>-0.539376</td>\n",
       "      <td>0.486339</td>\n",
       "    </tr>\n",
       "    <tr>\n",
       "      <th>std</th>\n",
       "      <td>0.499342</td>\n",
       "      <td>7.348579</td>\n",
       "      <td>1.772964</td>\n",
       "      <td>1.456273</td>\n",
       "      <td>0.512422</td>\n",
       "      <td>0.354211</td>\n",
       "      <td>4.330234</td>\n",
       "      <td>2.177118</td>\n",
       "      <td>2.593727</td>\n",
       "      <td>2.643448</td>\n",
       "      <td>...</td>\n",
       "      <td>1.190260</td>\n",
       "      <td>0.787565</td>\n",
       "      <td>0.951623</td>\n",
       "      <td>1.512055</td>\n",
       "      <td>2.273903</td>\n",
       "      <td>2.253290</td>\n",
       "      <td>2.149847</td>\n",
       "      <td>1.606368</td>\n",
       "      <td>1.790016</td>\n",
       "      <td>0.499894</td>\n",
       "    </tr>\n",
       "    <tr>\n",
       "      <th>min</th>\n",
       "      <td>1.000000</td>\n",
       "      <td>62.000000</td>\n",
       "      <td>1.000000</td>\n",
       "      <td>-3.000000</td>\n",
       "      <td>-2.000000</td>\n",
       "      <td>-2.000000</td>\n",
       "      <td>-3.000000</td>\n",
       "      <td>-3.000000</td>\n",
       "      <td>-3.000000</td>\n",
       "      <td>-3.000000</td>\n",
       "      <td>...</td>\n",
       "      <td>-3.000000</td>\n",
       "      <td>-3.000000</td>\n",
       "      <td>-3.000000</td>\n",
       "      <td>-3.000000</td>\n",
       "      <td>-4.000000</td>\n",
       "      <td>-5.000000</td>\n",
       "      <td>-5.000000</td>\n",
       "      <td>-4.000000</td>\n",
       "      <td>-5.000000</td>\n",
       "      <td>0.000000</td>\n",
       "    </tr>\n",
       "    <tr>\n",
       "      <th>25%</th>\n",
       "      <td>1.000000</td>\n",
       "      <td>67.000000</td>\n",
       "      <td>1.000000</td>\n",
       "      <td>-3.000000</td>\n",
       "      <td>0.000000</td>\n",
       "      <td>0.000000</td>\n",
       "      <td>-3.000000</td>\n",
       "      <td>-3.000000</td>\n",
       "      <td>-3.000000</td>\n",
       "      <td>-3.000000</td>\n",
       "      <td>...</td>\n",
       "      <td>2.000000</td>\n",
       "      <td>0.000000</td>\n",
       "      <td>0.000000</td>\n",
       "      <td>2.000000</td>\n",
       "      <td>-3.000000</td>\n",
       "      <td>0.000000</td>\n",
       "      <td>0.000000</td>\n",
       "      <td>-3.000000</td>\n",
       "      <td>0.000000</td>\n",
       "      <td>0.000000</td>\n",
       "    </tr>\n",
       "    <tr>\n",
       "      <th>50%</th>\n",
       "      <td>2.000000</td>\n",
       "      <td>72.000000</td>\n",
       "      <td>1.000000</td>\n",
       "      <td>-3.000000</td>\n",
       "      <td>0.000000</td>\n",
       "      <td>0.000000</td>\n",
       "      <td>6.000000</td>\n",
       "      <td>1.000000</td>\n",
       "      <td>3.000000</td>\n",
       "      <td>3.000000</td>\n",
       "      <td>...</td>\n",
       "      <td>2.000000</td>\n",
       "      <td>0.000000</td>\n",
       "      <td>0.000000</td>\n",
       "      <td>3.000000</td>\n",
       "      <td>1.000000</td>\n",
       "      <td>1.000000</td>\n",
       "      <td>1.000000</td>\n",
       "      <td>0.000000</td>\n",
       "      <td>0.000000</td>\n",
       "      <td>0.000000</td>\n",
       "    </tr>\n",
       "    <tr>\n",
       "      <th>75%</th>\n",
       "      <td>2.000000</td>\n",
       "      <td>79.000000</td>\n",
       "      <td>4.000000</td>\n",
       "      <td>0.000000</td>\n",
       "      <td>1.000000</td>\n",
       "      <td>0.000000</td>\n",
       "      <td>7.000000</td>\n",
       "      <td>2.000000</td>\n",
       "      <td>3.000000</td>\n",
       "      <td>3.000000</td>\n",
       "      <td>...</td>\n",
       "      <td>3.000000</td>\n",
       "      <td>1.000000</td>\n",
       "      <td>1.000000</td>\n",
       "      <td>4.000000</td>\n",
       "      <td>2.000000</td>\n",
       "      <td>2.000000</td>\n",
       "      <td>1.000000</td>\n",
       "      <td>0.000000</td>\n",
       "      <td>0.000000</td>\n",
       "      <td>1.000000</td>\n",
       "    </tr>\n",
       "    <tr>\n",
       "      <th>max</th>\n",
       "      <td>2.000000</td>\n",
       "      <td>91.000000</td>\n",
       "      <td>6.000000</td>\n",
       "      <td>1.000000</td>\n",
       "      <td>1.000000</td>\n",
       "      <td>1.000000</td>\n",
       "      <td>7.000000</td>\n",
       "      <td>3.000000</td>\n",
       "      <td>3.000000</td>\n",
       "      <td>3.000000</td>\n",
       "      <td>...</td>\n",
       "      <td>3.000000</td>\n",
       "      <td>3.000000</td>\n",
       "      <td>3.000000</td>\n",
       "      <td>5.000000</td>\n",
       "      <td>3.000000</td>\n",
       "      <td>3.000000</td>\n",
       "      <td>3.000000</td>\n",
       "      <td>3.000000</td>\n",
       "      <td>3.000000</td>\n",
       "      <td>1.000000</td>\n",
       "    </tr>\n",
       "  </tbody>\n",
       "</table>\n",
       "<p>8 rows × 27 columns</p>\n",
       "</div>"
      ],
      "text/plain": [
       "            GENDER          AGE     MARITLST     SPARTNER    OTHER_IMP  \\\n",
       "count  3111.000000  3111.000000  3111.000000  3111.000000  3111.000000   \n",
       "mean      1.527162    73.171006     2.204436    -2.022179     0.480874   \n",
       "std       0.499342     7.348579     1.772964     1.456273     0.512422   \n",
       "min       1.000000    62.000000     1.000000    -3.000000    -2.000000   \n",
       "25%       1.000000    67.000000     1.000000    -3.000000     0.000000   \n",
       "50%       2.000000    72.000000     1.000000    -3.000000     0.000000   \n",
       "75%       2.000000    79.000000     4.000000     0.000000     1.000000   \n",
       "max       2.000000    91.000000     6.000000     1.000000     1.000000   \n",
       "\n",
       "          OTHER_HH     RLTHAPPY       SPTIME      SPOPEN2      SPRELY2  ...  \\\n",
       "count  3111.000000  3111.000000  3111.000000  3111.000000  3111.000000  ...   \n",
       "mean      0.144327     3.721311     0.364834     1.083574     1.189650  ...   \n",
       "std       0.354211     4.330234     2.177118     2.593727     2.643448  ...   \n",
       "min      -2.000000    -3.000000    -3.000000    -3.000000    -3.000000  ...   \n",
       "25%       0.000000    -3.000000    -3.000000    -3.000000    -3.000000  ...   \n",
       "50%       0.000000     6.000000     1.000000     3.000000     3.000000  ...   \n",
       "75%       0.000000     7.000000     2.000000     3.000000     3.000000  ...   \n",
       "max       1.000000     7.000000     3.000000     3.000000     3.000000  ...   \n",
       "\n",
       "           FRRELY2      FRDEMN2     FRCRITZ2        FRAMT    PAR_NERVE  \\\n",
       "count  3111.000000  3111.000000  3111.000000  3111.000000  3111.000000   \n",
       "mean      2.000643     0.460945     0.369013     3.202507    -0.385085   \n",
       "std       1.190260     0.787565     0.951623     1.512055     2.273903   \n",
       "min      -3.000000    -3.000000    -3.000000    -3.000000    -4.000000   \n",
       "25%       2.000000     0.000000     0.000000     2.000000    -3.000000   \n",
       "50%       2.000000     0.000000     0.000000     3.000000     1.000000   \n",
       "75%       3.000000     1.000000     1.000000     4.000000     2.000000   \n",
       "max       3.000000     3.000000     3.000000     5.000000     3.000000   \n",
       "\n",
       "         FAM_NERVE     FR_NERVE   PAR_THREAT  FAMFRTHREAT     IMPAIRED  \n",
       "count  3111.000000  3111.000000  3111.000000  3111.000000  3111.000000  \n",
       "mean      0.409836     0.218901    -1.134041    -0.539376     0.486339  \n",
       "std       2.253290     2.149847     1.606368     1.790016     0.499894  \n",
       "min      -5.000000    -5.000000    -4.000000    -5.000000     0.000000  \n",
       "25%       0.000000     0.000000    -3.000000     0.000000     0.000000  \n",
       "50%       1.000000     1.000000     0.000000     0.000000     0.000000  \n",
       "75%       2.000000     1.000000     0.000000     0.000000     1.000000  \n",
       "max       3.000000     3.000000     3.000000     3.000000     1.000000  \n",
       "\n",
       "[8 rows x 27 columns]"
      ]
     },
     "execution_count": 5,
     "metadata": {},
     "output_type": "execute_result"
    }
   ],
   "source": [
    "data.describe()"
   ]
  },
  {
   "cell_type": "code",
   "execution_count": 6,
   "metadata": {},
   "outputs": [
    {
     "data": {
      "text/plain": [
       "0    1598\n",
       "1    1513\n",
       "Name: IMPAIRED, dtype: int64"
      ]
     },
     "execution_count": 6,
     "metadata": {},
     "output_type": "execute_result"
    }
   ],
   "source": [
    "data['IMPAIRED'].value_counts()"
   ]
  },
  {
   "cell_type": "code",
   "execution_count": 7,
   "metadata": {},
   "outputs": [
    {
     "data": {
      "text/plain": [
       "IMPAIRED       1.000000\n",
       "AGE            0.186726\n",
       "MARITLST       0.132307\n",
       "SPARTNER       0.131429\n",
       "OTHER_HH       0.130082\n",
       "GENDER         0.003097\n",
       "FAMOPEN2      -0.007227\n",
       "FAMCRITZ2     -0.036089\n",
       "FAMRELY2      -0.051008\n",
       "OTHER_IMP     -0.068491\n",
       "FAMDEMAN2     -0.075616\n",
       "FRDEMN2       -0.086091\n",
       "FRCRITZ2      -0.107010\n",
       "FROPEN2       -0.107264\n",
       "FAMFRTHREAT   -0.111008\n",
       "SPDEMAND2     -0.113681\n",
       "PAR_THREAT    -0.122608\n",
       "FAM_NERVE     -0.123057\n",
       "RLTHAPPY      -0.123490\n",
       "FR_NERVE      -0.124524\n",
       "SPOPEN2       -0.124851\n",
       "SPCRITZE2     -0.125209\n",
       "SPTIME        -0.127927\n",
       "SPRELY2       -0.129436\n",
       "PAR_NERVE     -0.139842\n",
       "FRAMT         -0.153310\n",
       "FRRELY2       -0.166971\n",
       "Name: IMPAIRED, dtype: float64"
      ]
     },
     "execution_count": 7,
     "metadata": {},
     "output_type": "execute_result"
    }
   ],
   "source": [
    "corr_matrix = data.corr()\n",
    "corr_matrix[\"IMPAIRED\"].sort_values(ascending=False)"
   ]
  },
  {
   "cell_type": "code",
   "execution_count": 8,
   "metadata": {},
   "outputs": [
    {
     "data": {
      "text/plain": [
       "<matplotlib.axes._subplots.AxesSubplot at 0x7fbd90704e10>"
      ]
     },
     "execution_count": 8,
     "metadata": {},
     "output_type": "execute_result"
    },
    {
     "data": {
      "image/png": "[encoded data removed]",
      "text/plain": [
       "<Figure size 792x648 with 2 Axes>"
      ]
     },
     "metadata": {
      "needs_background": "light"
     },
     "output_type": "display_data"
    }
   ],
   "source": [
    "import seaborn as sns\n",
    "corr = data.corr()\n",
    "\n",
    "# Generate a mask for the upper triangle\n",
    "mask = np.zeros_like(corr, dtype=np.bool)\n",
    "mask[np.triu_indices_from(mask)] = True\n",
    "\n",
    "# Set up the matplotlib figure\n",
    "f, ax = plt.subplots(figsize=(11, 9))\n",
    "\n",
    "# Generate a custom diverging colormap\n",
    "cmap = sns.diverging_palette(220, 10, as_cmap=True)\n",
    "\n",
    "# Draw the heatmap with the mask and correct aspect ratio\n",
    "sns.heatmap(corr, mask=mask, cmap=cmap, vmax=.3, center=0,\n",
    "            square=True, linewidths=.5, cbar_kws={\"shrink\": .5})"
   ]
  },
  {
   "cell_type": "code",
   "execution_count": 9,
   "metadata": {},
   "outputs": [],
   "source": [
    "\n",
    "x = data.drop(\"IMPAIRED\", axis=1, inplace=False) #.copy()\n",
    "y = data[\"IMPAIRED\"]\n",
    "\n",
    "x_train, x_test, y_train, y_test = train_test_split(x,y, test_size=0.25, random_state=42, stratify=y)"
   ]
  },
  {
   "cell_type": "code",
   "execution_count": 10,
   "metadata": {},
   "outputs": [
    {
     "name": "stdout",
     "output_type": "stream",
     "text": [
      "Optimization terminated successfully.\n",
      "         Current function value: 0.639196\n",
      "         Iterations 5\n",
      "                           Logit Regression Results                           \n",
      "==============================================================================\n",
      "Dep. Variable:               IMPAIRED   No. Observations:                 3111\n",
      "Model:                          Logit   Df Residuals:                     3085\n",
      "Method:                           MLE   Df Model:                           25\n",
      "Date:                Mon, 29 Mar 2021   Pseudo R-squ.:                 0.07734\n",
      "Time:                        11:44:07   Log-Likelihood:                -1988.5\n",
      "converged:                       True   LL-Null:                       -2155.2\n",
      "Covariance Type:            nonrobust   LLR p-value:                 1.143e-55\n",
      "===============================================================================\n",
      "                  coef    std err          z      P>|z|      [0.025      0.975]\n",
      "-------------------------------------------------------------------------------\n",
      "GENDER         -0.0113      0.083     -0.137      0.891      -0.173       0.151\n",
      "AGE             0.0341      0.004      7.772      0.000       0.025       0.043\n",
      "MARITLST       -0.2374      0.081     -2.944      0.003      -0.396      -0.079\n",
      "SPARTNER        0.3713      0.084      4.424      0.000       0.207       0.536\n",
      "OTHER_IMP      -0.1970      0.075     -2.626      0.009      -0.344      -0.050\n",
      "OTHER_HH        0.7488      0.111      6.717      0.000       0.530       0.967\n",
      "RLTHAPPY        0.0073      0.036      0.207      0.836      -0.062       0.077\n",
      "SPTIME         -0.0468      0.056     -0.831      0.406      -0.157       0.064\n",
      "SPOPEN2         0.0601      0.077      0.778      0.437      -0.091       0.212\n",
      "SPRELY2        -0.0919      0.087     -1.054      0.292      -0.263       0.079\n",
      "SPDEMAND2       0.0485      0.053      0.920      0.357      -0.055       0.152\n",
      "SPCRITZE2      -0.0638      0.056     -1.135      0.256      -0.174       0.046\n",
      "FAMOPEN2        0.0309      0.047      0.654      0.513      -0.062       0.123\n",
      "FAMRELY2       -0.0287      0.044     -0.656      0.512      -0.115       0.057\n",
      "FAMDEMAN2      -0.0948      0.049     -1.943      0.052      -0.190       0.001\n",
      "FAMCRITZ2       0.0336      0.047      0.712      0.476      -0.059       0.126\n",
      "FROPEN2        -0.1494      0.044     -3.370      0.001      -0.236      -0.063\n",
      "FRRELY2        -0.1336      0.044     -3.041      0.002      -0.220      -0.048\n",
      "FRDEMN2         0.0716      0.063      1.139      0.255      -0.052       0.195\n",
      "FRCRITZ2       -0.1145      0.050     -2.269      0.023      -0.213      -0.016\n",
      "FRAMT          -0.1160      0.032     -3.655      0.000      -0.178      -0.054\n",
      "PAR_NERVE      -0.0908      0.053     -1.699      0.089      -0.196       0.014\n",
      "FAM_NERVE      -0.0358      0.052     -0.696      0.487      -0.137       0.065\n",
      "FR_NERVE       -0.0558      0.056     -0.996      0.319      -0.166       0.054\n",
      "PAR_THREAT      0.2254      0.075      3.005      0.003       0.078       0.372\n",
      "FAMFRTHREAT    -0.0295      0.063     -0.469      0.639      -0.153       0.094\n",
      "===============================================================================\n"
     ]
    }
   ],
   "source": [
    "import statsmodels.api as sm\n",
    "#x = sm.add_constant(x)\n",
    "logit_mod=sm.Logit(y,x)\n",
    "result=logit_mod.fit()\n",
    "print(result.summary())"
   ]
  },
  {
   "cell_type": "code",
   "execution_count": 11,
   "metadata": {},
   "outputs": [
    {
     "data": {
      "text/plain": [
       "array([[ 0.95186436,  0.52266095, -0.68053313, ...,  0.35114412,\n",
       "         0.70169721,  0.28532136],\n",
       "       [-1.05056986,  0.25041982, -0.68053313, ...,  0.82522932,\n",
       "         1.95136101,  1.42416605],\n",
       "       [-1.05056986,  0.65878151, -0.68053313, ...,  0.82522932,\n",
       "         0.70169721,  0.28532136],\n",
       "       ...,\n",
       "       [-1.05056986,  1.61162544, -0.68053313, ...,  0.35114412,\n",
       "         0.70169721,  0.28532136],\n",
       "       [ 0.95186436, -0.56630354, -0.68053313, ...,  0.35114412,\n",
       "         0.70169721,  0.28532136],\n",
       "       [ 0.95186436,  1.33938431,  1.56751472, ...,  0.35114412,\n",
       "        -1.1727985 ,  0.28532136]])"
      ]
     },
     "execution_count": 11,
     "metadata": {},
     "output_type": "execute_result"
    }
   ],
   "source": [
    "from sklearn.preprocessing import StandardScaler\n",
    "scaler = StandardScaler()\n",
    "scaler.fit_transform(x_train)\n",
    "scaler.transform(x_test)"
   ]
  },
  {
   "cell_type": "markdown",
   "metadata": {},
   "source": [
    "### KNN Model"
   ]
  },
  {
   "cell_type": "code",
   "execution_count": 12,
   "metadata": {},
   "outputs": [
    {
     "name": "stdout",
     "output_type": "stream",
     "text": [
      "[0.61280286 0.6355268  0.59970631 0.61942197 0.62044495]\n",
      "cv_scores mean:0.6175805792613618\n",
      "ROC AUC: 0.62 (+/- 0.01)\n"
     ]
    }
   ],
   "source": [
    "# CV for KNN, to understnad whether model is overfitted\n",
    "knn_cv = KNeighborsClassifier(n_neighbors=5)\n",
    "#train model with cv of 5 \n",
    "cv_scores = cross_val_score(knn_cv, x_train, y_train, cv=5, scoring = \"roc_auc\")\n",
    "#print each cv score (accuracy) and average them\n",
    "print(cv_scores)\n",
    "print(\"cv_scores mean:{}\".format(np.mean(cv_scores)))\n",
    "print(\"ROC AUC: %0.2f (+/- %0.2f)\"\n",
    "          % (cv_scores.mean(), cv_scores.std()))"
   ]
  },
  {
   "cell_type": "code",
   "execution_count": 13,
   "metadata": {},
   "outputs": [
    {
     "name": "stdout",
     "output_type": "stream",
     "text": [
      "[[275 125]\n",
      " [198 180]]\n",
      "              precision    recall  f1-score   support\n",
      "\n",
      "           0       0.58      0.69      0.63       400\n",
      "           1       0.59      0.48      0.53       378\n",
      "\n",
      "    accuracy                           0.58       778\n",
      "   macro avg       0.59      0.58      0.58       778\n",
      "weighted avg       0.59      0.58      0.58       778\n",
      "\n",
      "0.5818452380952381\n"
     ]
    }
   ],
   "source": [
    "# predictions with CV fitted model\n",
    "knn_cv.fit(x_train, y_train)\n",
    "y_pred = knn_cv.predict(x_test)\n",
    "print(confusion_matrix(y_test, y_pred))\n",
    "print(classification_report(y_test, y_pred))\n",
    "from sklearn.metrics import roc_auc_score\n",
    "print(roc_auc_score(y_test, y_pred))\n",
    "fpr, tpr, _ = roc_curve(y_test,  y_pred)\n",
    "auc = roc_auc_score(y_test,  y_pred)\n",
    "    \n",
    "result_table = result_table.append({'classifiers':knn_cv.__class__.__name__,\n",
    "                                    'fpr':fpr, \n",
    "                                    'tpr':tpr, \n",
    "                                    'auc':auc}, ignore_index=True)\n",
    "\n",
    "from sklearn.metrics import precision_recall_curve\n",
    "precision, recall, thresholds = precision_recall_curve(y_test, y_pred)\n",
    "pr_table = pr_table.append({'classifiers':knn_cv.__class__.__name__,\n",
    "                                    'Recall':recall, \n",
    "                                    'Precision':precision}, ignore_index=True)\n",
    "#pr_table.set_index('classifiers', inplace=True)"
   ]
  },
  {
   "cell_type": "code",
   "execution_count": 14,
   "metadata": {},
   "outputs": [
    {
     "data": {
      "text/plain": [
       "GridSearchCV(cv=5, estimator=KNeighborsClassifier(),\n",
       "             param_grid={'n_neighbors': array([ 1,  2,  3,  4,  5,  6,  7,  8,  9, 10, 11, 12, 13, 14, 15, 16, 17,\n",
       "       18, 19, 20, 21, 22, 23, 24])})"
      ]
     },
     "execution_count": 14,
     "metadata": {},
     "output_type": "execute_result"
    }
   ],
   "source": [
    "\n",
    "#create new a knn model\n",
    "knn = KNeighborsClassifier() \n",
    "#create a dictionary of all values we want to test for n_neighbors\n",
    "param_grid = {'n_neighbors': np.arange(1, 25)}\n",
    "#use gridsearch to test all values for n_neighbors\n",
    "grid_search = GridSearchCV(knn, param_grid, cv=5)\n",
    "#fit model to data\n",
    "grid_search.fit(x_train, y_train)"
   ]
  },
  {
   "cell_type": "code",
   "execution_count": 15,
   "metadata": {},
   "outputs": [
    {
     "data": {
      "text/plain": [
       "{'n_neighbors': 23}"
      ]
     },
     "execution_count": 15,
     "metadata": {},
     "output_type": "execute_result"
    }
   ],
   "source": [
    "grid_search.best_params_"
   ]
  },
  {
   "cell_type": "code",
   "execution_count": 16,
   "metadata": {},
   "outputs": [
    {
     "name": "stdout",
     "output_type": "stream",
     "text": [
      "[[305  95]\n",
      " [219 159]]\n",
      "              precision    recall  f1-score   support\n",
      "\n",
      "           0       0.58      0.76      0.66       400\n",
      "           1       0.63      0.42      0.50       378\n",
      "\n",
      "    accuracy                           0.60       778\n",
      "   macro avg       0.60      0.59      0.58       778\n",
      "weighted avg       0.60      0.60      0.58       778\n",
      "\n"
     ]
    },
    {
     "data": {
      "text/plain": [
       "0.5915674603174603"
      ]
     },
     "execution_count": 16,
     "metadata": {},
     "output_type": "execute_result"
    }
   ],
   "source": [
    "#prediction with best param\n",
    "final_model = grid_search.best_estimator_\n",
    "y_pred = final_model.predict(x_test)\n",
    "print(confusion_matrix(y_test, y_pred))\n",
    "print(classification_report(y_test, y_pred))\n",
    "from sklearn.metrics import roc_auc_score\n",
    "roc_auc_score(y_test, y_pred)"
   ]
  },
  {
   "cell_type": "markdown",
   "metadata": {},
   "source": [
    "### SVM Model"
   ]
  },
  {
   "cell_type": "code",
   "execution_count": 17,
   "metadata": {},
   "outputs": [
    {
     "name": "stdout",
     "output_type": "stream",
     "text": [
      "[0.67358664 0.68491189 0.66009545 0.65255378 0.67083848]\n",
      "cv_scores mean:0.6683972468496365\n",
      "ROC AUC: 0.67 (+/- 0.01)\n"
     ]
    }
   ],
   "source": [
    "svc_cv = SVC(kernel='rbf', gamma= 'auto')\n",
    "cv_scores = cross_val_score(svc_cv, x_train, y_train, cv=5, scoring = \"roc_auc\")\n",
    "print(cv_scores)\n",
    "print(\"cv_scores mean:{}\".format(np.mean(cv_scores)))\n",
    "print(\"ROC AUC: %0.2f (+/- %0.2f)\"\n",
    "          % (cv_scores.mean(), cv_scores.std()))"
   ]
  },
  {
   "cell_type": "code",
   "execution_count": 18,
   "metadata": {},
   "outputs": [
    {
     "name": "stdout",
     "output_type": "stream",
     "text": [
      "[[285 115]\n",
      " [166 212]]\n",
      "              precision    recall  f1-score   support\n",
      "\n",
      "           0       0.63      0.71      0.67       400\n",
      "           1       0.65      0.56      0.60       378\n",
      "\n",
      "    accuracy                           0.64       778\n",
      "   macro avg       0.64      0.64      0.64       778\n",
      "weighted avg       0.64      0.64      0.64       778\n",
      "\n",
      "0.6366732804232804\n"
     ]
    }
   ],
   "source": [
    "# predictions with CV fitted model of SVM\n",
    "svc_cv.fit(x_train, y_train)\n",
    "y_pred = svc_cv.predict(x_test)\n",
    "print(confusion_matrix(y_test, y_pred))\n",
    "print(classification_report(y_test, y_pred))\n",
    "from sklearn.metrics import roc_auc_score\n",
    "print(roc_auc_score(y_test, y_pred))\n",
    "fpr, tpr, _ = roc_curve(y_test,  y_pred)\n",
    "auc = roc_auc_score(y_test,  y_pred)\n",
    "    \n",
    "result_table = result_table.append({'classifiers':svc_cv.__class__.__name__,\n",
    "                                    'fpr':fpr, \n",
    "                                    'tpr':tpr, \n",
    "                                    'auc':auc}, ignore_index=True)\n",
    "\n",
    "from sklearn.metrics import precision_recall_curve\n",
    "precision, recall, thresholds = precision_recall_curve(y_test, y_pred)\n",
    "pr_table = pr_table.append({'classifiers':svc_cv.__class__.__name__,\n",
    "                                    'Recall':recall, \n",
    "                                    'Precision':precision}, ignore_index=True)\n",
    "#result_table.set_index('classifiers', inplace=True)"
   ]
  },
  {
   "cell_type": "code",
   "execution_count": 19,
   "metadata": {},
   "outputs": [
    {
     "data": {
      "text/plain": [
       "GridSearchCV(cv=5, estimator=SVC(),\n",
       "             param_grid={'C': [0.1, 1, 10, 100, 1000],\n",
       "                         'gamma': [1, 0.1, 0.01, 0.001, 0.0001],\n",
       "                         'kernel': ['rbf']})"
      ]
     },
     "execution_count": 19,
     "metadata": {},
     "output_type": "execute_result"
    }
   ],
   "source": [
    "from sklearn.model_selection import GridSearchCV \n",
    "svc = SVC() \n",
    "# defining parameter range \n",
    "param_grid = {'C': [0.1, 1, 10, 100, 1000],  \n",
    "              'gamma': [1, 0.1, 0.01, 0.001, 0.0001], \n",
    "              'kernel': ['rbf']}  \n",
    "  \n",
    "grid_search = GridSearchCV(svc, param_grid, cv=5) \n",
    "grid_search.fit(x_train, y_train)"
   ]
  },
  {
   "cell_type": "code",
   "execution_count": 20,
   "metadata": {},
   "outputs": [
    {
     "data": {
      "text/plain": [
       "{'C': 1000, 'gamma': 0.0001, 'kernel': 'rbf'}"
      ]
     },
     "execution_count": 20,
     "metadata": {},
     "output_type": "execute_result"
    }
   ],
   "source": [
    "grid_search.best_params_"
   ]
  },
  {
   "cell_type": "code",
   "execution_count": 21,
   "metadata": {},
   "outputs": [
    {
     "name": "stdout",
     "output_type": "stream",
     "text": [
      "[[289 111]\n",
      " [169 209]]\n",
      "              precision    recall  f1-score   support\n",
      "\n",
      "           0       0.63      0.72      0.67       400\n",
      "           1       0.65      0.55      0.60       378\n",
      "\n",
      "    accuracy                           0.64       778\n",
      "   macro avg       0.64      0.64      0.64       778\n",
      "weighted avg       0.64      0.64      0.64       778\n",
      "\n"
     ]
    },
    {
     "data": {
      "text/plain": [
       "0.6377050264550265"
      ]
     },
     "execution_count": 21,
     "metadata": {},
     "output_type": "execute_result"
    }
   ],
   "source": [
    "#prediction with best param\n",
    "final_model = grid_search.best_estimator_\n",
    "y_pred = final_model.predict(x_test)\n",
    "print(confusion_matrix(y_test, y_pred))\n",
    "print(classification_report(y_test, y_pred))\n",
    "from sklearn.metrics import roc_auc_score\n",
    "roc_auc_score(y_test, y_pred)"
   ]
  },
  {
   "cell_type": "markdown",
   "metadata": {},
   "source": [
    "### Random Forest Model"
   ]
  },
  {
   "cell_type": "code",
   "execution_count": 22,
   "metadata": {},
   "outputs": [
    {
     "name": "stdout",
     "output_type": "stream",
     "text": [
      "[0.69665015 0.69531021 0.68777533 0.69731628 0.66039666]\n",
      "cv_scores mean:0.6874897240705582\n",
      "ROC AUC: 0.69 (+/- 0.01)\n"
     ]
    }
   ],
   "source": [
    "rf_cv = RandomForestClassifier(max_depth=20, max_features=20, n_estimators=1000)\n",
    "cv_scores = cross_val_score(rf_cv, x_train, y_train, cv=5,scoring = \"roc_auc\")\n",
    "print(cv_scores)\n",
    "print(\"cv_scores mean:{}\".format(np.mean(cv_scores)))\n",
    "print(\"ROC AUC: %0.2f (+/- %0.2f)\"\n",
    "          % (cv_scores.mean(), cv_scores.std()))"
   ]
  },
  {
   "cell_type": "code",
   "execution_count": 23,
   "metadata": {},
   "outputs": [
    {
     "name": "stdout",
     "output_type": "stream",
     "text": [
      "[[272 128]\n",
      " [153 225]]\n",
      "              precision    recall  f1-score   support\n",
      "\n",
      "           0       0.64      0.68      0.66       400\n",
      "           1       0.64      0.60      0.62       378\n",
      "\n",
      "    accuracy                           0.64       778\n",
      "   macro avg       0.64      0.64      0.64       778\n",
      "weighted avg       0.64      0.64      0.64       778\n",
      "\n",
      "0.6376190476190476\n"
     ]
    }
   ],
   "source": [
    "# predictions with CV fitted model of RF\n",
    "\n",
    "rf_cv.fit(x_train, y_train)\n",
    "y_pred = rf_cv.predict(x_test)\n",
    "print(confusion_matrix(y_test, y_pred))\n",
    "print(classification_report(y_test, y_pred))\n",
    "from sklearn.metrics import roc_auc_score\n",
    "print(roc_auc_score(y_test, y_pred))\n",
    "fpr, tpr, _ = roc_curve(y_test,  y_pred)\n",
    "auc = roc_auc_score(y_test,  y_pred)\n",
    "    \n",
    "result_table = result_table.append({'classifiers':rf_cv.__class__.__name__,\n",
    "                                    'fpr':fpr, \n",
    "                                   'tpr':tpr, \n",
    "                                    'auc':auc}, ignore_index=True)\n",
    "\n",
    "from sklearn.metrics import precision_recall_curve\n",
    "precision, recall, thresholds = precision_recall_curve(y_test, y_pred)\n",
    "pr_table = pr_table.append({'classifiers':rf_cv.__class__.__name__,\n",
    "                                    'Recall':recall, \n",
    "                                    'Precision':precision}, ignore_index=True)\n",
    "\n"
   ]
  },
  {
   "cell_type": "code",
   "execution_count": 24,
   "metadata": {},
   "outputs": [
    {
     "data": {
      "text/plain": [
       "GridSearchCV(cv=5, estimator=RandomForestClassifier(),\n",
       "             param_grid={'bootstrap': [True], 'max_depth': [10, 20, 30, 40, 50],\n",
       "                         'max_features': [2, 4, 6, 8, 10, 15],\n",
       "                         'n_estimators': [50, 100, 150, 200, 300]})"
      ]
     },
     "execution_count": 24,
     "metadata": {},
     "output_type": "execute_result"
    }
   ],
   "source": [
    "# Create the parameter grid based on the results of random search \n",
    "param_grid = {\n",
    "    'bootstrap': [True],\n",
    "    'max_depth': [10, 20, 30, 40, 50],\n",
    "    'max_features': [2, 4, 6, 8, 10, 15],\n",
    "    'n_estimators': [50, 100, 150, 200, 300]\n",
    "}\n",
    "# Create a based model\n",
    "rf = RandomForestClassifier()\n",
    "# Instantiate the grid search model\n",
    "grid_search = GridSearchCV(rf,param_grid, cv = 5)\n",
    "# Fit the grid search to the data\n",
    "grid_search.fit(x_train, y_train)"
   ]
  },
  {
   "cell_type": "code",
   "execution_count": 25,
   "metadata": {},
   "outputs": [
    {
     "data": {
      "text/plain": [
       "{'bootstrap': True, 'max_depth': 10, 'max_features': 10, 'n_estimators': 50}"
      ]
     },
     "execution_count": 25,
     "metadata": {},
     "output_type": "execute_result"
    }
   ],
   "source": [
    "grid_search.best_params_"
   ]
  },
  {
   "cell_type": "code",
   "execution_count": 26,
   "metadata": {},
   "outputs": [
    {
     "name": "stdout",
     "output_type": "stream",
     "text": [
      "[[281 119]\n",
      " [159 219]]\n",
      "              precision    recall  f1-score   support\n",
      "\n",
      "           0       0.64      0.70      0.67       400\n",
      "           1       0.65      0.58      0.61       378\n",
      "\n",
      "    accuracy                           0.64       778\n",
      "   macro avg       0.64      0.64      0.64       778\n",
      "weighted avg       0.64      0.64      0.64       778\n",
      "\n"
     ]
    },
    {
     "data": {
      "text/plain": [
       "0.6409325396825398"
      ]
     },
     "execution_count": 26,
     "metadata": {},
     "output_type": "execute_result"
    }
   ],
   "source": [
    "#prediction with best param\n",
    "final_model = grid_search.best_estimator_\n",
    "y_pred = final_model.predict(x_test)\n",
    "print(confusion_matrix(y_test, y_pred))\n",
    "print(classification_report(y_test, y_pred))\n",
    "from sklearn.metrics import roc_auc_score\n",
    "roc_auc_score(y_test, y_pred)"
   ]
  },
  {
   "cell_type": "code",
   "execution_count": 27,
   "metadata": {},
   "outputs": [],
   "source": [
    "clf = RandomForestClassifier(n_jobs=-1)\n",
    "\n",
    "param_grid = {\n",
    "    'min_samples_split': [3, 5, 10], \n",
    "    'n_estimators' : [100, 300],\n",
    "    'max_depth': [3, 5, 15, 25],\n",
    "    'max_features': [3, 5, 10, 20]\n",
    "}\n",
    "\n",
    "scorers = {\n",
    "    'precision_score': make_scorer(precision_score),\n",
    "    'recall_score': make_scorer(recall_score),\n",
    "    'accuracy_score': make_scorer(accuracy_score)\n",
    "}"
   ]
  },
  {
   "cell_type": "code",
   "execution_count": 28,
   "metadata": {},
   "outputs": [],
   "source": [
    "def grid_search_wrapper(refit_score='precision_score'):\n",
    "    \"\"\"\n",
    "    fits a GridSearchCV classifier using refit_score for optimization\n",
    "    prints classifier performance metrics\n",
    "    \"\"\"\n",
    "    skf = StratifiedKFold(n_splits=10)\n",
    "    grid_search = GridSearchCV(clf, param_grid, scoring=scorers, refit=refit_score,\n",
    "                           cv=skf, return_train_score=True, n_jobs=-1)\n",
    "    grid_search.fit(x_train.values, y_train.values)\n",
    "\n",
    "    # make the predictions\n",
    "    y_pred = grid_search.predict(x_test.values)\n",
    "\n",
    "    print('Best params for {}'.format(refit_score))\n",
    "    print(grid_search.best_params_)\n",
    "\n",
    "    # confusion matrix on the test data.\n",
    "    print('\\nConfusion matrix of Random Forest optimized for {} on the test data:'.format(refit_score))\n",
    "    print(pd.DataFrame(confusion_matrix(y_test, y_pred),\n",
    "                 columns=['pred_neg', 'pred_pos'], index=['neg', 'pos']))\n",
    "    return grid_search"
   ]
  },
  {
   "cell_type": "code",
   "execution_count": 29,
   "metadata": {},
   "outputs": [
    {
     "name": "stdout",
     "output_type": "stream",
     "text": [
      "Best params for recall_score\n",
      "{'max_depth': 25, 'max_features': 10, 'min_samples_split': 10, 'n_estimators': 100}\n",
      "\n",
      "Confusion matrix of Random Forest optimized for recall_score on the test data:\n",
      "     pred_neg  pred_pos\n",
      "neg       270       130\n",
      "pos       144       234\n"
     ]
    }
   ],
   "source": [
    "grid_search_clf = grid_search_wrapper(refit_score='recall_score')\n"
   ]
  },
  {
   "cell_type": "code",
   "execution_count": 30,
   "metadata": {},
   "outputs": [
    {
     "data": {
      "text/html": [
       "<div>\n",
       "<style scoped>\n",
       "    .dataframe tbody tr th:only-of-type {\n",
       "        vertical-align: middle;\n",
       "    }\n",
       "\n",
       "    .dataframe tbody tr th {\n",
       "        vertical-align: top;\n",
       "    }\n",
       "\n",
       "    .dataframe thead th {\n",
       "        text-align: right;\n",
       "    }\n",
       "</style>\n",
       "<table border=\"1\" class=\"dataframe\">\n",
       "  <thead>\n",
       "    <tr style=\"text-align: right;\">\n",
       "      <th></th>\n",
       "      <th>mean_test_precision_score</th>\n",
       "      <th>mean_test_recall_score</th>\n",
       "      <th>mean_test_accuracy_score</th>\n",
       "      <th>param_max_depth</th>\n",
       "      <th>param_max_features</th>\n",
       "      <th>param_min_samples_split</th>\n",
       "      <th>param_n_estimators</th>\n",
       "    </tr>\n",
       "  </thead>\n",
       "  <tbody>\n",
       "    <tr>\n",
       "      <th>37</th>\n",
       "      <td>0.676</td>\n",
       "      <td>0.571</td>\n",
       "      <td>0.658</td>\n",
       "      <td>5</td>\n",
       "      <td>10</td>\n",
       "      <td>3</td>\n",
       "      <td>300</td>\n",
       "    </tr>\n",
       "    <tr>\n",
       "      <th>35</th>\n",
       "      <td>0.675</td>\n",
       "      <td>0.554</td>\n",
       "      <td>0.653</td>\n",
       "      <td>5</td>\n",
       "      <td>5</td>\n",
       "      <td>10</td>\n",
       "      <td>300</td>\n",
       "    </tr>\n",
       "    <tr>\n",
       "      <th>34</th>\n",
       "      <td>0.674</td>\n",
       "      <td>0.551</td>\n",
       "      <td>0.652</td>\n",
       "      <td>5</td>\n",
       "      <td>5</td>\n",
       "      <td>10</td>\n",
       "      <td>100</td>\n",
       "    </tr>\n",
       "    <tr>\n",
       "      <th>26</th>\n",
       "      <td>0.674</td>\n",
       "      <td>0.544</td>\n",
       "      <td>0.650</td>\n",
       "      <td>5</td>\n",
       "      <td>3</td>\n",
       "      <td>5</td>\n",
       "      <td>100</td>\n",
       "    </tr>\n",
       "    <tr>\n",
       "      <th>31</th>\n",
       "      <td>0.673</td>\n",
       "      <td>0.546</td>\n",
       "      <td>0.649</td>\n",
       "      <td>5</td>\n",
       "      <td>5</td>\n",
       "      <td>3</td>\n",
       "      <td>300</td>\n",
       "    </tr>\n",
       "  </tbody>\n",
       "</table>\n",
       "</div>"
      ],
      "text/plain": [
       "    mean_test_precision_score  mean_test_recall_score  \\\n",
       "37                      0.676                   0.571   \n",
       "35                      0.675                   0.554   \n",
       "34                      0.674                   0.551   \n",
       "26                      0.674                   0.544   \n",
       "31                      0.673                   0.546   \n",
       "\n",
       "    mean_test_accuracy_score param_max_depth param_max_features  \\\n",
       "37                     0.658               5                 10   \n",
       "35                     0.653               5                  5   \n",
       "34                     0.652               5                  5   \n",
       "26                     0.650               5                  3   \n",
       "31                     0.649               5                  5   \n",
       "\n",
       "   param_min_samples_split param_n_estimators  \n",
       "37                       3                300  \n",
       "35                      10                300  \n",
       "34                      10                100  \n",
       "26                       5                100  \n",
       "31                       3                300  "
      ]
     },
     "execution_count": 30,
     "metadata": {},
     "output_type": "execute_result"
    }
   ],
   "source": [
    "results = pd.DataFrame(grid_search_clf.cv_results_)\n",
    "results = results.sort_values(by='mean_test_precision_score', ascending=False)\n",
    "results[['mean_test_precision_score', 'mean_test_recall_score', 'mean_test_accuracy_score', 'param_max_depth', 'param_max_features', 'param_min_samples_split', 'param_n_estimators']].round(3).head()"
   ]
  },
  {
   "cell_type": "code",
   "execution_count": 31,
   "metadata": {},
   "outputs": [
    {
     "name": "stdout",
     "output_type": "stream",
     "text": [
      "[[270 130]\n",
      " [144 234]]\n",
      "              precision    recall  f1-score   support\n",
      "\n",
      "           0       0.65      0.68      0.66       400\n",
      "           1       0.64      0.62      0.63       378\n",
      "\n",
      "    accuracy                           0.65       778\n",
      "   macro avg       0.65      0.65      0.65       778\n",
      "weighted avg       0.65      0.65      0.65       778\n",
      "\n"
     ]
    },
    {
     "data": {
      "text/plain": [
       "0.6470238095238096"
      ]
     },
     "execution_count": 31,
     "metadata": {},
     "output_type": "execute_result"
    }
   ],
   "source": [
    "#prediction with best param\n",
    "final_model = grid_search_clf.best_estimator_\n",
    "y_pred = final_model.predict(x_test)\n",
    "print(confusion_matrix(y_test, y_pred))\n",
    "print(classification_report(y_test, y_pred))\n",
    "from sklearn.metrics import roc_auc_score\n",
    "roc_auc_score(y_test, y_pred)"
   ]
  },
  {
   "cell_type": "code",
   "execution_count": 32,
   "metadata": {},
   "outputs": [
    {
     "name": "stdout",
     "output_type": "stream",
     "text": [
      "0.6326400352151424\n"
     ]
    }
   ],
   "source": [
    "from sklearn import model_selection\n",
    "from sklearn.ensemble import VotingClassifier\n",
    "kfold = model_selection.KFold(n_splits=10)\n",
    "# create the sub models\n",
    "estimators = []\n",
    "model1 = KNeighborsClassifier()\n",
    "estimators.append(('KNN', model1))\n",
    "model2 = SVC(kernel='rbf', gamma= 'auto')\n",
    "estimators.append(('SVC', model2))\n",
    "model3 = RandomForestClassifier()\n",
    "estimators.append(('RF', model3))\n",
    "# create the ensemble model\n",
    "ensemble = VotingClassifier(estimators)\n",
    "results = model_selection.cross_val_score(ensemble, x_train, y_train, cv=kfold)\n",
    "print(results.mean())"
   ]
  },
  {
   "cell_type": "code",
   "execution_count": 33,
   "metadata": {},
   "outputs": [
    {
     "data": {
      "image/png": "[encoded data removed]",
      "text/plain": [
       "<Figure size 576x432 with 1 Axes>"
      ]
     },
     "metadata": {
      "needs_background": "light"
     },
     "output_type": "display_data"
    }
   ],
   "source": [
    "fig = plt.figure(figsize=(8,6))\n",
    "\n",
    "for i in result_table.index:\n",
    "    plt.plot(result_table.loc[i]['fpr'], \n",
    "             result_table.loc[i]['tpr'], \n",
    "             label=\"{}, AUC={:.3f}\".format(i, result_table.loc[i]['auc']))\n",
    "    \n",
    "plt.plot([0,1], [0,1], color='red', linestyle='--')\n",
    "\n",
    "plt.xticks(np.arange(0.0, 1.1, step=0.1))\n",
    "plt.xlabel(\"Flase Positive Rate\", fontsize=15)\n",
    "\n",
    "plt.yticks(np.arange(0.0, 1.1, step=0.1))\n",
    "plt.ylabel(\"True Positive Rate\", fontsize=15)\n",
    "\n",
    "plt.title('ROC Curve Analysis', fontweight='bold', fontsize=15)\n",
    "plt.legend(prop={'size':13}, loc='lower right')\n",
    "\n",
    "plt.show()"
   ]
  },
  {
   "cell_type": "code",
   "execution_count": 34,
   "metadata": {},
   "outputs": [
    {
     "data": {
      "image/png": "[encoded data removed]",
      "text/plain": [
       "<Figure size 576x432 with 1 Axes>"
      ]
     },
     "metadata": {
      "needs_background": "light"
     },
     "output_type": "display_data"
    }
   ],
   "source": [
    "fig = plt.figure(figsize=(8,6))\n",
    "\n",
    "for i in pr_table.index:\n",
    "    plt.plot(pr_table.loc[i]['Recall'], \n",
    "             pr_table.loc[i]['Precision'],label=\"{}\".format(i))\n",
    "    \n",
    "# for i in result_table.index:\n",
    "#     plt.plot(result_table.loc[i]['fpr'], \n",
    "#              result_table.loc[i]['tpr'], \n",
    "#              label=\"{}, AUC={:.3f}\".format(i, result_table.loc[i]['auc']))\n",
    "    \n",
    "    \n",
    "    #plt.plot([0,1], [0,1], color='red', linestyle='--')\n",
    "\n",
    "plt.xticks(np.arange(0.0, 1.1, step=0.1))\n",
    "plt.xlabel(\"Recall\", fontsize=15)\n",
    "\n",
    "plt.yticks(np.arange(0.0, 1.1, step=0.1))\n",
    "plt.ylabel(\"Precision\", fontsize=15)\n",
    "\n",
    "plt.title('Precision-Recall Curve', fontweight='bold', fontsize=15)\n",
    "plt.legend(prop={'size':13}, loc='lower right')\n",
    "\n",
    "plt.show()"
   ]
  },
  {
   "cell_type": "code",
   "execution_count": 35,
   "metadata": {},
   "outputs": [
    {
     "name": "stdout",
     "output_type": "stream",
     "text": [
      "Random Forest feature importance\n",
      "Feature: GENDER, Score: 0.02300\n",
      "Feature: AGE, Score: 0.14845\n",
      "Feature: MARITLST, Score: 0.02245\n",
      "Feature: SPARTNER, Score: 0.00575\n",
      "Feature: OTHER_IMP, Score: 0.02491\n",
      "Feature: OTHER_HH, Score: 0.02183\n",
      "Feature: RLTHAPPY, Score: 0.02813\n",
      "Feature: SPTIME, Score: 0.03425\n",
      "Feature: SPOPEN2, Score: 0.01707\n",
      "Feature: SPRELY2, Score: 0.01244\n",
      "Feature: SPDEMAND2, Score: 0.03640\n",
      "Feature: SPCRITZE2, Score: 0.03910\n",
      "Feature: FAMOPEN2, Score: 0.04296\n",
      "Feature: FAMRELY2, Score: 0.03214\n",
      "Feature: FAMDEMAN2, Score: 0.04452\n",
      "Feature: FAMCRITZ2, Score: 0.04678\n",
      "Feature: FROPEN2, Score: 0.04883\n",
      "Feature: FRRELY2, Score: 0.05422\n",
      "Feature: FRDEMN2, Score: 0.03378\n",
      "Feature: FRCRITZ2, Score: 0.04272\n",
      "Feature: FRAMT, Score: 0.06859\n",
      "Feature: PAR_NERVE, Score: 0.03429\n",
      "Feature: FAM_NERVE, Score: 0.04793\n",
      "Feature: FR_NERVE, Score: 0.05357\n",
      "Feature: PAR_THREAT, Score: 0.01622\n",
      "Feature: FAMFRTHREAT, Score: 0.01965\n"
     ]
    },
    {
     "data": {
      "text/plain": [
       "<matplotlib.axes._subplots.AxesSubplot at 0x7fbdb0f11050>"
      ]
     },
     "execution_count": 35,
     "metadata": {},
     "output_type": "execute_result"
    },
    {
     "data": {
      "image/png": "[encoded data removed]",
      "text/plain": [
       "<Figure size 720x360 with 1 Axes>"
      ]
     },
     "metadata": {
      "needs_background": "light"
     },
     "output_type": "display_data"
    }
   ],
   "source": [
    "print(\"Random Forest feature importance\")\n",
    "\n",
    "model = rf_cv\n",
    "for feature, importance in zip(data.columns, model.feature_importances_):\n",
    "\tprint('Feature: %0s, Score: %.5f' % (feature,importance))\n",
    "feats = {} # a dict to hold feature_name: feature_importance\n",
    "for feature, importance in zip(data.columns, model.feature_importances_):\n",
    "    feats[feature] = importance #add the name/value pair \n",
    "\n",
    "import matplotlib.pyplot as plt\n",
    "plt.rcParams['figure.figsize'] = [10, 5]\n",
    "importances = pd.DataFrame.from_dict(feats, orient='index').rename(columns={0: 'Gini-importance'})\n",
    "importances.sort_values(by='Gini-importance').plot(kind='bar', fontsize = 8, rot=45)"
   ]
  },
  {
   "cell_type": "code",
   "execution_count": 36,
   "metadata": {},
   "outputs": [],
   "source": [
    "import tensorflow as tf\n",
    "from tensorflow import keras"
   ]
  },
  {
   "cell_type": "code",
   "execution_count": 37,
   "metadata": {},
   "outputs": [],
   "source": [
    "from  tensorflow.keras.layers import Input, Dense, Reshape, Flatten, Dropout, multiply\n",
    "from  tensorflow.keras.layers import BatchNormalization, Activation, Embedding, ZeroPadding2D\n",
    "from  tensorflow.keras.layers import LeakyReLU\n",
    "from  tensorflow.keras.layers import UpSampling2D, Conv2D\n",
    "from  tensorflow.keras.models import Sequential, Model\n",
    "from  tensorflow.keras.optimizers import Adam\n",
    "\n",
    "model = Sequential()\n",
    "\n",
    "model.add(Dense(100, input_shape=x_train.shape[1:]))\n",
    "model.add(LeakyReLU(alpha=0.2))\n",
    "model.add(Dense(60))\n",
    "model.add(LeakyReLU(alpha=0.2))\n",
    "model.add(Dropout(0.4))\n",
    "model.add(Dense(30))\n",
    "model.add(LeakyReLU(alpha=0.2))\n",
    "model.add(Dropout(0.4))\n",
    "model.add(Dense(1, activation='sigmoid'))"
   ]
  },
  {
   "cell_type": "code",
   "execution_count": 38,
   "metadata": {},
   "outputs": [],
   "source": [
    "adam_lr = 0.0002\n",
    "adam_beta_1 = 0.5\n",
    "model.compile(loss=\"binary_crossentropy\",\n",
    "              optimizer='adam',\n",
    "              metrics=[\"accuracy\"])"
   ]
  },
  {
   "cell_type": "code",
   "execution_count": 39,
   "metadata": {},
   "outputs": [
    {
     "name": "stdout",
     "output_type": "stream",
     "text": [
      "Epoch 1/100\n",
      "73/73 [==============================] - 0s 3ms/step - loss: 1.3618 - accuracy: 0.5169 - val_loss: 0.6907 - val_accuracy: 0.5321\n",
      "Epoch 2/100\n",
      "73/73 [==============================] - 0s 985us/step - loss: 0.7361 - accuracy: 0.5379 - val_loss: 0.6832 - val_accuracy: 0.5630\n",
      "Epoch 3/100\n",
      "73/73 [==============================] - 0s 1ms/step - loss: 0.7058 - accuracy: 0.5461 - val_loss: 0.6835 - val_accuracy: 0.5758\n",
      "Epoch 4/100\n",
      "73/73 [==============================] - 0s 1ms/step - loss: 0.6984 - accuracy: 0.5431 - val_loss: 0.6787 - val_accuracy: 0.5733\n",
      "Epoch 5/100\n",
      "73/73 [==============================] - 0s 1ms/step - loss: 0.7041 - accuracy: 0.5572 - val_loss: 0.6841 - val_accuracy: 0.5668\n",
      "Epoch 6/100\n",
      "73/73 [==============================] - 0s 1ms/step - loss: 0.6978 - accuracy: 0.5529 - val_loss: 0.6911 - val_accuracy: 0.5720\n",
      "Epoch 7/100\n",
      "73/73 [==============================] - 0s 1ms/step - loss: 0.6778 - accuracy: 0.5808 - val_loss: 0.6755 - val_accuracy: 0.5938\n",
      "Epoch 8/100\n",
      "73/73 [==============================] - 0s 970us/step - loss: 0.6740 - accuracy: 0.5838 - val_loss: 0.6808 - val_accuracy: 0.5578\n",
      "Epoch 9/100\n",
      "73/73 [==============================] - 0s 954us/step - loss: 0.6711 - accuracy: 0.5877 - val_loss: 0.6773 - val_accuracy: 0.5835\n",
      "Epoch 10/100\n",
      "73/73 [==============================] - 0s 941us/step - loss: 0.6820 - accuracy: 0.5705 - val_loss: 0.6743 - val_accuracy: 0.5964\n",
      "Epoch 11/100\n",
      "73/73 [==============================] - 0s 951us/step - loss: 0.6727 - accuracy: 0.5842 - val_loss: 0.6718 - val_accuracy: 0.6003\n",
      "Epoch 12/100\n",
      "73/73 [==============================] - 0s 951us/step - loss: 0.6800 - accuracy: 0.5774 - val_loss: 0.6724 - val_accuracy: 0.6028\n",
      "Epoch 13/100\n",
      "73/73 [==============================] - 0s 954us/step - loss: 0.6763 - accuracy: 0.5842 - val_loss: 0.6775 - val_accuracy: 0.5874\n",
      "Epoch 14/100\n",
      "73/73 [==============================] - 0s 946us/step - loss: 0.6745 - accuracy: 0.5868 - val_loss: 0.6747 - val_accuracy: 0.5938\n",
      "Epoch 15/100\n",
      "73/73 [==============================] - 0s 1ms/step - loss: 0.6704 - accuracy: 0.5795 - val_loss: 0.6699 - val_accuracy: 0.6105\n",
      "Epoch 16/100\n",
      "73/73 [==============================] - 0s 1ms/step - loss: 0.6738 - accuracy: 0.5847 - val_loss: 0.6758 - val_accuracy: 0.5810\n",
      "Epoch 17/100\n",
      "73/73 [==============================] - 0s 1ms/step - loss: 0.6707 - accuracy: 0.5851 - val_loss: 0.6730 - val_accuracy: 0.5951\n",
      "Epoch 18/100\n",
      "73/73 [==============================] - 0s 1ms/step - loss: 0.6654 - accuracy: 0.5924 - val_loss: 0.6688 - val_accuracy: 0.6054\n",
      "Epoch 19/100\n",
      "73/73 [==============================] - 0s 1ms/step - loss: 0.6683 - accuracy: 0.6014 - val_loss: 0.6678 - val_accuracy: 0.6118\n",
      "Epoch 20/100\n",
      "73/73 [==============================] - 0s 1ms/step - loss: 0.6720 - accuracy: 0.5932 - val_loss: 0.6672 - val_accuracy: 0.6105\n",
      "Epoch 21/100\n",
      "73/73 [==============================] - 0s 1ms/step - loss: 0.6657 - accuracy: 0.6052 - val_loss: 0.6711 - val_accuracy: 0.6028\n",
      "Epoch 22/100\n",
      "73/73 [==============================] - 0s 1ms/step - loss: 0.6727 - accuracy: 0.5911 - val_loss: 0.6703 - val_accuracy: 0.5990\n",
      "Epoch 23/100\n",
      "73/73 [==============================] - 0s 970us/step - loss: 0.6671 - accuracy: 0.5928 - val_loss: 0.6699 - val_accuracy: 0.6157\n",
      "Epoch 24/100\n",
      "73/73 [==============================] - 0s 935us/step - loss: 0.6667 - accuracy: 0.6018 - val_loss: 0.6699 - val_accuracy: 0.6144\n",
      "Epoch 25/100\n",
      "73/73 [==============================] - 0s 1ms/step - loss: 0.6637 - accuracy: 0.6082 - val_loss: 0.6667 - val_accuracy: 0.6080\n",
      "Epoch 26/100\n",
      "73/73 [==============================] - 0s 1ms/step - loss: 0.6584 - accuracy: 0.6104 - val_loss: 0.6639 - val_accuracy: 0.6041\n",
      "Epoch 27/100\n",
      "73/73 [==============================] - 0s 1ms/step - loss: 0.6648 - accuracy: 0.6035 - val_loss: 0.6660 - val_accuracy: 0.6105\n",
      "Epoch 28/100\n",
      "73/73 [==============================] - 0s 999us/step - loss: 0.6596 - accuracy: 0.6142 - val_loss: 0.6807 - val_accuracy: 0.6015\n",
      "Epoch 29/100\n",
      "73/73 [==============================] - 0s 1ms/step - loss: 0.6571 - accuracy: 0.6117 - val_loss: 0.6680 - val_accuracy: 0.6067\n",
      "Epoch 30/100\n",
      "73/73 [==============================] - 0s 1ms/step - loss: 0.6570 - accuracy: 0.6099 - val_loss: 0.6697 - val_accuracy: 0.6041\n",
      "Epoch 31/100\n",
      "73/73 [==============================] - 0s 1ms/step - loss: 0.6595 - accuracy: 0.5992 - val_loss: 0.6657 - val_accuracy: 0.6080\n",
      "Epoch 32/100\n",
      "73/73 [==============================] - 0s 1ms/step - loss: 0.6523 - accuracy: 0.6249 - val_loss: 0.6663 - val_accuracy: 0.6208\n",
      "Epoch 33/100\n",
      "73/73 [==============================] - 0s 1ms/step - loss: 0.6617 - accuracy: 0.6061 - val_loss: 0.6661 - val_accuracy: 0.6144\n",
      "Epoch 34/100\n",
      "73/73 [==============================] - 0s 1ms/step - loss: 0.6558 - accuracy: 0.6129 - val_loss: 0.6658 - val_accuracy: 0.5900\n",
      "Epoch 35/100\n",
      "73/73 [==============================] - 0s 963us/step - loss: 0.6592 - accuracy: 0.6074 - val_loss: 0.6681 - val_accuracy: 0.6015\n",
      "Epoch 36/100\n",
      "73/73 [==============================] - 0s 912us/step - loss: 0.6538 - accuracy: 0.6074 - val_loss: 0.6603 - val_accuracy: 0.6144\n",
      "Epoch 37/100\n",
      "73/73 [==============================] - 0s 912us/step - loss: 0.6490 - accuracy: 0.6237 - val_loss: 0.6640 - val_accuracy: 0.6118\n",
      "Epoch 38/100\n",
      "73/73 [==============================] - 0s 908us/step - loss: 0.6531 - accuracy: 0.6258 - val_loss: 0.6669 - val_accuracy: 0.6105\n",
      "Epoch 39/100\n",
      "73/73 [==============================] - 0s 885us/step - loss: 0.6618 - accuracy: 0.6069 - val_loss: 0.6622 - val_accuracy: 0.6131\n",
      "Epoch 40/100\n",
      "73/73 [==============================] - 0s 909us/step - loss: 0.6492 - accuracy: 0.6155 - val_loss: 0.6631 - val_accuracy: 0.6015\n",
      "Epoch 41/100\n",
      "73/73 [==============================] - 0s 893us/step - loss: 0.6532 - accuracy: 0.6185 - val_loss: 0.6610 - val_accuracy: 0.6118\n",
      "Epoch 42/100\n",
      "73/73 [==============================] - 0s 899us/step - loss: 0.6546 - accuracy: 0.6069 - val_loss: 0.6634 - val_accuracy: 0.6131\n",
      "Epoch 43/100\n",
      "73/73 [==============================] - 0s 892us/step - loss: 0.6512 - accuracy: 0.6142 - val_loss: 0.6701 - val_accuracy: 0.6041\n",
      "Epoch 44/100\n",
      "73/73 [==============================] - 0s 899us/step - loss: 0.6453 - accuracy: 0.6228 - val_loss: 0.6583 - val_accuracy: 0.6105\n",
      "Epoch 45/100\n",
      "73/73 [==============================] - 0s 899us/step - loss: 0.6411 - accuracy: 0.6245 - val_loss: 0.6702 - val_accuracy: 0.6131\n",
      "Epoch 46/100\n",
      "73/73 [==============================] - 0s 888us/step - loss: 0.6486 - accuracy: 0.6181 - val_loss: 0.6650 - val_accuracy: 0.6105\n",
      "Epoch 47/100\n",
      "73/73 [==============================] - 0s 886us/step - loss: 0.6530 - accuracy: 0.6241 - val_loss: 0.6633 - val_accuracy: 0.6131\n",
      "Epoch 48/100\n",
      "73/73 [==============================] - 0s 894us/step - loss: 0.6492 - accuracy: 0.6177 - val_loss: 0.6597 - val_accuracy: 0.6067\n",
      "Epoch 49/100\n",
      "73/73 [==============================] - 0s 893us/step - loss: 0.6432 - accuracy: 0.6284 - val_loss: 0.6633 - val_accuracy: 0.6118\n",
      "Epoch 50/100\n",
      "73/73 [==============================] - 0s 896us/step - loss: 0.6456 - accuracy: 0.6241 - val_loss: 0.6622 - val_accuracy: 0.6080\n",
      "Epoch 51/100\n",
      "73/73 [==============================] - 0s 895us/step - loss: 0.6366 - accuracy: 0.6279 - val_loss: 0.6616 - val_accuracy: 0.6131\n",
      "Epoch 52/100\n",
      "73/73 [==============================] - 0s 883us/step - loss: 0.6429 - accuracy: 0.6258 - val_loss: 0.6648 - val_accuracy: 0.6195\n",
      "Epoch 53/100\n",
      "73/73 [==============================] - 0s 926us/step - loss: 0.6470 - accuracy: 0.6344 - val_loss: 0.6596 - val_accuracy: 0.6183\n",
      "Epoch 54/100\n",
      "73/73 [==============================] - 0s 886us/step - loss: 0.6421 - accuracy: 0.6292 - val_loss: 0.6659 - val_accuracy: 0.6118\n"
     ]
    }
   ],
   "source": [
    "history = model.fit(x_train, y_train, epochs=100, validation_data=(x_test, y_test), callbacks=[keras.callbacks.EarlyStopping(patience=10)])\n",
    "#history = model.fit(x_train, y_train, epochs=100, validation_data=(x_valid, y_valid))"
   ]
  },
  {
   "cell_type": "code",
   "execution_count": null,
   "metadata": {},
   "outputs": [],
   "source": []
  }
 ],
 "metadata": {
  "kernelspec": {
   "display_name": "Python 3",
   "language": "python",
   "name": "python3"
  },
  "language_info": {
   "codemirror_mode": {
    "name": "ipython",
    "version": 3
   },
   "file_extension": ".py",
   "mimetype": "text/x-python",
   "name": "python",
   "nbconvert_exporter": "python",
   "pygments_lexer": "ipython3",
   "version": "3.8.5"
  },
  "toc": {
   "base_numbering": 1,
   "nav_menu": {},
   "number_sections": true,
   "sideBar": true,
   "skip_h1_title": false,
   "title_cell": "Table of Contents",
   "title_sidebar": "Contents",
   "toc_cell": false,
   "toc_position": {},
   "toc_section_display": true,
   "toc_window_display": false
  }
 },
 "nbformat": 4,
 "nbformat_minor": 4
}
