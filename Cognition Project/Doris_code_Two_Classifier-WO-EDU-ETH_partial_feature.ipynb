{
 "cells": [
  {
   "cell_type": "code",
   "execution_count": 1,
   "metadata": {},
   "outputs": [],
   "source": [
    "# only in a Jupyter notebook\n",
    "%matplotlib inline \n",
    "import matplotlib.pyplot as plt\n",
    "import pandas as pd\n",
    "import numpy as np\n",
    "\n",
    "from sklearn.metrics import roc_auc_score\n",
    "from sklearn.metrics import roc_curve\n",
    "from sklearn.metrics import auc\n",
    "from sklearn.metrics import classification_report, roc_curve, precision_recall_curve, auc, make_scorer, recall_score, accuracy_score, precision_score, confusion_matrix\n",
    "from sklearn.model_selection import train_test_split, GridSearchCV, StratifiedKFold\n",
    "from sklearn import preprocessing\n",
    "from sklearn.ensemble import RandomForestClassifier\n",
    "from sklearn.neighbors import KNeighborsClassifier\n",
    "from sklearn.svm import SVC\n",
    "from sklearn.model_selection import cross_val_score\n",
    "\n",
    "result_table = pd.DataFrame(columns=['classifiers', 'fpr','tpr','auc'])\n",
    "pr_table = pd.DataFrame(columns=['classifiers', 'Recall','Precision'])"
   ]
  },
  {
   "cell_type": "code",
   "execution_count": 2,
   "metadata": {},
   "outputs": [
    {
     "name": "stdout",
     "output_type": "stream",
     "text": [
      "<class 'pandas.core.frame.DataFrame'>\n",
      "RangeIndex: 3196 entries, 0 to 3195\n",
      "Data columns (total 32 columns):\n",
      " #   Column           Non-Null Count  Dtype  \n",
      "---  ------           --------------  -----  \n",
      " 0   FI_ID            3196 non-null   int64  \n",
      " 1   GENDER           3196 non-null   int64  \n",
      " 2   AGE              3196 non-null   int64  \n",
      " 3   EDUCATION        3196 non-null   int64  \n",
      " 4   ETHGRP           3184 non-null   float64\n",
      " 5   MARITLST         3196 non-null   int64  \n",
      " 6   SPARTNER         3196 non-null   int64  \n",
      " 7   OTHER_IMP        3196 non-null   int64  \n",
      " 8   OTHER_HH         3196 non-null   int64  \n",
      " 9   RLTHAPPY         3196 non-null   int64  \n",
      " 10  SPTIME           3196 non-null   int64  \n",
      " 11  SPOPEN2          3196 non-null   int64  \n",
      " 12  SPRELY2          3196 non-null   int64  \n",
      " 13  SPDEMAND2        3196 non-null   int64  \n",
      " 14  SPCRITZE2        3196 non-null   int64  \n",
      " 15  FAMOPEN2         3196 non-null   int64  \n",
      " 16  FAMRELY2         3196 non-null   int64  \n",
      " 17  FAMDEMAN2        3196 non-null   int64  \n",
      " 18  FAMCRITZ2        3196 non-null   int64  \n",
      " 19  FROPEN2          3196 non-null   int64  \n",
      " 20  FRRELY2          3196 non-null   int64  \n",
      " 21  FRDEMN2          3196 non-null   int64  \n",
      " 22  FRCRITZ2         3196 non-null   int64  \n",
      " 23  FRAMT            3196 non-null   int64  \n",
      " 24  PAR_NERVE        3196 non-null   int64  \n",
      " 25  FAM_NERVE        3196 non-null   int64  \n",
      " 26  FR_NERVE         3196 non-null   int64  \n",
      " 27  PAR_THREAT       3196 non-null   int64  \n",
      " 28  FAMFRTHREAT      3196 non-null   int64  \n",
      " 29  MOCA_SCORE_CCFM  3196 non-null   int64  \n",
      " 30  MOCA_SCORE       3196 non-null   float64\n",
      " 31  IMPAIRED         3196 non-null   int64  \n",
      "dtypes: float64(2), int64(30)\n",
      "memory usage: 799.1 KB\n"
     ]
    }
   ],
   "source": [
    "data = pd.read_csv(\"value_data.csv\")\n",
    "data.info()"
   ]
  },
  {
   "cell_type": "code",
   "execution_count": 3,
   "metadata": {},
   "outputs": [
    {
     "name": "stdout",
     "output_type": "stream",
     "text": [
      "<class 'pandas.core.frame.DataFrame'>\n",
      "Int64Index: 3111 entries, 0 to 3195\n",
      "Data columns (total 32 columns):\n",
      " #   Column           Non-Null Count  Dtype  \n",
      "---  ------           --------------  -----  \n",
      " 0   FI_ID            3111 non-null   int64  \n",
      " 1   GENDER           3111 non-null   int64  \n",
      " 2   AGE              3111 non-null   int64  \n",
      " 3   EDUCATION        3111 non-null   int64  \n",
      " 4   ETHGRP           3111 non-null   float64\n",
      " 5   MARITLST         3111 non-null   int64  \n",
      " 6   SPARTNER         3111 non-null   int64  \n",
      " 7   OTHER_IMP        3111 non-null   int64  \n",
      " 8   OTHER_HH         3111 non-null   int64  \n",
      " 9   RLTHAPPY         3111 non-null   int64  \n",
      " 10  SPTIME           3111 non-null   int64  \n",
      " 11  SPOPEN2          3111 non-null   int64  \n",
      " 12  SPRELY2          3111 non-null   int64  \n",
      " 13  SPDEMAND2        3111 non-null   int64  \n",
      " 14  SPCRITZE2        3111 non-null   int64  \n",
      " 15  FAMOPEN2         3111 non-null   int64  \n",
      " 16  FAMRELY2         3111 non-null   int64  \n",
      " 17  FAMDEMAN2        3111 non-null   int64  \n",
      " 18  FAMCRITZ2        3111 non-null   int64  \n",
      " 19  FROPEN2          3111 non-null   int64  \n",
      " 20  FRRELY2          3111 non-null   int64  \n",
      " 21  FRDEMN2          3111 non-null   int64  \n",
      " 22  FRCRITZ2         3111 non-null   int64  \n",
      " 23  FRAMT            3111 non-null   int64  \n",
      " 24  PAR_NERVE        3111 non-null   int64  \n",
      " 25  FAM_NERVE        3111 non-null   int64  \n",
      " 26  FR_NERVE         3111 non-null   int64  \n",
      " 27  PAR_THREAT       3111 non-null   int64  \n",
      " 28  FAMFRTHREAT      3111 non-null   int64  \n",
      " 29  MOCA_SCORE_CCFM  3111 non-null   int64  \n",
      " 30  MOCA_SCORE       3111 non-null   float64\n",
      " 31  IMPAIRED         3111 non-null   int64  \n",
      "dtypes: float64(2), int64(30)\n",
      "memory usage: 802.1 KB\n"
     ]
    }
   ],
   "source": [
    "data = data.dropna()\n",
    "data = data[data[\"ETHGRP\"] != 4]\n",
    "data.info()"
   ]
  },
  {
   "cell_type": "code",
   "execution_count": 4,
   "metadata": {},
   "outputs": [
    {
     "name": "stdout",
     "output_type": "stream",
     "text": [
      "<class 'pandas.core.frame.DataFrame'>\n",
      "Int64Index: 3111 entries, 0 to 3195\n",
      "Data columns (total 27 columns):\n",
      " #   Column       Non-Null Count  Dtype\n",
      "---  ------       --------------  -----\n",
      " 0   GENDER       3111 non-null   int64\n",
      " 1   AGE          3111 non-null   int64\n",
      " 2   MARITLST     3111 non-null   int64\n",
      " 3   SPARTNER     3111 non-null   int64\n",
      " 4   OTHER_IMP    3111 non-null   int64\n",
      " 5   OTHER_HH     3111 non-null   int64\n",
      " 6   RLTHAPPY     3111 non-null   int64\n",
      " 7   SPTIME       3111 non-null   int64\n",
      " 8   SPOPEN2      3111 non-null   int64\n",
      " 9   SPRELY2      3111 non-null   int64\n",
      " 10  SPDEMAND2    3111 non-null   int64\n",
      " 11  SPCRITZE2    3111 non-null   int64\n",
      " 12  FAMOPEN2     3111 non-null   int64\n",
      " 13  FAMRELY2     3111 non-null   int64\n",
      " 14  FAMDEMAN2    3111 non-null   int64\n",
      " 15  FAMCRITZ2    3111 non-null   int64\n",
      " 16  FROPEN2      3111 non-null   int64\n",
      " 17  FRRELY2      3111 non-null   int64\n",
      " 18  FRDEMN2      3111 non-null   int64\n",
      " 19  FRCRITZ2     3111 non-null   int64\n",
      " 20  FRAMT        3111 non-null   int64\n",
      " 21  PAR_NERVE    3111 non-null   int64\n",
      " 22  FAM_NERVE    3111 non-null   int64\n",
      " 23  FR_NERVE     3111 non-null   int64\n",
      " 24  PAR_THREAT   3111 non-null   int64\n",
      " 25  FAMFRTHREAT  3111 non-null   int64\n",
      " 26  IMPAIRED     3111 non-null   int64\n",
      "dtypes: int64(27)\n",
      "memory usage: 680.5 KB\n"
     ]
    }
   ],
   "source": [
    "data = data.drop([\"FI_ID\",\"MOCA_SCORE\",\"MOCA_SCORE_CCFM\", \"EDUCATION\", \"ETHGRP\"],axis=1)\n",
    "data.info()"
   ]
  },
  {
   "cell_type": "code",
   "execution_count": 5,
   "metadata": {},
   "outputs": [
    {
     "data": {
      "text/html": [
       "<div>\n",
       "<style scoped>\n",
       "    .dataframe tbody tr th:only-of-type {\n",
       "        vertical-align: middle;\n",
       "    }\n",
       "\n",
       "    .dataframe tbody tr th {\n",
       "        vertical-align: top;\n",
       "    }\n",
       "\n",
       "    .dataframe thead th {\n",
       "        text-align: right;\n",
       "    }\n",
       "</style>\n",
       "<table border=\"1\" class=\"dataframe\">\n",
       "  <thead>\n",
       "    <tr style=\"text-align: right;\">\n",
       "      <th></th>\n",
       "      <th>GENDER</th>\n",
       "      <th>AGE</th>\n",
       "      <th>MARITLST</th>\n",
       "      <th>SPARTNER</th>\n",
       "      <th>OTHER_IMP</th>\n",
       "      <th>OTHER_HH</th>\n",
       "      <th>RLTHAPPY</th>\n",
       "      <th>SPTIME</th>\n",
       "      <th>SPOPEN2</th>\n",
       "      <th>SPRELY2</th>\n",
       "      <th>...</th>\n",
       "      <th>FRRELY2</th>\n",
       "      <th>FRDEMN2</th>\n",
       "      <th>FRCRITZ2</th>\n",
       "      <th>FRAMT</th>\n",
       "      <th>PAR_NERVE</th>\n",
       "      <th>FAM_NERVE</th>\n",
       "      <th>FR_NERVE</th>\n",
       "      <th>PAR_THREAT</th>\n",
       "      <th>FAMFRTHREAT</th>\n",
       "      <th>IMPAIRED</th>\n",
       "    </tr>\n",
       "  </thead>\n",
       "  <tbody>\n",
       "    <tr>\n",
       "      <th>count</th>\n",
       "      <td>3111.000000</td>\n",
       "      <td>3111.000000</td>\n",
       "      <td>3111.000000</td>\n",
       "      <td>3111.000000</td>\n",
       "      <td>3111.000000</td>\n",
       "      <td>3111.000000</td>\n",
       "      <td>3111.000000</td>\n",
       "      <td>3111.000000</td>\n",
       "      <td>3111.000000</td>\n",
       "      <td>3111.000000</td>\n",
       "      <td>...</td>\n",
       "      <td>3111.000000</td>\n",
       "      <td>3111.000000</td>\n",
       "      <td>3111.000000</td>\n",
       "      <td>3111.000000</td>\n",
       "      <td>3111.000000</td>\n",
       "      <td>3111.000000</td>\n",
       "      <td>3111.000000</td>\n",
       "      <td>3111.000000</td>\n",
       "      <td>3111.000000</td>\n",
       "      <td>3111.000000</td>\n",
       "    </tr>\n",
       "    <tr>\n",
       "      <th>mean</th>\n",
       "      <td>1.527162</td>\n",
       "      <td>73.171006</td>\n",
       "      <td>2.204436</td>\n",
       "      <td>-2.022179</td>\n",
       "      <td>0.480874</td>\n",
       "      <td>0.144327</td>\n",
       "      <td>3.721311</td>\n",
       "      <td>0.364834</td>\n",
       "      <td>1.083574</td>\n",
       "      <td>1.189650</td>\n",
       "      <td>...</td>\n",
       "      <td>2.000643</td>\n",
       "      <td>0.460945</td>\n",
       "      <td>0.369013</td>\n",
       "      <td>3.202507</td>\n",
       "      <td>-0.385085</td>\n",
       "      <td>0.409836</td>\n",
       "      <td>0.218901</td>\n",
       "      <td>-1.134041</td>\n",
       "      <td>-0.539376</td>\n",
       "      <td>0.486339</td>\n",
       "    </tr>\n",
       "    <tr>\n",
       "      <th>std</th>\n",
       "      <td>0.499342</td>\n",
       "      <td>7.348579</td>\n",
       "      <td>1.772964</td>\n",
       "      <td>1.456273</td>\n",
       "      <td>0.512422</td>\n",
       "      <td>0.354211</td>\n",
       "      <td>4.330234</td>\n",
       "      <td>2.177118</td>\n",
       "      <td>2.593727</td>\n",
       "      <td>2.643448</td>\n",
       "      <td>...</td>\n",
       "      <td>1.190260</td>\n",
       "      <td>0.787565</td>\n",
       "      <td>0.951623</td>\n",
       "      <td>1.512055</td>\n",
       "      <td>2.273903</td>\n",
       "      <td>2.253290</td>\n",
       "      <td>2.149847</td>\n",
       "      <td>1.606368</td>\n",
       "      <td>1.790016</td>\n",
       "      <td>0.499894</td>\n",
       "    </tr>\n",
       "    <tr>\n",
       "      <th>min</th>\n",
       "      <td>1.000000</td>\n",
       "      <td>62.000000</td>\n",
       "      <td>1.000000</td>\n",
       "      <td>-3.000000</td>\n",
       "      <td>-2.000000</td>\n",
       "      <td>-2.000000</td>\n",
       "      <td>-3.000000</td>\n",
       "      <td>-3.000000</td>\n",
       "      <td>-3.000000</td>\n",
       "      <td>-3.000000</td>\n",
       "      <td>...</td>\n",
       "      <td>-3.000000</td>\n",
       "      <td>-3.000000</td>\n",
       "      <td>-3.000000</td>\n",
       "      <td>-3.000000</td>\n",
       "      <td>-4.000000</td>\n",
       "      <td>-5.000000</td>\n",
       "      <td>-5.000000</td>\n",
       "      <td>-4.000000</td>\n",
       "      <td>-5.000000</td>\n",
       "      <td>0.000000</td>\n",
       "    </tr>\n",
       "    <tr>\n",
       "      <th>25%</th>\n",
       "      <td>1.000000</td>\n",
       "      <td>67.000000</td>\n",
       "      <td>1.000000</td>\n",
       "      <td>-3.000000</td>\n",
       "      <td>0.000000</td>\n",
       "      <td>0.000000</td>\n",
       "      <td>-3.000000</td>\n",
       "      <td>-3.000000</td>\n",
       "      <td>-3.000000</td>\n",
       "      <td>-3.000000</td>\n",
       "      <td>...</td>\n",
       "      <td>2.000000</td>\n",
       "      <td>0.000000</td>\n",
       "      <td>0.000000</td>\n",
       "      <td>2.000000</td>\n",
       "      <td>-3.000000</td>\n",
       "      <td>0.000000</td>\n",
       "      <td>0.000000</td>\n",
       "      <td>-3.000000</td>\n",
       "      <td>0.000000</td>\n",
       "      <td>0.000000</td>\n",
       "    </tr>\n",
       "    <tr>\n",
       "      <th>50%</th>\n",
       "      <td>2.000000</td>\n",
       "      <td>72.000000</td>\n",
       "      <td>1.000000</td>\n",
       "      <td>-3.000000</td>\n",
       "      <td>0.000000</td>\n",
       "      <td>0.000000</td>\n",
       "      <td>6.000000</td>\n",
       "      <td>1.000000</td>\n",
       "      <td>3.000000</td>\n",
       "      <td>3.000000</td>\n",
       "      <td>...</td>\n",
       "      <td>2.000000</td>\n",
       "      <td>0.000000</td>\n",
       "      <td>0.000000</td>\n",
       "      <td>3.000000</td>\n",
       "      <td>1.000000</td>\n",
       "      <td>1.000000</td>\n",
       "      <td>1.000000</td>\n",
       "      <td>0.000000</td>\n",
       "      <td>0.000000</td>\n",
       "      <td>0.000000</td>\n",
       "    </tr>\n",
       "    <tr>\n",
       "      <th>75%</th>\n",
       "      <td>2.000000</td>\n",
       "      <td>79.000000</td>\n",
       "      <td>4.000000</td>\n",
       "      <td>0.000000</td>\n",
       "      <td>1.000000</td>\n",
       "      <td>0.000000</td>\n",
       "      <td>7.000000</td>\n",
       "      <td>2.000000</td>\n",
       "      <td>3.000000</td>\n",
       "      <td>3.000000</td>\n",
       "      <td>...</td>\n",
       "      <td>3.000000</td>\n",
       "      <td>1.000000</td>\n",
       "      <td>1.000000</td>\n",
       "      <td>4.000000</td>\n",
       "      <td>2.000000</td>\n",
       "      <td>2.000000</td>\n",
       "      <td>1.000000</td>\n",
       "      <td>0.000000</td>\n",
       "      <td>0.000000</td>\n",
       "      <td>1.000000</td>\n",
       "    </tr>\n",
       "    <tr>\n",
       "      <th>max</th>\n",
       "      <td>2.000000</td>\n",
       "      <td>91.000000</td>\n",
       "      <td>6.000000</td>\n",
       "      <td>1.000000</td>\n",
       "      <td>1.000000</td>\n",
       "      <td>1.000000</td>\n",
       "      <td>7.000000</td>\n",
       "      <td>3.000000</td>\n",
       "      <td>3.000000</td>\n",
       "      <td>3.000000</td>\n",
       "      <td>...</td>\n",
       "      <td>3.000000</td>\n",
       "      <td>3.000000</td>\n",
       "      <td>3.000000</td>\n",
       "      <td>5.000000</td>\n",
       "      <td>3.000000</td>\n",
       "      <td>3.000000</td>\n",
       "      <td>3.000000</td>\n",
       "      <td>3.000000</td>\n",
       "      <td>3.000000</td>\n",
       "      <td>1.000000</td>\n",
       "    </tr>\n",
       "  </tbody>\n",
       "</table>\n",
       "<p>8 rows × 27 columns</p>\n",
       "</div>"
      ],
      "text/plain": [
       "            GENDER          AGE     MARITLST     SPARTNER    OTHER_IMP  \\\n",
       "count  3111.000000  3111.000000  3111.000000  3111.000000  3111.000000   \n",
       "mean      1.527162    73.171006     2.204436    -2.022179     0.480874   \n",
       "std       0.499342     7.348579     1.772964     1.456273     0.512422   \n",
       "min       1.000000    62.000000     1.000000    -3.000000    -2.000000   \n",
       "25%       1.000000    67.000000     1.000000    -3.000000     0.000000   \n",
       "50%       2.000000    72.000000     1.000000    -3.000000     0.000000   \n",
       "75%       2.000000    79.000000     4.000000     0.000000     1.000000   \n",
       "max       2.000000    91.000000     6.000000     1.000000     1.000000   \n",
       "\n",
       "          OTHER_HH     RLTHAPPY       SPTIME      SPOPEN2      SPRELY2  ...  \\\n",
       "count  3111.000000  3111.000000  3111.000000  3111.000000  3111.000000  ...   \n",
       "mean      0.144327     3.721311     0.364834     1.083574     1.189650  ...   \n",
       "std       0.354211     4.330234     2.177118     2.593727     2.643448  ...   \n",
       "min      -2.000000    -3.000000    -3.000000    -3.000000    -3.000000  ...   \n",
       "25%       0.000000    -3.000000    -3.000000    -3.000000    -3.000000  ...   \n",
       "50%       0.000000     6.000000     1.000000     3.000000     3.000000  ...   \n",
       "75%       0.000000     7.000000     2.000000     3.000000     3.000000  ...   \n",
       "max       1.000000     7.000000     3.000000     3.000000     3.000000  ...   \n",
       "\n",
       "           FRRELY2      FRDEMN2     FRCRITZ2        FRAMT    PAR_NERVE  \\\n",
       "count  3111.000000  3111.000000  3111.000000  3111.000000  3111.000000   \n",
       "mean      2.000643     0.460945     0.369013     3.202507    -0.385085   \n",
       "std       1.190260     0.787565     0.951623     1.512055     2.273903   \n",
       "min      -3.000000    -3.000000    -3.000000    -3.000000    -4.000000   \n",
       "25%       2.000000     0.000000     0.000000     2.000000    -3.000000   \n",
       "50%       2.000000     0.000000     0.000000     3.000000     1.000000   \n",
       "75%       3.000000     1.000000     1.000000     4.000000     2.000000   \n",
       "max       3.000000     3.000000     3.000000     5.000000     3.000000   \n",
       "\n",
       "         FAM_NERVE     FR_NERVE   PAR_THREAT  FAMFRTHREAT     IMPAIRED  \n",
       "count  3111.000000  3111.000000  3111.000000  3111.000000  3111.000000  \n",
       "mean      0.409836     0.218901    -1.134041    -0.539376     0.486339  \n",
       "std       2.253290     2.149847     1.606368     1.790016     0.499894  \n",
       "min      -5.000000    -5.000000    -4.000000    -5.000000     0.000000  \n",
       "25%       0.000000     0.000000    -3.000000     0.000000     0.000000  \n",
       "50%       1.000000     1.000000     0.000000     0.000000     0.000000  \n",
       "75%       2.000000     1.000000     0.000000     0.000000     1.000000  \n",
       "max       3.000000     3.000000     3.000000     3.000000     1.000000  \n",
       "\n",
       "[8 rows x 27 columns]"
      ]
     },
     "execution_count": 5,
     "metadata": {},
     "output_type": "execute_result"
    }
   ],
   "source": [
    "data.describe()"
   ]
  },
  {
   "cell_type": "code",
   "execution_count": 6,
   "metadata": {},
   "outputs": [
    {
     "data": {
      "text/plain": [
       "0    1598\n",
       "1    1513\n",
       "Name: IMPAIRED, dtype: int64"
      ]
     },
     "execution_count": 6,
     "metadata": {},
     "output_type": "execute_result"
    }
   ],
   "source": [
    "data['IMPAIRED'].value_counts()"
   ]
  },
  {
   "cell_type": "code",
   "execution_count": 7,
   "metadata": {},
   "outputs": [
    {
     "data": {
      "text/plain": [
       "IMPAIRED       1.000000\n",
       "AGE            0.186726\n",
       "MARITLST       0.132307\n",
       "SPARTNER       0.131429\n",
       "OTHER_HH       0.130082\n",
       "GENDER         0.003097\n",
       "FAMOPEN2      -0.007227\n",
       "FAMCRITZ2     -0.036089\n",
       "FAMRELY2      -0.051008\n",
       "OTHER_IMP     -0.068491\n",
       "FAMDEMAN2     -0.075616\n",
       "FRDEMN2       -0.086091\n",
       "FRCRITZ2      -0.107010\n",
       "FROPEN2       -0.107264\n",
       "FAMFRTHREAT   -0.111008\n",
       "SPDEMAND2     -0.113681\n",
       "PAR_THREAT    -0.122608\n",
       "FAM_NERVE     -0.123057\n",
       "RLTHAPPY      -0.123490\n",
       "FR_NERVE      -0.124524\n",
       "SPOPEN2       -0.124851\n",
       "SPCRITZE2     -0.125209\n",
       "SPTIME        -0.127927\n",
       "SPRELY2       -0.129436\n",
       "PAR_NERVE     -0.139842\n",
       "FRAMT         -0.153310\n",
       "FRRELY2       -0.166971\n",
       "Name: IMPAIRED, dtype: float64"
      ]
     },
     "execution_count": 7,
     "metadata": {},
     "output_type": "execute_result"
    }
   ],
   "source": [
    "corr_matrix = data.corr()\n",
    "corr_matrix[\"IMPAIRED\"].sort_values(ascending=False)"
   ]
  },
  {
   "cell_type": "code",
   "execution_count": 8,
   "metadata": {
    "scrolled": true
   },
   "outputs": [
    {
     "data": {
      "text/plain": [
       "<AxesSubplot:>"
      ]
     },
     "execution_count": 8,
     "metadata": {},
     "output_type": "execute_result"
    },
    {
     "data": {
      "image/png": "[encoded data removed]",
      "text/plain": [
       "<Figure size 792x648 with 2 Axes>"
      ]
     },
     "metadata": {
      "needs_background": "light"
     },
     "output_type": "display_data"
    }
   ],
   "source": [
    "import seaborn as sns\n",
    "corr = data.corr()\n",
    "\n",
    "# Generate a mask for the upper triangle\n",
    "mask = np.zeros_like(corr, dtype=np.bool)\n",
    "mask[np.triu_indices_from(mask)] = True\n",
    "\n",
    "# Set up the matplotlib figure\n",
    "f, ax = plt.subplots(figsize=(11, 9))\n",
    "\n",
    "# Generate a custom diverging colormap\n",
    "cmap = sns.diverging_palette(220, 10, as_cmap=True)\n",
    "\n",
    "# Draw the heatmap with the mask and correct aspect ratio\n",
    "sns.heatmap(corr, mask=mask, cmap=cmap, vmax=.3, center=0,\n",
    "            square=True, linewidths=.5, cbar_kws={\"shrink\": .5})"
   ]
  },
  {
   "cell_type": "markdown",
   "metadata": {},
   "source": [
    "## ORIGINAL DATASET WITH ALL FEATURES"
   ]
  },
  {
   "cell_type": "code",
   "execution_count": 9,
   "metadata": {},
   "outputs": [],
   "source": [
    "\n",
    "x = data.drop(\"IMPAIRED\", axis=1, inplace=False) #.copy()\n",
    "y = data[\"IMPAIRED\"]\n",
    "\n",
    "x_train, x_test, y_train, y_test = train_test_split(x,y, test_size=0.25, random_state=42, stratify=y)"
   ]
  },
  {
   "cell_type": "code",
   "execution_count": 10,
   "metadata": {},
   "outputs": [
    {
     "name": "stdout",
     "output_type": "stream",
     "text": [
      "Optimization terminated successfully.\n",
      "         Current function value: 0.639196\n",
      "         Iterations 5\n",
      "                           Logit Regression Results                           \n",
      "==============================================================================\n",
      "Dep. Variable:               IMPAIRED   No. Observations:                 3111\n",
      "Model:                          Logit   Df Residuals:                     3085\n",
      "Method:                           MLE   Df Model:                           25\n",
      "Date:                Tue, 13 Apr 2021   Pseudo R-squ.:                 0.07734\n",
      "Time:                        15:35:12   Log-Likelihood:                -1988.5\n",
      "converged:                       True   LL-Null:                       -2155.2\n",
      "Covariance Type:            nonrobust   LLR p-value:                 1.143e-55\n",
      "===============================================================================\n",
      "                  coef    std err          z      P>|z|      [0.025      0.975]\n",
      "-------------------------------------------------------------------------------\n",
      "GENDER         -0.0113      0.083     -0.137      0.891      -0.173       0.151\n",
      "AGE             0.0341      0.004      7.772      0.000       0.025       0.043\n",
      "MARITLST       -0.2374      0.081     -2.944      0.003      -0.396      -0.079\n",
      "SPARTNER        0.3713      0.084      4.424      0.000       0.207       0.536\n",
      "OTHER_IMP      -0.1970      0.075     -2.626      0.009      -0.344      -0.050\n",
      "OTHER_HH        0.7488      0.111      6.717      0.000       0.530       0.967\n",
      "RLTHAPPY        0.0073      0.036      0.207      0.836      -0.062       0.077\n",
      "SPTIME         -0.0468      0.056     -0.831      0.406      -0.157       0.064\n",
      "SPOPEN2         0.0601      0.077      0.778      0.437      -0.091       0.212\n",
      "SPRELY2        -0.0919      0.087     -1.054      0.292      -0.263       0.079\n",
      "SPDEMAND2       0.0485      0.053      0.920      0.357      -0.055       0.152\n",
      "SPCRITZE2      -0.0638      0.056     -1.135      0.256      -0.174       0.046\n",
      "FAMOPEN2        0.0309      0.047      0.654      0.513      -0.062       0.123\n",
      "FAMRELY2       -0.0287      0.044     -0.656      0.512      -0.115       0.057\n",
      "FAMDEMAN2      -0.0948      0.049     -1.943      0.052      -0.190       0.001\n",
      "FAMCRITZ2       0.0336      0.047      0.712      0.476      -0.059       0.126\n",
      "FROPEN2        -0.1494      0.044     -3.370      0.001      -0.236      -0.063\n",
      "FRRELY2        -0.1336      0.044     -3.041      0.002      -0.220      -0.048\n",
      "FRDEMN2         0.0716      0.063      1.139      0.255      -0.052       0.195\n",
      "FRCRITZ2       -0.1145      0.050     -2.269      0.023      -0.213      -0.016\n",
      "FRAMT          -0.1160      0.032     -3.655      0.000      -0.178      -0.054\n",
      "PAR_NERVE      -0.0908      0.053     -1.699      0.089      -0.196       0.014\n",
      "FAM_NERVE      -0.0358      0.052     -0.696      0.487      -0.137       0.065\n",
      "FR_NERVE       -0.0558      0.056     -0.996      0.319      -0.166       0.054\n",
      "PAR_THREAT      0.2254      0.075      3.005      0.003       0.078       0.372\n",
      "FAMFRTHREAT    -0.0295      0.063     -0.469      0.639      -0.153       0.094\n",
      "===============================================================================\n"
     ]
    }
   ],
   "source": [
    "import statsmodels.api as sm\n",
    "#x = sm.add_constant(x)\n",
    "logit_mod=sm.Logit(y,x)\n",
    "result=logit_mod.fit()\n",
    "print(result.summary())"
   ]
  },
  {
   "cell_type": "code",
   "execution_count": 11,
   "metadata": {},
   "outputs": [
    {
     "data": {
      "text/plain": [
       "array([[ 0.95186436,  0.52266095, -0.68053313, ...,  0.35114412,\n",
       "         0.70169721,  0.28532136],\n",
       "       [-1.05056986,  0.25041982, -0.68053313, ...,  0.82522932,\n",
       "         1.95136101,  1.42416605],\n",
       "       [-1.05056986,  0.65878151, -0.68053313, ...,  0.82522932,\n",
       "         0.70169721,  0.28532136],\n",
       "       ...,\n",
       "       [-1.05056986,  1.61162544, -0.68053313, ...,  0.35114412,\n",
       "         0.70169721,  0.28532136],\n",
       "       [ 0.95186436, -0.56630354, -0.68053313, ...,  0.35114412,\n",
       "         0.70169721,  0.28532136],\n",
       "       [ 0.95186436,  1.33938431,  1.56751472, ...,  0.35114412,\n",
       "        -1.1727985 ,  0.28532136]])"
      ]
     },
     "execution_count": 11,
     "metadata": {},
     "output_type": "execute_result"
    }
   ],
   "source": [
    "from sklearn.preprocessing import StandardScaler\n",
    "scaler = StandardScaler()\n",
    "scaler.fit_transform(x_train)\n",
    "scaler.transform(x_test)"
   ]
  },
  {
   "cell_type": "markdown",
   "metadata": {},
   "source": [
    "### KNN Model"
   ]
  },
  {
   "cell_type": "code",
   "execution_count": 12,
   "metadata": {},
   "outputs": [
    {
     "name": "stdout",
     "output_type": "stream",
     "text": [
      "[0.60469897 0.63107562 0.61839207 0.60411406 0.62083203]\n",
      "cv_scores mean:0.6158225505194797\n",
      "ROC AUC: 0.62 (+/- 0.01)\n"
     ]
    }
   ],
   "source": [
    "# CV for KNN, to understnad whether model is overfitted\n",
    "knn_cv = KNeighborsClassifier(n_neighbors=5)\n",
    "#train model with cv of 5 \n",
    "cv_scores = cross_val_score(knn_cv, x_train, y_train, cv=5, scoring = \"roc_auc\")\n",
    "#print each cv score (accuracy) and average them\n",
    "print(cv_scores)\n",
    "print(\"cv_scores mean:{}\".format(np.mean(cv_scores)))\n",
    "print(\"ROC AUC: %0.2f (+/- %0.2f)\"\n",
    "          % (cv_scores.mean(), cv_scores.std()))"
   ]
  },
  {
   "cell_type": "code",
   "execution_count": 13,
   "metadata": {
    "scrolled": true
   },
   "outputs": [
    {
     "name": "stdout",
     "output_type": "stream",
     "text": [
      "[[284 116]\n",
      " [193 185]]\n",
      "              precision    recall  f1-score   support\n",
      "\n",
      "           0       0.60      0.71      0.65       400\n",
      "           1       0.61      0.49      0.54       378\n",
      "\n",
      "    accuracy                           0.60       778\n",
      "   macro avg       0.61      0.60      0.60       778\n",
      "weighted avg       0.60      0.60      0.60       778\n",
      "\n",
      "0.5997089947089946\n"
     ]
    }
   ],
   "source": [
    "# predictions with CV fitted model\n",
    "knn_cv.fit(x_train, y_train)\n",
    "y_pred = knn_cv.predict(x_test)\n",
    "print(confusion_matrix(y_test, y_pred))\n",
    "print(classification_report(y_test, y_pred))\n",
    "from sklearn.metrics import roc_auc_score\n",
    "print(roc_auc_score(y_test, y_pred))\n",
    "fpr, tpr, _ = roc_curve(y_test,  y_pred)\n",
    "auc = roc_auc_score(y_test,  y_pred)\n",
    "    \n",
    "result_table = result_table.append({'classifiers':knn_cv.__class__.__name__,\n",
    "                                    'fpr':fpr, \n",
    "                                    'tpr':tpr, \n",
    "                                    'auc':auc}, ignore_index=True)\n",
    "\n",
    "from sklearn.metrics import precision_recall_curve\n",
    "precision, recall, thresholds = precision_recall_curve(y_test, y_pred)\n",
    "pr_table = pr_table.append({'classifiers':knn_cv.__class__.__name__,\n",
    "                                    'Recall':recall, \n",
    "                                    'Precision':precision}, ignore_index=True)\n",
    "#pr_table.set_index('classifiers', inplace=True)"
   ]
  },
  {
   "cell_type": "code",
   "execution_count": 14,
   "metadata": {},
   "outputs": [
    {
     "data": {
      "text/plain": [
       "GridSearchCV(cv=5, estimator=KNeighborsClassifier(),\n",
       "             param_grid={'n_neighbors': array([ 1,  2,  3,  4,  5,  6,  7,  8,  9, 10, 11, 12, 13, 14, 15, 16, 17,\n",
       "       18, 19, 20, 21, 22, 23, 24])})"
      ]
     },
     "execution_count": 14,
     "metadata": {},
     "output_type": "execute_result"
    }
   ],
   "source": [
    "\n",
    "#create new a knn model\n",
    "knn = KNeighborsClassifier() \n",
    "#create a dictionary of all values we want to test for n_neighbors\n",
    "param_grid = {'n_neighbors': np.arange(1, 25)}\n",
    "#use gridsearch to test all values for n_neighbors\n",
    "grid_search = GridSearchCV(knn, param_grid, cv=5)\n",
    "#fit model to data\n",
    "grid_search.fit(x_train, y_train)"
   ]
  },
  {
   "cell_type": "code",
   "execution_count": 15,
   "metadata": {},
   "outputs": [
    {
     "data": {
      "text/plain": [
       "{'n_neighbors': 15}"
      ]
     },
     "execution_count": 15,
     "metadata": {},
     "output_type": "execute_result"
    }
   ],
   "source": [
    "grid_search.best_params_"
   ]
  },
  {
   "cell_type": "code",
   "execution_count": 16,
   "metadata": {},
   "outputs": [
    {
     "name": "stdout",
     "output_type": "stream",
     "text": [
      "[[310  90]\n",
      " [215 163]]\n",
      "              precision    recall  f1-score   support\n",
      "\n",
      "           0       0.59      0.78      0.67       400\n",
      "           1       0.64      0.43      0.52       378\n",
      "\n",
      "    accuracy                           0.61       778\n",
      "   macro avg       0.62      0.60      0.59       778\n",
      "weighted avg       0.62      0.61      0.60       778\n",
      "\n"
     ]
    },
    {
     "data": {
      "text/plain": [
       "0.6031084656084656"
      ]
     },
     "execution_count": 16,
     "metadata": {},
     "output_type": "execute_result"
    }
   ],
   "source": [
    "#prediction with best param\n",
    "final_model = grid_search.best_estimator_\n",
    "y_pred = final_model.predict(x_test)\n",
    "print(confusion_matrix(y_test, y_pred))\n",
    "print(classification_report(y_test, y_pred))\n",
    "from sklearn.metrics import roc_auc_score\n",
    "roc_auc_score(y_test, y_pred)"
   ]
  },
  {
   "cell_type": "markdown",
   "metadata": {},
   "source": [
    "### SVM Model"
   ]
  },
  {
   "cell_type": "code",
   "execution_count": 17,
   "metadata": {},
   "outputs": [
    {
     "name": "stdout",
     "output_type": "stream",
     "text": [
      "[0.67358664 0.68491189 0.66009545 0.65255378 0.67083848]\n",
      "cv_scores mean:0.6683972468496365\n",
      "ROC AUC: 0.67 (+/- 0.01)\n"
     ]
    }
   ],
   "source": [
    "svc_cv = SVC(kernel='rbf', gamma= 'auto')\n",
    "cv_scores = cross_val_score(svc_cv, x_train, y_train, cv=5, scoring = \"roc_auc\")\n",
    "print(cv_scores)\n",
    "print(\"cv_scores mean:{}\".format(np.mean(cv_scores)))\n",
    "print(\"ROC AUC: %0.2f (+/- %0.2f)\"\n",
    "          % (cv_scores.mean(), cv_scores.std()))"
   ]
  },
  {
   "cell_type": "code",
   "execution_count": 18,
   "metadata": {},
   "outputs": [
    {
     "name": "stdout",
     "output_type": "stream",
     "text": [
      "[[285 115]\n",
      " [166 212]]\n",
      "              precision    recall  f1-score   support\n",
      "\n",
      "           0       0.63      0.71      0.67       400\n",
      "           1       0.65      0.56      0.60       378\n",
      "\n",
      "    accuracy                           0.64       778\n",
      "   macro avg       0.64      0.64      0.64       778\n",
      "weighted avg       0.64      0.64      0.64       778\n",
      "\n",
      "0.6366732804232804\n"
     ]
    }
   ],
   "source": [
    "# predictions with CV fitted model of SVM\n",
    "svc_cv.fit(x_train, y_train)\n",
    "y_pred = svc_cv.predict(x_test)\n",
    "print(confusion_matrix(y_test, y_pred))\n",
    "print(classification_report(y_test, y_pred))\n",
    "from sklearn.metrics import roc_auc_score\n",
    "print(roc_auc_score(y_test, y_pred))\n",
    "fpr, tpr, _ = roc_curve(y_test,  y_pred)\n",
    "auc = roc_auc_score(y_test,  y_pred)\n",
    "    \n",
    "result_table = result_table.append({'classifiers':svc_cv.__class__.__name__,\n",
    "                                    'fpr':fpr, \n",
    "                                    'tpr':tpr, \n",
    "                                    'auc':auc}, ignore_index=True)\n",
    "\n",
    "from sklearn.metrics import precision_recall_curve\n",
    "precision, recall, thresholds = precision_recall_curve(y_test, y_pred)\n",
    "pr_table = pr_table.append({'classifiers':svc_cv.__class__.__name__,\n",
    "                                    'Recall':recall, \n",
    "                                    'Precision':precision}, ignore_index=True)\n",
    "#result_table.set_index('classifiers', inplace=True)"
   ]
  },
  {
   "cell_type": "code",
   "execution_count": 19,
   "metadata": {},
   "outputs": [
    {
     "data": {
      "text/plain": [
       "GridSearchCV(cv=5, estimator=SVC(),\n",
       "             param_grid={'C': [0.1, 1, 10, 100, 1000],\n",
       "                         'gamma': [1, 0.1, 0.01, 0.001, 0.0001],\n",
       "                         'kernel': ['rbf']})"
      ]
     },
     "execution_count": 19,
     "metadata": {},
     "output_type": "execute_result"
    }
   ],
   "source": [
    "from sklearn.model_selection import GridSearchCV \n",
    "svc = SVC() \n",
    "# defining parameter range \n",
    "param_grid = {'C': [0.1, 1, 10, 100, 1000],  \n",
    "              'gamma': [1, 0.1, 0.01, 0.001, 0.0001], \n",
    "              'kernel': ['rbf']}  \n",
    "  \n",
    "grid_search = GridSearchCV(svc, param_grid, cv=5) \n",
    "grid_search.fit(x_train, y_train)"
   ]
  },
  {
   "cell_type": "code",
   "execution_count": 20,
   "metadata": {},
   "outputs": [
    {
     "data": {
      "text/plain": [
       "{'C': 1000, 'gamma': 0.0001, 'kernel': 'rbf'}"
      ]
     },
     "execution_count": 20,
     "metadata": {},
     "output_type": "execute_result"
    }
   ],
   "source": [
    "grid_search.best_params_"
   ]
  },
  {
   "cell_type": "code",
   "execution_count": 21,
   "metadata": {},
   "outputs": [
    {
     "name": "stdout",
     "output_type": "stream",
     "text": [
      "[[289 111]\n",
      " [169 209]]\n",
      "              precision    recall  f1-score   support\n",
      "\n",
      "           0       0.63      0.72      0.67       400\n",
      "           1       0.65      0.55      0.60       378\n",
      "\n",
      "    accuracy                           0.64       778\n",
      "   macro avg       0.64      0.64      0.64       778\n",
      "weighted avg       0.64      0.64      0.64       778\n",
      "\n"
     ]
    },
    {
     "data": {
      "text/plain": [
       "0.6377050264550265"
      ]
     },
     "execution_count": 21,
     "metadata": {},
     "output_type": "execute_result"
    }
   ],
   "source": [
    "#prediction with best param\n",
    "final_model = grid_search.best_estimator_\n",
    "y_pred = final_model.predict(x_test)\n",
    "print(confusion_matrix(y_test, y_pred))\n",
    "print(classification_report(y_test, y_pred))\n",
    "from sklearn.metrics import roc_auc_score\n",
    "roc_auc_score(y_test, y_pred)"
   ]
  },
  {
   "cell_type": "markdown",
   "metadata": {},
   "source": [
    "### Random Forest Model"
   ]
  },
  {
   "cell_type": "code",
   "execution_count": 22,
   "metadata": {},
   "outputs": [
    {
     "name": "stdout",
     "output_type": "stream",
     "text": [
      "[0.69038179 0.69140051 0.68555433 0.69416438 0.65539233]\n",
      "cv_scores mean:0.6833786687679329\n",
      "ROC AUC: 0.68 (+/- 0.01)\n"
     ]
    }
   ],
   "source": [
    "rf_cv = RandomForestClassifier(max_depth=20, max_features=20, n_estimators=1000)\n",
    "cv_scores = cross_val_score(rf_cv, x_train, y_train, cv=5,scoring = \"roc_auc\")\n",
    "print(cv_scores)\n",
    "print(\"cv_scores mean:{}\".format(np.mean(cv_scores)))\n",
    "print(\"ROC AUC: %0.2f (+/- %0.2f)\"\n",
    "          % (cv_scores.mean(), cv_scores.std()))"
   ]
  },
  {
   "cell_type": "code",
   "execution_count": 23,
   "metadata": {},
   "outputs": [
    {
     "name": "stdout",
     "output_type": "stream",
     "text": [
      "[[271 129]\n",
      " [153 225]]\n",
      "              precision    recall  f1-score   support\n",
      "\n",
      "           0       0.64      0.68      0.66       400\n",
      "           1       0.64      0.60      0.61       378\n",
      "\n",
      "    accuracy                           0.64       778\n",
      "   macro avg       0.64      0.64      0.64       778\n",
      "weighted avg       0.64      0.64      0.64       778\n",
      "\n",
      "0.6363690476190477\n"
     ]
    }
   ],
   "source": [
    "# predictions with CV fitted model of RF\n",
    "\n",
    "rf_cv.fit(x_train, y_train)\n",
    "y_pred = rf_cv.predict(x_test)\n",
    "print(confusion_matrix(y_test, y_pred))\n",
    "print(classification_report(y_test, y_pred))\n",
    "from sklearn.metrics import roc_auc_score\n",
    "print(roc_auc_score(y_test, y_pred))\n",
    "fpr, tpr, _ = roc_curve(y_test,  y_pred)\n",
    "auc = roc_auc_score(y_test,  y_pred)\n",
    "    \n",
    "result_table = result_table.append({'classifiers':rf_cv.__class__.__name__,\n",
    "                                    'fpr':fpr, \n",
    "                                   'tpr':tpr, \n",
    "                                    'auc':auc}, ignore_index=True)\n",
    "\n",
    "from sklearn.metrics import precision_recall_curve\n",
    "precision, recall, thresholds = precision_recall_curve(y_test, y_pred)\n",
    "pr_table = pr_table.append({'classifiers':rf_cv.__class__.__name__,\n",
    "                                    'Recall':recall, \n",
    "                                    'Precision':precision}, ignore_index=True)\n",
    "\n"
   ]
  },
  {
   "cell_type": "code",
   "execution_count": 24,
   "metadata": {},
   "outputs": [
    {
     "data": {
      "text/plain": [
       "GridSearchCV(cv=5, estimator=RandomForestClassifier(),\n",
       "             param_grid={'bootstrap': [True], 'max_depth': [10, 20, 30, 40, 50],\n",
       "                         'max_features': [2, 4, 6, 8, 10, 15],\n",
       "                         'n_estimators': [50, 100, 150, 200, 300]})"
      ]
     },
     "execution_count": 24,
     "metadata": {},
     "output_type": "execute_result"
    }
   ],
   "source": [
    "# Create the parameter grid based on the results of random search \n",
    "param_grid = {\n",
    "    'bootstrap': [True],\n",
    "    'max_depth': [10, 20, 30, 40, 50],\n",
    "    'max_features': [2, 4, 6, 8, 10, 15],\n",
    "    'n_estimators': [50, 100, 150, 200, 300]\n",
    "}\n",
    "# Create a based model\n",
    "rf = RandomForestClassifier()\n",
    "# Instantiate the grid search model\n",
    "grid_search = GridSearchCV(rf,param_grid, cv = 5)\n",
    "# Fit the grid search to the data\n",
    "grid_search.fit(x_train, y_train)"
   ]
  },
  {
   "cell_type": "code",
   "execution_count": 25,
   "metadata": {},
   "outputs": [
    {
     "data": {
      "text/plain": [
       "{'bootstrap': True, 'max_depth': 10, 'max_features': 6, 'n_estimators': 200}"
      ]
     },
     "execution_count": 25,
     "metadata": {},
     "output_type": "execute_result"
    }
   ],
   "source": [
    "grid_search.best_params_"
   ]
  },
  {
   "cell_type": "code",
   "execution_count": 26,
   "metadata": {},
   "outputs": [
    {
     "name": "stdout",
     "output_type": "stream",
     "text": [
      "[[291 109]\n",
      " [167 211]]\n",
      "              precision    recall  f1-score   support\n",
      "\n",
      "           0       0.64      0.73      0.68       400\n",
      "           1       0.66      0.56      0.60       378\n",
      "\n",
      "    accuracy                           0.65       778\n",
      "   macro avg       0.65      0.64      0.64       778\n",
      "weighted avg       0.65      0.65      0.64       778\n",
      "\n"
     ]
    },
    {
     "data": {
      "text/plain": [
       "0.6428505291005291"
      ]
     },
     "execution_count": 26,
     "metadata": {},
     "output_type": "execute_result"
    }
   ],
   "source": [
    "#prediction with best param\n",
    "final_model = grid_search.best_estimator_\n",
    "y_pred = final_model.predict(x_test)\n",
    "print(confusion_matrix(y_test, y_pred))\n",
    "print(classification_report(y_test, y_pred))\n",
    "from sklearn.metrics import roc_auc_score\n",
    "roc_auc_score(y_test, y_pred)"
   ]
  },
  {
   "cell_type": "code",
   "execution_count": 27,
   "metadata": {},
   "outputs": [],
   "source": [
    "clf = RandomForestClassifier(n_jobs=-1)\n",
    "\n",
    "param_grid = {\n",
    "    'min_samples_split': [3, 5, 10], \n",
    "    'n_estimators' : [100, 300],\n",
    "    'max_depth': [3, 5, 15, 25],\n",
    "    'max_features': [3, 5, 10, 20]\n",
    "}\n",
    "\n",
    "scorers = {\n",
    "    'precision_score': make_scorer(precision_score),\n",
    "    'recall_score': make_scorer(recall_score),\n",
    "    'accuracy_score': make_scorer(accuracy_score)\n",
    "}"
   ]
  },
  {
   "cell_type": "code",
   "execution_count": 28,
   "metadata": {},
   "outputs": [],
   "source": [
    "def grid_search_wrapper(refit_score='precision_score'):\n",
    "    \"\"\"\n",
    "    fits a GridSearchCV classifier using refit_score for optimization\n",
    "    prints classifier performance metrics\n",
    "    \"\"\"\n",
    "    skf = StratifiedKFold(n_splits=10)\n",
    "    grid_search = GridSearchCV(clf, param_grid, scoring=scorers, refit=refit_score,\n",
    "                           cv=skf, return_train_score=True, n_jobs=-1)\n",
    "    grid_search.fit(x_train.values, y_train.values)\n",
    "\n",
    "    # make the predictions\n",
    "    y_pred = grid_search.predict(x_test.values)\n",
    "\n",
    "    print('Best params for {}'.format(refit_score))\n",
    "    print(grid_search.best_params_)\n",
    "\n",
    "    # confusion matrix on the test data.\n",
    "    print('\\nConfusion matrix of Random Forest optimized for {} on the test data:'.format(refit_score))\n",
    "    print(pd.DataFrame(confusion_matrix(y_test, y_pred),\n",
    "                 columns=['pred_neg', 'pred_pos'], index=['neg', 'pos']))\n",
    "    return grid_search"
   ]
  },
  {
   "cell_type": "code",
   "execution_count": 29,
   "metadata": {},
   "outputs": [
    {
     "name": "stdout",
     "output_type": "stream",
     "text": [
      "Best params for recall_score\n",
      "{'max_depth': 25, 'max_features': 20, 'min_samples_split': 5, 'n_estimators': 100}\n",
      "\n",
      "Confusion matrix of Random Forest optimized for recall_score on the test data:\n",
      "     pred_neg  pred_pos\n",
      "neg       275       125\n",
      "pos       148       230\n"
     ]
    }
   ],
   "source": [
    "grid_search_clf = grid_search_wrapper(refit_score='recall_score')\n"
   ]
  },
  {
   "cell_type": "code",
   "execution_count": 30,
   "metadata": {},
   "outputs": [
    {
     "data": {
      "text/html": [
       "<div>\n",
       "<style scoped>\n",
       "    .dataframe tbody tr th:only-of-type {\n",
       "        vertical-align: middle;\n",
       "    }\n",
       "\n",
       "    .dataframe tbody tr th {\n",
       "        vertical-align: top;\n",
       "    }\n",
       "\n",
       "    .dataframe thead th {\n",
       "        text-align: right;\n",
       "    }\n",
       "</style>\n",
       "<table border=\"1\" class=\"dataframe\">\n",
       "  <thead>\n",
       "    <tr style=\"text-align: right;\">\n",
       "      <th></th>\n",
       "      <th>mean_test_precision_score</th>\n",
       "      <th>mean_test_recall_score</th>\n",
       "      <th>mean_test_accuracy_score</th>\n",
       "      <th>param_max_depth</th>\n",
       "      <th>param_max_features</th>\n",
       "      <th>param_min_samples_split</th>\n",
       "      <th>param_n_estimators</th>\n",
       "    </tr>\n",
       "  </thead>\n",
       "  <tbody>\n",
       "    <tr>\n",
       "      <th>24</th>\n",
       "      <td>0.677</td>\n",
       "      <td>0.535</td>\n",
       "      <td>0.649</td>\n",
       "      <td>5</td>\n",
       "      <td>3</td>\n",
       "      <td>3</td>\n",
       "      <td>100</td>\n",
       "    </tr>\n",
       "    <tr>\n",
       "      <th>30</th>\n",
       "      <td>0.673</td>\n",
       "      <td>0.549</td>\n",
       "      <td>0.650</td>\n",
       "      <td>5</td>\n",
       "      <td>5</td>\n",
       "      <td>3</td>\n",
       "      <td>100</td>\n",
       "    </tr>\n",
       "    <tr>\n",
       "      <th>28</th>\n",
       "      <td>0.670</td>\n",
       "      <td>0.552</td>\n",
       "      <td>0.651</td>\n",
       "      <td>5</td>\n",
       "      <td>3</td>\n",
       "      <td>10</td>\n",
       "      <td>100</td>\n",
       "    </tr>\n",
       "    <tr>\n",
       "      <th>39</th>\n",
       "      <td>0.670</td>\n",
       "      <td>0.564</td>\n",
       "      <td>0.652</td>\n",
       "      <td>5</td>\n",
       "      <td>10</td>\n",
       "      <td>5</td>\n",
       "      <td>300</td>\n",
       "    </tr>\n",
       "    <tr>\n",
       "      <th>38</th>\n",
       "      <td>0.670</td>\n",
       "      <td>0.573</td>\n",
       "      <td>0.653</td>\n",
       "      <td>5</td>\n",
       "      <td>10</td>\n",
       "      <td>5</td>\n",
       "      <td>100</td>\n",
       "    </tr>\n",
       "  </tbody>\n",
       "</table>\n",
       "</div>"
      ],
      "text/plain": [
       "    mean_test_precision_score  mean_test_recall_score  \\\n",
       "24                      0.677                   0.535   \n",
       "30                      0.673                   0.549   \n",
       "28                      0.670                   0.552   \n",
       "39                      0.670                   0.564   \n",
       "38                      0.670                   0.573   \n",
       "\n",
       "    mean_test_accuracy_score param_max_depth param_max_features  \\\n",
       "24                     0.649               5                  3   \n",
       "30                     0.650               5                  5   \n",
       "28                     0.651               5                  3   \n",
       "39                     0.652               5                 10   \n",
       "38                     0.653               5                 10   \n",
       "\n",
       "   param_min_samples_split param_n_estimators  \n",
       "24                       3                100  \n",
       "30                       3                100  \n",
       "28                      10                100  \n",
       "39                       5                300  \n",
       "38                       5                100  "
      ]
     },
     "execution_count": 30,
     "metadata": {},
     "output_type": "execute_result"
    }
   ],
   "source": [
    "results = pd.DataFrame(grid_search_clf.cv_results_)\n",
    "results = results.sort_values(by='mean_test_precision_score', ascending=False)\n",
    "results[['mean_test_precision_score', 'mean_test_recall_score', 'mean_test_accuracy_score', 'param_max_depth', 'param_max_features', 'param_min_samples_split', 'param_n_estimators']].round(3).head()"
   ]
  },
  {
   "cell_type": "code",
   "execution_count": 31,
   "metadata": {},
   "outputs": [
    {
     "name": "stdout",
     "output_type": "stream",
     "text": [
      "[[275 125]\n",
      " [148 230]]\n",
      "              precision    recall  f1-score   support\n",
      "\n",
      "           0       0.65      0.69      0.67       400\n",
      "           1       0.65      0.61      0.63       378\n",
      "\n",
      "    accuracy                           0.65       778\n",
      "   macro avg       0.65      0.65      0.65       778\n",
      "weighted avg       0.65      0.65      0.65       778\n",
      "\n"
     ]
    },
    {
     "data": {
      "text/plain": [
       "0.6479828042328042"
      ]
     },
     "execution_count": 31,
     "metadata": {},
     "output_type": "execute_result"
    }
   ],
   "source": [
    "#prediction with best param\n",
    "final_model = grid_search_clf.best_estimator_\n",
    "y_pred = final_model.predict(x_test)\n",
    "print(confusion_matrix(y_test, y_pred))\n",
    "print(classification_report(y_test, y_pred))\n",
    "from sklearn.metrics import roc_auc_score\n",
    "roc_auc_score(y_test, y_pred)"
   ]
  },
  {
   "cell_type": "code",
   "execution_count": 32,
   "metadata": {},
   "outputs": [
    {
     "name": "stdout",
     "output_type": "stream",
     "text": [
      "0.6343567734125675\n"
     ]
    }
   ],
   "source": [
    "from sklearn import model_selection\n",
    "from sklearn.ensemble import VotingClassifier\n",
    "kfold = model_selection.KFold(n_splits=10)\n",
    "# create the sub models\n",
    "estimators = []\n",
    "model1 = KNeighborsClassifier()\n",
    "estimators.append(('KNN', model1))\n",
    "model2 = SVC(kernel='rbf', gamma= 'auto')\n",
    "estimators.append(('SVC', model2))\n",
    "model3 = RandomForestClassifier()\n",
    "estimators.append(('RF', model3))\n",
    "# create the ensemble model\n",
    "ensemble = VotingClassifier(estimators)\n",
    "results = model_selection.cross_val_score(ensemble, x_train, y_train, cv=kfold)\n",
    "print(results.mean())"
   ]
  },
  {
   "cell_type": "code",
   "execution_count": 33,
   "metadata": {},
   "outputs": [
    {
     "data": {
      "image/png": "[encoded data removed]",
      "text/plain": [
       "<Figure size 576x432 with 1 Axes>"
      ]
     },
     "metadata": {
      "needs_background": "light"
     },
     "output_type": "display_data"
    }
   ],
   "source": [
    "fig = plt.figure(figsize=(8,6))\n",
    "\n",
    "for i in result_table.index:\n",
    "    plt.plot(result_table.loc[i]['fpr'], \n",
    "             result_table.loc[i]['tpr'], \n",
    "             label=\"{}, AUC={:.3f}\".format(i, result_table.loc[i]['auc']))\n",
    "    \n",
    "plt.plot([0,1], [0,1], color='red', linestyle='--')\n",
    "\n",
    "plt.xticks(np.arange(0.0, 1.1, step=0.1))\n",
    "plt.xlabel(\"Flase Positive Rate\", fontsize=15)\n",
    "\n",
    "plt.yticks(np.arange(0.0, 1.1, step=0.1))\n",
    "plt.ylabel(\"True Positive Rate\", fontsize=15)\n",
    "\n",
    "plt.title('ROC Curve Analysis', fontweight='bold', fontsize=15)\n",
    "plt.legend(prop={'size':13}, loc='lower right')\n",
    "\n",
    "plt.show()"
   ]
  },
  {
   "cell_type": "code",
   "execution_count": 34,
   "metadata": {},
   "outputs": [
    {
     "data": {
      "image/png": "[encoded data removed]",
      "text/plain": [
       "<Figure size 576x432 with 1 Axes>"
      ]
     },
     "metadata": {
      "needs_background": "light"
     },
     "output_type": "display_data"
    }
   ],
   "source": [
    "fig = plt.figure(figsize=(8,6))\n",
    "\n",
    "for i in pr_table.index:\n",
    "    plt.plot(pr_table.loc[i]['Recall'], \n",
    "             pr_table.loc[i]['Precision'],label=\"{}\".format(i))\n",
    "    \n",
    "# for i in result_table.index:\n",
    "#     plt.plot(result_table.loc[i]['fpr'], \n",
    "#              result_table.loc[i]['tpr'], \n",
    "#              label=\"{}, AUC={:.3f}\".format(i, result_table.loc[i]['auc']))\n",
    "    \n",
    "    \n",
    "    #plt.plot([0,1], [0,1], color='red', linestyle='--')\n",
    "\n",
    "plt.xticks(np.arange(0.0, 1.1, step=0.1))\n",
    "plt.xlabel(\"Recall\", fontsize=15)\n",
    "\n",
    "plt.yticks(np.arange(0.0, 1.1, step=0.1))\n",
    "plt.ylabel(\"Precision\", fontsize=15)\n",
    "\n",
    "plt.title('Precision-Recall Curve', fontweight='bold', fontsize=15)\n",
    "plt.legend(prop={'size':13}, loc='lower right')\n",
    "\n",
    "plt.show()"
   ]
  },
  {
   "cell_type": "code",
   "execution_count": 35,
   "metadata": {
    "scrolled": true
   },
   "outputs": [
    {
     "name": "stdout",
     "output_type": "stream",
     "text": [
      "Random Forest feature importance\n",
      "Feature: GENDER, Score: 0.02281\n",
      "Feature: AGE, Score: 0.14784\n",
      "Feature: MARITLST, Score: 0.02240\n",
      "Feature: SPARTNER, Score: 0.00607\n",
      "Feature: OTHER_IMP, Score: 0.02513\n",
      "Feature: OTHER_HH, Score: 0.02158\n",
      "Feature: RLTHAPPY, Score: 0.02850\n",
      "Feature: SPTIME, Score: 0.03436\n",
      "Feature: SPOPEN2, Score: 0.01681\n",
      "Feature: SPRELY2, Score: 0.01258\n",
      "Feature: SPDEMAND2, Score: 0.03579\n",
      "Feature: SPCRITZE2, Score: 0.03893\n",
      "Feature: FAMOPEN2, Score: 0.04306\n",
      "Feature: FAMRELY2, Score: 0.03220\n",
      "Feature: FAMDEMAN2, Score: 0.04434\n",
      "Feature: FAMCRITZ2, Score: 0.04786\n",
      "Feature: FROPEN2, Score: 0.04960\n",
      "Feature: FRRELY2, Score: 0.05456\n",
      "Feature: FRDEMN2, Score: 0.03332\n",
      "Feature: FRCRITZ2, Score: 0.04242\n",
      "Feature: FRAMT, Score: 0.06862\n",
      "Feature: PAR_NERVE, Score: 0.03370\n",
      "Feature: FAM_NERVE, Score: 0.04833\n",
      "Feature: FR_NERVE, Score: 0.05369\n",
      "Feature: PAR_THREAT, Score: 0.01615\n",
      "Feature: FAMFRTHREAT, Score: 0.01936\n"
     ]
    },
    {
     "data": {
      "text/plain": [
       "<AxesSubplot:>"
      ]
     },
     "execution_count": 35,
     "metadata": {},
     "output_type": "execute_result"
    },
    {
     "data": {
      "image/png": "[encoded data removed]",
      "text/plain": [
       "<Figure size 720x360 with 1 Axes>"
      ]
     },
     "metadata": {
      "needs_background": "light"
     },
     "output_type": "display_data"
    }
   ],
   "source": [
    "print(\"Random Forest feature importance\")\n",
    "\n",
    "model = rf_cv\n",
    "for feature, importance in zip(data.columns, model.feature_importances_):\n",
    "\tprint('Feature: %0s, Score: %.5f' % (feature,importance))\n",
    "feats = {} # a dict to hold feature_name: feature_importance\n",
    "for feature, importance in zip(data.columns, model.feature_importances_):\n",
    "    feats[feature] = importance #add the name/value pair \n",
    "\n",
    "import matplotlib.pyplot as plt\n",
    "plt.rcParams['figure.figsize'] = [10, 5]\n",
    "importances = pd.DataFrame.from_dict(feats, orient='index').rename(columns={0: 'Gini-importance'})\n",
    "importances.sort_values(by='Gini-importance').plot(kind='bar', fontsize = 8, rot=45)"
   ]
  },
  {
   "cell_type": "code",
   "execution_count": null,
   "metadata": {},
   "outputs": [],
   "source": []
  },
  {
   "cell_type": "markdown",
   "metadata": {},
   "source": [
    "## Choose the top 10 important features "
   ]
  },
  {
   "cell_type": "code",
   "execution_count": 36,
   "metadata": {},
   "outputs": [],
   "source": [
    "def algorithm_pipeline(x_train, x_test, y_train, y_test, \n",
    "                       model, param_grid, cv=5):\n",
    "#     scorers = {\n",
    "#     'recall_score': make_scorer(recall_score,pos_label=1,greater_is_better=True),\n",
    "#     'accuracy_score': make_scorer(accuracy_score)\n",
    "#     }\n",
    "    \n",
    "    gs = GridSearchCV(\n",
    "        estimator=model,\n",
    "        param_grid=param_grid, \n",
    "        cv=cv, \n",
    "        n_jobs=-1, \n",
    "        scoring=make_scorer(recall_score,pos_label=1,greater_is_better=True),\n",
    "        verbose=2,\n",
    "#         refit=scoring_fit\n",
    "    )\n",
    "    fitted_model = gs.fit(x_train, y_train)\n",
    "    print(gs.best_params_)\n",
    "    \n",
    "    final_model = gs.best_estimator_\n",
    "    y_pred = final_model.predict(x_test)\n",
    "    print(confusion_matrix(y_test, y_pred))\n",
    "    print(classification_report(y_test, y_pred))\n",
    "    print(roc_auc_score(y_test, y_pred))\n",
    "    return final_model"
   ]
  },
  {
   "cell_type": "code",
   "execution_count": 37,
   "metadata": {},
   "outputs": [],
   "source": [
    "importances_sort =importances.sort_values(by='Gini-importance')"
   ]
  },
  {
   "cell_type": "code",
   "execution_count": 38,
   "metadata": {},
   "outputs": [],
   "source": [
    "ss=importances_sort.index[-10:]"
   ]
  },
  {
   "cell_type": "code",
   "execution_count": 39,
   "metadata": {},
   "outputs": [],
   "source": [
    "data_top10_important_feature= data[ss]"
   ]
  },
  {
   "cell_type": "code",
   "execution_count": 40,
   "metadata": {
    "scrolled": true
   },
   "outputs": [
    {
     "data": {
      "text/html": [
       "<div>\n",
       "<style scoped>\n",
       "    .dataframe tbody tr th:only-of-type {\n",
       "        vertical-align: middle;\n",
       "    }\n",
       "\n",
       "    .dataframe tbody tr th {\n",
       "        vertical-align: top;\n",
       "    }\n",
       "\n",
       "    .dataframe thead th {\n",
       "        text-align: right;\n",
       "    }\n",
       "</style>\n",
       "<table border=\"1\" class=\"dataframe\">\n",
       "  <thead>\n",
       "    <tr style=\"text-align: right;\">\n",
       "      <th></th>\n",
       "      <th>FRCRITZ2</th>\n",
       "      <th>FAMOPEN2</th>\n",
       "      <th>FAMDEMAN2</th>\n",
       "      <th>FAMCRITZ2</th>\n",
       "      <th>FAM_NERVE</th>\n",
       "      <th>FROPEN2</th>\n",
       "      <th>FR_NERVE</th>\n",
       "      <th>FRRELY2</th>\n",
       "      <th>FRAMT</th>\n",
       "      <th>AGE</th>\n",
       "    </tr>\n",
       "  </thead>\n",
       "  <tbody>\n",
       "    <tr>\n",
       "      <th>0</th>\n",
       "      <td>-2</td>\n",
       "      <td>3</td>\n",
       "      <td>2</td>\n",
       "      <td>2</td>\n",
       "      <td>2</td>\n",
       "      <td>1</td>\n",
       "      <td>1</td>\n",
       "      <td>0</td>\n",
       "      <td>5</td>\n",
       "      <td>67</td>\n",
       "    </tr>\n",
       "    <tr>\n",
       "      <th>1</th>\n",
       "      <td>1</td>\n",
       "      <td>2</td>\n",
       "      <td>1</td>\n",
       "      <td>3</td>\n",
       "      <td>0</td>\n",
       "      <td>0</td>\n",
       "      <td>0</td>\n",
       "      <td>2</td>\n",
       "      <td>3</td>\n",
       "      <td>84</td>\n",
       "    </tr>\n",
       "    <tr>\n",
       "      <th>2</th>\n",
       "      <td>1</td>\n",
       "      <td>3</td>\n",
       "      <td>2</td>\n",
       "      <td>1</td>\n",
       "      <td>2</td>\n",
       "      <td>2</td>\n",
       "      <td>1</td>\n",
       "      <td>3</td>\n",
       "      <td>2</td>\n",
       "      <td>65</td>\n",
       "    </tr>\n",
       "    <tr>\n",
       "      <th>3</th>\n",
       "      <td>0</td>\n",
       "      <td>1</td>\n",
       "      <td>0</td>\n",
       "      <td>0</td>\n",
       "      <td>1</td>\n",
       "      <td>1</td>\n",
       "      <td>1</td>\n",
       "      <td>3</td>\n",
       "      <td>5</td>\n",
       "      <td>65</td>\n",
       "    </tr>\n",
       "    <tr>\n",
       "      <th>4</th>\n",
       "      <td>0</td>\n",
       "      <td>3</td>\n",
       "      <td>0</td>\n",
       "      <td>1</td>\n",
       "      <td>0</td>\n",
       "      <td>3</td>\n",
       "      <td>0</td>\n",
       "      <td>3</td>\n",
       "      <td>3</td>\n",
       "      <td>70</td>\n",
       "    </tr>\n",
       "  </tbody>\n",
       "</table>\n",
       "</div>"
      ],
      "text/plain": [
       "   FRCRITZ2  FAMOPEN2  FAMDEMAN2  FAMCRITZ2  FAM_NERVE  FROPEN2  FR_NERVE  \\\n",
       "0        -2         3          2          2          2        1         1   \n",
       "1         1         2          1          3          0        0         0   \n",
       "2         1         3          2          1          2        2         1   \n",
       "3         0         1          0          0          1        1         1   \n",
       "4         0         3          0          1          0        3         0   \n",
       "\n",
       "   FRRELY2  FRAMT  AGE  \n",
       "0        0      5   67  \n",
       "1        2      3   84  \n",
       "2        3      2   65  \n",
       "3        3      5   65  \n",
       "4        3      3   70  "
      ]
     },
     "execution_count": 40,
     "metadata": {},
     "output_type": "execute_result"
    }
   ],
   "source": [
    "data_top10_important_feature.head()"
   ]
  },
  {
   "cell_type": "code",
   "execution_count": 41,
   "metadata": {},
   "outputs": [],
   "source": [
    "x = data_top10_important_feature\n",
    "y = data[\"IMPAIRED\"]\n",
    "x_train, x_test, y_train, y_test = train_test_split(x,y, test_size=0.25, random_state=42, stratify=y)"
   ]
  },
  {
   "cell_type": "markdown",
   "metadata": {},
   "source": [
    "### KNN MODEL"
   ]
  },
  {
   "cell_type": "code",
   "execution_count": 42,
   "metadata": {},
   "outputs": [
    {
     "name": "stdout",
     "output_type": "stream",
     "text": [
      "[0.62774413 0.6306351  0.58784875 0.59073231 0.62848137]\n",
      "cv_scores mean:0.6130883315208375\n",
      "ROC AUC: 0.61 (+/- 0.02)\n"
     ]
    }
   ],
   "source": [
    "# CV for KNN, to understnad whether model is overfitted\n",
    "knn_cv = KNeighborsClassifier(n_neighbors=5)\n",
    "#train model with cv of 5 \n",
    "cv_scores = cross_val_score(knn_cv, x_train, y_train, cv=5, scoring = \"roc_auc\")\n",
    "#print each cv score (accuracy) and average them\n",
    "print(cv_scores)\n",
    "print(\"cv_scores mean:{}\".format(np.mean(cv_scores)))\n",
    "print(\"ROC AUC: %0.2f (+/- %0.2f)\"\n",
    "          % (cv_scores.mean(), cv_scores.std()))"
   ]
  },
  {
   "cell_type": "code",
   "execution_count": 43,
   "metadata": {},
   "outputs": [
    {
     "name": "stdout",
     "output_type": "stream",
     "text": [
      "[[282 118]\n",
      " [183 195]]\n",
      "              precision    recall  f1-score   support\n",
      "\n",
      "           0       0.61      0.70      0.65       400\n",
      "           1       0.62      0.52      0.56       378\n",
      "\n",
      "    accuracy                           0.61       778\n",
      "   macro avg       0.61      0.61      0.61       778\n",
      "weighted avg       0.61      0.61      0.61       778\n",
      "\n",
      "0.6104365079365079\n"
     ]
    }
   ],
   "source": [
    "# predictions with CV fitted model\n",
    "knn_cv.fit(x_train, y_train)\n",
    "y_pred = knn_cv.predict(x_test)\n",
    "print(confusion_matrix(y_test, y_pred))\n",
    "print(classification_report(y_test, y_pred))\n",
    "from sklearn.metrics import roc_auc_score\n",
    "print(roc_auc_score(y_test, y_pred))\n",
    "fpr, tpr, _ = roc_curve(y_test,  y_pred)\n",
    "auc = roc_auc_score(y_test,  y_pred)\n",
    "    \n",
    "result_table = result_table.append({'classifiers':knn_cv.__class__.__name__,\n",
    "                                    'fpr':fpr, \n",
    "                                    'tpr':tpr, \n",
    "                                    'auc':auc}, ignore_index=True)\n",
    "\n",
    "from sklearn.metrics import precision_recall_curve\n",
    "precision, recall, thresholds = precision_recall_curve(y_test, y_pred)\n",
    "pr_table = pr_table.append({'classifiers':knn_cv.__class__.__name__,\n",
    "                                    'Recall':recall, \n",
    "                                    'Precision':precision}, ignore_index=True)\n",
    "#pr_table.set_index('classifiers', inplace=True)"
   ]
  },
  {
   "cell_type": "code",
   "execution_count": 44,
   "metadata": {},
   "outputs": [],
   "source": [
    "#create new a knn model\n",
    "knn = KNeighborsClassifier() \n",
    "#create a dictionary of all values we want to test for n_neighbors\n",
    "param_grid = {'n_neighbors': np.arange(1, 25)}"
   ]
  },
  {
   "cell_type": "code",
   "execution_count": 45,
   "metadata": {
    "scrolled": true
   },
   "outputs": [
    {
     "name": "stdout",
     "output_type": "stream",
     "text": [
      "Fitting 5 folds for each of 24 candidates, totalling 120 fits\n"
     ]
    },
    {
     "name": "stderr",
     "output_type": "stream",
     "text": [
      "[Parallel(n_jobs=-1)]: Using backend LokyBackend with 8 concurrent workers.\n",
      "[Parallel(n_jobs=-1)]: Done  25 tasks      | elapsed:    1.0s\n"
     ]
    },
    {
     "name": "stdout",
     "output_type": "stream",
     "text": [
      "{'n_neighbors': 3}\n",
      "[[270 130]\n",
      " [176 202]]\n",
      "              precision    recall  f1-score   support\n",
      "\n",
      "           0       0.61      0.68      0.64       400\n",
      "           1       0.61      0.53      0.57       378\n",
      "\n",
      "    accuracy                           0.61       778\n",
      "   macro avg       0.61      0.60      0.60       778\n",
      "weighted avg       0.61      0.61      0.60       778\n",
      "\n",
      "0.6046957671957672\n"
     ]
    },
    {
     "name": "stderr",
     "output_type": "stream",
     "text": [
      "[Parallel(n_jobs=-1)]: Done 120 out of 120 | elapsed:    2.0s finished\n"
     ]
    },
    {
     "data": {
      "text/plain": [
       "KNeighborsClassifier(n_neighbors=3)"
      ]
     },
     "execution_count": 45,
     "metadata": {},
     "output_type": "execute_result"
    }
   ],
   "source": [
    "algorithm_pipeline(x_train, x_test, y_train, y_test,knn, param_grid, cv=5)"
   ]
  },
  {
   "cell_type": "markdown",
   "metadata": {},
   "source": [
    "### SVM MODEL"
   ]
  },
  {
   "cell_type": "code",
   "execution_count": 46,
   "metadata": {},
   "outputs": [
    {
     "name": "stdout",
     "output_type": "stream",
     "text": [
      "[0.64935756 0.66773128 0.67204479 0.66395407 0.66761285]\n",
      "cv_scores mean:0.6641401089955087\n",
      "ROC AUC: 0.66 (+/- 0.01)\n"
     ]
    }
   ],
   "source": [
    "svc_cv = SVC(kernel='rbf', gamma= 'auto')\n",
    "cv_scores = cross_val_score(svc_cv, x_train, y_train, cv=5, scoring = \"roc_auc\")\n",
    "print(cv_scores)\n",
    "print(\"cv_scores mean:{}\".format(np.mean(cv_scores)))\n",
    "print(\"ROC AUC: %0.2f (+/- %0.2f)\"\n",
    "          % (cv_scores.mean(), cv_scores.std()))"
   ]
  },
  {
   "cell_type": "code",
   "execution_count": 47,
   "metadata": {},
   "outputs": [
    {
     "name": "stdout",
     "output_type": "stream",
     "text": [
      "[[283 117]\n",
      " [166 212]]\n",
      "              precision    recall  f1-score   support\n",
      "\n",
      "           0       0.63      0.71      0.67       400\n",
      "           1       0.64      0.56      0.60       378\n",
      "\n",
      "    accuracy                           0.64       778\n",
      "   macro avg       0.64      0.63      0.63       778\n",
      "weighted avg       0.64      0.64      0.63       778\n",
      "\n",
      "0.6341732804232805\n"
     ]
    }
   ],
   "source": [
    "# predictions with CV fitted model of SVM\n",
    "svc_cv.fit(x_train, y_train)\n",
    "y_pred = svc_cv.predict(x_test)\n",
    "print(confusion_matrix(y_test, y_pred))\n",
    "print(classification_report(y_test, y_pred))\n",
    "from sklearn.metrics import roc_auc_score\n",
    "print(roc_auc_score(y_test, y_pred))\n",
    "fpr, tpr, _ = roc_curve(y_test,  y_pred)\n",
    "auc = roc_auc_score(y_test,  y_pred)\n",
    "    \n",
    "result_table = result_table.append({'classifiers':svc_cv.__class__.__name__,\n",
    "                                    'fpr':fpr, \n",
    "                                    'tpr':tpr, \n",
    "                                    'auc':auc}, ignore_index=True)\n",
    "\n",
    "from sklearn.metrics import precision_recall_curve\n",
    "precision, recall, thresholds = precision_recall_curve(y_test, y_pred)\n",
    "pr_table = pr_table.append({'classifiers':svc_cv.__class__.__name__,\n",
    "                                    'Recall':recall, \n",
    "                                    'Precision':precision}, ignore_index=True)\n",
    "#result_table.set_index('classifiers', inplace=True)"
   ]
  },
  {
   "cell_type": "code",
   "execution_count": 48,
   "metadata": {},
   "outputs": [],
   "source": [
    "from sklearn.model_selection import GridSearchCV \n",
    "svc = SVC() \n",
    "# defining parameter range \n",
    "param_grid = {'C': [0.1,0.2,0.3,0.4,0.5,1,2],  \n",
    "              'gamma': [0.1,0.2,0.3,0.35,0.4,0.5], \n",
    "              'kernel': ['rbf']}  "
   ]
  },
  {
   "cell_type": "code",
   "execution_count": 49,
   "metadata": {},
   "outputs": [
    {
     "name": "stdout",
     "output_type": "stream",
     "text": [
      "Fitting 5 folds for each of 42 candidates, totalling 210 fits\n"
     ]
    },
    {
     "name": "stderr",
     "output_type": "stream",
     "text": [
      "[Parallel(n_jobs=-1)]: Using backend LokyBackend with 8 concurrent workers.\n",
      "[Parallel(n_jobs=-1)]: Done  25 tasks      | elapsed:    1.1s\n",
      "[Parallel(n_jobs=-1)]: Done 146 tasks      | elapsed:    6.2s\n",
      "[Parallel(n_jobs=-1)]: Done 210 out of 210 | elapsed:    9.3s finished\n"
     ]
    },
    {
     "name": "stdout",
     "output_type": "stream",
     "text": [
      "{'C': 0.3, 'gamma': 0.4, 'kernel': 'rbf'}\n",
      "[[165 235]\n",
      " [ 84 294]]\n",
      "              precision    recall  f1-score   support\n",
      "\n",
      "           0       0.66      0.41      0.51       400\n",
      "           1       0.56      0.78      0.65       378\n",
      "\n",
      "    accuracy                           0.59       778\n",
      "   macro avg       0.61      0.60      0.58       778\n",
      "weighted avg       0.61      0.59      0.58       778\n",
      "\n",
      "0.5951388888888889\n"
     ]
    },
    {
     "data": {
      "text/plain": [
       "SVC(C=0.3, gamma=0.4)"
      ]
     },
     "execution_count": 49,
     "metadata": {},
     "output_type": "execute_result"
    }
   ],
   "source": [
    "algorithm_pipeline(x_train, x_test, y_train, y_test,svc, param_grid, cv=5)"
   ]
  },
  {
   "cell_type": "markdown",
   "metadata": {},
   "source": [
    "### RANDOM FOREST TREE MODEL"
   ]
  },
  {
   "cell_type": "code",
   "execution_count": 50,
   "metadata": {},
   "outputs": [
    {
     "name": "stdout",
     "output_type": "stream",
     "text": [
      "[0.66546439 0.67265051 0.6530011  0.66877408 0.66648849]\n",
      "cv_scores mean:0.6652757143998181\n",
      "ROC AUC: 0.67 (+/- 0.01)\n"
     ]
    }
   ],
   "source": [
    "rf_cv = RandomForestClassifier(max_depth=20, max_features=10, n_estimators=1000)\n",
    "cv_scores = cross_val_score(rf_cv, x_train, y_train, cv=5,scoring = \"roc_auc\")\n",
    "print(cv_scores)\n",
    "print(\"cv_scores mean:{}\".format(np.mean(cv_scores)))\n",
    "print(\"ROC AUC: %0.2f (+/- %0.2f)\"\n",
    "          % (cv_scores.mean(), cv_scores.std()))"
   ]
  },
  {
   "cell_type": "code",
   "execution_count": 51,
   "metadata": {},
   "outputs": [
    {
     "name": "stdout",
     "output_type": "stream",
     "text": [
      "[[276 124]\n",
      " [152 226]]\n",
      "              precision    recall  f1-score   support\n",
      "\n",
      "           0       0.64      0.69      0.67       400\n",
      "           1       0.65      0.60      0.62       378\n",
      "\n",
      "    accuracy                           0.65       778\n",
      "   macro avg       0.65      0.64      0.64       778\n",
      "weighted avg       0.65      0.65      0.64       778\n",
      "\n",
      "0.6439417989417989\n"
     ]
    }
   ],
   "source": [
    "# predictions with CV fitted model of RF\n",
    "\n",
    "rf_cv.fit(x_train, y_train)\n",
    "y_pred = rf_cv.predict(x_test)\n",
    "print(confusion_matrix(y_test, y_pred))\n",
    "print(classification_report(y_test, y_pred))\n",
    "from sklearn.metrics import roc_auc_score\n",
    "print(roc_auc_score(y_test, y_pred))\n",
    "fpr, tpr, _ = roc_curve(y_test,  y_pred)\n",
    "auc = roc_auc_score(y_test,  y_pred)\n",
    "    \n",
    "result_table = result_table.append({'classifiers':rf_cv.__class__.__name__,\n",
    "                                    'fpr':fpr, \n",
    "                                   'tpr':tpr, \n",
    "                                    'auc':auc}, ignore_index=True)\n",
    "\n",
    "from sklearn.metrics import precision_recall_curve\n",
    "precision, recall, thresholds = precision_recall_curve(y_test, y_pred)\n",
    "pr_table = pr_table.append({'classifiers':rf_cv.__class__.__name__,\n",
    "                                    'Recall':recall, \n",
    "                                    'Precision':precision}, ignore_index=True)"
   ]
  },
  {
   "cell_type": "code",
   "execution_count": 52,
   "metadata": {},
   "outputs": [],
   "source": [
    "# Create the parameter grid based on the results of random search \n",
    "param_grid = {\n",
    "    'bootstrap': [True],\n",
    "    'max_depth': [300],\n",
    "    'max_features': [6],\n",
    "    'n_estimators': [150]\n",
    "}\n",
    "# Create a based model\n",
    "rf = RandomForestClassifier()"
   ]
  },
  {
   "cell_type": "code",
   "execution_count": 53,
   "metadata": {},
   "outputs": [
    {
     "name": "stdout",
     "output_type": "stream",
     "text": [
      "Fitting 5 folds for each of 1 candidates, totalling 5 fits\n"
     ]
    },
    {
     "name": "stderr",
     "output_type": "stream",
     "text": [
      "[Parallel(n_jobs=-1)]: Using backend LokyBackend with 8 concurrent workers.\n",
      "[Parallel(n_jobs=-1)]: Done   2 out of   5 | elapsed:    0.7s remaining:    1.1s\n",
      "[Parallel(n_jobs=-1)]: Done   5 out of   5 | elapsed:    0.8s remaining:    0.0s\n",
      "[Parallel(n_jobs=-1)]: Done   5 out of   5 | elapsed:    0.8s finished\n"
     ]
    },
    {
     "name": "stdout",
     "output_type": "stream",
     "text": [
      "{'bootstrap': True, 'max_depth': 300, 'max_features': 6, 'n_estimators': 150}\n",
      "[[284 116]\n",
      " [156 222]]\n",
      "              precision    recall  f1-score   support\n",
      "\n",
      "           0       0.65      0.71      0.68       400\n",
      "           1       0.66      0.59      0.62       378\n",
      "\n",
      "    accuracy                           0.65       778\n",
      "   macro avg       0.65      0.65      0.65       778\n",
      "weighted avg       0.65      0.65      0.65       778\n",
      "\n",
      "0.6486507936507937\n"
     ]
    },
    {
     "data": {
      "text/plain": [
       "RandomForestClassifier(max_depth=300, max_features=6, n_estimators=150)"
      ]
     },
     "execution_count": 53,
     "metadata": {},
     "output_type": "execute_result"
    }
   ],
   "source": [
    "algorithm_pipeline(x_train, x_test, y_train, y_test,rf, param_grid, cv=5)"
   ]
  },
  {
   "cell_type": "markdown",
   "metadata": {},
   "source": [
    "### XG-Boost Model"
   ]
  },
  {
   "cell_type": "code",
   "execution_count": 54,
   "metadata": {
    "scrolled": true
   },
   "outputs": [
    {
     "name": "stderr",
     "output_type": "stream",
     "text": [
      "C:\\Users\\yhy01\\Anaconda3\\lib\\site-packages\\xgboost\\sklearn.py:888: UserWarning: The use of label encoder in XGBClassifier is deprecated and will be removed in a future release. To remove this warning, do the following: 1) Pass option use_label_encoder=False when constructing XGBClassifier object; and 2) Encode your labels (y) as integers starting with 0, i.e. 0, 1, 2, ..., [num_class - 1].\n",
      "  warnings.warn(label_encoder_deprecation_msg, UserWarning)\n"
     ]
    },
    {
     "name": "stdout",
     "output_type": "stream",
     "text": [
      "[15:50:34] WARNING: C:/Users/Administrator/workspace/xgboost-win64_release_1.3.0/src/learner.cc:1061: Starting in XGBoost 1.3.0, the default evaluation metric used with the objective 'binary:logistic' was changed from 'error' to 'logloss'. Explicitly set eval_metric if you'd like to restore the old behavior.\n"
     ]
    }
   ],
   "source": [
    "from xgboost import XGBClassifier\n",
    "xgb = XGBClassifier()\n",
    "xgb.fit(x_train,y_train)\n",
    "y_pred = xgb.predict(x_test)"
   ]
  },
  {
   "cell_type": "code",
   "execution_count": 55,
   "metadata": {
    "scrolled": true
   },
   "outputs": [
    {
     "name": "stdout",
     "output_type": "stream",
     "text": [
      "[[272 128]\n",
      " [168 210]]\n",
      "              precision    recall  f1-score   support\n",
      "\n",
      "           0       0.62      0.68      0.65       400\n",
      "           1       0.62      0.56      0.59       378\n",
      "\n",
      "    accuracy                           0.62       778\n",
      "   macro avg       0.62      0.62      0.62       778\n",
      "weighted avg       0.62      0.62      0.62       778\n",
      "\n",
      "0.6177777777777778\n"
     ]
    }
   ],
   "source": [
    "print(confusion_matrix(y_test, y_pred))\n",
    "print(classification_report(y_test, y_pred))\n",
    "from sklearn.metrics import roc_auc_score\n",
    "print(roc_auc_score(y_test, y_pred))\n",
    "fpr, tpr, _ = roc_curve(y_test,  y_pred)\n",
    "auc = roc_auc_score(y_test,  y_pred)\n",
    "    \n",
    "result_table = result_table.append({'classifiers':'XG-Boost',\n",
    "                                    'fpr':fpr, \n",
    "                                   'tpr':tpr, \n",
    "                                    'auc':auc}, ignore_index=True)\n",
    "\n",
    "from sklearn.metrics import precision_recall_curve\n",
    "precision, recall, thresholds = precision_recall_curve(y_test, y_pred)\n",
    "pr_table = pr_table.append({'classifiers':'XG-Boost',\n",
    "                                    'Recall':recall, \n",
    "                                    'Precision':precision}, ignore_index=True)"
   ]
  },
  {
   "cell_type": "code",
   "execution_count": 56,
   "metadata": {},
   "outputs": [],
   "source": [
    "param_grid = {\n",
    "    'n_estimators': [400, 700, 1000],\n",
    "    'colsample_bytree': [0.7, 0.8],\n",
    "    'max_depth': [15,20,25],\n",
    "    'reg_alpha': [1.1, 1.2, 1.3],\n",
    "    'reg_lambda': [1.1, 1.2, 1.3],\n",
    "    'subsample': [0.7, 0.8, 0.9]\n",
    "}\n",
    "\n",
    "xgb = XGBClassifier()"
   ]
  },
  {
   "cell_type": "code",
   "execution_count": 57,
   "metadata": {},
   "outputs": [
    {
     "name": "stdout",
     "output_type": "stream",
     "text": [
      "Fitting 5 folds for each of 486 candidates, totalling 2430 fits\n"
     ]
    },
    {
     "name": "stderr",
     "output_type": "stream",
     "text": [
      "[Parallel(n_jobs=-1)]: Using backend LokyBackend with 8 concurrent workers.\n",
      "[Parallel(n_jobs=-1)]: Done  25 tasks      | elapsed:   18.7s\n",
      "[Parallel(n_jobs=-1)]: Done 146 tasks      | elapsed:  1.5min\n",
      "[Parallel(n_jobs=-1)]: Done 349 tasks      | elapsed:  5.3min\n",
      "[Parallel(n_jobs=-1)]: Done 632 tasks      | elapsed: 20.6min\n",
      "[Parallel(n_jobs=-1)]: Done 997 tasks      | elapsed: 23.3min\n",
      "[Parallel(n_jobs=-1)]: Done 1442 tasks      | elapsed: 26.8min\n",
      "[Parallel(n_jobs=-1)]: Done 1969 tasks      | elapsed: 31.0min\n",
      "[Parallel(n_jobs=-1)]: Done 2430 out of 2430 | elapsed: 34.5min finished\n",
      "C:\\Users\\yhy01\\Anaconda3\\lib\\site-packages\\xgboost\\sklearn.py:888: UserWarning: The use of label encoder in XGBClassifier is deprecated and will be removed in a future release. To remove this warning, do the following: 1) Pass option use_label_encoder=False when constructing XGBClassifier object; and 2) Encode your labels (y) as integers starting with 0, i.e. 0, 1, 2, ..., [num_class - 1].\n",
      "  warnings.warn(label_encoder_deprecation_msg, UserWarning)\n"
     ]
    },
    {
     "name": "stdout",
     "output_type": "stream",
     "text": [
      "[16:25:02] WARNING: C:/Users/Administrator/workspace/xgboost-win64_release_1.3.0/src/learner.cc:1061: Starting in XGBoost 1.3.0, the default evaluation metric used with the objective 'binary:logistic' was changed from 'error' to 'logloss'. Explicitly set eval_metric if you'd like to restore the old behavior.\n",
      "{'colsample_bytree': 0.7, 'max_depth': 15, 'n_estimators': 400, 'reg_alpha': 1.2, 'reg_lambda': 1.1, 'subsample': 0.9}\n",
      "[[264 136]\n",
      " [147 231]]\n",
      "              precision    recall  f1-score   support\n",
      "\n",
      "           0       0.64      0.66      0.65       400\n",
      "           1       0.63      0.61      0.62       378\n",
      "\n",
      "    accuracy                           0.64       778\n",
      "   macro avg       0.64      0.64      0.64       778\n",
      "weighted avg       0.64      0.64      0.64       778\n",
      "\n",
      "0.6355555555555555\n"
     ]
    },
    {
     "data": {
      "text/plain": [
       "XGBClassifier(base_score=0.5, booster='gbtree', colsample_bylevel=1,\n",
       "              colsample_bynode=1, colsample_bytree=0.7, gamma=0, gpu_id=-1,\n",
       "              importance_type='gain', interaction_constraints='',\n",
       "              learning_rate=0.300000012, max_delta_step=0, max_depth=15,\n",
       "              min_child_weight=1, missing=nan, monotone_constraints='()',\n",
       "              n_estimators=400, n_jobs=8, num_parallel_tree=1, random_state=0,\n",
       "              reg_alpha=1.2, reg_lambda=1.1, scale_pos_weight=1, subsample=0.9,\n",
       "              tree_method='exact', validate_parameters=1, verbosity=None)"
      ]
     },
     "execution_count": 57,
     "metadata": {},
     "output_type": "execute_result"
    }
   ],
   "source": [
    "algorithm_pipeline(x_train, x_test, y_train, y_test,xgb, param_grid, cv=5)"
   ]
  },
  {
   "cell_type": "markdown",
   "metadata": {},
   "source": [
    "###  Build Gradient Boosting Model"
   ]
  },
  {
   "cell_type": "code",
   "execution_count": 58,
   "metadata": {},
   "outputs": [],
   "source": [
    "from sklearn.ensemble import GradientBoostingClassifier\n",
    "clf = GradientBoostingClassifier(n_estimators=100, learning_rate=1.0,max_depth=1, random_state=0).fit(x_train, y_train)\n",
    "y_pred = clf.predict(x_test)"
   ]
  },
  {
   "cell_type": "code",
   "execution_count": 59,
   "metadata": {},
   "outputs": [
    {
     "name": "stdout",
     "output_type": "stream",
     "text": [
      "[[272 128]\n",
      " [162 216]]\n",
      "              precision    recall  f1-score   support\n",
      "\n",
      "           0       0.63      0.68      0.65       400\n",
      "           1       0.63      0.57      0.60       378\n",
      "\n",
      "    accuracy                           0.63       778\n",
      "   macro avg       0.63      0.63      0.63       778\n",
      "weighted avg       0.63      0.63      0.63       778\n",
      "\n",
      "0.6257142857142857\n"
     ]
    }
   ],
   "source": [
    "print(confusion_matrix(y_test, y_pred))\n",
    "print(classification_report(y_test, y_pred))\n",
    "from sklearn.metrics import roc_auc_score\n",
    "print(roc_auc_score(y_test, y_pred))\n",
    "fpr, tpr, _ = roc_curve(y_test,  y_pred)\n",
    "auc = roc_auc_score(y_test,  y_pred)\n",
    "    \n",
    "result_table = result_table.append({'classifiers':'GBM',\n",
    "                                    'fpr':fpr, \n",
    "                                   'tpr':tpr, \n",
    "                                    'auc':auc}, ignore_index=True)\n",
    "\n",
    "from sklearn.metrics import precision_recall_curve\n",
    "precision, recall, thresholds = precision_recall_curve(y_test, y_pred)\n",
    "pr_table = pr_table.append({'classifiers':'GBM',\n",
    "                                    'Recall':recall, \n",
    "                                    'Precision':precision}, ignore_index=True)"
   ]
  },
  {
   "cell_type": "code",
   "execution_count": 60,
   "metadata": {},
   "outputs": [],
   "source": [
    "param_grid = {\n",
    "    'n_estimators': [100,200, 300, 400],\n",
    "    'learning_rate': [0.5,0.8,1,1.2],\n",
    "    'max_depth': [3,5,10,15],\n",
    "    'random_state': [0, 1]\n",
    "}\n",
    "\n",
    "clf = GradientBoostingClassifier()"
   ]
  },
  {
   "cell_type": "code",
   "execution_count": 61,
   "metadata": {},
   "outputs": [
    {
     "name": "stdout",
     "output_type": "stream",
     "text": [
      "Fitting 5 folds for each of 128 candidates, totalling 640 fits\n"
     ]
    },
    {
     "name": "stderr",
     "output_type": "stream",
     "text": [
      "[Parallel(n_jobs=-1)]: Using backend LokyBackend with 8 concurrent workers.\n",
      "[Parallel(n_jobs=-1)]: Done  25 tasks      | elapsed:    1.5s\n",
      "[Parallel(n_jobs=-1)]: Done 146 tasks      | elapsed:   52.5s\n",
      "[Parallel(n_jobs=-1)]: Done 349 tasks      | elapsed:  2.2min\n",
      "[Parallel(n_jobs=-1)]: Done 640 out of 640 | elapsed:  4.2min finished\n"
     ]
    },
    {
     "name": "stdout",
     "output_type": "stream",
     "text": [
      "{'learning_rate': 1.2, 'max_depth': 5, 'n_estimators': 100, 'random_state': 1}\n",
      "[[249 151]\n",
      " [169 209]]\n",
      "              precision    recall  f1-score   support\n",
      "\n",
      "           0       0.60      0.62      0.61       400\n",
      "           1       0.58      0.55      0.57       378\n",
      "\n",
      "    accuracy                           0.59       778\n",
      "   macro avg       0.59      0.59      0.59       778\n",
      "weighted avg       0.59      0.59      0.59       778\n",
      "\n",
      "0.5877050264550265\n"
     ]
    },
    {
     "data": {
      "text/plain": [
       "GradientBoostingClassifier(learning_rate=1.2, max_depth=5, random_state=1)"
      ]
     },
     "execution_count": 61,
     "metadata": {},
     "output_type": "execute_result"
    }
   ],
   "source": [
    "algorithm_pipeline(x_train, x_test, y_train, y_test,clf, param_grid, cv=5)"
   ]
  },
  {
   "cell_type": "markdown",
   "metadata": {},
   "source": [
    "## Choose the feature which has P-value<0.05\n",
    "    -Coefficients having p-values less than alpha are statistically significant.  For example, if you chose alpha to be 0.05, coefficients having a p-value of 0.05 or less would be statistically significant (i.e., you can reject the null hypothesis and say that the coefficient is significantly different from 0)"
   ]
  },
  {
   "cell_type": "code",
   "execution_count": 62,
   "metadata": {},
   "outputs": [],
   "source": [
    "data_95_important_feature= data[[\"AGE\",\n",
    "\"MARITLST\",\n",
    "\"SPARTNER\",\n",
    "\"OTHER_IMP\",\n",
    "\"OTHER_HH\",\n",
    "\"FAMDEMAN2\",\n",
    "\"FROPEN2\",\n",
    "\"FRRELY2\",\n",
    "\"FRCRITZ2\",\n",
    "\"FRAMT\",\n",
    "\"PAR_THREAT\"]]\n"
   ]
  },
  {
   "cell_type": "code",
   "execution_count": 63,
   "metadata": {},
   "outputs": [
    {
     "data": {
      "text/html": [
       "<div>\n",
       "<style scoped>\n",
       "    .dataframe tbody tr th:only-of-type {\n",
       "        vertical-align: middle;\n",
       "    }\n",
       "\n",
       "    .dataframe tbody tr th {\n",
       "        vertical-align: top;\n",
       "    }\n",
       "\n",
       "    .dataframe thead th {\n",
       "        text-align: right;\n",
       "    }\n",
       "</style>\n",
       "<table border=\"1\" class=\"dataframe\">\n",
       "  <thead>\n",
       "    <tr style=\"text-align: right;\">\n",
       "      <th></th>\n",
       "      <th>AGE</th>\n",
       "      <th>MARITLST</th>\n",
       "      <th>SPARTNER</th>\n",
       "      <th>OTHER_IMP</th>\n",
       "      <th>OTHER_HH</th>\n",
       "      <th>FAMDEMAN2</th>\n",
       "      <th>FROPEN2</th>\n",
       "      <th>FRRELY2</th>\n",
       "      <th>FRCRITZ2</th>\n",
       "      <th>FRAMT</th>\n",
       "      <th>PAR_THREAT</th>\n",
       "    </tr>\n",
       "  </thead>\n",
       "  <tbody>\n",
       "    <tr>\n",
       "      <th>0</th>\n",
       "      <td>67</td>\n",
       "      <td>2</td>\n",
       "      <td>-3</td>\n",
       "      <td>0</td>\n",
       "      <td>0</td>\n",
       "      <td>2</td>\n",
       "      <td>1</td>\n",
       "      <td>0</td>\n",
       "      <td>-2</td>\n",
       "      <td>5</td>\n",
       "      <td>0</td>\n",
       "    </tr>\n",
       "    <tr>\n",
       "      <th>1</th>\n",
       "      <td>84</td>\n",
       "      <td>5</td>\n",
       "      <td>0</td>\n",
       "      <td>1</td>\n",
       "      <td>0</td>\n",
       "      <td>1</td>\n",
       "      <td>0</td>\n",
       "      <td>2</td>\n",
       "      <td>1</td>\n",
       "      <td>3</td>\n",
       "      <td>-3</td>\n",
       "    </tr>\n",
       "    <tr>\n",
       "      <th>2</th>\n",
       "      <td>65</td>\n",
       "      <td>1</td>\n",
       "      <td>-3</td>\n",
       "      <td>1</td>\n",
       "      <td>1</td>\n",
       "      <td>2</td>\n",
       "      <td>2</td>\n",
       "      <td>3</td>\n",
       "      <td>1</td>\n",
       "      <td>2</td>\n",
       "      <td>0</td>\n",
       "    </tr>\n",
       "    <tr>\n",
       "      <th>3</th>\n",
       "      <td>65</td>\n",
       "      <td>1</td>\n",
       "      <td>-3</td>\n",
       "      <td>0</td>\n",
       "      <td>0</td>\n",
       "      <td>0</td>\n",
       "      <td>1</td>\n",
       "      <td>3</td>\n",
       "      <td>0</td>\n",
       "      <td>5</td>\n",
       "      <td>0</td>\n",
       "    </tr>\n",
       "    <tr>\n",
       "      <th>4</th>\n",
       "      <td>70</td>\n",
       "      <td>1</td>\n",
       "      <td>-3</td>\n",
       "      <td>1</td>\n",
       "      <td>0</td>\n",
       "      <td>0</td>\n",
       "      <td>3</td>\n",
       "      <td>3</td>\n",
       "      <td>0</td>\n",
       "      <td>3</td>\n",
       "      <td>0</td>\n",
       "    </tr>\n",
       "  </tbody>\n",
       "</table>\n",
       "</div>"
      ],
      "text/plain": [
       "   AGE  MARITLST  SPARTNER  OTHER_IMP  OTHER_HH  FAMDEMAN2  FROPEN2  FRRELY2  \\\n",
       "0   67         2        -3          0         0          2        1        0   \n",
       "1   84         5         0          1         0          1        0        2   \n",
       "2   65         1        -3          1         1          2        2        3   \n",
       "3   65         1        -3          0         0          0        1        3   \n",
       "4   70         1        -3          1         0          0        3        3   \n",
       "\n",
       "   FRCRITZ2  FRAMT  PAR_THREAT  \n",
       "0        -2      5           0  \n",
       "1         1      3          -3  \n",
       "2         1      2           0  \n",
       "3         0      5           0  \n",
       "4         0      3           0  "
      ]
     },
     "execution_count": 63,
     "metadata": {},
     "output_type": "execute_result"
    }
   ],
   "source": [
    "data_95_important_feature.head()"
   ]
  },
  {
   "cell_type": "code",
   "execution_count": 64,
   "metadata": {},
   "outputs": [],
   "source": [
    "x = data_95_important_feature\n",
    "y = data[\"IMPAIRED\"]\n",
    "x_train, x_test, y_train, y_test = train_test_split(x,y, test_size=0.25, random_state=42, stratify=y)"
   ]
  },
  {
   "cell_type": "markdown",
   "metadata": {},
   "source": [
    "### KNN MODEL"
   ]
  },
  {
   "cell_type": "code",
   "execution_count": 65,
   "metadata": {},
   "outputs": [
    {
     "name": "stdout",
     "output_type": "stream",
     "text": [
      "[0.60354258 0.59401615 0.60263399 0.59321144 0.59154332]\n",
      "cv_scores mean:0.5969894982765931\n",
      "ROC AUC: 0.60 (+/- 0.01)\n"
     ]
    }
   ],
   "source": [
    "# CV for KNN, to understnad whether model is overfitted\n",
    "knn_cv = KNeighborsClassifier(n_neighbors=5)\n",
    "#train model with cv of 5 \n",
    "cv_scores = cross_val_score(knn_cv, x_train, y_train, cv=5, scoring = \"roc_auc\")\n",
    "#print each cv score (accuracy) and average them\n",
    "print(cv_scores)\n",
    "print(\"cv_scores mean:{}\".format(np.mean(cv_scores)))\n",
    "print(\"ROC AUC: %0.2f (+/- %0.2f)\"\n",
    "          % (cv_scores.mean(), cv_scores.std()))"
   ]
  },
  {
   "cell_type": "code",
   "execution_count": 66,
   "metadata": {},
   "outputs": [
    {
     "name": "stdout",
     "output_type": "stream",
     "text": [
      "[[271 129]\n",
      " [184 194]]\n",
      "              precision    recall  f1-score   support\n",
      "\n",
      "           0       0.60      0.68      0.63       400\n",
      "           1       0.60      0.51      0.55       378\n",
      "\n",
      "    accuracy                           0.60       778\n",
      "   macro avg       0.60      0.60      0.59       778\n",
      "weighted avg       0.60      0.60      0.59       778\n",
      "\n",
      "0.5953637566137566\n"
     ]
    }
   ],
   "source": [
    "# predictions with CV fitted model\n",
    "knn_cv.fit(x_train, y_train)\n",
    "y_pred = knn_cv.predict(x_test)\n",
    "print(confusion_matrix(y_test, y_pred))\n",
    "print(classification_report(y_test, y_pred))\n",
    "from sklearn.metrics import roc_auc_score\n",
    "print(roc_auc_score(y_test, y_pred))\n",
    "fpr, tpr, _ = roc_curve(y_test,  y_pred)\n",
    "auc = roc_auc_score(y_test,  y_pred)\n",
    "    \n",
    "result_table = result_table.append({'classifiers':knn_cv.__class__.__name__,\n",
    "                                    'fpr':fpr, \n",
    "                                    'tpr':tpr, \n",
    "                                    'auc':auc}, ignore_index=True)\n",
    "\n",
    "from sklearn.metrics import precision_recall_curve\n",
    "precision, recall, thresholds = precision_recall_curve(y_test, y_pred)\n",
    "pr_table = pr_table.append({'classifiers':knn_cv.__class__.__name__,\n",
    "                                    'Recall':recall, \n",
    "                                    'Precision':precision}, ignore_index=True)\n",
    "#pr_table.set_index('classifiers', inplace=True)"
   ]
  },
  {
   "cell_type": "code",
   "execution_count": 67,
   "metadata": {},
   "outputs": [],
   "source": [
    "#create new a knn model\n",
    "knn = KNeighborsClassifier() \n",
    "#create a dictionary of all values we want to test for n_neighbors\n",
    "param_grid = {'n_neighbors': np.arange(1, 25)}"
   ]
  },
  {
   "cell_type": "code",
   "execution_count": 68,
   "metadata": {
    "scrolled": true
   },
   "outputs": [
    {
     "name": "stdout",
     "output_type": "stream",
     "text": [
      "Fitting 5 folds for each of 24 candidates, totalling 120 fits\n"
     ]
    },
    {
     "name": "stderr",
     "output_type": "stream",
     "text": [
      "[Parallel(n_jobs=-1)]: Using backend LokyBackend with 8 concurrent workers.\n",
      "[Parallel(n_jobs=-1)]: Done  34 tasks      | elapsed:    0.2s\n"
     ]
    },
    {
     "name": "stdout",
     "output_type": "stream",
     "text": [
      "{'n_neighbors': 7}\n",
      "[[264 136]\n",
      " [191 187]]\n",
      "              precision    recall  f1-score   support\n",
      "\n",
      "           0       0.58      0.66      0.62       400\n",
      "           1       0.58      0.49      0.53       378\n",
      "\n",
      "    accuracy                           0.58       778\n",
      "   macro avg       0.58      0.58      0.58       778\n",
      "weighted avg       0.58      0.58      0.58       778\n",
      "\n",
      "0.5773544973544973\n"
     ]
    },
    {
     "name": "stderr",
     "output_type": "stream",
     "text": [
      "[Parallel(n_jobs=-1)]: Done 120 out of 120 | elapsed:    0.6s finished\n"
     ]
    },
    {
     "data": {
      "text/plain": [
       "KNeighborsClassifier(n_neighbors=7)"
      ]
     },
     "execution_count": 68,
     "metadata": {},
     "output_type": "execute_result"
    }
   ],
   "source": [
    "algorithm_pipeline(x_train, x_test, y_train, y_test,knn, param_grid, cv=5)"
   ]
  },
  {
   "cell_type": "markdown",
   "metadata": {},
   "source": [
    "### SVM MODEL"
   ]
  },
  {
   "cell_type": "code",
   "execution_count": 69,
   "metadata": {},
   "outputs": [
    {
     "name": "stdout",
     "output_type": "stream",
     "text": [
      "[0.65723201 0.66748348 0.63277349 0.6460933  0.66234125]\n",
      "cv_scores mean:0.6531847086797044\n",
      "ROC AUC: 0.65 (+/- 0.01)\n"
     ]
    }
   ],
   "source": [
    "svc_cv = SVC(kernel='rbf', gamma= 'auto')\n",
    "cv_scores = cross_val_score(svc_cv, x_train, y_train, cv=5, scoring = \"roc_auc\")\n",
    "print(cv_scores)\n",
    "print(\"cv_scores mean:{}\".format(np.mean(cv_scores)))\n",
    "print(\"ROC AUC: %0.2f (+/- %0.2f)\"\n",
    "          % (cv_scores.mean(), cv_scores.std()))"
   ]
  },
  {
   "cell_type": "code",
   "execution_count": 70,
   "metadata": {},
   "outputs": [
    {
     "name": "stdout",
     "output_type": "stream",
     "text": [
      "[[265 135]\n",
      " [168 210]]\n",
      "              precision    recall  f1-score   support\n",
      "\n",
      "           0       0.61      0.66      0.64       400\n",
      "           1       0.61      0.56      0.58       378\n",
      "\n",
      "    accuracy                           0.61       778\n",
      "   macro avg       0.61      0.61      0.61       778\n",
      "weighted avg       0.61      0.61      0.61       778\n",
      "\n",
      "0.6090277777777777\n"
     ]
    }
   ],
   "source": [
    "# predictions with CV fitted model of SVM\n",
    "svc_cv.fit(x_train, y_train)\n",
    "y_pred = svc_cv.predict(x_test)\n",
    "print(confusion_matrix(y_test, y_pred))\n",
    "print(classification_report(y_test, y_pred))\n",
    "from sklearn.metrics import roc_auc_score\n",
    "print(roc_auc_score(y_test, y_pred))\n",
    "fpr, tpr, _ = roc_curve(y_test,  y_pred)\n",
    "auc = roc_auc_score(y_test,  y_pred)\n",
    "    \n",
    "result_table = result_table.append({'classifiers':svc_cv.__class__.__name__,\n",
    "                                    'fpr':fpr, \n",
    "                                    'tpr':tpr, \n",
    "                                    'auc':auc}, ignore_index=True)\n",
    "\n",
    "from sklearn.metrics import precision_recall_curve\n",
    "precision, recall, thresholds = precision_recall_curve(y_test, y_pred)\n",
    "pr_table = pr_table.append({'classifiers':svc_cv.__class__.__name__,\n",
    "                                    'Recall':recall, \n",
    "                                    'Precision':precision}, ignore_index=True)\n",
    "#result_table.set_index('classifiers', inplace=True)"
   ]
  },
  {
   "cell_type": "code",
   "execution_count": 71,
   "metadata": {},
   "outputs": [],
   "source": [
    "from sklearn.model_selection import GridSearchCV \n",
    "svc = SVC() \n",
    "# defining parameter range \n",
    "param_grid = {'C': [0.12],  \n",
    "              'gamma': [0.27], \n",
    "              'kernel': ['rbf']}    "
   ]
  },
  {
   "cell_type": "code",
   "execution_count": 72,
   "metadata": {},
   "outputs": [
    {
     "name": "stdout",
     "output_type": "stream",
     "text": [
      "Fitting 5 folds for each of 1 candidates, totalling 5 fits\n"
     ]
    },
    {
     "name": "stderr",
     "output_type": "stream",
     "text": [
      "[Parallel(n_jobs=-1)]: Using backend LokyBackend with 8 concurrent workers.\n",
      "[Parallel(n_jobs=-1)]: Done   2 out of   5 | elapsed:    0.0s remaining:    0.1s\n",
      "[Parallel(n_jobs=-1)]: Done   5 out of   5 | elapsed:    0.0s remaining:    0.0s\n",
      "[Parallel(n_jobs=-1)]: Done   5 out of   5 | elapsed:    0.0s finished\n"
     ]
    },
    {
     "name": "stdout",
     "output_type": "stream",
     "text": [
      "{'C': 0.12, 'gamma': 0.27, 'kernel': 'rbf'}\n",
      "[[147 253]\n",
      " [ 73 305]]\n",
      "              precision    recall  f1-score   support\n",
      "\n",
      "           0       0.67      0.37      0.47       400\n",
      "           1       0.55      0.81      0.65       378\n",
      "\n",
      "    accuracy                           0.58       778\n",
      "   macro avg       0.61      0.59      0.56       778\n",
      "weighted avg       0.61      0.58      0.56       778\n",
      "\n",
      "0.5871891534391535\n"
     ]
    },
    {
     "data": {
      "text/plain": [
       "SVC(C=0.12, gamma=0.27)"
      ]
     },
     "execution_count": 72,
     "metadata": {},
     "output_type": "execute_result"
    }
   ],
   "source": [
    "algorithm_pipeline(x_train, x_test, y_train, y_test,svc, param_grid, cv=5)"
   ]
  },
  {
   "cell_type": "markdown",
   "metadata": {},
   "source": [
    "### RANDOM FOREST TREE MODEL"
   ]
  },
  {
   "cell_type": "code",
   "execution_count": 73,
   "metadata": {},
   "outputs": [
    {
     "name": "stdout",
     "output_type": "stream",
     "text": [
      "[0.65523128 0.63638032 0.62683554 0.63478517 0.61415959]\n",
      "cv_scores mean:0.6334783790758115\n",
      "ROC AUC: 0.63 (+/- 0.01)\n"
     ]
    }
   ],
   "source": [
    "rf_cv = RandomForestClassifier(max_depth=20, max_features=10, n_estimators=1000)\n",
    "cv_scores = cross_val_score(rf_cv, x_train, y_train, cv=5,scoring = \"roc_auc\")\n",
    "print(cv_scores)\n",
    "print(\"cv_scores mean:{}\".format(np.mean(cv_scores)))\n",
    "print(\"ROC AUC: %0.2f (+/- %0.2f)\"\n",
    "          % (cv_scores.mean(), cv_scores.std()))"
   ]
  },
  {
   "cell_type": "code",
   "execution_count": 74,
   "metadata": {},
   "outputs": [
    {
     "name": "stdout",
     "output_type": "stream",
     "text": [
      "[[250 150]\n",
      " [152 226]]\n",
      "              precision    recall  f1-score   support\n",
      "\n",
      "           0       0.62      0.62      0.62       400\n",
      "           1       0.60      0.60      0.60       378\n",
      "\n",
      "    accuracy                           0.61       778\n",
      "   macro avg       0.61      0.61      0.61       778\n",
      "weighted avg       0.61      0.61      0.61       778\n",
      "\n",
      "0.611441798941799\n"
     ]
    }
   ],
   "source": [
    "# predictions with CV fitted model of RF\n",
    "\n",
    "rf_cv.fit(x_train, y_train)\n",
    "y_pred = rf_cv.predict(x_test)\n",
    "print(confusion_matrix(y_test, y_pred))\n",
    "print(classification_report(y_test, y_pred))\n",
    "from sklearn.metrics import roc_auc_score\n",
    "print(roc_auc_score(y_test, y_pred))\n",
    "fpr, tpr, _ = roc_curve(y_test,  y_pred)\n",
    "auc = roc_auc_score(y_test,  y_pred)\n",
    "    \n",
    "result_table = result_table.append({'classifiers':rf_cv.__class__.__name__,\n",
    "                                    'fpr':fpr, \n",
    "                                   'tpr':tpr, \n",
    "                                    'auc':auc}, ignore_index=True)\n",
    "\n",
    "from sklearn.metrics import precision_recall_curve\n",
    "precision, recall, thresholds = precision_recall_curve(y_test, y_pred)\n",
    "pr_table = pr_table.append({'classifiers':rf_cv.__class__.__name__,\n",
    "                                    'Recall':recall, \n",
    "                                    'Precision':precision}, ignore_index=True)\n"
   ]
  },
  {
   "cell_type": "code",
   "execution_count": 75,
   "metadata": {},
   "outputs": [],
   "source": [
    "# Create the parameter grid based on the results of random search \n",
    "param_grid = {\n",
    "    'bootstrap': [True],\n",
    "    'max_depth': [10, 20, 30, 40, 50],\n",
    "    'max_features': [2, 4, 6, 8, 10, 15],\n",
    "    'n_estimators': [50, 100, 150, 200, 300]\n",
    "}\n",
    "# Create a based model\n",
    "rf = RandomForestClassifier()"
   ]
  },
  {
   "cell_type": "code",
   "execution_count": 76,
   "metadata": {},
   "outputs": [
    {
     "name": "stdout",
     "output_type": "stream",
     "text": [
      "Fitting 5 folds for each of 150 candidates, totalling 750 fits\n"
     ]
    },
    {
     "name": "stderr",
     "output_type": "stream",
     "text": [
      "[Parallel(n_jobs=-1)]: Using backend LokyBackend with 8 concurrent workers.\n",
      "[Parallel(n_jobs=-1)]: Done  34 tasks      | elapsed:    2.3s\n",
      "[Parallel(n_jobs=-1)]: Done 186 tasks      | elapsed:   12.5s\n",
      "[Parallel(n_jobs=-1)]: Done 389 tasks      | elapsed:   29.1s\n",
      "[Parallel(n_jobs=-1)]: Done 672 tasks      | elapsed:   51.1s\n",
      "[Parallel(n_jobs=-1)]: Done 750 out of 750 | elapsed:   57.1s finished\n"
     ]
    },
    {
     "name": "stdout",
     "output_type": "stream",
     "text": [
      "{'bootstrap': True, 'max_depth': 40, 'max_features': 10, 'n_estimators': 100}\n",
      "[[242 158]\n",
      " [156 222]]\n",
      "              precision    recall  f1-score   support\n",
      "\n",
      "           0       0.61      0.60      0.61       400\n",
      "           1       0.58      0.59      0.59       378\n",
      "\n",
      "    accuracy                           0.60       778\n",
      "   macro avg       0.60      0.60      0.60       778\n",
      "weighted avg       0.60      0.60      0.60       778\n",
      "\n",
      "0.5961507936507937\n"
     ]
    },
    {
     "data": {
      "text/plain": [
       "RandomForestClassifier(max_depth=40, max_features=10)"
      ]
     },
     "execution_count": 76,
     "metadata": {},
     "output_type": "execute_result"
    }
   ],
   "source": [
    "algorithm_pipeline(x_train, x_test, y_train, y_test,rf, param_grid, cv=5)"
   ]
  },
  {
   "cell_type": "markdown",
   "metadata": {},
   "source": [
    "### Build XG-Boost Model"
   ]
  },
  {
   "cell_type": "code",
   "execution_count": 77,
   "metadata": {},
   "outputs": [
    {
     "name": "stdout",
     "output_type": "stream",
     "text": [
      "[16:30:35] WARNING: C:/Users/Administrator/workspace/xgboost-win64_release_1.3.0/src/learner.cc:1061: Starting in XGBoost 1.3.0, the default evaluation metric used with the objective 'binary:logistic' was changed from 'error' to 'logloss'. Explicitly set eval_metric if you'd like to restore the old behavior.\n"
     ]
    },
    {
     "name": "stderr",
     "output_type": "stream",
     "text": [
      "C:\\Users\\yhy01\\Anaconda3\\lib\\site-packages\\xgboost\\sklearn.py:888: UserWarning: The use of label encoder in XGBClassifier is deprecated and will be removed in a future release. To remove this warning, do the following: 1) Pass option use_label_encoder=False when constructing XGBClassifier object; and 2) Encode your labels (y) as integers starting with 0, i.e. 0, 1, 2, ..., [num_class - 1].\n",
      "  warnings.warn(label_encoder_deprecation_msg, UserWarning)\n"
     ]
    }
   ],
   "source": [
    "from xgboost import XGBClassifier\n",
    "xgb = XGBClassifier()\n",
    "xgb.fit(x_train,y_train)\n",
    "y_pred = xgb.predict(x_test)"
   ]
  },
  {
   "cell_type": "code",
   "execution_count": 78,
   "metadata": {
    "scrolled": true
   },
   "outputs": [
    {
     "name": "stdout",
     "output_type": "stream",
     "text": [
      "[[256 144]\n",
      " [164 214]]\n",
      "              precision    recall  f1-score   support\n",
      "\n",
      "           0       0.61      0.64      0.62       400\n",
      "           1       0.60      0.57      0.58       378\n",
      "\n",
      "    accuracy                           0.60       778\n",
      "   macro avg       0.60      0.60      0.60       778\n",
      "weighted avg       0.60      0.60      0.60       778\n",
      "\n",
      "0.6030687830687831\n"
     ]
    }
   ],
   "source": [
    "print(confusion_matrix(y_test, y_pred))\n",
    "print(classification_report(y_test, y_pred))\n",
    "from sklearn.metrics import roc_auc_score\n",
    "print(roc_auc_score(y_test, y_pred))\n",
    "fpr, tpr, _ = roc_curve(y_test,  y_pred)\n",
    "auc = roc_auc_score(y_test,  y_pred)\n",
    "    \n",
    "result_table = result_table.append({'classifiers':'XG-Boost',\n",
    "                                    'fpr':fpr, \n",
    "                                   'tpr':tpr, \n",
    "                                    'auc':auc}, ignore_index=True)\n",
    "\n",
    "from sklearn.metrics import precision_recall_curve\n",
    "precision, recall, thresholds = precision_recall_curve(y_test, y_pred)\n",
    "pr_table = pr_table.append({'classifiers':'XG-Boost',\n",
    "                                    'Recall':recall, \n",
    "                                    'Precision':precision}, ignore_index=True)"
   ]
  },
  {
   "cell_type": "code",
   "execution_count": 79,
   "metadata": {},
   "outputs": [],
   "source": [
    "param_grid = {\n",
    "    'n_estimators': [400, 700, 1000],\n",
    "    'colsample_bytree': [0.7, 0.8],\n",
    "    'max_depth': [15,20,25],\n",
    "    'reg_alpha': [1.1, 1.2, 1.3],\n",
    "    'reg_lambda': [1.1, 1.2, 1.3],\n",
    "    'subsample': [0.7, 0.8, 0.9]\n",
    "}\n",
    "\n",
    "xgb = XGBClassifier()"
   ]
  },
  {
   "cell_type": "code",
   "execution_count": 80,
   "metadata": {},
   "outputs": [
    {
     "name": "stdout",
     "output_type": "stream",
     "text": [
      "Fitting 5 folds for each of 486 candidates, totalling 2430 fits\n"
     ]
    },
    {
     "name": "stderr",
     "output_type": "stream",
     "text": [
      "[Parallel(n_jobs=-1)]: Using backend LokyBackend with 8 concurrent workers.\n",
      "[Parallel(n_jobs=-1)]: Done  25 tasks      | elapsed:    8.5s\n",
      "[Parallel(n_jobs=-1)]: Done 146 tasks      | elapsed:   43.3s\n",
      "[Parallel(n_jobs=-1)]: Done 349 tasks      | elapsed:  2.4min\n",
      "[Parallel(n_jobs=-1)]: Done 632 tasks      | elapsed:  4.2min\n",
      "[Parallel(n_jobs=-1)]: Done 997 tasks      | elapsed:  6.8min\n",
      "[Parallel(n_jobs=-1)]: Done 1442 tasks      | elapsed: 32.4min\n",
      "[Parallel(n_jobs=-1)]: Done 1969 tasks      | elapsed: 37.1min\n",
      "[Parallel(n_jobs=-1)]: Done 2430 out of 2430 | elapsed: 41.0min finished\n",
      "C:\\Users\\yhy01\\Anaconda3\\lib\\site-packages\\xgboost\\sklearn.py:888: UserWarning: The use of label encoder in XGBClassifier is deprecated and will be removed in a future release. To remove this warning, do the following: 1) Pass option use_label_encoder=False when constructing XGBClassifier object; and 2) Encode your labels (y) as integers starting with 0, i.e. 0, 1, 2, ..., [num_class - 1].\n",
      "  warnings.warn(label_encoder_deprecation_msg, UserWarning)\n"
     ]
    },
    {
     "name": "stdout",
     "output_type": "stream",
     "text": [
      "[17:11:36] WARNING: C:/Users/Administrator/workspace/xgboost-win64_release_1.3.0/src/learner.cc:1061: Starting in XGBoost 1.3.0, the default evaluation metric used with the objective 'binary:logistic' was changed from 'error' to 'logloss'. Explicitly set eval_metric if you'd like to restore the old behavior.\n",
      "{'colsample_bytree': 0.7, 'max_depth': 15, 'n_estimators': 400, 'reg_alpha': 1.2, 'reg_lambda': 1.2, 'subsample': 0.7}\n",
      "[[247 153]\n",
      " [154 224]]\n",
      "              precision    recall  f1-score   support\n",
      "\n",
      "           0       0.62      0.62      0.62       400\n",
      "           1       0.59      0.59      0.59       378\n",
      "\n",
      "    accuracy                           0.61       778\n",
      "   macro avg       0.61      0.61      0.61       778\n",
      "weighted avg       0.61      0.61      0.61       778\n",
      "\n",
      "0.6050462962962962\n"
     ]
    },
    {
     "data": {
      "text/plain": [
       "XGBClassifier(base_score=0.5, booster='gbtree', colsample_bylevel=1,\n",
       "              colsample_bynode=1, colsample_bytree=0.7, gamma=0, gpu_id=-1,\n",
       "              importance_type='gain', interaction_constraints='',\n",
       "              learning_rate=0.300000012, max_delta_step=0, max_depth=15,\n",
       "              min_child_weight=1, missing=nan, monotone_constraints='()',\n",
       "              n_estimators=400, n_jobs=8, num_parallel_tree=1, random_state=0,\n",
       "              reg_alpha=1.2, reg_lambda=1.2, scale_pos_weight=1, subsample=0.7,\n",
       "              tree_method='exact', validate_parameters=1, verbosity=None)"
      ]
     },
     "execution_count": 80,
     "metadata": {},
     "output_type": "execute_result"
    }
   ],
   "source": [
    "algorithm_pipeline(x_train, x_test, y_train, y_test,xgb, param_grid, cv=5)"
   ]
  },
  {
   "cell_type": "markdown",
   "metadata": {},
   "source": [
    "### Build Gradient Boosting Model"
   ]
  },
  {
   "cell_type": "code",
   "execution_count": 81,
   "metadata": {},
   "outputs": [],
   "source": [
    "from sklearn.ensemble import GradientBoostingClassifier\n",
    "clf = GradientBoostingClassifier(n_estimators=100, learning_rate=1.0,max_depth=1, random_state=0).fit(x_train, y_train)\n",
    "y_pred = clf.predict(x_test)"
   ]
  },
  {
   "cell_type": "code",
   "execution_count": 82,
   "metadata": {},
   "outputs": [
    {
     "name": "stdout",
     "output_type": "stream",
     "text": [
      "[[272 128]\n",
      " [147 231]]\n",
      "              precision    recall  f1-score   support\n",
      "\n",
      "           0       0.65      0.68      0.66       400\n",
      "           1       0.64      0.61      0.63       378\n",
      "\n",
      "    accuracy                           0.65       778\n",
      "   macro avg       0.65      0.65      0.65       778\n",
      "weighted avg       0.65      0.65      0.65       778\n",
      "\n",
      "0.6455555555555554\n"
     ]
    }
   ],
   "source": [
    "print(confusion_matrix(y_test, y_pred))\n",
    "print(classification_report(y_test, y_pred))\n",
    "from sklearn.metrics import roc_auc_score\n",
    "print(roc_auc_score(y_test, y_pred))\n",
    "fpr, tpr, _ = roc_curve(y_test,  y_pred)\n",
    "auc = roc_auc_score(y_test,  y_pred)\n",
    "    \n",
    "result_table = result_table.append({'classifiers':'Gradient-Boost',\n",
    "                                    'fpr':fpr, \n",
    "                                   'tpr':tpr, \n",
    "                                    'auc':auc}, ignore_index=True)\n",
    "\n",
    "from sklearn.metrics import precision_recall_curve\n",
    "precision, recall, thresholds = precision_recall_curve(y_test, y_pred)\n",
    "pr_table = pr_table.append({'classifiers':'Gradient-Boost',\n",
    "                                    'Recall':recall, \n",
    "                                    'Precision':precision}, ignore_index=True)"
   ]
  },
  {
   "cell_type": "code",
   "execution_count": 83,
   "metadata": {},
   "outputs": [],
   "source": [
    "param_grid = {\n",
    "    'n_estimators': [100,200, 300, 400],\n",
    "    'learning_rate': [0.5,0.8,1,1.2],\n",
    "    'max_depth': [3,5,10,15],\n",
    "    'random_state': [0, 1]\n",
    "}\n",
    "\n",
    "clf = GradientBoostingClassifier()"
   ]
  },
  {
   "cell_type": "code",
   "execution_count": 84,
   "metadata": {},
   "outputs": [
    {
     "name": "stdout",
     "output_type": "stream",
     "text": [
      "Fitting 5 folds for each of 128 candidates, totalling 640 fits\n"
     ]
    },
    {
     "name": "stderr",
     "output_type": "stream",
     "text": [
      "[Parallel(n_jobs=-1)]: Using backend LokyBackend with 8 concurrent workers.\n",
      "[Parallel(n_jobs=-1)]: Done  25 tasks      | elapsed:    1.5s\n",
      "[Parallel(n_jobs=-1)]: Done 146 tasks      | elapsed:  1.1min\n",
      "[Parallel(n_jobs=-1)]: Done 349 tasks      | elapsed:  2.7min\n",
      "[Parallel(n_jobs=-1)]: Done 640 out of 640 | elapsed:  5.1min finished\n"
     ]
    },
    {
     "name": "stdout",
     "output_type": "stream",
     "text": [
      "{'learning_rate': 0.5, 'max_depth': 3, 'n_estimators': 100, 'random_state': 1}\n",
      "[[265 135]\n",
      " [170 208]]\n",
      "              precision    recall  f1-score   support\n",
      "\n",
      "           0       0.61      0.66      0.63       400\n",
      "           1       0.61      0.55      0.58       378\n",
      "\n",
      "    accuracy                           0.61       778\n",
      "   macro avg       0.61      0.61      0.61       778\n",
      "weighted avg       0.61      0.61      0.61       778\n",
      "\n",
      "0.6063822751322752\n"
     ]
    },
    {
     "data": {
      "text/plain": [
       "GradientBoostingClassifier(learning_rate=0.5, random_state=1)"
      ]
     },
     "execution_count": 84,
     "metadata": {},
     "output_type": "execute_result"
    }
   ],
   "source": [
    "algorithm_pipeline(x_train, x_test, y_train, y_test,clf, param_grid, cv=5)"
   ]
  },
  {
   "cell_type": "code",
   "execution_count": 85,
   "metadata": {},
   "outputs": [
    {
     "data": {
      "text/html": [
       "<div>\n",
       "<style scoped>\n",
       "    .dataframe tbody tr th:only-of-type {\n",
       "        vertical-align: middle;\n",
       "    }\n",
       "\n",
       "    .dataframe tbody tr th {\n",
       "        vertical-align: top;\n",
       "    }\n",
       "\n",
       "    .dataframe thead th {\n",
       "        text-align: right;\n",
       "    }\n",
       "</style>\n",
       "<table border=\"1\" class=\"dataframe\">\n",
       "  <thead>\n",
       "    <tr style=\"text-align: right;\">\n",
       "      <th></th>\n",
       "      <th>classifiers</th>\n",
       "      <th>fpr</th>\n",
       "      <th>tpr</th>\n",
       "      <th>auc</th>\n",
       "    </tr>\n",
       "  </thead>\n",
       "  <tbody>\n",
       "    <tr>\n",
       "      <th>0</th>\n",
       "      <td>KNeighborsClassifier</td>\n",
       "      <td>[0.0, 0.29, 1.0]</td>\n",
       "      <td>[0.0, 0.4894179894179894, 1.0]</td>\n",
       "      <td>0.599709</td>\n",
       "    </tr>\n",
       "    <tr>\n",
       "      <th>1</th>\n",
       "      <td>SVC</td>\n",
       "      <td>[0.0, 0.2875, 1.0]</td>\n",
       "      <td>[0.0, 0.5608465608465608, 1.0]</td>\n",
       "      <td>0.636673</td>\n",
       "    </tr>\n",
       "    <tr>\n",
       "      <th>2</th>\n",
       "      <td>RandomForestClassifier</td>\n",
       "      <td>[0.0, 0.3225, 1.0]</td>\n",
       "      <td>[0.0, 0.5952380952380952, 1.0]</td>\n",
       "      <td>0.636369</td>\n",
       "    </tr>\n",
       "    <tr>\n",
       "      <th>3</th>\n",
       "      <td>KNeighborsClassifier</td>\n",
       "      <td>[0.0, 0.295, 1.0]</td>\n",
       "      <td>[0.0, 0.5158730158730159, 1.0]</td>\n",
       "      <td>0.610437</td>\n",
       "    </tr>\n",
       "    <tr>\n",
       "      <th>4</th>\n",
       "      <td>SVC</td>\n",
       "      <td>[0.0, 0.2925, 1.0]</td>\n",
       "      <td>[0.0, 0.5608465608465608, 1.0]</td>\n",
       "      <td>0.634173</td>\n",
       "    </tr>\n",
       "    <tr>\n",
       "      <th>5</th>\n",
       "      <td>RandomForestClassifier</td>\n",
       "      <td>[0.0, 0.31, 1.0]</td>\n",
       "      <td>[0.0, 0.5978835978835979, 1.0]</td>\n",
       "      <td>0.643942</td>\n",
       "    </tr>\n",
       "    <tr>\n",
       "      <th>6</th>\n",
       "      <td>XG-Boost</td>\n",
       "      <td>[0.0, 0.32, 1.0]</td>\n",
       "      <td>[0.0, 0.5555555555555556, 1.0]</td>\n",
       "      <td>0.617778</td>\n",
       "    </tr>\n",
       "    <tr>\n",
       "      <th>7</th>\n",
       "      <td>GBM</td>\n",
       "      <td>[0.0, 0.32, 1.0]</td>\n",
       "      <td>[0.0, 0.5714285714285714, 1.0]</td>\n",
       "      <td>0.625714</td>\n",
       "    </tr>\n",
       "    <tr>\n",
       "      <th>8</th>\n",
       "      <td>KNeighborsClassifier</td>\n",
       "      <td>[0.0, 0.3225, 1.0]</td>\n",
       "      <td>[0.0, 0.5132275132275133, 1.0]</td>\n",
       "      <td>0.595364</td>\n",
       "    </tr>\n",
       "    <tr>\n",
       "      <th>9</th>\n",
       "      <td>SVC</td>\n",
       "      <td>[0.0, 0.3375, 1.0]</td>\n",
       "      <td>[0.0, 0.5555555555555556, 1.0]</td>\n",
       "      <td>0.609028</td>\n",
       "    </tr>\n",
       "    <tr>\n",
       "      <th>10</th>\n",
       "      <td>RandomForestClassifier</td>\n",
       "      <td>[0.0, 0.375, 1.0]</td>\n",
       "      <td>[0.0, 0.5978835978835979, 1.0]</td>\n",
       "      <td>0.611442</td>\n",
       "    </tr>\n",
       "    <tr>\n",
       "      <th>11</th>\n",
       "      <td>XG-Boost</td>\n",
       "      <td>[0.0, 0.36, 1.0]</td>\n",
       "      <td>[0.0, 0.5661375661375662, 1.0]</td>\n",
       "      <td>0.603069</td>\n",
       "    </tr>\n",
       "    <tr>\n",
       "      <th>12</th>\n",
       "      <td>Gradient-Boost</td>\n",
       "      <td>[0.0, 0.32, 1.0]</td>\n",
       "      <td>[0.0, 0.6111111111111112, 1.0]</td>\n",
       "      <td>0.645556</td>\n",
       "    </tr>\n",
       "  </tbody>\n",
       "</table>\n",
       "</div>"
      ],
      "text/plain": [
       "               classifiers                 fpr  \\\n",
       "0     KNeighborsClassifier    [0.0, 0.29, 1.0]   \n",
       "1                      SVC  [0.0, 0.2875, 1.0]   \n",
       "2   RandomForestClassifier  [0.0, 0.3225, 1.0]   \n",
       "3     KNeighborsClassifier   [0.0, 0.295, 1.0]   \n",
       "4                      SVC  [0.0, 0.2925, 1.0]   \n",
       "5   RandomForestClassifier    [0.0, 0.31, 1.0]   \n",
       "6                 XG-Boost    [0.0, 0.32, 1.0]   \n",
       "7                      GBM    [0.0, 0.32, 1.0]   \n",
       "8     KNeighborsClassifier  [0.0, 0.3225, 1.0]   \n",
       "9                      SVC  [0.0, 0.3375, 1.0]   \n",
       "10  RandomForestClassifier   [0.0, 0.375, 1.0]   \n",
       "11                XG-Boost    [0.0, 0.36, 1.0]   \n",
       "12          Gradient-Boost    [0.0, 0.32, 1.0]   \n",
       "\n",
       "                               tpr       auc  \n",
       "0   [0.0, 0.4894179894179894, 1.0]  0.599709  \n",
       "1   [0.0, 0.5608465608465608, 1.0]  0.636673  \n",
       "2   [0.0, 0.5952380952380952, 1.0]  0.636369  \n",
       "3   [0.0, 0.5158730158730159, 1.0]  0.610437  \n",
       "4   [0.0, 0.5608465608465608, 1.0]  0.634173  \n",
       "5   [0.0, 0.5978835978835979, 1.0]  0.643942  \n",
       "6   [0.0, 0.5555555555555556, 1.0]  0.617778  \n",
       "7   [0.0, 0.5714285714285714, 1.0]  0.625714  \n",
       "8   [0.0, 0.5132275132275133, 1.0]  0.595364  \n",
       "9   [0.0, 0.5555555555555556, 1.0]  0.609028  \n",
       "10  [0.0, 0.5978835978835979, 1.0]  0.611442  \n",
       "11  [0.0, 0.5661375661375662, 1.0]  0.603069  \n",
       "12  [0.0, 0.6111111111111112, 1.0]  0.645556  "
      ]
     },
     "execution_count": 85,
     "metadata": {},
     "output_type": "execute_result"
    }
   ],
   "source": [
    "result_table"
   ]
  },
  {
   "cell_type": "code",
   "execution_count": null,
   "metadata": {},
   "outputs": [],
   "source": []
  }
 ],
 "metadata": {
  "kernelspec": {
   "display_name": "Python 3",
   "language": "python",
   "name": "python3"
  },
  "language_info": {
   "codemirror_mode": {
    "name": "ipython",
    "version": 3
   },
   "file_extension": ".py",
   "mimetype": "text/x-python",
   "name": "python",
   "nbconvert_exporter": "python",
   "pygments_lexer": "ipython3",
   "version": "3.8.5"
  },
  "toc": {
   "base_numbering": 1,
   "nav_menu": {},
   "number_sections": true,
   "sideBar": true,
   "skip_h1_title": false,
   "title_cell": "Table of Contents",
   "title_sidebar": "Contents",
   "toc_cell": false,
   "toc_position": {},
   "toc_section_display": true,
   "toc_window_display": false
  }
 },
 "nbformat": 4,
 "nbformat_minor": 4
}
